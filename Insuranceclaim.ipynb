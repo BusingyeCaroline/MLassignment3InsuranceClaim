{
  "nbformat": 4,
  "nbformat_minor": 0,
  "metadata": {
    "colab": {
      "provenance": []
    },
    "kernelspec": {
      "name": "python3",
      "display_name": "Python 3"
    },
    "language_info": {
      "name": "python"
    }
  },
  "cells": [
    {
      "cell_type": "markdown",
      "source": [
        "\n",
        "Assignment Title (Lab 3) : Predictive Modeling for Insurance Claims\n",
        "NAME: BUSINGYE CAROLINE\n",
        "\n",
        "REG. NO.: 2023/HD05/04657U\n",
        "\n",
        "STUDENT NO.: 230004657\n",
        "\n",
        "MASTER OF SCIENCE IN COMPUTER SCIENCE - (MCSC)\n",
        "---\n",
        "\n"
      ],
      "metadata": {
        "id": "KcM4ibH8Qvyy"
      }
    },
    {
      "cell_type": "markdown",
      "source": [
        "Objective: Build a predictive model to determine if a building will have an insurance claim during a specific period using building characteristics. In this assignment, you will explore and apply four machine learning algorithms: Support Vector Machine (SVM), Linear Regression, k-nearest Neighbors (KNN), and Naive Bayes. The evaluation metric for this assignment is the Area Under the Curve (AUC)."
      ],
      "metadata": {
        "id": "04beeRV6RCdP"
      }
    },
    {
      "cell_type": "markdown",
      "source": [
        "Variable Description\n",
        "Customer Id Identification number for the Policy holder\n",
        "YearOfObservation year of observation for the insured policy\n",
        "Insured_Period duration of insurance policy in Olusola Insurance. (Ex: Full year insurance, Policy Duration = 1; 6 months = 0.5\n",
        "Residential is the building a residential building or not\n",
        "Building_Painted is the building painted or not (N-Painted, V-Not Painted)\n",
        "Building_Fenced is the building fence or not (N-Fenced, V-Not Fenced)\n",
        "Garden building has garden or not (V-has garden O-no garden) Settlement Area where the building is located. (R- rural area U- urban area) Building Dimension Size of the insured building in m2\n",
        "Building_Type The type of building (Type 1, 2, 3, 4)\n",
        "Date_of_Occupancy date building was first occupied\n",
        "NumberOfWindows number of windows in the building\n",
        "Geo Code Geographical Code of the Insured building\n",
        "Claim target variable. (0: no claim, 1: at least one claim over insured period)."
      ],
      "metadata": {
        "id": "j9_3pN1uRINJ"
      }
    },
    {
      "cell_type": "markdown",
      "source": [],
      "metadata": {
        "id": "V0w-lgrHQuD-"
      }
    },
    {
      "cell_type": "code",
      "execution_count": 138,
      "metadata": {
        "id": "pRzPD1j_Iw5l"
      },
      "outputs": [],
      "source": [
        "\n",
        "from google.colab import drive"
      ]
    },
    {
      "cell_type": "code",
      "source": [
        "from google.colab import drive\n",
        "drive.mount('/content/drive')"
      ],
      "metadata": {
        "id": "k0W3wUArTkIP",
        "colab": {
          "base_uri": "https://localhost:8080/"
        },
        "outputId": "f58adfe5-61a7-4808-cd6d-f34f39f3a90c"
      },
      "execution_count": 139,
      "outputs": [
        {
          "output_type": "stream",
          "name": "stdout",
          "text": [
            "Drive already mounted at /content/drive; to attempt to forcibly remount, call drive.mount(\"/content/drive\", force_remount=True).\n"
          ]
        }
      ]
    },
    {
      "cell_type": "markdown",
      "source": [
        "**importing important libraries**"
      ],
      "metadata": {
        "id": "GUlzNT7PW_hh"
      }
    },
    {
      "cell_type": "code",
      "execution_count": 140,
      "metadata": {
        "id": "rlu_KsLARPSQ"
      },
      "outputs": [],
      "source": [
        "# Importing important packages\n",
        "import matplotlib.pyplot as plt\n",
        "import pandas as pd\n",
        "import warnings\n",
        "warnings.filterwarnings(\"ignore\")\n",
        "from sklearn.metrics import classification_report\n",
        "import seaborn as sns\n",
        "from sklearn.preprocessing import StandardScaler\n",
        "from sklearn.pipeline import Pipeline\n",
        "from IPython.display import VimeoVideo\n",
        "from sklearn.linear_model import LinearRegression\n",
        "from sklearn.metrics import mean_absolute_error\n",
        "from sklearn.utils.validation import check_is_fitted\n",
        "from sklearn.preprocessing import LabelEncoder\n",
        "from sklearn.feature_selection import SelectKBest, chi2, f_classif, mutual_info_classif\n",
        "from sklearn.ensemble import RandomForestClassifier\n",
        "from sklearn.svm import SVC\n",
        "from sklearn.neighbors import KNeighborsClassifier\n",
        "from sklearn.naive_bayes import GaussianNB\n",
        "from sklearn.model_selection import train_test_split\n",
        "from sklearn.model_selection import GridSearchCV\n",
        "from sklearn.metrics import accuracy_score"
      ]
    },
    {
      "cell_type": "markdown",
      "source": [
        "**loading the data set**"
      ],
      "metadata": {
        "id": "qI22JfwgXXcm"
      }
    },
    {
      "cell_type": "code",
      "source": [
        "dft = pd.read_csv('/content/drive/MyDrive/MachineLearning/ML Lab/dataset/train_data.csv')\n"
      ],
      "metadata": {
        "id": "p6foS2NsWGrI"
      },
      "execution_count": 141,
      "outputs": []
    },
    {
      "cell_type": "markdown",
      "source": [
        "**displaying the first 10 rows of the dataset**"
      ],
      "metadata": {
        "id": "ZuYMZkJaZPDH"
      }
    },
    {
      "cell_type": "code",
      "source": [
        "\n",
        "#viewing the first five rows of the dataset\n",
        "dft.head()"
      ],
      "metadata": {
        "id": "__89VQeiWNhb",
        "colab": {
          "base_uri": "https://localhost:8080/",
          "height": 244
        },
        "outputId": "d6a23227-4309-4ab1-f5d9-ccaae8389fa7"
      },
      "execution_count": 142,
      "outputs": [
        {
          "output_type": "execute_result",
          "data": {
            "text/plain": [
              "  Customer Id  YearOfObservation  Insured_Period  Residential  \\\n",
              "0      H14663               2013             1.0            0   \n",
              "1       H2037               2015             1.0            0   \n",
              "2       H3802               2014             1.0            0   \n",
              "3       H3834               2013             1.0            0   \n",
              "4       H5053               2014             1.0            0   \n",
              "\n",
              "  Building_Painted Building_Fenced Garden Settlement  Building Dimension  \\\n",
              "0                N               V      V          U               290.0   \n",
              "1                V               N      O          R               490.0   \n",
              "2                N               V      V          U               595.0   \n",
              "3                V               V      V          U              2840.0   \n",
              "4                V               N      O          R               680.0   \n",
              "\n",
              "   Building_Type  Date_of_Occupancy NumberOfWindows Geo_Code  Claim  \n",
              "0              1             1960.0               .     1053      0  \n",
              "1              1             1850.0               4     1053      0  \n",
              "2              1             1960.0               .     1053      0  \n",
              "3              1             1960.0               .     1053      0  \n",
              "4              1             1800.0               3     1053      0  "
            ],
            "text/html": [
              "\n",
              "  <div id=\"df-53be8918-9db3-4b92-a350-140361bd6239\" class=\"colab-df-container\">\n",
              "    <div>\n",
              "<style scoped>\n",
              "    .dataframe tbody tr th:only-of-type {\n",
              "        vertical-align: middle;\n",
              "    }\n",
              "\n",
              "    .dataframe tbody tr th {\n",
              "        vertical-align: top;\n",
              "    }\n",
              "\n",
              "    .dataframe thead th {\n",
              "        text-align: right;\n",
              "    }\n",
              "</style>\n",
              "<table border=\"1\" class=\"dataframe\">\n",
              "  <thead>\n",
              "    <tr style=\"text-align: right;\">\n",
              "      <th></th>\n",
              "      <th>Customer Id</th>\n",
              "      <th>YearOfObservation</th>\n",
              "      <th>Insured_Period</th>\n",
              "      <th>Residential</th>\n",
              "      <th>Building_Painted</th>\n",
              "      <th>Building_Fenced</th>\n",
              "      <th>Garden</th>\n",
              "      <th>Settlement</th>\n",
              "      <th>Building Dimension</th>\n",
              "      <th>Building_Type</th>\n",
              "      <th>Date_of_Occupancy</th>\n",
              "      <th>NumberOfWindows</th>\n",
              "      <th>Geo_Code</th>\n",
              "      <th>Claim</th>\n",
              "    </tr>\n",
              "  </thead>\n",
              "  <tbody>\n",
              "    <tr>\n",
              "      <th>0</th>\n",
              "      <td>H14663</td>\n",
              "      <td>2013</td>\n",
              "      <td>1.0</td>\n",
              "      <td>0</td>\n",
              "      <td>N</td>\n",
              "      <td>V</td>\n",
              "      <td>V</td>\n",
              "      <td>U</td>\n",
              "      <td>290.0</td>\n",
              "      <td>1</td>\n",
              "      <td>1960.0</td>\n",
              "      <td>.</td>\n",
              "      <td>1053</td>\n",
              "      <td>0</td>\n",
              "    </tr>\n",
              "    <tr>\n",
              "      <th>1</th>\n",
              "      <td>H2037</td>\n",
              "      <td>2015</td>\n",
              "      <td>1.0</td>\n",
              "      <td>0</td>\n",
              "      <td>V</td>\n",
              "      <td>N</td>\n",
              "      <td>O</td>\n",
              "      <td>R</td>\n",
              "      <td>490.0</td>\n",
              "      <td>1</td>\n",
              "      <td>1850.0</td>\n",
              "      <td>4</td>\n",
              "      <td>1053</td>\n",
              "      <td>0</td>\n",
              "    </tr>\n",
              "    <tr>\n",
              "      <th>2</th>\n",
              "      <td>H3802</td>\n",
              "      <td>2014</td>\n",
              "      <td>1.0</td>\n",
              "      <td>0</td>\n",
              "      <td>N</td>\n",
              "      <td>V</td>\n",
              "      <td>V</td>\n",
              "      <td>U</td>\n",
              "      <td>595.0</td>\n",
              "      <td>1</td>\n",
              "      <td>1960.0</td>\n",
              "      <td>.</td>\n",
              "      <td>1053</td>\n",
              "      <td>0</td>\n",
              "    </tr>\n",
              "    <tr>\n",
              "      <th>3</th>\n",
              "      <td>H3834</td>\n",
              "      <td>2013</td>\n",
              "      <td>1.0</td>\n",
              "      <td>0</td>\n",
              "      <td>V</td>\n",
              "      <td>V</td>\n",
              "      <td>V</td>\n",
              "      <td>U</td>\n",
              "      <td>2840.0</td>\n",
              "      <td>1</td>\n",
              "      <td>1960.0</td>\n",
              "      <td>.</td>\n",
              "      <td>1053</td>\n",
              "      <td>0</td>\n",
              "    </tr>\n",
              "    <tr>\n",
              "      <th>4</th>\n",
              "      <td>H5053</td>\n",
              "      <td>2014</td>\n",
              "      <td>1.0</td>\n",
              "      <td>0</td>\n",
              "      <td>V</td>\n",
              "      <td>N</td>\n",
              "      <td>O</td>\n",
              "      <td>R</td>\n",
              "      <td>680.0</td>\n",
              "      <td>1</td>\n",
              "      <td>1800.0</td>\n",
              "      <td>3</td>\n",
              "      <td>1053</td>\n",
              "      <td>0</td>\n",
              "    </tr>\n",
              "  </tbody>\n",
              "</table>\n",
              "</div>\n",
              "    <div class=\"colab-df-buttons\">\n",
              "\n",
              "  <div class=\"colab-df-container\">\n",
              "    <button class=\"colab-df-convert\" onclick=\"convertToInteractive('df-53be8918-9db3-4b92-a350-140361bd6239')\"\n",
              "            title=\"Convert this dataframe to an interactive table.\"\n",
              "            style=\"display:none;\">\n",
              "\n",
              "  <svg xmlns=\"http://www.w3.org/2000/svg\" height=\"24px\" viewBox=\"0 -960 960 960\">\n",
              "    <path d=\"M120-120v-720h720v720H120Zm60-500h600v-160H180v160Zm220 220h160v-160H400v160Zm0 220h160v-160H400v160ZM180-400h160v-160H180v160Zm440 0h160v-160H620v160ZM180-180h160v-160H180v160Zm440 0h160v-160H620v160Z\"/>\n",
              "  </svg>\n",
              "    </button>\n",
              "\n",
              "  <style>\n",
              "    .colab-df-container {\n",
              "      display:flex;\n",
              "      gap: 12px;\n",
              "    }\n",
              "\n",
              "    .colab-df-convert {\n",
              "      background-color: #E8F0FE;\n",
              "      border: none;\n",
              "      border-radius: 50%;\n",
              "      cursor: pointer;\n",
              "      display: none;\n",
              "      fill: #1967D2;\n",
              "      height: 32px;\n",
              "      padding: 0 0 0 0;\n",
              "      width: 32px;\n",
              "    }\n",
              "\n",
              "    .colab-df-convert:hover {\n",
              "      background-color: #E2EBFA;\n",
              "      box-shadow: 0px 1px 2px rgba(60, 64, 67, 0.3), 0px 1px 3px 1px rgba(60, 64, 67, 0.15);\n",
              "      fill: #174EA6;\n",
              "    }\n",
              "\n",
              "    .colab-df-buttons div {\n",
              "      margin-bottom: 4px;\n",
              "    }\n",
              "\n",
              "    [theme=dark] .colab-df-convert {\n",
              "      background-color: #3B4455;\n",
              "      fill: #D2E3FC;\n",
              "    }\n",
              "\n",
              "    [theme=dark] .colab-df-convert:hover {\n",
              "      background-color: #434B5C;\n",
              "      box-shadow: 0px 1px 3px 1px rgba(0, 0, 0, 0.15);\n",
              "      filter: drop-shadow(0px 1px 2px rgba(0, 0, 0, 0.3));\n",
              "      fill: #FFFFFF;\n",
              "    }\n",
              "  </style>\n",
              "\n",
              "    <script>\n",
              "      const buttonEl =\n",
              "        document.querySelector('#df-53be8918-9db3-4b92-a350-140361bd6239 button.colab-df-convert');\n",
              "      buttonEl.style.display =\n",
              "        google.colab.kernel.accessAllowed ? 'block' : 'none';\n",
              "\n",
              "      async function convertToInteractive(key) {\n",
              "        const element = document.querySelector('#df-53be8918-9db3-4b92-a350-140361bd6239');\n",
              "        const dataTable =\n",
              "          await google.colab.kernel.invokeFunction('convertToInteractive',\n",
              "                                                    [key], {});\n",
              "        if (!dataTable) return;\n",
              "\n",
              "        const docLinkHtml = 'Like what you see? Visit the ' +\n",
              "          '<a target=\"_blank\" href=https://colab.research.google.com/notebooks/data_table.ipynb>data table notebook</a>'\n",
              "          + ' to learn more about interactive tables.';\n",
              "        element.innerHTML = '';\n",
              "        dataTable['output_type'] = 'display_data';\n",
              "        await google.colab.output.renderOutput(dataTable, element);\n",
              "        const docLink = document.createElement('div');\n",
              "        docLink.innerHTML = docLinkHtml;\n",
              "        element.appendChild(docLink);\n",
              "      }\n",
              "    </script>\n",
              "  </div>\n",
              "\n",
              "\n",
              "<div id=\"df-79cd8105-32f1-47d6-8150-2583c225a7e4\">\n",
              "  <button class=\"colab-df-quickchart\" onclick=\"quickchart('df-79cd8105-32f1-47d6-8150-2583c225a7e4')\"\n",
              "            title=\"Suggest charts\"\n",
              "            style=\"display:none;\">\n",
              "\n",
              "<svg xmlns=\"http://www.w3.org/2000/svg\" height=\"24px\"viewBox=\"0 0 24 24\"\n",
              "     width=\"24px\">\n",
              "    <g>\n",
              "        <path d=\"M19 3H5c-1.1 0-2 .9-2 2v14c0 1.1.9 2 2 2h14c1.1 0 2-.9 2-2V5c0-1.1-.9-2-2-2zM9 17H7v-7h2v7zm4 0h-2V7h2v10zm4 0h-2v-4h2v4z\"/>\n",
              "    </g>\n",
              "</svg>\n",
              "  </button>\n",
              "\n",
              "<style>\n",
              "  .colab-df-quickchart {\n",
              "      --bg-color: #E8F0FE;\n",
              "      --fill-color: #1967D2;\n",
              "      --hover-bg-color: #E2EBFA;\n",
              "      --hover-fill-color: #174EA6;\n",
              "      --disabled-fill-color: #AAA;\n",
              "      --disabled-bg-color: #DDD;\n",
              "  }\n",
              "\n",
              "  [theme=dark] .colab-df-quickchart {\n",
              "      --bg-color: #3B4455;\n",
              "      --fill-color: #D2E3FC;\n",
              "      --hover-bg-color: #434B5C;\n",
              "      --hover-fill-color: #FFFFFF;\n",
              "      --disabled-bg-color: #3B4455;\n",
              "      --disabled-fill-color: #666;\n",
              "  }\n",
              "\n",
              "  .colab-df-quickchart {\n",
              "    background-color: var(--bg-color);\n",
              "    border: none;\n",
              "    border-radius: 50%;\n",
              "    cursor: pointer;\n",
              "    display: none;\n",
              "    fill: var(--fill-color);\n",
              "    height: 32px;\n",
              "    padding: 0;\n",
              "    width: 32px;\n",
              "  }\n",
              "\n",
              "  .colab-df-quickchart:hover {\n",
              "    background-color: var(--hover-bg-color);\n",
              "    box-shadow: 0 1px 2px rgba(60, 64, 67, 0.3), 0 1px 3px 1px rgba(60, 64, 67, 0.15);\n",
              "    fill: var(--button-hover-fill-color);\n",
              "  }\n",
              "\n",
              "  .colab-df-quickchart-complete:disabled,\n",
              "  .colab-df-quickchart-complete:disabled:hover {\n",
              "    background-color: var(--disabled-bg-color);\n",
              "    fill: var(--disabled-fill-color);\n",
              "    box-shadow: none;\n",
              "  }\n",
              "\n",
              "  .colab-df-spinner {\n",
              "    border: 2px solid var(--fill-color);\n",
              "    border-color: transparent;\n",
              "    border-bottom-color: var(--fill-color);\n",
              "    animation:\n",
              "      spin 1s steps(1) infinite;\n",
              "  }\n",
              "\n",
              "  @keyframes spin {\n",
              "    0% {\n",
              "      border-color: transparent;\n",
              "      border-bottom-color: var(--fill-color);\n",
              "      border-left-color: var(--fill-color);\n",
              "    }\n",
              "    20% {\n",
              "      border-color: transparent;\n",
              "      border-left-color: var(--fill-color);\n",
              "      border-top-color: var(--fill-color);\n",
              "    }\n",
              "    30% {\n",
              "      border-color: transparent;\n",
              "      border-left-color: var(--fill-color);\n",
              "      border-top-color: var(--fill-color);\n",
              "      border-right-color: var(--fill-color);\n",
              "    }\n",
              "    40% {\n",
              "      border-color: transparent;\n",
              "      border-right-color: var(--fill-color);\n",
              "      border-top-color: var(--fill-color);\n",
              "    }\n",
              "    60% {\n",
              "      border-color: transparent;\n",
              "      border-right-color: var(--fill-color);\n",
              "    }\n",
              "    80% {\n",
              "      border-color: transparent;\n",
              "      border-right-color: var(--fill-color);\n",
              "      border-bottom-color: var(--fill-color);\n",
              "    }\n",
              "    90% {\n",
              "      border-color: transparent;\n",
              "      border-bottom-color: var(--fill-color);\n",
              "    }\n",
              "  }\n",
              "</style>\n",
              "\n",
              "  <script>\n",
              "    async function quickchart(key) {\n",
              "      const quickchartButtonEl =\n",
              "        document.querySelector('#' + key + ' button');\n",
              "      quickchartButtonEl.disabled = true;  // To prevent multiple clicks.\n",
              "      quickchartButtonEl.classList.add('colab-df-spinner');\n",
              "      try {\n",
              "        const charts = await google.colab.kernel.invokeFunction(\n",
              "            'suggestCharts', [key], {});\n",
              "      } catch (error) {\n",
              "        console.error('Error during call to suggestCharts:', error);\n",
              "      }\n",
              "      quickchartButtonEl.classList.remove('colab-df-spinner');\n",
              "      quickchartButtonEl.classList.add('colab-df-quickchart-complete');\n",
              "    }\n",
              "    (() => {\n",
              "      let quickchartButtonEl =\n",
              "        document.querySelector('#df-79cd8105-32f1-47d6-8150-2583c225a7e4 button');\n",
              "      quickchartButtonEl.style.display =\n",
              "        google.colab.kernel.accessAllowed ? 'block' : 'none';\n",
              "    })();\n",
              "  </script>\n",
              "</div>\n",
              "    </div>\n",
              "  </div>\n"
            ]
          },
          "metadata": {},
          "execution_count": 142
        }
      ]
    },
    {
      "cell_type": "code",
      "source": [
        "#displaying the shape of the dataset\n",
        "dft.shape"
      ],
      "metadata": {
        "colab": {
          "base_uri": "https://localhost:8080/"
        },
        "id": "_RLxrQZCtPkr",
        "outputId": "fad5cfa2-165d-4c3f-8200-94a4adfb1a62"
      },
      "execution_count": 143,
      "outputs": [
        {
          "output_type": "execute_result",
          "data": {
            "text/plain": [
              "(7160, 14)"
            ]
          },
          "metadata": {},
          "execution_count": 143
        }
      ]
    },
    {
      "cell_type": "markdown",
      "source": [
        "**Getting  the  quick overview of the dataset**"
      ],
      "metadata": {
        "id": "G2dDsPwgYOKN"
      }
    },
    {
      "cell_type": "code",
      "source": [
        "dft.shape"
      ],
      "metadata": {
        "id": "noFpxoH5L_xB",
        "colab": {
          "base_uri": "https://localhost:8080/"
        },
        "outputId": "8a593861-1b10-4182-e8ee-c239e1c0bee1"
      },
      "execution_count": 144,
      "outputs": [
        {
          "output_type": "execute_result",
          "data": {
            "text/plain": [
              "(7160, 14)"
            ]
          },
          "metadata": {},
          "execution_count": 144
        }
      ]
    },
    {
      "cell_type": "markdown",
      "source": [
        "**The dataset has 7160 columns and 14 rows**"
      ],
      "metadata": {
        "id": "mPk-meWKvvgY"
      }
    },
    {
      "cell_type": "code",
      "source": [],
      "metadata": {
        "id": "fzmoXsGnRRy0"
      },
      "execution_count": 144,
      "outputs": []
    },
    {
      "cell_type": "code",
      "source": [
        "\n",
        "#checking data types\n",
        "dft.info()"
      ],
      "metadata": {
        "id": "9oivyI7BWNej"
      },
      "execution_count": null,
      "outputs": []
    },
    {
      "cell_type": "markdown",
      "source": [
        "**This shows that out of the 14 columns, 3 contains float datatype, 4 has integer and 7 columns conatin strings as a datatype and that means there need for encoding the categorical variables**"
      ],
      "metadata": {
        "id": "mInLJTOcbil-"
      }
    },
    {
      "cell_type": "markdown",
      "source": [
        "**checking  for missing values  in the dataset**"
      ],
      "metadata": {
        "id": "TUG5-l3bZ7re"
      }
    },
    {
      "cell_type": "code",
      "source": [
        "dft.isnull().sum()"
      ],
      "metadata": {
        "id": "oMKKCuVsWNbs",
        "colab": {
          "base_uri": "https://localhost:8080/"
        },
        "outputId": "3541475c-b32e-4bf9-8a2e-1c5c52c793e6"
      },
      "execution_count": 145,
      "outputs": [
        {
          "output_type": "execute_result",
          "data": {
            "text/plain": [
              "Customer Id             0\n",
              "YearOfObservation       0\n",
              "Insured_Period          0\n",
              "Residential             0\n",
              "Building_Painted        0\n",
              "Building_Fenced         0\n",
              "Garden                  7\n",
              "Settlement              0\n",
              "Building Dimension    106\n",
              "Building_Type           0\n",
              "Date_of_Occupancy     508\n",
              "NumberOfWindows         0\n",
              "Geo_Code              102\n",
              "Claim                   0\n",
              "dtype: int64"
            ]
          },
          "metadata": {},
          "execution_count": 145
        }
      ]
    },
    {
      "cell_type": "markdown",
      "source": [
        "**The data set has missing values in some of the columns and hence they need to be treated to improve model perfomance**"
      ],
      "metadata": {
        "id": "BnLA2BOUaT5d"
      }
    },
    {
      "cell_type": "markdown",
      "source": [
        "**lets see total sum of   missing values**"
      ],
      "metadata": {
        "id": "NOxdNJL6bBjp"
      }
    },
    {
      "cell_type": "code",
      "source": [
        "\n",
        "dft.isnull().sum().sum()"
      ],
      "metadata": {
        "id": "i--QEt6DWNXl",
        "colab": {
          "base_uri": "https://localhost:8080/"
        },
        "outputId": "5f9b128d-4ab9-478c-a7e2-8f7a590895cb"
      },
      "execution_count": 146,
      "outputs": [
        {
          "output_type": "execute_result",
          "data": {
            "text/plain": [
              "723"
            ]
          },
          "metadata": {},
          "execution_count": 146
        }
      ]
    },
    {
      "cell_type": "markdown",
      "source": [
        "**Having a total sum of 723 values has to be handled with carefully**"
      ],
      "metadata": {
        "id": "tYLcmBPwc4aX"
      }
    },
    {
      "cell_type": "markdown",
      "source": [],
      "metadata": {
        "id": "yUv3FV1Issuw"
      }
    },
    {
      "cell_type": "markdown",
      "source": [
        "**displaying basic statistics**"
      ],
      "metadata": {
        "id": "eBbHtzsFs3pG"
      }
    },
    {
      "cell_type": "code",
      "source": [
        "dft.describe()"
      ],
      "metadata": {
        "id": "_ccWthbGtLd9",
        "colab": {
          "base_uri": "https://localhost:8080/",
          "height": 300
        },
        "outputId": "f61a2f23-569e-4b59-cce2-322bab822182"
      },
      "execution_count": 147,
      "outputs": [
        {
          "output_type": "execute_result",
          "data": {
            "text/plain": [
              "       YearOfObservation  Insured_Period  Residential  Building Dimension  \\\n",
              "count        7160.000000     7160.000000  7160.000000         7054.000000   \n",
              "mean         2013.669553        0.909758     0.305447         1883.727530   \n",
              "std             1.383769        0.239756     0.460629         2278.157745   \n",
              "min          2012.000000        0.000000     0.000000            1.000000   \n",
              "25%          2012.000000        0.997268     0.000000          528.000000   \n",
              "50%          2013.000000        1.000000     0.000000         1083.000000   \n",
              "75%          2015.000000        1.000000     1.000000         2289.750000   \n",
              "max          2016.000000        1.000000     1.000000        20940.000000   \n",
              "\n",
              "       Building_Type  Date_of_Occupancy        Claim  \n",
              "count    7160.000000        6652.000000  7160.000000  \n",
              "mean        2.186034        1964.456404     0.228212  \n",
              "std         0.940632          36.002014     0.419709  \n",
              "min         1.000000        1545.000000     0.000000  \n",
              "25%         2.000000        1960.000000     0.000000  \n",
              "50%         2.000000        1970.000000     0.000000  \n",
              "75%         3.000000        1980.000000     0.000000  \n",
              "max         4.000000        2016.000000     1.000000  "
            ],
            "text/html": [
              "\n",
              "  <div id=\"df-ab1c0a3b-ad19-4590-ab72-6baa6da2a337\" class=\"colab-df-container\">\n",
              "    <div>\n",
              "<style scoped>\n",
              "    .dataframe tbody tr th:only-of-type {\n",
              "        vertical-align: middle;\n",
              "    }\n",
              "\n",
              "    .dataframe tbody tr th {\n",
              "        vertical-align: top;\n",
              "    }\n",
              "\n",
              "    .dataframe thead th {\n",
              "        text-align: right;\n",
              "    }\n",
              "</style>\n",
              "<table border=\"1\" class=\"dataframe\">\n",
              "  <thead>\n",
              "    <tr style=\"text-align: right;\">\n",
              "      <th></th>\n",
              "      <th>YearOfObservation</th>\n",
              "      <th>Insured_Period</th>\n",
              "      <th>Residential</th>\n",
              "      <th>Building Dimension</th>\n",
              "      <th>Building_Type</th>\n",
              "      <th>Date_of_Occupancy</th>\n",
              "      <th>Claim</th>\n",
              "    </tr>\n",
              "  </thead>\n",
              "  <tbody>\n",
              "    <tr>\n",
              "      <th>count</th>\n",
              "      <td>7160.000000</td>\n",
              "      <td>7160.000000</td>\n",
              "      <td>7160.000000</td>\n",
              "      <td>7054.000000</td>\n",
              "      <td>7160.000000</td>\n",
              "      <td>6652.000000</td>\n",
              "      <td>7160.000000</td>\n",
              "    </tr>\n",
              "    <tr>\n",
              "      <th>mean</th>\n",
              "      <td>2013.669553</td>\n",
              "      <td>0.909758</td>\n",
              "      <td>0.305447</td>\n",
              "      <td>1883.727530</td>\n",
              "      <td>2.186034</td>\n",
              "      <td>1964.456404</td>\n",
              "      <td>0.228212</td>\n",
              "    </tr>\n",
              "    <tr>\n",
              "      <th>std</th>\n",
              "      <td>1.383769</td>\n",
              "      <td>0.239756</td>\n",
              "      <td>0.460629</td>\n",
              "      <td>2278.157745</td>\n",
              "      <td>0.940632</td>\n",
              "      <td>36.002014</td>\n",
              "      <td>0.419709</td>\n",
              "    </tr>\n",
              "    <tr>\n",
              "      <th>min</th>\n",
              "      <td>2012.000000</td>\n",
              "      <td>0.000000</td>\n",
              "      <td>0.000000</td>\n",
              "      <td>1.000000</td>\n",
              "      <td>1.000000</td>\n",
              "      <td>1545.000000</td>\n",
              "      <td>0.000000</td>\n",
              "    </tr>\n",
              "    <tr>\n",
              "      <th>25%</th>\n",
              "      <td>2012.000000</td>\n",
              "      <td>0.997268</td>\n",
              "      <td>0.000000</td>\n",
              "      <td>528.000000</td>\n",
              "      <td>2.000000</td>\n",
              "      <td>1960.000000</td>\n",
              "      <td>0.000000</td>\n",
              "    </tr>\n",
              "    <tr>\n",
              "      <th>50%</th>\n",
              "      <td>2013.000000</td>\n",
              "      <td>1.000000</td>\n",
              "      <td>0.000000</td>\n",
              "      <td>1083.000000</td>\n",
              "      <td>2.000000</td>\n",
              "      <td>1970.000000</td>\n",
              "      <td>0.000000</td>\n",
              "    </tr>\n",
              "    <tr>\n",
              "      <th>75%</th>\n",
              "      <td>2015.000000</td>\n",
              "      <td>1.000000</td>\n",
              "      <td>1.000000</td>\n",
              "      <td>2289.750000</td>\n",
              "      <td>3.000000</td>\n",
              "      <td>1980.000000</td>\n",
              "      <td>0.000000</td>\n",
              "    </tr>\n",
              "    <tr>\n",
              "      <th>max</th>\n",
              "      <td>2016.000000</td>\n",
              "      <td>1.000000</td>\n",
              "      <td>1.000000</td>\n",
              "      <td>20940.000000</td>\n",
              "      <td>4.000000</td>\n",
              "      <td>2016.000000</td>\n",
              "      <td>1.000000</td>\n",
              "    </tr>\n",
              "  </tbody>\n",
              "</table>\n",
              "</div>\n",
              "    <div class=\"colab-df-buttons\">\n",
              "\n",
              "  <div class=\"colab-df-container\">\n",
              "    <button class=\"colab-df-convert\" onclick=\"convertToInteractive('df-ab1c0a3b-ad19-4590-ab72-6baa6da2a337')\"\n",
              "            title=\"Convert this dataframe to an interactive table.\"\n",
              "            style=\"display:none;\">\n",
              "\n",
              "  <svg xmlns=\"http://www.w3.org/2000/svg\" height=\"24px\" viewBox=\"0 -960 960 960\">\n",
              "    <path d=\"M120-120v-720h720v720H120Zm60-500h600v-160H180v160Zm220 220h160v-160H400v160Zm0 220h160v-160H400v160ZM180-400h160v-160H180v160Zm440 0h160v-160H620v160ZM180-180h160v-160H180v160Zm440 0h160v-160H620v160Z\"/>\n",
              "  </svg>\n",
              "    </button>\n",
              "\n",
              "  <style>\n",
              "    .colab-df-container {\n",
              "      display:flex;\n",
              "      gap: 12px;\n",
              "    }\n",
              "\n",
              "    .colab-df-convert {\n",
              "      background-color: #E8F0FE;\n",
              "      border: none;\n",
              "      border-radius: 50%;\n",
              "      cursor: pointer;\n",
              "      display: none;\n",
              "      fill: #1967D2;\n",
              "      height: 32px;\n",
              "      padding: 0 0 0 0;\n",
              "      width: 32px;\n",
              "    }\n",
              "\n",
              "    .colab-df-convert:hover {\n",
              "      background-color: #E2EBFA;\n",
              "      box-shadow: 0px 1px 2px rgba(60, 64, 67, 0.3), 0px 1px 3px 1px rgba(60, 64, 67, 0.15);\n",
              "      fill: #174EA6;\n",
              "    }\n",
              "\n",
              "    .colab-df-buttons div {\n",
              "      margin-bottom: 4px;\n",
              "    }\n",
              "\n",
              "    [theme=dark] .colab-df-convert {\n",
              "      background-color: #3B4455;\n",
              "      fill: #D2E3FC;\n",
              "    }\n",
              "\n",
              "    [theme=dark] .colab-df-convert:hover {\n",
              "      background-color: #434B5C;\n",
              "      box-shadow: 0px 1px 3px 1px rgba(0, 0, 0, 0.15);\n",
              "      filter: drop-shadow(0px 1px 2px rgba(0, 0, 0, 0.3));\n",
              "      fill: #FFFFFF;\n",
              "    }\n",
              "  </style>\n",
              "\n",
              "    <script>\n",
              "      const buttonEl =\n",
              "        document.querySelector('#df-ab1c0a3b-ad19-4590-ab72-6baa6da2a337 button.colab-df-convert');\n",
              "      buttonEl.style.display =\n",
              "        google.colab.kernel.accessAllowed ? 'block' : 'none';\n",
              "\n",
              "      async function convertToInteractive(key) {\n",
              "        const element = document.querySelector('#df-ab1c0a3b-ad19-4590-ab72-6baa6da2a337');\n",
              "        const dataTable =\n",
              "          await google.colab.kernel.invokeFunction('convertToInteractive',\n",
              "                                                    [key], {});\n",
              "        if (!dataTable) return;\n",
              "\n",
              "        const docLinkHtml = 'Like what you see? Visit the ' +\n",
              "          '<a target=\"_blank\" href=https://colab.research.google.com/notebooks/data_table.ipynb>data table notebook</a>'\n",
              "          + ' to learn more about interactive tables.';\n",
              "        element.innerHTML = '';\n",
              "        dataTable['output_type'] = 'display_data';\n",
              "        await google.colab.output.renderOutput(dataTable, element);\n",
              "        const docLink = document.createElement('div');\n",
              "        docLink.innerHTML = docLinkHtml;\n",
              "        element.appendChild(docLink);\n",
              "      }\n",
              "    </script>\n",
              "  </div>\n",
              "\n",
              "\n",
              "<div id=\"df-429a1a99-136f-4b80-87a1-2596ba24b7b9\">\n",
              "  <button class=\"colab-df-quickchart\" onclick=\"quickchart('df-429a1a99-136f-4b80-87a1-2596ba24b7b9')\"\n",
              "            title=\"Suggest charts\"\n",
              "            style=\"display:none;\">\n",
              "\n",
              "<svg xmlns=\"http://www.w3.org/2000/svg\" height=\"24px\"viewBox=\"0 0 24 24\"\n",
              "     width=\"24px\">\n",
              "    <g>\n",
              "        <path d=\"M19 3H5c-1.1 0-2 .9-2 2v14c0 1.1.9 2 2 2h14c1.1 0 2-.9 2-2V5c0-1.1-.9-2-2-2zM9 17H7v-7h2v7zm4 0h-2V7h2v10zm4 0h-2v-4h2v4z\"/>\n",
              "    </g>\n",
              "</svg>\n",
              "  </button>\n",
              "\n",
              "<style>\n",
              "  .colab-df-quickchart {\n",
              "      --bg-color: #E8F0FE;\n",
              "      --fill-color: #1967D2;\n",
              "      --hover-bg-color: #E2EBFA;\n",
              "      --hover-fill-color: #174EA6;\n",
              "      --disabled-fill-color: #AAA;\n",
              "      --disabled-bg-color: #DDD;\n",
              "  }\n",
              "\n",
              "  [theme=dark] .colab-df-quickchart {\n",
              "      --bg-color: #3B4455;\n",
              "      --fill-color: #D2E3FC;\n",
              "      --hover-bg-color: #434B5C;\n",
              "      --hover-fill-color: #FFFFFF;\n",
              "      --disabled-bg-color: #3B4455;\n",
              "      --disabled-fill-color: #666;\n",
              "  }\n",
              "\n",
              "  .colab-df-quickchart {\n",
              "    background-color: var(--bg-color);\n",
              "    border: none;\n",
              "    border-radius: 50%;\n",
              "    cursor: pointer;\n",
              "    display: none;\n",
              "    fill: var(--fill-color);\n",
              "    height: 32px;\n",
              "    padding: 0;\n",
              "    width: 32px;\n",
              "  }\n",
              "\n",
              "  .colab-df-quickchart:hover {\n",
              "    background-color: var(--hover-bg-color);\n",
              "    box-shadow: 0 1px 2px rgba(60, 64, 67, 0.3), 0 1px 3px 1px rgba(60, 64, 67, 0.15);\n",
              "    fill: var(--button-hover-fill-color);\n",
              "  }\n",
              "\n",
              "  .colab-df-quickchart-complete:disabled,\n",
              "  .colab-df-quickchart-complete:disabled:hover {\n",
              "    background-color: var(--disabled-bg-color);\n",
              "    fill: var(--disabled-fill-color);\n",
              "    box-shadow: none;\n",
              "  }\n",
              "\n",
              "  .colab-df-spinner {\n",
              "    border: 2px solid var(--fill-color);\n",
              "    border-color: transparent;\n",
              "    border-bottom-color: var(--fill-color);\n",
              "    animation:\n",
              "      spin 1s steps(1) infinite;\n",
              "  }\n",
              "\n",
              "  @keyframes spin {\n",
              "    0% {\n",
              "      border-color: transparent;\n",
              "      border-bottom-color: var(--fill-color);\n",
              "      border-left-color: var(--fill-color);\n",
              "    }\n",
              "    20% {\n",
              "      border-color: transparent;\n",
              "      border-left-color: var(--fill-color);\n",
              "      border-top-color: var(--fill-color);\n",
              "    }\n",
              "    30% {\n",
              "      border-color: transparent;\n",
              "      border-left-color: var(--fill-color);\n",
              "      border-top-color: var(--fill-color);\n",
              "      border-right-color: var(--fill-color);\n",
              "    }\n",
              "    40% {\n",
              "      border-color: transparent;\n",
              "      border-right-color: var(--fill-color);\n",
              "      border-top-color: var(--fill-color);\n",
              "    }\n",
              "    60% {\n",
              "      border-color: transparent;\n",
              "      border-right-color: var(--fill-color);\n",
              "    }\n",
              "    80% {\n",
              "      border-color: transparent;\n",
              "      border-right-color: var(--fill-color);\n",
              "      border-bottom-color: var(--fill-color);\n",
              "    }\n",
              "    90% {\n",
              "      border-color: transparent;\n",
              "      border-bottom-color: var(--fill-color);\n",
              "    }\n",
              "  }\n",
              "</style>\n",
              "\n",
              "  <script>\n",
              "    async function quickchart(key) {\n",
              "      const quickchartButtonEl =\n",
              "        document.querySelector('#' + key + ' button');\n",
              "      quickchartButtonEl.disabled = true;  // To prevent multiple clicks.\n",
              "      quickchartButtonEl.classList.add('colab-df-spinner');\n",
              "      try {\n",
              "        const charts = await google.colab.kernel.invokeFunction(\n",
              "            'suggestCharts', [key], {});\n",
              "      } catch (error) {\n",
              "        console.error('Error during call to suggestCharts:', error);\n",
              "      }\n",
              "      quickchartButtonEl.classList.remove('colab-df-spinner');\n",
              "      quickchartButtonEl.classList.add('colab-df-quickchart-complete');\n",
              "    }\n",
              "    (() => {\n",
              "      let quickchartButtonEl =\n",
              "        document.querySelector('#df-429a1a99-136f-4b80-87a1-2596ba24b7b9 button');\n",
              "      quickchartButtonEl.style.display =\n",
              "        google.colab.kernel.accessAllowed ? 'block' : 'none';\n",
              "    })();\n",
              "  </script>\n",
              "</div>\n",
              "    </div>\n",
              "  </div>\n"
            ]
          },
          "metadata": {},
          "execution_count": 147
        }
      ]
    },
    {
      "cell_type": "code",
      "source": [
        "#displaying basic key statistics\n",
        "dft.describe(include=object)"
      ],
      "metadata": {
        "colab": {
          "base_uri": "https://localhost:8080/",
          "height": 175
        },
        "id": "M__xWdRUwu99",
        "outputId": "46ab1a31-804f-44aa-a452-4b96498e7cf1"
      },
      "execution_count": 148,
      "outputs": [
        {
          "output_type": "execute_result",
          "data": {
            "text/plain": [
              "       Customer Id Building_Painted Building_Fenced Garden Settlement  \\\n",
              "count         7160             7160            7160   7153       7160   \n",
              "unique        7160                2               2      2          2   \n",
              "top         H14663                V               N      O          R   \n",
              "freq             1             5382            3608   3602       3610   \n",
              "\n",
              "       NumberOfWindows Geo_Code  \n",
              "count             7160     7058  \n",
              "unique              11     1307  \n",
              "top                  .     6088  \n",
              "freq              3551      143  "
            ],
            "text/html": [
              "\n",
              "  <div id=\"df-a54389c0-4270-4eca-abe5-6c6893f9d58c\" class=\"colab-df-container\">\n",
              "    <div>\n",
              "<style scoped>\n",
              "    .dataframe tbody tr th:only-of-type {\n",
              "        vertical-align: middle;\n",
              "    }\n",
              "\n",
              "    .dataframe tbody tr th {\n",
              "        vertical-align: top;\n",
              "    }\n",
              "\n",
              "    .dataframe thead th {\n",
              "        text-align: right;\n",
              "    }\n",
              "</style>\n",
              "<table border=\"1\" class=\"dataframe\">\n",
              "  <thead>\n",
              "    <tr style=\"text-align: right;\">\n",
              "      <th></th>\n",
              "      <th>Customer Id</th>\n",
              "      <th>Building_Painted</th>\n",
              "      <th>Building_Fenced</th>\n",
              "      <th>Garden</th>\n",
              "      <th>Settlement</th>\n",
              "      <th>NumberOfWindows</th>\n",
              "      <th>Geo_Code</th>\n",
              "    </tr>\n",
              "  </thead>\n",
              "  <tbody>\n",
              "    <tr>\n",
              "      <th>count</th>\n",
              "      <td>7160</td>\n",
              "      <td>7160</td>\n",
              "      <td>7160</td>\n",
              "      <td>7153</td>\n",
              "      <td>7160</td>\n",
              "      <td>7160</td>\n",
              "      <td>7058</td>\n",
              "    </tr>\n",
              "    <tr>\n",
              "      <th>unique</th>\n",
              "      <td>7160</td>\n",
              "      <td>2</td>\n",
              "      <td>2</td>\n",
              "      <td>2</td>\n",
              "      <td>2</td>\n",
              "      <td>11</td>\n",
              "      <td>1307</td>\n",
              "    </tr>\n",
              "    <tr>\n",
              "      <th>top</th>\n",
              "      <td>H14663</td>\n",
              "      <td>V</td>\n",
              "      <td>N</td>\n",
              "      <td>O</td>\n",
              "      <td>R</td>\n",
              "      <td>.</td>\n",
              "      <td>6088</td>\n",
              "    </tr>\n",
              "    <tr>\n",
              "      <th>freq</th>\n",
              "      <td>1</td>\n",
              "      <td>5382</td>\n",
              "      <td>3608</td>\n",
              "      <td>3602</td>\n",
              "      <td>3610</td>\n",
              "      <td>3551</td>\n",
              "      <td>143</td>\n",
              "    </tr>\n",
              "  </tbody>\n",
              "</table>\n",
              "</div>\n",
              "    <div class=\"colab-df-buttons\">\n",
              "\n",
              "  <div class=\"colab-df-container\">\n",
              "    <button class=\"colab-df-convert\" onclick=\"convertToInteractive('df-a54389c0-4270-4eca-abe5-6c6893f9d58c')\"\n",
              "            title=\"Convert this dataframe to an interactive table.\"\n",
              "            style=\"display:none;\">\n",
              "\n",
              "  <svg xmlns=\"http://www.w3.org/2000/svg\" height=\"24px\" viewBox=\"0 -960 960 960\">\n",
              "    <path d=\"M120-120v-720h720v720H120Zm60-500h600v-160H180v160Zm220 220h160v-160H400v160Zm0 220h160v-160H400v160ZM180-400h160v-160H180v160Zm440 0h160v-160H620v160ZM180-180h160v-160H180v160Zm440 0h160v-160H620v160Z\"/>\n",
              "  </svg>\n",
              "    </button>\n",
              "\n",
              "  <style>\n",
              "    .colab-df-container {\n",
              "      display:flex;\n",
              "      gap: 12px;\n",
              "    }\n",
              "\n",
              "    .colab-df-convert {\n",
              "      background-color: #E8F0FE;\n",
              "      border: none;\n",
              "      border-radius: 50%;\n",
              "      cursor: pointer;\n",
              "      display: none;\n",
              "      fill: #1967D2;\n",
              "      height: 32px;\n",
              "      padding: 0 0 0 0;\n",
              "      width: 32px;\n",
              "    }\n",
              "\n",
              "    .colab-df-convert:hover {\n",
              "      background-color: #E2EBFA;\n",
              "      box-shadow: 0px 1px 2px rgba(60, 64, 67, 0.3), 0px 1px 3px 1px rgba(60, 64, 67, 0.15);\n",
              "      fill: #174EA6;\n",
              "    }\n",
              "\n",
              "    .colab-df-buttons div {\n",
              "      margin-bottom: 4px;\n",
              "    }\n",
              "\n",
              "    [theme=dark] .colab-df-convert {\n",
              "      background-color: #3B4455;\n",
              "      fill: #D2E3FC;\n",
              "    }\n",
              "\n",
              "    [theme=dark] .colab-df-convert:hover {\n",
              "      background-color: #434B5C;\n",
              "      box-shadow: 0px 1px 3px 1px rgba(0, 0, 0, 0.15);\n",
              "      filter: drop-shadow(0px 1px 2px rgba(0, 0, 0, 0.3));\n",
              "      fill: #FFFFFF;\n",
              "    }\n",
              "  </style>\n",
              "\n",
              "    <script>\n",
              "      const buttonEl =\n",
              "        document.querySelector('#df-a54389c0-4270-4eca-abe5-6c6893f9d58c button.colab-df-convert');\n",
              "      buttonEl.style.display =\n",
              "        google.colab.kernel.accessAllowed ? 'block' : 'none';\n",
              "\n",
              "      async function convertToInteractive(key) {\n",
              "        const element = document.querySelector('#df-a54389c0-4270-4eca-abe5-6c6893f9d58c');\n",
              "        const dataTable =\n",
              "          await google.colab.kernel.invokeFunction('convertToInteractive',\n",
              "                                                    [key], {});\n",
              "        if (!dataTable) return;\n",
              "\n",
              "        const docLinkHtml = 'Like what you see? Visit the ' +\n",
              "          '<a target=\"_blank\" href=https://colab.research.google.com/notebooks/data_table.ipynb>data table notebook</a>'\n",
              "          + ' to learn more about interactive tables.';\n",
              "        element.innerHTML = '';\n",
              "        dataTable['output_type'] = 'display_data';\n",
              "        await google.colab.output.renderOutput(dataTable, element);\n",
              "        const docLink = document.createElement('div');\n",
              "        docLink.innerHTML = docLinkHtml;\n",
              "        element.appendChild(docLink);\n",
              "      }\n",
              "    </script>\n",
              "  </div>\n",
              "\n",
              "\n",
              "<div id=\"df-16a58f00-614f-45e7-bc92-995c9b6630c7\">\n",
              "  <button class=\"colab-df-quickchart\" onclick=\"quickchart('df-16a58f00-614f-45e7-bc92-995c9b6630c7')\"\n",
              "            title=\"Suggest charts\"\n",
              "            style=\"display:none;\">\n",
              "\n",
              "<svg xmlns=\"http://www.w3.org/2000/svg\" height=\"24px\"viewBox=\"0 0 24 24\"\n",
              "     width=\"24px\">\n",
              "    <g>\n",
              "        <path d=\"M19 3H5c-1.1 0-2 .9-2 2v14c0 1.1.9 2 2 2h14c1.1 0 2-.9 2-2V5c0-1.1-.9-2-2-2zM9 17H7v-7h2v7zm4 0h-2V7h2v10zm4 0h-2v-4h2v4z\"/>\n",
              "    </g>\n",
              "</svg>\n",
              "  </button>\n",
              "\n",
              "<style>\n",
              "  .colab-df-quickchart {\n",
              "      --bg-color: #E8F0FE;\n",
              "      --fill-color: #1967D2;\n",
              "      --hover-bg-color: #E2EBFA;\n",
              "      --hover-fill-color: #174EA6;\n",
              "      --disabled-fill-color: #AAA;\n",
              "      --disabled-bg-color: #DDD;\n",
              "  }\n",
              "\n",
              "  [theme=dark] .colab-df-quickchart {\n",
              "      --bg-color: #3B4455;\n",
              "      --fill-color: #D2E3FC;\n",
              "      --hover-bg-color: #434B5C;\n",
              "      --hover-fill-color: #FFFFFF;\n",
              "      --disabled-bg-color: #3B4455;\n",
              "      --disabled-fill-color: #666;\n",
              "  }\n",
              "\n",
              "  .colab-df-quickchart {\n",
              "    background-color: var(--bg-color);\n",
              "    border: none;\n",
              "    border-radius: 50%;\n",
              "    cursor: pointer;\n",
              "    display: none;\n",
              "    fill: var(--fill-color);\n",
              "    height: 32px;\n",
              "    padding: 0;\n",
              "    width: 32px;\n",
              "  }\n",
              "\n",
              "  .colab-df-quickchart:hover {\n",
              "    background-color: var(--hover-bg-color);\n",
              "    box-shadow: 0 1px 2px rgba(60, 64, 67, 0.3), 0 1px 3px 1px rgba(60, 64, 67, 0.15);\n",
              "    fill: var(--button-hover-fill-color);\n",
              "  }\n",
              "\n",
              "  .colab-df-quickchart-complete:disabled,\n",
              "  .colab-df-quickchart-complete:disabled:hover {\n",
              "    background-color: var(--disabled-bg-color);\n",
              "    fill: var(--disabled-fill-color);\n",
              "    box-shadow: none;\n",
              "  }\n",
              "\n",
              "  .colab-df-spinner {\n",
              "    border: 2px solid var(--fill-color);\n",
              "    border-color: transparent;\n",
              "    border-bottom-color: var(--fill-color);\n",
              "    animation:\n",
              "      spin 1s steps(1) infinite;\n",
              "  }\n",
              "\n",
              "  @keyframes spin {\n",
              "    0% {\n",
              "      border-color: transparent;\n",
              "      border-bottom-color: var(--fill-color);\n",
              "      border-left-color: var(--fill-color);\n",
              "    }\n",
              "    20% {\n",
              "      border-color: transparent;\n",
              "      border-left-color: var(--fill-color);\n",
              "      border-top-color: var(--fill-color);\n",
              "    }\n",
              "    30% {\n",
              "      border-color: transparent;\n",
              "      border-left-color: var(--fill-color);\n",
              "      border-top-color: var(--fill-color);\n",
              "      border-right-color: var(--fill-color);\n",
              "    }\n",
              "    40% {\n",
              "      border-color: transparent;\n",
              "      border-right-color: var(--fill-color);\n",
              "      border-top-color: var(--fill-color);\n",
              "    }\n",
              "    60% {\n",
              "      border-color: transparent;\n",
              "      border-right-color: var(--fill-color);\n",
              "    }\n",
              "    80% {\n",
              "      border-color: transparent;\n",
              "      border-right-color: var(--fill-color);\n",
              "      border-bottom-color: var(--fill-color);\n",
              "    }\n",
              "    90% {\n",
              "      border-color: transparent;\n",
              "      border-bottom-color: var(--fill-color);\n",
              "    }\n",
              "  }\n",
              "</style>\n",
              "\n",
              "  <script>\n",
              "    async function quickchart(key) {\n",
              "      const quickchartButtonEl =\n",
              "        document.querySelector('#' + key + ' button');\n",
              "      quickchartButtonEl.disabled = true;  // To prevent multiple clicks.\n",
              "      quickchartButtonEl.classList.add('colab-df-spinner');\n",
              "      try {\n",
              "        const charts = await google.colab.kernel.invokeFunction(\n",
              "            'suggestCharts', [key], {});\n",
              "      } catch (error) {\n",
              "        console.error('Error during call to suggestCharts:', error);\n",
              "      }\n",
              "      quickchartButtonEl.classList.remove('colab-df-spinner');\n",
              "      quickchartButtonEl.classList.add('colab-df-quickchart-complete');\n",
              "    }\n",
              "    (() => {\n",
              "      let quickchartButtonEl =\n",
              "        document.querySelector('#df-16a58f00-614f-45e7-bc92-995c9b6630c7 button');\n",
              "      quickchartButtonEl.style.display =\n",
              "        google.colab.kernel.accessAllowed ? 'block' : 'none';\n",
              "    })();\n",
              "  </script>\n",
              "</div>\n",
              "    </div>\n",
              "  </div>\n"
            ]
          },
          "metadata": {},
          "execution_count": 148
        }
      ]
    },
    {
      "cell_type": "code",
      "source": [
        "dft.columns"
      ],
      "metadata": {
        "id": "wUd2Cg9dU9H8",
        "outputId": "7e18c6a9-8577-4c57-a7fd-332eac673a95",
        "colab": {
          "base_uri": "https://localhost:8080/"
        }
      },
      "execution_count": 149,
      "outputs": [
        {
          "output_type": "execute_result",
          "data": {
            "text/plain": [
              "Index(['Customer Id', 'YearOfObservation', 'Insured_Period', 'Residential',\n",
              "       'Building_Painted', 'Building_Fenced', 'Garden', 'Settlement',\n",
              "       'Building Dimension', 'Building_Type', 'Date_of_Occupancy',\n",
              "       'NumberOfWindows', 'Geo_Code', 'Claim'],\n",
              "      dtype='object')"
            ]
          },
          "metadata": {},
          "execution_count": 149
        }
      ]
    },
    {
      "cell_type": "code",
      "source": [
        "dft.isna().sum()"
      ],
      "metadata": {
        "id": "iDyUqmdu0UHE",
        "colab": {
          "base_uri": "https://localhost:8080/"
        },
        "outputId": "c006b20b-34e3-497c-c6e8-64d2c0957aa3"
      },
      "execution_count": 150,
      "outputs": [
        {
          "output_type": "execute_result",
          "data": {
            "text/plain": [
              "Customer Id             0\n",
              "YearOfObservation       0\n",
              "Insured_Period          0\n",
              "Residential             0\n",
              "Building_Painted        0\n",
              "Building_Fenced         0\n",
              "Garden                  7\n",
              "Settlement              0\n",
              "Building Dimension    106\n",
              "Building_Type           0\n",
              "Date_of_Occupancy     508\n",
              "NumberOfWindows         0\n",
              "Geo_Code              102\n",
              "Claim                   0\n",
              "dtype: int64"
            ]
          },
          "metadata": {},
          "execution_count": 150
        }
      ]
    },
    {
      "cell_type": "code",
      "source": [],
      "metadata": {
        "id": "fZovSmYoapxa"
      },
      "execution_count": 150,
      "outputs": []
    },
    {
      "cell_type": "markdown",
      "source": [
        "The variable Garden has 7 missing values, Building Dimension has 106, Date_of_occupancy has 508 and Geo_code has 102 missing values.\n"
      ],
      "metadata": {
        "id": "X4l3ZBn2xGMI"
      }
    },
    {
      "cell_type": "code",
      "source": [
        "dft.columns"
      ],
      "metadata": {
        "id": "NQ2vKDuZd2qt",
        "outputId": "e8c55409-b400-4163-ae89-c5ba58b5eaed",
        "colab": {
          "base_uri": "https://localhost:8080/"
        }
      },
      "execution_count": 152,
      "outputs": [
        {
          "output_type": "execute_result",
          "data": {
            "text/plain": [
              "Index(['Customer Id', 'YearOfObservation', 'Insured_Period', 'Residential',\n",
              "       'Building_Painted', 'Building_Fenced', 'Garden', 'Settlement',\n",
              "       'Building Dimension', 'Building_Type', 'Date_of_Occupancy',\n",
              "       'NumberOfWindows', 'Geo_Code', 'Claim'],\n",
              "      dtype='object')"
            ]
          },
          "metadata": {},
          "execution_count": 152
        }
      ]
    },
    {
      "cell_type": "code",
      "source": [
        "# Handling missing values,\n",
        "# i will use mode for categoerical columns and median for numerical since some varriables are skewed\n",
        "dft['Date_of_Occupancy']=dft['Date_of_Occupancy'].fillna(dft['Date_of_Occupancy'].median())\n",
        "dft['Building Dimension']=dft['Building Dimension'].fillna(dft['Building Dimension'].median())\n",
        "dft['Garden']=dft['Garden'].fillna(dft['Garden'].mode().iloc[0])\n",
        "dft['Geo_Code'] = dft['Geo_Code'].fillna(dft['Geo_Code'].mode().iloc[0])\n",
        "dft.info()"
      ],
      "metadata": {
        "id": "5zJwh0UqHh4E",
        "colab": {
          "base_uri": "https://localhost:8080/"
        },
        "outputId": "1624e13d-b2b8-4575-c6f4-86b88fc493fa"
      },
      "execution_count": 153,
      "outputs": [
        {
          "output_type": "stream",
          "name": "stdout",
          "text": [
            "<class 'pandas.core.frame.DataFrame'>\n",
            "RangeIndex: 7160 entries, 0 to 7159\n",
            "Data columns (total 14 columns):\n",
            " #   Column              Non-Null Count  Dtype  \n",
            "---  ------              --------------  -----  \n",
            " 0   Customer Id         7160 non-null   object \n",
            " 1   YearOfObservation   7160 non-null   int64  \n",
            " 2   Insured_Period      7160 non-null   float64\n",
            " 3   Residential         7160 non-null   int64  \n",
            " 4   Building_Painted    7160 non-null   object \n",
            " 5   Building_Fenced     7160 non-null   object \n",
            " 6   Garden              7160 non-null   object \n",
            " 7   Settlement          7160 non-null   object \n",
            " 8   Building Dimension  7160 non-null   float64\n",
            " 9   Building_Type       7160 non-null   int64  \n",
            " 10  Date_of_Occupancy   7160 non-null   float64\n",
            " 11  NumberOfWindows     7160 non-null   object \n",
            " 12  Geo_Code            7160 non-null   object \n",
            " 13  Claim               7160 non-null   int64  \n",
            "dtypes: float64(3), int64(4), object(7)\n",
            "memory usage: 783.2+ KB\n"
          ]
        }
      ]
    },
    {
      "cell_type": "markdown",
      "source": [
        " All the missing values have been handled since all variables have total count of 7160"
      ],
      "metadata": {
        "id": "iy1zIeA1yYXb"
      }
    },
    {
      "cell_type": "markdown",
      "source": [
        "**Data distribution**"
      ],
      "metadata": {
        "id": "uxYJ6WDh1Agr"
      }
    },
    {
      "cell_type": "code",
      "source": [
        "dft.columns"
      ],
      "metadata": {
        "id": "HMmYJ7V9tGxg",
        "colab": {
          "base_uri": "https://localhost:8080/"
        },
        "outputId": "e7bfd937-4937-4966-98a3-7f836123326e"
      },
      "execution_count": 154,
      "outputs": [
        {
          "output_type": "execute_result",
          "data": {
            "text/plain": [
              "Index(['Customer Id', 'YearOfObservation', 'Insured_Period', 'Residential',\n",
              "       'Building_Painted', 'Building_Fenced', 'Garden', 'Settlement',\n",
              "       'Building Dimension', 'Building_Type', 'Date_of_Occupancy',\n",
              "       'NumberOfWindows', 'Geo_Code', 'Claim'],\n",
              "      dtype='object')"
            ]
          },
          "metadata": {},
          "execution_count": 154
        }
      ]
    },
    {
      "cell_type": "code",
      "source": [
        "#displaying the statistics of Building dimension\n",
        "dft['Building Dimension'].describe()"
      ],
      "metadata": {
        "colab": {
          "base_uri": "https://localhost:8080/"
        },
        "id": "LQLrA6og1U8P",
        "outputId": "d0207331-3557-421e-8b85-541736da0fe3"
      },
      "execution_count": 155,
      "outputs": [
        {
          "output_type": "execute_result",
          "data": {
            "text/plain": [
              "count     7160.000000\n",
              "mean      1871.873184\n",
              "std       2263.296186\n",
              "min          1.000000\n",
              "25%        531.500000\n",
              "50%       1083.000000\n",
              "75%       2250.000000\n",
              "max      20940.000000\n",
              "Name: Building Dimension, dtype: float64"
            ]
          },
          "metadata": {},
          "execution_count": 155
        }
      ]
    },
    {
      "cell_type": "markdown",
      "source": [
        "The Building Dimension column has outliers. For example, the max value is 20940.000000,while its min value is 1.000000. The mean is sensitive to outliers, but the fact the mean is so small compared to the max value indicates the max value is an outlier."
      ],
      "metadata": {
        "id": "O79fWn7b5K9X"
      }
    },
    {
      "cell_type": "code",
      "source": [
        "#displaying the statistics ofdate of occupancy\n",
        "dft['Date_of_Occupancy'].describe()"
      ],
      "metadata": {
        "colab": {
          "base_uri": "https://localhost:8080/"
        },
        "id": "n1vv6T7j2Tz8",
        "outputId": "5dc07a0b-e1ba-413f-ec95-bc8ce9961a08"
      },
      "execution_count": 156,
      "outputs": [
        {
          "output_type": "execute_result",
          "data": {
            "text/plain": [
              "count    7160.000000\n",
              "mean     1964.849721\n",
              "std        34.730347\n",
              "min      1545.000000\n",
              "25%      1960.000000\n",
              "50%      1970.000000\n",
              "75%      1980.000000\n",
              "max      2016.000000\n",
              "Name: Date_of_Occupancy, dtype: float64"
            ]
          },
          "metadata": {},
          "execution_count": 156
        }
      ]
    },
    {
      "cell_type": "markdown",
      "source": [],
      "metadata": {
        "id": "5A4W5ifP1rCb"
      }
    },
    {
      "cell_type": "markdown",
      "source": [],
      "metadata": {
        "id": "WUDobJRP5ZBv"
      }
    },
    {
      "cell_type": "code",
      "source": [
        "import plotly.express as px"
      ],
      "metadata": {
        "id": "afWTZR7bAT9t"
      },
      "execution_count": 136,
      "outputs": []
    },
    {
      "cell_type": "code",
      "source": [
        "#create a box plot to visualize the outlier in the Building Dimension\n",
        "fig = px.box(dft, y='Building Dimension')\n",
        "fig.update_layout(height=400, width=500, title_text='Distribution of Building Dimension')\n",
        "fig.show()"
      ],
      "metadata": {
        "colab": {
          "base_uri": "https://localhost:8080/",
          "height": 417
        },
        "id": "sJmjNxwV_66n",
        "outputId": "b570d2fd-f81b-49dc-8851-e17877981da0"
      },
      "execution_count": 137,
      "outputs": [
        {
          "output_type": "display_data",
          "data": {
            "text/html": [
              "<html>\n",
              "<head><meta charset=\"utf-8\" /></head>\n",
              "<body>\n",
              "    <div>            <script src=\"https://cdnjs.cloudflare.com/ajax/libs/mathjax/2.7.5/MathJax.js?config=TeX-AMS-MML_SVG\"></script><script type=\"text/javascript\">if (window.MathJax && window.MathJax.Hub && window.MathJax.Hub.Config) {window.MathJax.Hub.Config({SVG: {font: \"STIX-Web\"}});}</script>                <script type=\"text/javascript\">window.PlotlyConfig = {MathJaxConfig: 'local'};</script>\n",
              "        <script charset=\"utf-8\" src=\"https://cdn.plot.ly/plotly-2.24.1.min.js\"></script>                <div id=\"be57878a-a002-4e1e-be8f-bf8c86482327\" class=\"plotly-graph-div\" style=\"height:400px; width:500px;\"></div>            <script type=\"text/javascript\">                                    window.PLOTLYENV=window.PLOTLYENV || {};                                    if (document.getElementById(\"be57878a-a002-4e1e-be8f-bf8c86482327\")) {                    Plotly.newPlot(                        \"be57878a-a002-4e1e-be8f-bf8c86482327\",                        [{\"alignmentgroup\":\"True\",\"hovertemplate\":\"Building Dimension=%{y}\\u003cextra\\u003e\\u003c\\u002fextra\\u003e\",\"legendgroup\":\"\",\"marker\":{\"color\":\"#636efa\"},\"name\":\"\",\"notched\":false,\"offsetgroup\":\"\",\"orientation\":\"v\",\"showlegend\":false,\"x0\":\" \",\"xaxis\":\"x\",\"y\":[290.0,490.0,595.0,2840.0,680.0,535.0,2830.0,3478.43795199878,2735.0,520.0,550.0,910.0,842.0,300.0,560.0,3326.0,3478.43795199878,3478.43795199878,2444.0,2444.0,1626.0,2400.0,289.0171089595415,2300.0,600.0,3478.43795199878,3478.43795199878,1100.0,1200.0,552.0,900.0,370.0,1400.0,1000.0,480.0,1300.0,2900.0,1300.0,1300.0,1300.0,1592.0,1592.0,450.0,480.0,487.0,1550.0,1550.0,650.0,650.0,2600.0,1314.0,2960.0,2960.0,1386.0,1100.0,1100.0,680.0,3325.0,1254.0,1000.0,1842.0,300.0,1113.0,310.0,736.0,2050.0,2050.0,1262.0,470.0,2400.0,3478.43795199878,320.0,425.0,1500.0,900.0,600.0,2000.0,1000.0,1000.0,1000.0,1650.0,850.0,850.0,2600.0,3478.43795199878,289.0171089595415,530.0,3478.43795199878,838.0,1728.0,1024.0,1440.0,300.0,1700.0,1700.0,3478.43795199878,900.0,3000.0,1170.0,2976.0,3478.43795199878,800.0,3100.0,320.0,2490.0,1670.0,900.0,460.0,3478.43795199878,289.0171089595415,3478.43795199878,1200.0,289.0171089595415,570.0,3478.43795199878,650.0,650.0,3478.43795199878,3478.43795199878,1470.0,600.0,600.0,380.0,460.0,3478.43795199878,3478.43795199878,2800.0,2800.0,2800.0,450.0,1380.0,428.0,1000.0,1100.0,520.0,300.0,300.0,300.0,3250.0,1000.0,660.0,300.0,550.0,550.0,1255.0,1255.0,3478.43795199878,1800.0,1800.0,500.0,1500.0,1850.0,950.0,340.0,340.0,997.0,3336.0,3270.0,3270.0,300.0,2235.0,1400.0,3478.43795199878,3478.43795199878,800.0,300.0,3478.43795199878,2160.0,650.0,289.0171089595415,3478.43795199878,1696.0,740.0,3300.0,350.0,400.0,1000.0,289.0171089595415,320.0,320.0,3478.43795199878,1225.0,400.0,289.0171089595415,740.0,1150.0,3478.43795199878,289.0171089595415,900.0,3478.43795199878,2625.0,3478.43795199878,289.0171089595415,3406.0,3478.43795199878,3478.43795199878,3369.0,3369.0,3369.0,3478.43795199878,3478.43795199878,1300.0,1300.0,3478.43795199878,3478.43795199878,289.0171089595415,289.0171089595415,570.0,289.0171089595415,367.0,289.0171089595415,400.0,400.0,400.0,400.0,400.0,400.0,3478.43795199878,289.0171089595415,750.0,400.0,660.0,1100.0,530.0,3269.0,3269.0,3269.0,300.0,640.0,530.0,450.0,3478.43795199878,1140.0,400.0,289.0171089595415,289.0171089595415,289.0171089595415,2106.0,1842.0,2713.0,500.0,614.0,1370.0,1370.0,430.0,1563.0,289.0171089595415,1350.0,480.0,480.0,1600.0,3478.43795199878,1000.0,2000.0,2880.0,3343.0,3478.43795199878,1853.0,3478.43795199878,518.0,3120.0,3120.0,450.0,3478.43795199878,3478.43795199878,450.0,1300.0,289.0171089595415,1050.0,3478.43795199878,700.0,2712.0,2712.0,300.0,1120.0,3478.43795199878,3478.43795199878,2659.0,450.0,300.0,500.0,1619.0,826.0,826.0,1365.0,289.0171089595415,970.0,686.0,900.0,3478.43795199878,2900.0,2900.0,3478.43795199878,2034.0,3478.43795199878,3478.43795199878,3478.43795199878,1700.0,1500.0,3478.43795199878,300.0,3478.43795199878,3478.43795199878,3400.0,500.0,500.0,3478.43795199878,1325.0,1325.0,3478.43795199878,289.0171089595415,289.0171089595415,441.0,1137.0,289.0171089595415,418.0,860.0,500.0,3478.43795199878,3478.43795199878,700.0,3478.43795199878,1080.0,1446.0,357.0,2230.0,1500.0,3478.43795199878,3478.43795199878,3043.0,317.0,1702.0,860.0,400.0,3450.0,3478.43795199878,1565.0,3478.43795199878,3478.43795199878,3478.43795199878,3478.43795199878,1500.0,2857.0,1178.0,3478.43795199878,289.0171089595415,289.0171089595415,400.0,289.0171089595415,1196.0,670.0,1984.0,450.0,289.0171089595415,3478.43795199878,3478.43795199878,412.0,412.0,600.0,1980.0,870.0,2100.0,3478.43795199878,3478.43795199878,3478.43795199878,1260.0,520.0,1930.0,3070.0,3478.43795199878,3478.43795199878,1000.0,3478.43795199878,2205.0,1000.0,2110.0,2110.0,2110.0,1630.0,1628.0,1350.0,332.0,332.0,1825.0,3478.43795199878,3478.43795199878,3478.43795199878,3478.43795199878,3478.43795199878,3478.43795199878,3478.43795199878,3478.43795199878,2471.0,1908.0,490.0,3478.43795199878,3478.43795199878,3478.43795199878,395.0,395.0,3478.43795199878,350.0,350.0,350.0,289.0171089595415,289.0171089595415,2600.0,630.0,520.0,474.0,800.0,800.0,1315.0,3100.0,3112.0,750.0,289.0171089595415,2374.0,289.0171089595415,1620.0,3478.43795199878,3478.43795199878,1500.0,1800.0,1800.0,3478.43795199878,3478.43795199878,1572.0,289.0171089595415,600.0,400.0,700.0,1400.0,1400.0,3478.43795199878,1874.0,3478.43795199878,1125.0,1125.0,820.0,1248.0,685.0,685.0,3478.43795199878,1425.0,1425.0,1000.0,700.0,952.0,400.0,400.0,400.0,400.0,3478.43795199878,1155.0,1070.0,335.0,335.0,289.0171089595415,438.0,415.0,415.0,1117.0,900.0,900.0,900.0,800.0,719.0,300.0,3478.43795199878,289.0171089595415,3478.43795199878,2300.0,2300.0,1700.0,1026.0,2138.0,1500.0,420.0,1334.0,1375.0,289.0171089595415,1200.0,450.0,450.0,770.0,1680.0,476.0,476.0,808.0,808.0,289.0171089595415,923.0,3478.43795199878,3478.43795199878,1206.0,700.0,450.0,450.0,2976.0,1200.0,1320.0,400.0,1011.0,2000.0,500.0,3478.43795199878,3478.43795199878,3478.43795199878,3478.43795199878,3478.43795199878,2844.0,320.0,1862.0,1862.0,1862.0,3478.43795199878,2100.0,3478.43795199878,537.0,289.0171089595415,1956.0,3400.0,3478.43795199878,3478.43795199878,990.0,2750.0,3287.0,1173.0,900.0,900.0,3478.43795199878,3478.43795199878,950.0,3478.43795199878,2860.0,3478.43795199878,3478.43795199878,3478.43795199878,860.0,443.0,300.0,300.0,2000.0,1600.0,3478.43795199878,1528.0,3478.43795199878,3478.43795199878,625.0,450.0,1500.0,289.0171089595415,500.0,1600.0,306.0,289.0171089595415,3478.43795199878,3478.43795199878,3478.43795199878,600.0,3478.43795199878,600.0,1654.0,450.0,600.0,700.0,400.0,476.0,2646.0,365.0,365.0,515.0,515.0,515.0,862.0,600.0,2186.0,2186.0,3478.43795199878,3478.43795199878,350.0,1950.0,1950.0,700.0,3478.43795199878,1680.0,3478.43795199878,3478.43795199878,3478.43795199878,3478.43795199878,1751.0,3478.43795199878,320.0,300.0,289.0171089595415,1725.0,2457.0,2457.0,1500.0,2585.0,1000.0,1000.0,706.0,1390.0,988.0,988.0,2306.0,3225.0,1090.0,1090.0,500.0,3478.43795199878,1300.0,3478.43795199878,3478.43795199878,500.0,2160.0,3400.0,1650.0,350.0,1030.0,432.0,432.0,289.0171089595415,2500.0,1567.0,1567.0,1567.0,1700.0,1751.0,1751.0,289.0171089595415,405.0,550.0,400.0,906.0,400.0,400.0,400.0,430.0,480.0,480.0,289.0171089595415,289.0171089595415,289.0171089595415,1510.0,1510.0,450.0,502.0,1830.0,289.0171089595415,1350.0,1350.0,891.0,350.0,3478.43795199878,2700.0,3478.43795199878,3478.43795199878,1500.0,1441.0,1395.0,800.0,320.0,289.0171089595415,3478.43795199878,3478.43795199878,3478.43795199878,3478.43795199878,3478.43795199878,2000.0,2000.0,520.0,520.0,400.0,600.0,2000.0,1800.0,1050.0,1050.0,1500.0,750.0,750.0,750.0,750.0,3023.0,2074.0,450.0,2277.0,380.0,380.0,2064.0,400.0,400.0,289.0171089595415,289.0171089595415,400.0,800.0,800.0,1229.0,1435.0,289.0171089595415,949.0,949.0,3478.43795199878,770.0,2016.0,1041.0,1041.0,1850.0,432.0,289.0171089595415,350.0,3478.43795199878,710.0,400.0,400.0,1800.0,1800.0,300.0,3478.43795199878,2350.0,2350.0,420.0,289.0171089595415,289.0171089595415,289.0171089595415,1700.0,1230.0,800.0,930.0,289.0171089595415,289.0171089595415,3478.43795199878,3478.43795199878,3478.43795199878,1350.0,3478.43795199878,3478.43795199878,2128.0,2400.0,2039.0,2039.0,1200.0,3478.43795199878,1858.0,289.0171089595415,500.0,2060.0,630.0,700.0,1972.0,1972.0,1675.0,1800.0,620.0,620.0,1920.0,1540.0,1210.0,1210.0,1215.0,1215.0,289.0171089595415,400.0,2317.0,3478.43795199878,3478.43795199878,2791.0,1688.0,3478.43795199878,850.0,3120.0,3250.0,910.0,700.0,700.0,700.0,382.0,3478.43795199878,1602.0,600.0,600.0,499.0,499.0,400.0,530.0,1000.0,1920.0,2240.0,3478.43795199878,3478.43795199878,800.0,800.0,390.0,310.0,693.0,693.0,693.0,439.0,439.0,525.0,1440.0,1440.0,1440.0,3478.43795199878,743.0,743.0,289.0171089595415,500.0,289.0171089595415,2000.0,320.0,2100.0,500.0,900.0,530.0,3478.43795199878,400.0,1836.0,540.0,802.0,458.0,458.0,289.0171089595415,530.0,289.0171089595415,660.0,292.0,443.0,3478.43795199878,615.0,615.0,615.0,720.0,600.0,1790.0,2707.0,289.0171089595415,289.0171089595415,539.0,289.0171089595415,289.0171089595415,2303.0,3478.43795199878,1370.0,1370.0,289.0171089595415,700.0,1500.0,3478.43795199878,3478.43795199878,700.0,1300.0,3397.0,3478.43795199878,1700.0,3478.43795199878,3478.43795199878,289.0171089595415,800.0,300.0,585.0,3478.43795199878,3478.43795199878,289.0171089595415,3478.43795199878,3478.43795199878,1200.0,2590.0,808.0,289.0171089595415,2800.0,2800.0,1050.0,1050.0,2208.0,2208.0,2208.0,2208.0,2208.0,289.0171089595415,3478.43795199878,3020.0,3478.43795199878,3478.43795199878,840.0,3478.43795199878,3478.43795199878,450.0,2880.0,1480.0,289.0171089595415,528.0,528.0,1700.0,575.0,690.0,350.0,350.0,2050.0,2050.0,2050.0,2556.0,1910.0,1780.0,1780.0,3420.0,3420.0,900.0,3478.43795199878,498.0,498.0,498.0,480.0,3287.0,3287.0,990.0,3478.43795199878,3478.43795199878,3478.43795199878,3478.43795199878,3478.43795199878,2400.0,1818.0,1818.0,2780.0,3213.0,3213.0,432.0,432.0,289.0171089595415,289.0171089595415,289.0171089595415,289.0171089595415,400.0,3478.43795199878,3478.43795199878,3478.43795199878,3478.43795199878,2770.0,2028.0,485.0,485.0,790.0,2810.0,650.0,2400.0,1300.0,1300.0,510.0,500.0,500.0,1200.0,380.0,350.0,615.0,1200.0,650.0,500.0,2758.0,2758.0,680.0,550.0,580.0,500.0,400.0,400.0,800.0,800.0,900.0,900.0,888.0,2250.0,820.0,1705.0,2180.0,600.0,500.0,1450.0,289.0171089595415,1700.0,800.0,1455.0,1455.0,600.0,650.0,500.0,500.0,550.0,800.0,1010.0,980.0,780.0,500.0,3478.43795199878,3478.43795199878,1420.0,964.0,1000.0,700.0,289.0171089595415,300.0,300.0,600.0,600.0,600.0,400.0,400.0,430.0,400.0,289.0171089595415,3478.43795199878,550.0,1800.0,1800.0,330.0,1500.0,790.0,610.0,1427.0,950.0,289.0171089595415,300.0,3478.43795199878,2650.0,3040.0,350.0,289.0171089595415,640.0,646.0,490.0,680.0,680.0,3478.43795199878,289.0171089595415,3478.43795199878,3478.43795199878,885.0,942.0,763.0,450.0,450.0,432.0,600.0,600.0,1341.0,300.0,300.0,2100.0,440.0,830.0,830.0,650.0,425.0,720.0,720.0,2420.0,460.0,1200.0,1200.0,500.0,450.0,700.0,700.0,370.0,370.0,289.0171089595415,400.0,370.0,470.0,470.0,350.0,500.0,500.0,1500.0,513.0,470.0,400.0,400.0,402.0,402.0,1830.0,320.0,320.0,900.0,900.0,1566.0,2400.0,1950.0,3478.43795199878,289.0171089595415,1050.0,1890.0,950.0,300.0,1671.0,460.0,700.0,700.0,700.0,660.0,335.0,610.0,480.0,510.0,350.0,750.0,870.0,440.0,700.0,900.0,400.0,400.0,760.0,400.0,1230.0,1230.0,800.0,289.0171089595415,289.0171089595415,3100.0,3100.0,900.0,350.0,890.0,2520.0,450.0,450.0,450.0,1100.0,820.0,500.0,400.0,1231.0,724.0,724.0,357.0,600.0,470.0,1040.0,755.0,650.0,650.0,650.0,1760.0,564.0,2027.0,289.0171089595415,1300.0,1000.0,924.0,400.0,546.0,3478.43795199878,526.0,1425.0,590.0,1425.0,330.0,325.0,325.0,890.0,450.0,630.0,450.0,570.0,400.0,1400.0,350.0,360.0,1200.0,670.0,350.0,350.0,3478.43795199878,450.0,320.0,400.0,520.0,765.0,390.0,390.0,600.0,480.0,3478.43795199878,1414.0,1414.0,720.0,720.0,345.0,700.0,800.0,551.0,490.0,716.0,450.0,900.0,2950.0,1300.0,450.0,3478.43795199878,1166.0,1166.0,1730.0,289.0171089595415,289.0171089595415,289.0171089595415,1000.0,1100.0,550.0,289.0171089595415,800.0,3040.0,1600.0,1600.0,720.0,450.0,370.0,690.0,1820.0,605.0,605.0,1320.0,1320.0,1388.0,1388.0,865.0,700.0,880.0,3478.43795199878,1215.0,385.0,441.0,1500.0,670.0,952.0,499.0,470.0,3478.43795199878,3478.43795199878,600.0,800.0,1200.0,480.0,980.0,450.0,550.0,370.0,480.0,600.0,289.0171089595415,300.0,613.0,850.0,700.0,2600.0,550.0,2250.0,1220.0,1220.0,1705.0,640.0,1192.0,340.0,500.0,1950.0,550.0,1100.0,1445.0,420.0,289.0171089595415,1830.0,390.0,640.0,300.0,289.0171089595415,2300.0,2400.0,450.0,850.0,289.0171089595415,1500.0,2400.0,600.0,289.0171089595415,1650.0,2000.0,920.0,450.0,289.0171089595415,289.0171089595415,1620.0,1620.0,390.0,950.0,900.0,760.0,289.0171089595415,350.0,900.0,600.0,475.0,400.0,400.0,743.0,1105.0,300.0,650.0,448.0,1800.0,1800.0,289.0171089595415,396.0,396.0,1740.0,510.0,510.0,350.0,700.0,700.0,700.0,825.0,289.0171089595415,2280.0,2280.0,2280.0,3478.43795199878,960.0,321.0,472.0,660.0,780.0,900.0,516.0,1600.0,450.0,450.0,1750.0,320.0,3478.43795199878,480.0,820.0,289.0171089595415,289.0171089595415,1500.0,660.0,450.0,550.0,570.0,1600.0,401.0,401.0,700.0,2000.0,2000.0,900.0,2100.0,2100.0,2100.0,880.0,800.0,3478.43795199878,360.0,360.0,1050.0,1050.0,300.0,3478.43795199878,3478.43795199878,3283.0,1200.0,3478.43795199878,380.0,510.0,3478.43795199878,3478.43795199878,1100.0,1320.0,2500.0,2600.0,3100.0,870.0,380.0,3300.0,289.0171089595415,2400.0,3281.0,3478.43795199878,3478.43795199878,1070.0,1070.0,3478.43795199878,2000.0,1000.0,710.0,1500.0,1700.0,2025.0,3478.43795199878,3000.0,824.0,370.0,1793.0,289.0171089595415,2255.0,1765.0,1980.0,2270.0,2270.0,2270.0,3478.43795199878,2724.0,3478.43795199878,3478.43795199878,3478.43795199878,600.0,289.0171089595415,3478.43795199878,2300.0,1900.0,600.0,1222.0,3478.43795199878,2530.0,1230.0,1300.0,3478.43795199878,3478.43795199878,1920.0,1880.0,2255.0,2255.0,1182.0,1182.0,3478.43795199878,3478.43795199878,490.0,289.0171089595415,3478.43795199878,1500.0,3478.43795199878,430.0,380.0,3478.43795199878,3478.43795199878,3478.43795199878,3478.43795199878,3478.43795199878,3300.0,600.0,450.0,400.0,289.0171089595415,289.0171089595415,1000.0,800.0,353.0,900.0,355.0,522.0,522.0,541.0,3478.43795199878,600.0,3478.43795199878,2250.0,384.0,456.0,750.0,323.0,700.0,700.0,3478.43795199878,3478.43795199878,3478.43795199878,3478.43795199878,3478.43795199878,3478.43795199878,3478.43795199878,289.0171089595415,2126.0,2600.0,1891.0,1891.0,1891.0,3478.43795199878,900.0,3478.43795199878,3478.43795199878,320.0,3478.43795199878,3478.43795199878,580.0,534.0,534.0,534.0,780.0,1377.0,1920.0,1920.0,1410.0,3478.43795199878,3478.43795199878,3478.43795199878,289.0171089595415,432.0,432.0,400.0,330.0,1300.0,510.0,530.0,400.0,289.0171089595415,289.0171089595415,3478.43795199878,300.0,300.0,289.0171089595415,540.0,450.0,289.0171089595415,289.0171089595415,289.0171089595415,695.0,870.0,870.0,900.0,980.0,3478.43795199878,3478.43795199878,1750.0,289.0171089595415,840.0,290.0,3478.43795199878,769.0,3478.43795199878,1837.0,1837.0,3478.43795199878,620.0,2897.0,2897.0,2561.0,2561.0,1726.0,1870.0,1726.0,1726.0,289.0171089595415,3478.43795199878,2100.0,1782.0,3478.43795199878,816.0,1995.0,1795.0,2200.0,3478.43795199878,530.0,530.0,2000.0,289.0171089595415,1160.0,528.0,3478.43795199878,1550.0,1550.0,1411.0,3478.43795199878,850.0,289.0171089595415,2700.0,833.0,833.0,3478.43795199878,3478.43795199878,1600.0,1600.0,1920.0,1660.0,1981.0,1300.0,2100.0,2079.0,2079.0,1972.0,3400.0,3400.0,650.0,833.0,1414.0,1414.0,300.0,300.0,1879.0,1879.0,1235.0,3000.0,1330.0,870.0,1239.0,1450.0,1800.0,1214.0,3478.43795199878,289.0171089595415,435.0,1700.0,545.0,900.0,550.0,550.0,3478.43795199878,981.0,1670.0,1368.0,1365.0,2004.0,1584.0,620.0,650.0,500.0,2100.0,3478.43795199878,820.0,1400.0,3478.43795199878,2721.0,2721.0,550.0,550.0,3478.43795199878,3478.43795199878,2500.0,2500.0,2157.0,2157.0,2800.0,450.0,3100.0,1300.0,1517.0,1003.0,1003.0,1348.0,3478.43795199878,2315.0,2315.0,1546.0,2316.0,600.0,2145.0,2000.0,289.0171089595415,3478.43795199878,550.0,448.0,2367.0,720.0,980.0,2408.0,350.0,3478.43795199878,2360.0,3478.43795199878,3478.43795199878,1584.0,1584.0,3478.43795199878,536.0,289.0171089595415,400.0,1200.0,510.0,3478.43795199878,460.0,390.0,3300.0,520.0,520.0,1215.0,1941.0,1850.0,366.0,3478.43795199878,289.0171089595415,2750.0,300.0,1420.0,975.0,1365.0,1365.0,999.0,289.0171089595415,480.0,2410.0,750.0,1000.0,808.0,2410.0,800.0,800.0,1200.0,880.0,880.0,3478.43795199878,3478.43795199878,585.0,450.0,450.0,660.0,660.0,400.0,700.0,289.0171089595415,2360.0,2360.0,2115.0,1567.0,600.0,1650.0,400.0,750.0,1250.0,880.0,2610.0,1080.0,1200.0,289.0171089595415,1427.0,1835.0,1700.0,2820.0,2041.0,2041.0,289.0171089595415,600.0,600.0,300.0,430.0,2907.0,760.0,460.0,855.0,400.0,1273.0,1273.0,878.0,289.0171089595415,912.0,659.0,324.0,300.0,508.0,788.0,330.0,828.0,289.0171089595415,1022.0,1025.0,3403.0,762.0,3478.43795199878,435.0,446.0,1486.0,938.0,900.0,900.0,900.0,881.0,3478.43795199878,1380.0,550.0,400.0,524.0,524.0,920.0,810.0,810.0,3478.43795199878,300.0,452.0,2775.0,3478.43795199878,585.0,585.0,870.0,870.0,500.0,1300.0,1300.0,2400.0,1200.0,2115.0,3478.43795199878,600.0,2115.0,289.0171089595415,799.0,799.0,480.0,2115.0,591.0,591.0,591.0,841.0,480.0,1557.0,1038.0,2166.0,289.0171089595415,289.0171089595415,3478.43795199878,3478.43795199878,3478.43795199878,1760.0,2809.0,433.0,289.0171089595415,2041.0,2041.0,2041.0,289.0171089595415,720.0,720.0,1765.0,3478.43795199878,3478.43795199878,289.0171089595415,2700.0,3478.43795199878,1493.0,1493.0,900.0,1865.0,855.0,1874.0,1750.0,3478.43795199878,3478.43795199878,3478.43795199878,510.0,510.0,3478.43795199878,1900.0,563.0,600.0,410.0,800.0,620.0,360.0,600.0,3478.43795199878,289.0171089595415,289.0171089595415,2000.0,727.0,3478.43795199878,1200.0,1156.0,528.0,437.0,2150.0,1000.0,1054.0,3031.0,3478.43795199878,1833.0,1347.0,1350.0,1350.0,1300.0,590.0,420.0,2321.0,528.0,3478.43795199878,400.0,3478.43795199878,1700.0,600.0,3478.43795199878,3200.0,289.0171089595415,289.0171089595415,300.0,3478.43795199878,2100.0,454.0,978.0,978.0,3390.0,1090.0,2310.0,950.0,1125.0,320.0,592.0,3478.43795199878,3280.0,470.0,550.0,3478.43795199878,3478.43795199878,714.0,714.0,1087.0,300.0,3478.43795199878,1800.0,1800.0,2738.0,2738.0,3478.43795199878,1050.0,1050.0,3478.43795199878,1428.0,1428.0,289.0171089595415,755.0,720.0,720.0,450.0,3478.43795199878,446.0,436.0,436.0,3461.0,2911.0,1800.0,2528.0,2886.0,1020.0,1020.0,1020.0,3478.43795199878,3478.43795199878,1363.0,2644.0,1730.0,1730.0,3478.43795199878,499.0,468.0,3478.43795199878,3478.43795199878,3478.43795199878,2292.0,1536.0,1536.0,3478.43795199878,3478.43795199878,2145.0,2145.0,3478.43795199878,1490.0,665.0,3478.43795199878,289.0171089595415,1500.0,2889.0,700.0,388.0,2470.0,978.0,3478.43795199878,462.0,550.0,500.0,990.0,850.0,400.0,490.0,340.0,340.0,3478.43795199878,3478.43795199878,1380.0,2320.0,1020.0,500.0,770.0,3478.43795199878,3478.43795199878,400.0,1650.0,1620.0,600.0,3380.0,3478.43795199878,3478.43795199878,3080.0,1390.0,1340.0,1340.0,2540.0,3478.43795199878,1165.0,1040.0,1359.0,1359.0,1693.0,1372.0,315.0,1370.0,1370.0,2349.0,1508.0,1508.0,1200.0,960.0,3478.43795199878,3478.43795199878,3478.43795199878,3478.43795199878,1232.0,909.0,909.0,3478.43795199878,867.0,2100.0,1712.0,1990.0,600.0,1550.0,1365.0,730.0,440.0,390.0,390.0,1800.0,1600.0,300.0,963.0,988.0,3478.43795199878,3478.43795199878,1100.0,1700.0,3478.43795199878,3000.0,3478.43795199878,3478.43795199878,3478.43795199878,3478.43795199878,3478.43795199878,745.0,2600.0,925.0,340.0,2451.0,2451.0,600.0,872.0,970.0,2800.0,1000.0,3478.43795199878,289.0171089595415,1600.0,3000.0,400.0,289.0171089595415,289.0171089595415,3478.43795199878,3478.43795199878,1300.0,289.0171089595415,289.0171089595415,550.0,550.0,440.0,289.0171089595415,3478.43795199878,427.0,427.0,400.0,424.0,2500.0,1200.0,1200.0,600.0,660.0,368.0,480.0,500.0,450.0,3478.43795199878,950.0,950.0,950.0,950.0,1125.0,1125.0,500.0,330.0,750.0,405.0,450.0,2712.0,2712.0,2712.0,320.0,3478.43795199878,396.0,396.0,1475.0,1030.0,1702.0,566.0,3478.43795199878,3478.43795199878,3223.0,3223.0,3478.43795199878,2470.0,2470.0,555.0,660.0,660.0,3183.0,3478.43795199878,1950.0,1950.0,1194.0,320.0,2261.0,2261.0,3478.43795199878,3478.43795199878,289.0171089595415,3478.43795199878,3478.43795199878,350.0,2850.0,289.0171089595415,3478.43795199878,3478.43795199878,500.0,500.0,2629.0,289.0171089595415,289.0171089595415,790.0,600.0,3478.43795199878,2918.0,1340.0,450.0,2300.0,2300.0,300.0,3478.43795199878,289.0171089595415,3478.43795199878,3478.43795199878,289.0171089595415,2900.0,708.0,400.0,1215.0,3276.0,3276.0,3276.0,2462.0,2462.0,2462.0,1730.0,850.0,650.0,650.0,550.0,550.0,1283.0,510.0,2200.0,2200.0,655.0,720.0,720.0,2500.0,2500.0,573.0,934.0,2125.0,615.0,450.0,289.0171089595415,289.0171089595415,1075.0,320.0,320.0,1700.0,1700.0,780.0,1600.0,750.0,750.0,1700.0,1700.0,289.0171089595415,1260.0,349.0,442.0,442.0,676.0,676.0,1100.0,289.0171089595415,545.0,400.0,1142.0,3478.43795199878,3195.0,1000.0,2000.0,2400.0,1941.0,1253.0,1253.0,3478.43795199878,3478.43795199878,700.0,1239.0,784.0,396.0,295.0,1200.0,1300.0,650.0,1670.0,289.0171089595415,289.0171089595415,2315.0,1210.0,365.0,1200.0,300.0,289.0171089595415,400.0,550.0,1898.0,516.0,1463.0,300.0,300.0,289.0171089595415,289.0171089595415,510.0,490.0,550.0,550.0,289.0171089595415,289.0171089595415,289.0171089595415,595.0,289.0171089595415,3478.43795199878,700.0,320.0,400.0,400.0,540.0,540.0,700.0,510.0,660.0,3300.0,3478.43795199878,1065.0,1250.0,1250.0,1250.0,1234.0,850.0,850.0,3478.43795199878,600.0,1344.0,300.0,846.0,846.0,3478.43795199878,3478.43795199878,1155.0,1430.0,2450.0,3281.0,310.0,310.0,289.0171089595415,289.0171089595415,3206.0,696.0,934.0,2036.0,289.0171089595415,2190.0,3478.43795199878,410.0,3478.43795199878,3478.43795199878,289.0171089595415,289.0171089595415,289.0171089595415,289.0171089595415,3478.43795199878,3478.43795199878,3478.43795199878,1566.0,450.0,610.0,2000.0,289.0171089595415,1055.0,1200.0,1200.0,1115.0,300.0,590.0,500.0,410.0,500.0,289.0171089595415,610.0,610.0,520.0,520.0,520.0,289.0171089595415,289.0171089595415,400.0,500.0,500.0,300.0,1250.0,900.0,380.0,377.0,289.0171089595415,405.0,289.0171089595415,289.0171089595415,1920.0,600.0,600.0,289.0171089595415,289.0171089595415,410.0,400.0,1700.0,1020.0,300.0,930.0,356.0,450.0,450.0,1200.0,650.0,289.0171089595415,289.0171089595415,289.0171089595415,600.0,700.0,289.0171089595415,540.0,1412.0,370.0,500.0,1320.0,416.0,600.0,900.0,2544.0,3182.0,3182.0,3478.43795199878,3478.43795199878,3478.43795199878,500.0,500.0,400.0,3478.43795199878,2868.0,1211.0,3324.0,3478.43795199878,3478.43795199878,350.0,3478.43795199878,2250.0,360.0,3478.43795199878,2892.0,3376.0,2665.0,2600.0,3478.43795199878,2500.0,1637.0,2692.0,289.0171089595415,450.0,450.0,716.0,716.0,716.0,350.0,3357.0,3357.0,600.0,289.0171089595415,1285.0,699.0,3478.43795199878,3478.43795199878,3478.43795199878,3478.43795199878,3478.43795199878,3478.43795199878,1000.0,1000.0,1200.0,920.0,3478.43795199878,400.0,1500.0,534.0,2568.0,2500.0,2500.0,1724.0,1866.0,731.0,3267.0,3350.0,2304.0,3478.43795199878,3478.43795199878,2000.0,810.0,2488.0,833.0,750.0,750.0,630.0,1000.0,337.0,980.0,980.0,740.0,500.0,500.0,760.0,760.0,1330.0,1200.0,1028.0,1028.0,3478.43795199878,1600.0,3478.43795199878,3478.43795199878,1021.0,1494.0,1650.0,3478.43795199878,450.0,289.0171089595415,289.0171089595415,738.0,738.0,1800.0,800.0,1314.0,1200.0,3000.0,3000.0,1776.0,360.0,800.0,800.0,310.0,300.0,3478.43795199878,1390.0,1200.0,2138.0,360.0,370.0,400.0,1400.0,2100.0,2465.0,1400.0,350.0,289.0171089595415,450.0,450.0,450.0,335.0,412.0,412.0,3000.0,390.0,3478.43795199878,1689.0,3478.43795199878,2100.0,530.0,2476.0,1140.0,1000.0,2725.0,1700.0,420.0,800.0,550.0,289.0171089595415,289.0171089595415,300.0,950.0,3478.43795199878,520.0,400.0,500.0,289.0171089595415,450.0,1600.0,800.0,800.0,330.0,1000.0,580.0,580.0,289.0171089595415,542.0,289.0171089595415,2000.0,810.0,710.0,450.0,1200.0,650.0,780.0,1600.0,1260.0,1260.0,677.0,1200.0,1148.0,667.0,579.0,289.0171089595415,289.0171089595415,820.0,820.0,820.0,570.0,1750.0,1750.0,1625.0,1700.0,1200.0,380.0,380.0,1133.0,320.0,3478.43795199878,985.0,500.0,530.0,1590.0,825.0,2710.0,460.0,2529.0,3478.43795199878,3478.43795199878,1859.0,650.0,650.0,994.0,994.0,289.0171089595415,3478.43795199878,1250.0,1250.0,1200.0,350.0,380.0,1000.0,400.0,289.0171089595415,289.0171089595415,3478.43795199878,3478.43795199878,3478.43795199878,3478.43795199878,2235.0,3478.43795199878,3478.43795199878,3478.43795199878,1800.0,3478.43795199878,1300.0,3478.43795199878,3478.43795199878,1780.0,3150.0,3478.43795199878,3478.43795199878,3478.43795199878,600.0,1320.0,1300.0,2800.0,1500.0,1832.0,1450.0,410.0,658.0,1890.0,357.0,357.0,3478.43795199878,3478.43795199878,3478.43795199878,3478.43795199878,1986.0,1986.0,1986.0,738.0,738.0,410.0,410.0,1380.0,900.0,289.0171089595415,800.0,800.0,450.0,289.0171089595415,1086.0,477.0,289.0171089595415,3100.0,2700.0,2700.0,350.0,2420.0,1950.0,1210.0,1300.0,3478.43795199878,1150.0,752.0,752.0,490.0,1100.0,350.0,289.0171089595415,1461.0,1461.0,3478.43795199878,750.0,3124.0,1650.0,1000.0,1250.0,1250.0,3478.43795199878,3478.43795199878,2700.0,2700.0,571.0,3478.43795199878,1850.0,1850.0,353.0,1800.0,3478.43795199878,3478.43795199878,900.0,900.0,3478.43795199878,289.0171089595415,525.0,2815.0,1230.0,2613.0,1230.0,1100.0,1100.0,1100.0,430.0,930.0,1390.0,2110.0,2110.0,2100.0,1105.0,1911.0,1911.0,1900.0,2773.0,1672.0,3265.0,1120.0,3478.43795199878,3478.43795199878,3478.43795199878,2178.0,289.0171089595415,390.0,1160.0,1566.0,1279.0,300.0,650.0,3478.43795199878,289.0171089595415,3478.43795199878,320.0,3478.43795199878,1195.0,1195.0,2518.0,1200.0,654.0,2288.0,780.0,3478.43795199878,350.0,1110.0,1110.0,1254.0,296.0,289.0171089595415,1930.0,300.0,300.0,1067.0,800.0,1100.0,660.0,330.0,3478.43795199878,600.0,720.0,450.0,460.0,460.0,1050.0,289.0171089595415,800.0,3478.43795199878,3478.43795199878,305.0,300.0,1158.0,3478.43795199878,1370.0,2090.0,3053.0,289.0171089595415,460.0,460.0,3478.43795199878,1050.0,3478.43795199878,2604.0,900.0,3478.43795199878,490.0,490.0,2700.0,400.0,3478.43795199878,3478.43795199878,730.0,730.0,1000.0,1000.0,940.0,1612.0,3478.43795199878,360.0,765.0,770.0,950.0,2957.0,1037.0,1030.0,1512.0,350.0,776.0,800.0,3478.43795199878,3478.43795199878,850.0,650.0,978.0,3478.43795199878,3478.43795199878,3478.43795199878,3478.43795199878,3478.43795199878,3478.43795199878,2524.0,3478.43795199878,330.0,289.0171089595415,1414.0,3478.43795199878,3478.43795199878,540.0,600.0,600.0,435.0,289.0171089595415,1716.0,1320.0,470.0,2260.0,570.0,570.0,3478.43795199878,2675.0,1300.0,289.0171089595415,1375.0,1700.0,899.0,3478.43795199878,289.0171089595415,1540.0,3478.43795199878,1110.0,1500.0,1140.0,1140.0,530.0,3000.0,800.0,3478.43795199878,643.0,3478.43795199878,460.0,460.0,460.0,530.0,3478.43795199878,460.0,460.0,460.0,3478.43795199878,3478.43795199878,3478.43795199878,3478.43795199878,3478.43795199878,3478.43795199878,960.0,968.0,289.0171089595415,3478.43795199878,3478.43795199878,1100.0,2537.0,2200.0,2890.0,671.0,1200.0,735.0,1750.0,289.0171089595415,1362.0,1450.0,760.0,550.0,550.0,900.0,2000.0,2000.0,850.0,310.0,3478.43795199878,470.0,470.0,1100.0,2000.0,685.0,289.0171089595415,289.0171089595415,720.0,289.0171089595415,289.0171089595415,289.0171089595415,289.0171089595415,2200.0,2200.0,3478.43795199878,850.0,1250.0,1200.0,3478.43795199878,3478.43795199878,2106.0,462.0,3478.43795199878,2100.0,2100.0,2100.0,357.0,2500.0,1100.0,470.0,1250.0,650.0,1499.0,326.0,2000.0,2000.0,2000.0,3478.43795199878,1256.0,1300.0,2293.0,2040.0,2500.0,1565.0,450.0,1034.0,358.0,3478.43795199878,500.0,289.0171089595415,420.0,420.0,1510.0,1350.0,1000.0,1000.0,290.0,3478.43795199878,3478.43795199878,3478.43795199878,3478.43795199878,3478.43795199878,3478.43795199878,3478.43795199878,3478.43795199878,472.0,472.0,1219.0,3478.43795199878,3478.43795199878,289.0171089595415,3478.43795199878,510.0,289.0171089595415,335.0,335.0,335.0,1600.0,1600.0,2271.0,2271.0,1961.0,560.0,550.0,1210.0,550.0,550.0,3478.43795199878,3478.43795199878,2500.0,1800.0,3478.43795199878,770.0,550.0,600.0,2000.0,680.0,680.0,800.0,800.0,1000.0,400.0,500.0,500.0,438.0,362.0,3478.43795199878,289.0171089595415,450.0,3478.43795199878,740.0,2241.0,2241.0,2241.0,3478.43795199878,3320.0,3320.0,1120.0,2130.0,2000.0,953.0,500.0,600.0,320.0,289.0171089595415,850.0,450.0,385.0,1312.0,1180.0,400.0,1200.0,3100.0,1635.0,500.0,842.0,289.0171089595415,2445.0,690.0,690.0,1918.0,1918.0,3478.43795199878,3478.43795199878,1455.0,3350.0,3478.43795199878,3478.43795199878,580.0,3478.43795199878,3478.43795199878,1845.0,1010.0,500.0,465.0,643.0,576.0,576.0,635.0,550.0,675.0,684.0,684.0,648.0,653.0,670.0,350.0,700.0,650.0,1360.0,400.0,1366.0,450.0,1360.0,3478.43795199878,3478.43795199878,3478.43795199878,300.0,2400.0,3478.43795199878,700.0,515.0,960.0,289.0171089595415,2270.0,3360.0,3360.0,3360.0,2870.0,473.0,575.0,3478.43795199878,810.0,1675.0,2700.0,3478.43795199878,600.0,960.0,3478.43795199878,750.0,3478.43795199878,1839.0,1500.0,420.0,600.0,700.0,1300.0,728.0,3478.43795199878,700.0,907.0,720.0,1764.0,3478.43795199878,3478.43795199878,650.0,650.0,440.0,3478.43795199878,765.0,765.0,1240.0,980.0,600.0,2040.0,1093.0,2500.0,650.0,1975.0,480.0,942.0,3478.43795199878,3300.0,2600.0,490.0,2346.0,500.0,500.0,500.0,920.0,1039.0,1589.0,600.0,2500.0,800.0,1675.0,2550.0,2550.0,1100.0,2423.0,1400.0,500.0,500.0,580.0,3478.43795199878,2300.0,3478.43795199878,3478.43795199878,400.0,600.0,600.0,3478.43795199878,1931.0,1931.0,1031.0,850.0,3478.43795199878,2217.0,770.0,770.0,1970.0,3478.43795199878,3478.43795199878,3478.43795199878,1120.0,3000.0,950.0,2485.0,690.0,690.0,400.0,712.0,3140.0,3140.0,641.0,1292.0,700.0,3455.0,2250.0,565.0,3478.43795199878,3478.43795199878,3478.43795199878,2597.0,1265.0,2400.0,537.0,3213.0,3213.0,464.0,1171.0,308.0,308.0,2084.0,2882.0,2882.0,1415.0,3478.43795199878,2900.0,330.0,3478.43795199878,2414.0,800.0,800.0,300.0,300.0,450.0,450.0,1500.0,730.0,730.0,3068.0,1700.0,1700.0,2475.0,1600.0,304.0,304.0,385.0,1255.0,3416.0,3416.0,400.0,390.0,2566.0,3478.43795199878,855.0,855.0,2206.0,2206.0,3478.43795199878,3478.43795199878,3478.43795199878,3478.43795199878,3478.43795199878,289.0171089595415,900.0,330.0,330.0,330.0,554.0,460.0,3478.43795199878,289.0171089595415,1545.0,500.0,500.0,990.0,1140.0,1670.0,1670.0,289.0171089595415,383.0,450.0,400.0,450.0,1080.0,700.0,700.0,3478.43795199878,3478.43795199878,3478.43795199878,418.0,300.0,300.0,600.0,1800.0,800.0,300.0,300.0,1131.0,2746.0,3478.43795199878,3478.43795199878,1044.0,450.0,450.0,450.0,820.0,820.0,420.0,420.0,350.0,568.0,2000.0,715.0,289.0171089595415,636.0,350.0,650.0,650.0,650.0,3297.0,null,289.0171089595415,420.0,550.0,670.0,885.0,885.0,885.0,480.0,3478.43795199878,370.0,3478.43795199878,289.0171089595415,289.0171089595415,1130.0,459.0,1130.0,1130.0,1133.0,500.0,400.0,3478.43795199878,800.0,315.0,500.0,1280.0,1900.0,1450.0,1200.0,680.0,442.0,746.0,450.0,750.0,991.0,2400.0,450.0,1323.0,400.0,420.0,550.0,340.0,1050.0,500.0,364.0,364.0,800.0,289.0171089595415,1524.0,2425.0,2000.0,1520.0,1520.0,3478.43795199878,3478.43795199878,560.0,417.0,2180.0,1800.0,3478.43795199878,850.0,850.0,700.0,700.0,1560.0,3104.0,1640.0,289.0171089595415,3478.43795199878,1500.0,400.0,400.0,3200.0,3200.0,670.0,700.0,480.0,391.0,391.0,530.0,550.0,550.0,876.0,876.0,850.0,1947.0,1947.0,1947.0,570.0,289.0171089595415,850.0,996.0,450.0,950.0,1425.0,1030.0,770.0,696.0,410.0,980.0,480.0,2450.0,2450.0,420.0,1325.0,1325.0,2081.0,910.0,1384.0,1384.0,1640.0,1100.0,1100.0,1100.0,3478.43795199878,1255.0,756.0,800.0,400.0,470.0,350.0,310.0,990.0,397.0,1400.0,1400.0,1960.0,400.0,350.0,450.0,1065.0,759.0,1050.0,1416.0,475.0,3478.43795199878,289.0171089595415,450.0,920.0,289.0171089595415,2130.0,2130.0,3478.43795199878,600.0,481.0,565.0,3478.43795199878,1353.0,3478.43795199878,3478.43795199878,300.0,350.0,289.0171089595415,3478.43795199878,1270.0,955.0,3478.43795199878,455.0,1280.0,1280.0,1485.0,950.0,1251.0,3000.0,786.0,435.0,880.0,1573.0,1660.0,1600.0,453.0,3478.43795199878,3478.43795199878,805.0,900.0,900.0,1089.0,750.0,470.0,1215.0,1600.0,2200.0,726.0,3478.43795199878,1600.0,2600.0,3478.43795199878,1768.0,460.0,3330.0,3478.43795199878,3478.43795199878,750.0,750.0,1450.0,1450.0,1510.0,1000.0,480.0,1300.0,1300.0,289.0171089595415,1100.0,350.0,1030.0,420.0,420.0,420.0,1930.0,1845.0,1250.0,900.0,900.0,800.0,1070.0,900.0,900.0,1800.0,2900.0,3478.43795199878,3478.43795199878,486.0,1980.0,1980.0,650.0,1452.0,289.0171089595415,890.0,890.0,950.0,950.0,950.0,820.0,820.0,770.0,770.0,289.0171089595415,300.0,3478.43795199878,2350.0,1085.0,1004.0,3478.43795199878,702.0,1440.0,1300.0,650.0,3478.43795199878,1860.0,1860.0,2412.0,289.0171089595415,1800.0,660.0,3143.0,2850.0,3478.43795199878,3478.43795199878,3478.43795199878,2400.0,770.0,536.0,3478.43795199878,3478.43795199878,1200.0,700.0,650.0,330.0,1365.0,1083.0,1050.0,1050.0,1076.0,500.0,600.0,289.0171089595415,300.0,3478.43795199878,850.0,850.0,850.0,2578.0,2200.0,2200.0,800.0,289.0171089595415,400.0,3478.43795199878,3478.43795199878,3478.43795199878,3478.43795199878,1300.0,1300.0,1762.0,289.0171089595415,400.0,700.0,400.0,470.0,289.0171089595415,289.0171089595415,436.0,450.0,289.0171089595415,800.0,335.0,3478.43795199878,3478.43795199878,660.0,660.0,450.0,3478.43795199878,3478.43795199878,3200.0,3478.43795199878,1934.0,3478.43795199878,1960.0,3478.43795199878,800.0,1200.0,1100.0,3478.43795199878,1800.0,500.0,500.0,3478.43795199878,520.0,1046.0,900.0,900.0,1450.0,2900.0,620.0,620.0,3478.43795199878,3478.43795199878,3478.43795199878,660.0,3478.43795199878,3478.43795199878,700.0,300.0,550.0,843.0,3478.43795199878,580.0,520.0,720.0,1734.0,3478.43795199878,3478.43795199878,1200.0,3478.43795199878,872.0,2755.0,1466.0,289.0171089595415,350.0,350.0,400.0,289.0171089595415,634.0,900.0,2800.0,2000.0,400.0,3478.43795199878,3478.43795199878,3478.43795199878,568.0,362.0,289.0171089595415,289.0171089595415,750.0,630.0,630.0,465.0,465.0,289.0171089595415,289.0171089595415,690.0,289.0171089595415,520.0,289.0171089595415,289.0171089595415,420.0,1350.0,1300.0,550.0,550.0,630.0,3478.43795199878,289.0171089595415,1650.0,1650.0,2500.0,290.0,850.0,2407.0,3478.43795199878,289.0171089595415,2397.0,1140.0,1100.0,289.0171089595415,3478.43795199878,380.0,1010.0,1010.0,289.0171089595415,289.0171089595415,445.0,445.0,3478.43795199878,3478.43795199878,3478.43795199878,2225.0,2225.0,850.0,335.0,1300.0,3147.0,3147.0,700.0,2100.0,480.0,632.0,632.0,520.0,1398.0,1590.0,728.0,2800.0,1677.0,1677.0,1000.0,1000.0,1630.0,1630.0,499.0,1700.0,1011.0,991.0,1750.0,864.0,2000.0,800.0,600.0,840.0,2800.0,1050.0,1680.0,560.0,1500.0,1500.0,580.0,300.0,940.0,600.0,1989.0,1171.0,2535.0,1500.0,820.0,3478.43795199878,3350.0,1300.0,2200.0,2200.0,3478.43795199878,600.0,990.0,3275.0,2400.0,750.0,750.0,590.0,1050.0,1050.0,450.0,480.0,1700.0,400.0,289.0171089595415,1600.0,1400.0,1220.0,800.0,800.0,965.0,965.0,980.0,900.0,474.0,465.0,570.0,350.0,1750.0,400.0,400.0,420.0,420.0,3478.43795199878,3478.43795199878,3478.43795199878,600.0,600.0,2985.0,1050.0,630.0,1558.0,1558.0,1200.0,1800.0,3478.43795199878,2250.0,2250.0,3478.43795199878,3478.43795199878,1400.0,600.0,3478.43795199878,1356.0,1356.0,3478.43795199878,3478.43795199878,450.0,450.0,450.0,1740.0,2760.0,3200.0,3478.43795199878,1798.0,2150.0,2150.0,3478.43795199878,1330.0,1330.0,992.0,1200.0,450.0,3478.43795199878,2300.0,2000.0,2016.0,1500.0,910.0,580.0,3015.0,3478.43795199878,1554.0,1554.0,2500.0,700.0,3478.43795199878,2700.0,2620.0,600.0,3478.43795199878,3478.43795199878,1210.0,1300.0,650.0,null,2050.0,2650.0,3478.43795199878,800.0,600.0,3100.0,3100.0,3100.0,596.0,1100.0,900.0,3478.43795199878,1020.0,289.0171089595415,700.0,700.0,1595.0,3478.43795199878,673.0,673.0,1083.0,1083.0,1139.0,3478.43795199878,3478.43795199878,3478.43795199878,1500.0,750.0,2500.0,1142.0,720.0,3478.43795199878,1156.0,3478.43795199878,1936.0,1640.0,1130.0,2210.0,2210.0,2210.0,3478.43795199878,1170.0,1170.0,2700.0,2700.0,783.0,2200.0,2000.0,1500.0,700.0,1495.0,1100.0,1100.0,3478.43795199878,1187.0,1187.0,2800.0,795.0,1314.0,3478.43795199878,3478.43795199878,585.0,400.0,1389.0,400.0,3478.43795199878,1200.0,380.0,2586.0,800.0,2900.0,2900.0,3473.0,1776.0,2157.0,1020.0,1323.0,1376.0,1784.0,1784.0,1820.0,2000.0,289.0171089595415,3478.43795199878,3478.43795199878,3478.43795199878,3478.43795199878,690.0,3478.43795199878,3478.43795199878,3478.43795199878,2015.0,2015.0,579.0,3478.43795199878,3478.43795199878,3478.43795199878,3478.43795199878,2750.0,2750.0,397.0,2440.0,300.0,530.0,289.0171089595415,750.0,391.0,900.0,510.0,510.0,600.0,600.0,3478.43795199878,400.0,289.0171089595415,289.0171089595415,1084.0,443.0,1729.0,540.0,1200.0,1200.0,289.0171089595415,289.0171089595415,320.0,330.0,289.0171089595415,950.0,1320.0,3050.0,575.0,3478.43795199878,2900.0,1100.0,1100.0,620.0,714.0,676.0,950.0,350.0,710.0,1832.0,388.0,289.0171089595415,289.0171089595415,950.0,950.0,400.0,400.0,600.0,289.0171089595415,830.0,2285.0,3478.43795199878,750.0,2900.0,2900.0,920.0,1330.0,770.0,1518.0,3478.43795199878,850.0,1543.0,2412.0,2412.0,2064.0,3478.43795199878,3478.43795199878,375.0,1617.0,650.0,300.0,440.0,544.0,1222.0,2427.0,289.0171089595415,475.0,475.0,663.0,3478.43795199878,1350.0,1350.0,3478.43795199878,956.0,956.0,1800.0,1576.0,1576.0,340.0,1200.0,1445.0,1500.0,1000.0,1000.0,1650.0,3007.0,1560.0,1340.0,1780.0,1780.0,660.0,1129.0,3478.43795199878,3478.43795199878,3478.43795199878,1300.0,860.0,2060.0,300.0,300.0,2409.0,2409.0,1235.0,1610.0,1610.0,311.0,2500.0,2695.0,2695.0,1700.0,1000.0,367.0,580.0,2604.0,487.0,1754.0,400.0,850.0,3478.43795199878,1920.0,3478.43795199878,1485.0,289.0171089595415,500.0,1197.0,1197.0,289.0171089595415,560.0,560.0,560.0,560.0,380.0,620.0,800.0,336.0,1260.0,1260.0,900.0,900.0,400.0,403.0,640.0,805.0,657.0,2750.0,2750.0,2090.0,3355.0,2347.0,3478.43795199878,2340.0,3478.43795199878,910.0,712.0,480.0,800.0,1056.0,450.0,450.0,360.0,385.0,649.0,649.0,336.0,760.0,2700.0,2700.0,690.0,590.0,590.0,1200.0,1754.0,2800.0,3375.0,3375.0,1700.0,600.0,3478.43795199878,475.0,2000.0,2000.0,1650.0,1500.0,1500.0,1250.0,1560.0,400.0,1049.0,2458.0,2499.0,3478.43795199878,3478.43795199878,2790.0,1394.0,695.0,1005.0,3060.0,1351.0,300.0,300.0,300.0,580.0,580.0,1940.0,1940.0,407.0,1805.0,3200.0,691.0,1400.0,1512.0,767.0,630.0,630.0,1538.0,3478.43795199878,289.0171089595415,289.0171089595415,289.0171089595415,3255.0,289.0171089595415,289.0171089595415,1359.0,650.0,650.0,440.0,350.0,3478.43795199878,815.0,999.0,999.0,999.0,315.0,315.0,750.0,935.0,1350.0,1350.0,999.0,880.0,880.0,1991.0,289.0171089595415,430.0,895.0,670.0,570.0,2450.0,840.0,460.0,800.0,1200.0,550.0,350.0,350.0,330.0,289.0171089595415,3478.43795199878,380.0,380.0,289.0171089595415,3478.43795199878,3478.43795199878,3478.43795199878,3478.43795199878,1423.0,289.0171089595415,300.0,1035.0,1500.0,1500.0,450.0,500.0,500.0,500.0,380.0,380.0,415.0,415.0,630.0,630.0,450.0,1150.0,1150.0,3478.43795199878,3478.43795199878,289.0171089595415,3478.43795199878,2000.0,2000.0,2051.0,2051.0,2051.0,2896.0,1000.0,858.0,858.0,400.0,3478.43795199878,1491.0,680.0,1090.0,3478.43795199878,900.0,2000.0,555.0,1600.0,1100.0,840.0,840.0,840.0,1750.0,408.0,2160.0,2050.0,3478.43795199878,3478.43795199878,1450.0,830.0,1520.0,1900.0,900.0,1550.0,804.0,804.0,420.0,450.0,550.0,550.0,710.0,933.0,747.0,747.0,1880.0,2640.0,1050.0,320.0,950.0,630.0,300.0,909.0,909.0,630.0,630.0,1114.0,1114.0,400.0,523.0,870.0,500.0,1300.0,3374.0,1600.0,1500.0,1400.0,1125.0,1060.0,2200.0,350.0,720.0,950.0,1830.0,800.0,810.0,810.0,1000.0,1000.0,1200.0,1200.0,850.0,1260.0,1260.0,1260.0,450.0,985.0,1700.0,1100.0,1100.0,1260.0,327.0,450.0,677.0,1700.0,1600.0,1200.0,1200.0,480.0,1440.0,518.0,1900.0,660.0,289.0171089595415,480.0,815.0,815.0,460.0,980.0,1050.0,1100.0,695.0,500.0,500.0,575.0,575.0,289.0171089595415,1150.0,620.0,3350.0,540.0,950.0,702.0,2600.0,500.0,500.0,1314.0,3478.43795199878,480.0,2500.0,1352.0,1352.0,3478.43795199878,600.0,1260.0,610.0,400.0,620.0,2500.0,2500.0,650.0,600.0,500.0,3478.43795199878,3400.0,746.0,2192.0,2192.0,1092.0,3478.43795199878,3200.0,3200.0,3478.43795199878,3478.43795199878,3478.43795199878,3478.43795199878,3478.43795199878,3478.43795199878,3478.43795199878,3478.43795199878,2030.0,2461.0,289.0171089595415,3478.43795199878,3478.43795199878,3346.0,750.0,3200.0,1600.0,3478.43795199878,3478.43795199878,3478.43795199878,3478.43795199878,393.0,800.0,1700.0,1280.0,1057.0,1810.0,730.0,380.0,340.0,880.0,289.0171089595415,470.0,289.0171089595415,3478.43795199878,3478.43795199878,550.0,2127.0,568.0,853.0,1080.0,1080.0,1220.0,1390.0,440.0,750.0,850.0,850.0,501.0,1151.0,3186.0,3186.0,520.0,398.0,2240.0,570.0,2785.0,3478.43795199878,440.0,650.0,289.0171089595415,3100.0,289.0171089595415,289.0171089595415,3478.43795199878,1579.0,3478.43795199878,720.0,2950.0,3478.43795199878,3478.43795199878,289.0171089595415,3478.43795199878,3478.43795199878,2414.0,2414.0,3478.43795199878,3478.43795199878,810.0,2400.0,1465.0,1032.0,642.0,642.0,605.0,1105.0,289.0171089595415,3478.43795199878,289.0171089595415,289.0171089595415,3478.43795199878,3478.43795199878,480.0,3478.43795199878,644.0,550.0,550.0,330.0,960.0,3478.43795199878,3478.43795199878,3478.43795199878,3478.43795199878,1128.0,1360.0,580.0,580.0,580.0,2478.0,2400.0,2100.0,467.0,467.0,289.0171089595415,390.0,289.0171089595415,289.0171089595415,3478.43795199878,3478.43795199878,1200.0,1200.0,1975.0,1975.0,2050.0,1290.0,1799.0,450.0,872.0,473.0,473.0,500.0,1740.0,495.0,636.0,608.0,2752.0,1250.0,1250.0,1250.0,1200.0,1900.0,289.0171089595415,3478.43795199878,970.0,2940.0,289.0171089595415,530.0,530.0,2120.0,2210.0,2140.0,1016.0,436.0,450.0,500.0,568.0,568.0,2310.0,3478.43795199878,900.0,3100.0,3100.0,3000.0,760.0,289.0171089595415,1200.0,1129.0,3478.43795199878,289.0171089595415,2850.0,2850.0,2555.0,2555.0,3478.43795199878,2075.0,450.0,1010.0,1121.0,3478.43795199878,3000.0,3000.0,1332.0,400.0,1922.0,289.0171089595415,289.0171089595415,2417.0,600.0,1387.0,290.0,290.0,490.0,2056.0,550.0,3280.0,611.0,289.0171089595415,2220.0,1962.0,289.0171089595415,3478.43795199878,462.0,1912.0,3478.43795199878,3478.43795199878,3478.43795199878,3478.43795199878,369.0,323.0,1430.0,3478.43795199878,3478.43795199878,3478.43795199878,635.0,2478.0,2478.0,289.0171089595415,745.0,1468.0,1180.0,3478.43795199878,1300.0,1300.0,3478.43795199878,1914.0,1332.0,3478.43795199878,3478.43795199878,2500.0,2250.0,2250.0,2000.0,850.0,975.0,840.0,2250.0,306.0,732.0,3478.43795199878,3478.43795199878,620.0,905.0,1846.0,1846.0,800.0,3478.43795199878,3478.43795199878,3478.43795199878,765.0,765.0,3478.43795199878,500.0,1836.0,1600.0,3011.0,3478.43795199878,3478.43795199878,3478.43795199878,3478.43795199878,3245.0,3478.43795199878,3478.43795199878,3018.0,352.0,3478.43795199878,500.0,3478.43795199878,3478.43795199878,2220.0,2913.0,3478.43795199878,1000.0,2658.0,2658.0,2450.0,3478.43795199878,2143.0,1540.0,1540.0,1540.0,1100.0,3478.43795199878,3000.0,3142.0,3142.0,1932.0,1932.0,1800.0,1800.0,725.0,1025.0,1092.0,1092.0,954.0,940.0,940.0,1025.0,350.0,350.0,520.0,448.0,448.0,2690.0,3020.0,3478.43795199878,3478.43795199878,1320.0,3478.43795199878,1062.0,2080.0,1250.0,2000.0,2073.0,2073.0,3478.43795199878,600.0,1190.0,1100.0,850.0,3335.0,1000.0,1302.0,3478.43795199878,520.0,520.0,2200.0,300.0,3478.43795199878,3478.43795199878,3478.43795199878,2733.0,1862.0,3478.43795199878,724.0,421.0,830.0,607.0,1920.0,305.0,3478.43795199878,3478.43795199878,700.0,1589.0,1589.0,2000.0,750.0,3478.43795199878,3478.43795199878,3478.43795199878,797.0,1002.0,1002.0,2100.0,2100.0,2100.0,500.0,750.0,1887.0,2250.0,841.0,841.0,746.0,500.0,500.0,1430.0,1430.0,3478.43795199878,356.0,484.0,517.0,360.0,360.0,575.0,3478.43795199878,3478.43795199878,540.0,350.0,350.0,2600.0,625.0,1310.0,1310.0,1050.0,1050.0,785.0,950.0,1522.0,615.0,300.0,3478.43795199878,3050.0,400.0,630.0,630.0,3478.43795199878,3478.43795199878,883.0,3300.0,3300.0,3300.0,3300.0,2910.0,3478.43795199878,2289.0,2124.0,1165.0,1165.0,2800.0,1441.0,573.0,600.0,600.0,750.0,750.0,1773.0,2460.0,2200.0,1935.0,536.0,900.0,2050.0,700.0,325.0,325.0,289.0171089595415,3478.43795199878,1750.0,290.0,660.0,2200.0,2200.0,1250.0,1250.0,289.0171089595415,3478.43795199878,2931.0,830.0,3478.43795199878,2140.0,887.0,1200.0,2385.0,700.0,3478.43795199878,3478.43795199878,2290.0,2290.0,300.0,300.0,3473.0,2670.0,1600.0,3478.43795199878,3478.43795199878,600.0,500.0,3478.43795199878,3478.43795199878,328.0,1157.0,500.0,1440.0,896.0,450.0,3248.0,980.0,908.0,500.0,1580.0,865.0,1400.0,400.0,800.0,1294.0,1200.0,1000.0,1000.0,1120.0,812.0,1117.0,1117.0,1500.0,900.0,400.0,2470.0,2131.0,882.0,882.0,325.0,400.0,2770.0,2770.0,1744.0,536.0,630.0,2756.0,1061.0,747.0,550.0,2096.0,3225.0,1484.0,1530.0,1294.0,1535.0,2000.0,3478.43795199878,832.0,627.0,3478.43795199878,560.0,1260.0,1260.0,1555.0,2520.0,2565.0,2222.0,982.0,425.0,1290.0,1160.0,1900.0,2080.0,1360.0,1975.0,1030.0,3478.43795199878,813.0,1603.0,510.0,3478.43795199878,1765.0,1765.0,1765.0,656.0,2549.0,1380.0,1040.0,2160.0,2457.0,2457.0,814.0,814.0,1630.0,1630.0,1140.0,1140.0,820.0,1666.0,2184.0,1081.0,1350.0,880.0,880.0,1210.0,2091.0,2091.0,1000.0,760.0,630.0,289.0171089595415,1858.0,1858.0,1200.0,500.0,500.0,3478.43795199878,820.0,1400.0,950.0,800.0,900.0,900.0,3478.43795199878,3478.43795199878,3478.43795199878,788.0,951.0,1380.0,745.0,745.0,1200.0,870.0,1432.0,2849.0,2000.0,1403.0,289.0171089595415,830.0,289.0171089595415,2396.0,1717.0,964.0,964.0,964.0,3478.43795199878,1000.0,2100.0,289.0171089595415,1630.0,2800.0,441.0,394.0,289.0171089595415,2146.0,970.0,1650.0,1650.0,890.0,330.0,3478.43795199878,3478.43795199878,410.0,730.0,1528.0,970.0,1200.0,1065.0,1540.0,2816.0,900.0,2552.0,730.0,1600.0,1600.0,800.0,2153.0,1054.0,900.0,1700.0,1700.0,1547.0,1547.0,3478.43795199878,2900.0,371.0,289.0171089595415,289.0171089595415,1820.0,1252.0,1130.0,1130.0,550.0,1235.0,1800.0,1800.0,1500.0,1800.0,600.0,3478.43795199878,3478.43795199878,1400.0,1355.0,1355.0,2700.0,2700.0,780.0,1440.0,850.0,1125.0,1125.0,1170.0,1313.0,1205.0,1205.0,750.0,2127.0,1260.0,980.0,2275.0,1252.0,2515.0,1500.0,620.0,620.0,620.0,1700.0,1700.0,1339.0,949.0,289.0171089595415,1000.0,410.0,1400.0,3000.0,1000.0,1000.0,289.0171089595415,289.0171089595415,289.0171089595415,1126.0,1630.0,2750.0,1495.0,1040.0,2331.0,2331.0,2511.0,1739.0,1739.0,1690.0,1827.0,1827.0,380.0,380.0,3478.43795199878,1160.0,3478.43795199878,2330.0,1460.0,700.0,1785.0,1700.0,3478.43795199878,3478.43795199878,1575.0,1575.0,2670.0,2025.0,2650.0,2650.0,3478.43795199878,1680.0,2929.0,2929.0,3478.43795199878,1410.0,1410.0,420.0,1100.0,1290.0,2535.0,870.0,3250.0,1340.0,300.0,300.0,2500.0,2015.0,2015.0,289.0171089595415,570.0,3478.43795199878,935.0,800.0,2550.0,1800.0,1800.0,1113.0,1113.0,1240.0,1300.0,1300.0,460.0,1620.0,1120.0,2504.0,480.0,289.0171089595415,289.0171089595415,289.0171089595415,2520.0,2520.0,820.0,820.0,903.0,1240.0,3478.43795199878,3478.43795199878,1127.0,1029.0,765.0,1096.0,1736.0,3000.0,3000.0,1300.0,2670.0,2327.0,2651.0,2240.0,404.0,404.0,793.0,793.0,950.0,350.0,2754.0,418.0,1780.0,1780.0,600.0,600.0,2015.0,2015.0,550.0,550.0,500.0,1700.0,900.0,2000.0,500.0,500.0,380.0,750.0,1755.0,1368.0,3448.0,3478.43795199878,1200.0,1200.0,1200.0,2200.0,2720.0,403.0,975.0,975.0,1710.0,1710.0,1710.0,1840.0,1170.0,1650.0,1802.0,600.0,981.0,316.0,2200.0,2200.0,750.0,1390.0,2740.0,450.0,615.0,615.0,978.0,978.0,380.0,590.0,2300.0,3350.0,3350.0,3478.43795199878,840.0,800.0,289.0171089595415,1000.0,410.0,410.0,495.0,495.0,630.0,850.0,540.0,3478.43795199878,891.0,891.0,1410.0,1970.0,1970.0,1970.0,728.0,326.0,289.0171089595415,350.0,500.0,289.0171089595415,800.0,800.0,3478.43795199878,3478.43795199878,1300.0,3200.0,715.0,289.0171089595415,550.0,550.0,289.0171089595415,605.0,950.0,320.0,1300.0,3478.43795199878,3478.43795199878,2400.0,2400.0,630.0,289.0171089595415,289.0171089595415,3300.0,1580.0,1580.0,1680.0,1535.0,1331.0,3065.0,3478.43795199878,410.0,1052.0,1052.0,800.0,800.0,800.0,2190.0,2700.0,600.0,1957.0,289.0171089595415,289.0171089595415,3478.43795199878,296.0,296.0,750.0,390.0,637.0,385.0,590.0,590.0,329.0,660.0,1020.0,921.0,921.0,1815.0,652.0,652.0,311.0,400.0,450.0,289.0171089595415,289.0171089595415,289.0171089595415,825.0,612.0,2074.0,678.0,3478.43795199878,3478.43795199878,1213.0,3198.0,3198.0,3478.43795199878,1680.0,3478.43795199878,3478.43795199878,710.0,710.0,900.0,500.0,289.0171089595415,1425.0,1425.0,1425.0,3400.0,3478.43795199878,460.0,600.0,289.0171089595415,289.0171089595415,289.0171089595415,440.0,3450.0,3478.43795199878,3478.43795199878,1877.0,450.0,1120.0,1120.0,350.0,420.0,400.0,300.0,2000.0,829.0,540.0,540.0,634.0,1137.0,2100.0,289.0171089595415,2000.0,2000.0,3478.43795199878,3478.43795199878,3420.0,3478.43795199878,400.0,2320.0,971.0,289.0171089595415,350.0,1002.0,1002.0,1306.0,3478.43795199878,1700.0,1425.0,300.0,300.0,1540.0,3035.0,2126.0,700.0,700.0,3478.43795199878,305.0,2100.0,390.0,3478.43795199878,675.0,675.0,3478.43795199878,632.0,350.0,350.0,350.0,1944.0,3478.43795199878,3478.43795199878,332.0,289.0171089595415,289.0171089595415,1100.0,300.0,800.0,1091.0,2135.0,2135.0,3478.43795199878,500.0,685.0,2650.0,3478.43795199878,3478.43795199878,3478.43795199878,816.0,640.0,1230.0,3478.43795199878,289.0171089595415,960.0,960.0,685.0,2250.0,550.0,3478.43795199878,3478.43795199878,550.0,3478.43795199878,426.0,289.0171089595415,370.0,850.0,378.0,378.0,840.0,840.0,420.0,289.0171089595415,886.0,3478.43795199878,2734.0,300.0,883.0,289.0171089595415,3145.0,1200.0,3478.43795199878,340.0,450.0,410.0,890.0,1960.0,289.0171089595415,3110.0,470.0,470.0,3478.43795199878,3478.43795199878,3478.43795199878,3478.43795199878,3478.43795199878,1573.0,3478.43795199878,3478.43795199878,3478.43795199878,3478.43795199878,2875.0,2824.0,2824.0,2100.0,500.0,360.0,1800.0,1800.0,1800.0,1800.0,3224.0,3478.43795199878,3000.0,2500.0,3478.43795199878,3478.43795199878,3478.43795199878,934.0,2100.0,2250.0,660.0,3478.43795199878,3478.43795199878,2829.0,290.0,400.0,3478.43795199878,1619.0,1619.0,2451.0,2900.0,1228.0,800.0,800.0,512.0,741.0,289.0171089595415,289.0171089595415,3478.43795199878,2887.0,3478.43795199878,450.0,680.0,289.0171089595415,3200.0,500.0,3478.43795199878,289.0171089595415,289.0171089595415,620.0,620.0,620.0,360.0,1241.0,600.0,3325.0,3325.0,2793.0,2793.0,2999.0,3478.43795199878,600.0,725.0,300.0,1040.0,1684.0,null,900.0,900.0,2700.0,2700.0,1800.0,2300.0,2050.0,2100.0,2100.0,360.0,2400.0,840.0,3478.43795199878,289.0171089595415,2350.0,289.0171089595415,450.0,1525.0,2440.0,2500.0,2700.0,400.0,340.0,798.0,400.0,1103.0,400.0,540.0,1861.0,560.0,700.0,810.0,3478.43795199878,316.0,1126.0,405.0,450.0,1400.0,1400.0,1212.0,2300.0,3478.43795199878,450.0,3478.43795199878,3478.43795199878,1250.0,3111.0,900.0,900.0,650.0,1956.0,1956.0,289.0171089595415,289.0171089595415,2363.0,782.0,574.0,289.0171089595415,289.0171089595415,3120.0,530.0,289.0171089595415,289.0171089595415,665.0,950.0,350.0,975.0,2289.0,731.0,3478.43795199878,3478.43795199878,1750.0,1750.0,1667.0,3147.0,400.0,2500.0,3478.43795199878,3478.43795199878,289.0171089595415,1700.0,1700.0,1700.0,1000.0,1000.0,2230.0,2230.0,289.0171089595415,1731.0,1731.0,1000.0,2609.0,2609.0,3478.43795199878,499.0,3478.43795199878,460.0,460.0,460.0,800.0,3478.43795199878,1200.0,900.0,3478.43795199878,1784.0,2580.0,730.0,3478.43795199878,3478.43795199878,3478.43795199878,289.0171089595415,2496.0,289.0171089595415,495.0,495.0,880.0,3478.43795199878,560.0,560.0,430.0,1000.0,500.0,3478.43795199878,3478.43795199878,3478.43795199878,1312.0,1950.0,700.0,689.0,689.0,1440.0,1440.0,3339.0,3339.0,3339.0,289.0171089595415,420.0,1440.0,560.0,560.0,426.0,1300.0,1648.0,350.0,350.0,2188.0,2188.0,2188.0,900.0,3478.43795199878,3478.43795199878,300.0,3478.43795199878,2400.0,750.0,310.0,3478.43795199878,289.0171089595415,1900.0,450.0,3286.0,289.0171089595415,300.0,2850.0,2850.0,2850.0,1000.0,3478.43795199878,600.0,3364.0,1870.0,1186.0,950.0,2986.0,1900.0,370.0,3478.43795199878,500.0,2085.0,806.0,650.0,1000.0,3478.43795199878,3478.43795199878,610.0,1800.0,1800.0,3478.43795199878,2355.0,3040.0,1400.0,1400.0,3478.43795199878,605.0,322.0,322.0,3478.43795199878,1180.0,2550.0,3478.43795199878,977.0,800.0,1033.0,3478.43795199878,2000.0,580.0,891.0,289.0171089595415,289.0171089595415,2002.0,950.0,915.0,915.0,600.0,300.0,2100.0,2100.0,850.0,289.0171089595415,1445.0,350.0,289.0171089595415,1250.0,1250.0,500.0,1152.0,544.0,544.0,1900.0,1900.0,760.0,1382.0,1260.0,300.0,400.0,460.0,360.0,1790.0,1450.0,1450.0,1100.0,1100.0,1820.0,2184.0,3478.43795199878,1068.0,1068.0,750.0,750.0,345.0,3478.43795199878,3478.43795199878,3478.43795199878,3369.0,462.0,410.0,1400.0,605.0,2400.0,800.0,750.0,750.0,750.0,1031.0,1031.0,640.0,320.0,1200.0,2793.0,289.0171089595415,3478.43795199878,480.0,300.0,3004.0,350.0,350.0,790.0,1093.0,360.0,3000.0,350.0,400.0,1350.0,3478.43795199878,3478.43795199878,1988.0,3478.43795199878,289.0171089595415,350.0,500.0,332.0,332.0,792.0,3478.43795199878,3478.43795199878,321.0,800.0,800.0,3478.43795199878,344.0,3478.43795199878,289.0171089595415,289.0171089595415,300.0,355.0,355.0,289.0171089595415,3200.0,3200.0,1450.0,800.0,3478.43795199878,3478.43795199878,3478.43795199878,3478.43795199878,1275.0,796.0,796.0,985.0,1800.0,1800.0,700.0,700.0,900.0,289.0171089595415,3478.43795199878,2175.0,809.0,300.0,1452.0,1876.0,1876.0,420.0,3478.43795199878,1000.0,400.0,1430.0,1430.0,3478.43795199878,289.0171089595415,289.0171089595415,3478.43795199878,300.0,289.0171089595415,3240.0,1050.0,3050.0,2170.0,2170.0,2200.0,2200.0,2200.0,3478.43795199878,2504.0,696.0,3478.43795199878,3478.43795199878,1061.0,1061.0,1061.0,1450.0,1650.0,300.0,3478.43795199878,700.0,700.0,2968.0,325.0,289.0171089595415,450.0,408.0,710.0,710.0,3478.43795199878,360.0,1850.0,2952.0,450.0,3000.0,625.0,3085.0,1900.0,2432.0,1614.0,1614.0,1196.0,2280.0,460.0,3478.43795199878,300.0,336.0,336.0,600.0,750.0,1556.0,1902.0,1902.0,1902.0,700.0,600.0,600.0,1800.0,3050.0,3478.43795199878,289.0171089595415,638.0,3478.43795199878,1100.0,910.0,1181.0,620.0,3478.43795199878,3478.43795199878,2250.0,750.0,750.0,1200.0,3478.43795199878,1650.0,3478.43795199878,400.0,400.0,3478.43795199878,2240.0,518.0,289.0171089595415,630.0,289.0171089595415,350.0,370.0,1300.0,582.0,582.0,1945.0,1200.0,423.0,700.0,700.0,650.0,650.0,510.0,510.0,1400.0,350.0,350.0,310.0,1210.0,2150.0,2612.0,624.0,488.0,488.0,1740.0,3478.43795199878,366.0,500.0,500.0,1500.0,1500.0,1702.0,2140.0,1405.0,1405.0,1112.0,1380.0,3107.0,3120.0,1501.0,707.0,650.0,650.0,1075.0,2406.0,2020.0,2020.0,2880.0,2880.0,1300.0,539.0,600.0,600.0,450.0,1050.0,540.0,2880.0,2880.0,450.0,600.0,560.0,1500.0,530.0,530.0,900.0,450.0,2075.0,2250.0,2250.0,880.0,400.0,400.0,820.0,1200.0,878.0,1900.0,450.0,2233.0,3000.0,289.0171089595415,380.0,3478.43795199878,3478.43795199878,2394.0,360.0,360.0,690.0,730.0,800.0,800.0,1020.0,3478.43795199878,3478.43795199878,1303.0,650.0,895.0,895.0,1600.0,882.0,700.0,850.0,850.0,690.0,2770.0,478.0,1460.0,792.0,723.0,900.0,900.0,1000.0,289.0171089595415,612.0,3478.43795199878,289.0171089595415,1330.0,320.0,3450.0,3478.43795199878,300.0,3478.43795199878,1024.0,1024.0,289.0171089595415,289.0171089595415,634.0,634.0,289.0171089595415,651.0,651.0,289.0171089595415,289.0171089595415,289.0171089595415,2750.0,289.0171089595415,3349.0,3349.0,3349.0,494.0,447.0,561.0,872.0,380.0,1190.0,629.0,629.0,330.0,330.0,561.0,400.0,3100.0,1550.0,1300.0,320.0,650.0,800.0,800.0,462.0,300.0,700.0,500.0,1400.0,1400.0,528.0,523.0,2275.0,434.0,360.0,770.0,289.0171089595415,289.0171089595415,940.0,1309.0,1309.0,3478.43795199878,380.0,289.0171089595415,754.0,600.0,360.0,3478.43795199878,2518.0,2785.0,2785.0,289.0171089595415,3478.43795199878,550.0,289.0171089595415,600.0,600.0,560.0,960.0,289.0171089595415,289.0171089595415,3478.43795199878,1764.0,1548.0,3000.0,289.0171089595415,1250.0,3362.0,3362.0,3478.43795199878,460.0,289.0171089595415,390.0,390.0,700.0,380.0,289.0171089595415,289.0171089595415,289.0171089595415,380.0,2000.0,915.0,300.0,1100.0,289.0171089595415,820.0,3478.43795199878,1350.0,1034.0,289.0171089595415,3478.43795199878,1200.0,535.0,3478.43795199878,3478.43795199878,800.0,700.0,700.0,532.0,1460.0,1100.0,1210.0,1267.0,400.0,562.0,484.0,416.0,790.0,790.0,3478.43795199878,3478.43795199878,600.0,960.0,3478.43795199878,500.0,2110.0,3478.43795199878,3100.0,3100.0,1116.0,1116.0,636.0,735.0,1300.0,1300.0,550.0,1265.0,916.0,916.0,612.0,612.0,1698.0,1418.0,1900.0,791.0,791.0,662.0,662.0,1568.0,1568.0,798.0,1850.0,930.0,930.0,1400.0,908.0,715.0,1100.0,1752.0,1752.0,1500.0,1500.0,1950.0,3478.43795199878,586.0,1300.0,780.0,3478.43795199878,1350.0,350.0,3478.43795199878,1180.0,450.0,289.0171089595415,289.0171089595415,400.0,2450.0,850.0,2646.0,550.0,824.0,600.0,1100.0,3478.43795199878,3478.43795199878,1100.0,1100.0,289.0171089595415,420.0,2000.0,1460.0,2866.0,1196.0,714.0,714.0,300.0,750.0,750.0,3478.43795199878,3478.43795199878,2110.0,550.0,3478.43795199878,3478.43795199878,1015.0,1015.0,960.0,700.0,765.0,1054.0,1535.0,310.0,2110.0,289.0171089595415,289.0171089595415,3478.43795199878,1880.0,3478.43795199878,1836.0,3478.43795199878,1065.0,3460.0,289.0171089595415,1200.0,3478.43795199878,289.0171089595415,1026.0,3478.43795199878,3478.43795199878,289.0171089595415,3300.0,390.0,1970.0,500.0,1125.0,696.0,696.0,696.0,520.0,289.0171089595415,325.0,333.0,333.0,333.0,2000.0,420.0,2910.0,2910.0,2910.0,2910.0,2910.0,3248.0,2880.0,1328.0,289.0171089595415,1250.0,1122.0,643.0,300.0,300.0,3478.43795199878,480.0,480.0,289.0171089595415,2062.0,2062.0,1880.0,289.0171089595415,1759.0,600.0,300.0,705.0,705.0,705.0,705.0,1300.0,910.0,3478.43795199878,1200.0,350.0,1157.0,1270.0,2600.0,504.0,1355.0,982.0,1252.0,3478.43795199878,3478.43795199878,2700.0,2700.0,3478.43795199878,831.0,1300.0,630.0,450.0,387.0,900.0,710.0,3478.43795199878,3068.0,770.0,845.0,845.0,289.0171089595415,600.0,1215.0,3478.43795199878,3478.43795199878,3478.43795199878,3478.43795199878,1905.0,289.0171089595415,289.0171089595415,289.0171089595415,2200.0,733.0,850.0,850.0,2255.0,1130.0,1000.0,1000.0,1000.0,1000.0,300.0,300.0,300.0,700.0,460.0,1350.0,975.0,3478.43795199878,1586.0,2018.0,2018.0,3478.43795199878,3478.43795199878,1135.0,1150.0,600.0,906.0,870.0,3419.0,1232.0,400.0,400.0,1300.0,960.0,960.0,3161.0,1604.0,290.0,1000.0,1000.0,385.0,460.0,900.0,528.0,1010.0,2549.0,3478.43795199878,3478.43795199878,715.0,858.0,858.0,770.0,770.0,1425.0,1425.0,380.0,500.0,1250.0,1944.0,2128.0,3478.43795199878,3478.43795199878,450.0,1132.0,3478.43795199878,800.0,3400.0,3400.0,1568.0,2340.0,1450.0,800.0,800.0,1515.0,2100.0,2100.0,3478.43795199878,2183.0,1660.0,2167.0,820.0,345.0,900.0,1650.0,3173.0,3478.43795199878,3478.43795199878,3478.43795199878,289.0171089595415,330.0,330.0,1000.0,1000.0,850.0,865.0,650.0,900.0,289.0171089595415,3040.0,2057.0,760.0,812.0,1562.0,3478.43795199878,1900.0,1900.0,400.0,1285.0,1430.0,3478.43795199878,1274.0,289.0171089595415,3401.0,3401.0,868.0,1300.0,1300.0,1300.0,2635.0,300.0,500.0,450.0,289.0171089595415,289.0171089595415,289.0171089595415,930.0,600.0,600.0,3478.43795199878,700.0,321.0,321.0,400.0,414.0,414.0,3478.43795199878,3478.43795199878,319.0,2490.0,700.0,1600.0,600.0,670.0,289.0171089595415,2300.0,289.0171089595415,1400.0,1400.0,1300.0,1300.0,882.0,289.0171089595415,480.0,480.0,480.0,1453.0,289.0171089595415,2700.0,756.0,400.0,3241.0,2448.0,465.0,1692.0,3478.43795199878,992.0,580.0,345.0,1900.0,1650.0,500.0,350.0,1500.0,1500.0,490.0,438.0,2873.0,289.0171089595415,500.0,500.0,300.0,300.0,300.0,1264.0,1264.0,1520.0,1366.0,1365.0,300.0,700.0,400.0,320.0,389.0,700.0,450.0,289.0171089595415,289.0171089595415,3478.43795199878,1750.0,3478.43795199878,1978.0,400.0,400.0,289.0171089595415,326.0,660.0,660.0,2369.0,300.0,2600.0,850.0,850.0,850.0,850.0,3478.43795199878,480.0,1795.0,289.0171089595415,289.0171089595415,289.0171089595415,400.0,350.0,2500.0,730.0,730.0,730.0,289.0171089595415,1060.0,1160.0,800.0,3478.43795199878,325.0,325.0,1520.0,1520.0,1520.0,1200.0,1200.0,860.0,960.0,1400.0,1190.0,289.0171089595415,3478.43795199878,722.0,400.0,456.0,500.0,770.0,460.0,2600.0,350.0,1180.0,3478.43795199878,3478.43795199878,3478.43795199878,1175.0,850.0,289.0171089595415,2396.0,2396.0,1257.0,1257.0,600.0,600.0,400.0,2700.0,300.0,300.0,290.0,290.0,330.0,330.0,300.0,3164.0,880.0,3478.43795199878,3478.43795199878,289.0171089595415,520.0,1010.0,1010.0,358.0,2930.0,2930.0,450.0,767.0,767.0,550.0,416.0,500.0,1807.0,3478.43795199878,700.0,3478.43795199878,1300.0,350.0,295.0,3478.43795199878,3478.43795199878,900.0,2060.0,1529.0,3478.43795199878,289.0171089595415,289.0171089595415,400.0,675.0,675.0,675.0,3478.43795199878,830.0,1400.0,1100.0,1100.0,1100.0,289.0171089595415,3478.43795199878,730.0,1957.0,289.0171089595415,3245.0,1225.0,3478.43795199878,495.0,582.0,289.0171089595415,1265.0,595.0,400.0,360.0,850.0,850.0,440.0,1100.0,1100.0,2000.0,3478.43795199878,1356.0,400.0,516.0,360.0,3200.0,490.0,2385.0,1540.0,1540.0,3478.43795199878,3478.43795199878,1163.0,1016.0,2335.0,1867.0,3140.0,289.0171089595415,3411.0,938.0,938.0,376.0,1135.0,300.0,850.0,850.0,480.0,3478.43795199878,3478.43795199878,1488.0,1790.0,2300.0,2300.0,2300.0,1176.0,1176.0,1176.0,1000.0,2300.0,1320.0,1320.0,2175.0,2175.0,2175.0,1200.0,1104.0,1227.0,3478.43795199878,2205.0,2205.0,3170.0,1830.0,2250.0,2250.0,670.0,970.0,970.0,1036.0,1036.0,715.0,630.0,3478.43795199878,1100.0,2250.0,3478.43795199878,721.0,1100.0,1500.0,2040.0,1200.0,1200.0,1200.0,2700.0,2700.0,2700.0,1121.0,1121.0,1800.0,1800.0,1650.0,1650.0,2186.0,2500.0,2250.0,289.0171089595415,1800.0,3000.0,2000.0,3478.43795199878,3478.43795199878,1384.0,900.0,979.0,330.0,2350.0,2272.0,450.0,460.0,2000.0,800.0,3478.43795199878,500.0,500.0,500.0,620.0,3478.43795199878,3478.43795199878,480.0,500.0,341.0,3478.43795199878,3478.43795199878,289.0171089595415,289.0171089595415,400.0,300.0,289.0171089595415,1109.0,2934.0,2934.0,350.0,450.0,735.0,735.0,857.0,455.0,455.0,455.0,700.0,400.0,1428.0,1428.0,816.0,450.0,450.0,3478.43795199878,431.0,1340.0,1340.0,289.0171089595415,2464.0,2464.0,3220.0,1326.0,800.0,800.0,3478.43795199878,1620.0,289.0171089595415,3478.43795199878,289.0171089595415,430.0,3478.43795199878,3478.43795199878,289.0171089595415,3478.43795199878,3478.43795199878,716.0,716.0,400.0,3150.0,970.0,350.0,3478.43795199878,3478.43795199878,486.0,1972.0,1972.0,500.0,500.0,1686.0,1426.0,2105.0,512.0,900.0,660.0,794.0,3478.43795199878,500.0,3130.0,399.0,289.0171089595415,289.0171089595415,2400.0,550.0,3478.43795199878,289.0171089595415,289.0171089595415,450.0,3478.43795199878,2400.0,3478.43795199878,550.0,3478.43795199878,289.0171089595415,750.0,750.0,500.0,400.0,640.0,289.0171089595415,350.0,289.0171089595415,700.0,570.0,370.0,null,289.0171089595415,289.0171089595415,3478.43795199878,3006.0,1880.0,800.0,850.0,2450.0,2450.0,1864.0,3043.0,289.0171089595415,3478.43795199878,3478.43795199878,2500.0,3478.43795199878,600.0,3380.0,3380.0,3478.43795199878,3478.43795199878,3478.43795199878,2800.0,2000.0,3300.0,3300.0,1500.0,3100.0,3478.43795199878,3000.0,3478.43795199878,1150.0,1150.0,3478.43795199878,2732.0,3478.43795199878,3478.43795199878,1500.0,1500.0,3478.43795199878,2300.0,3478.43795199878,289.0171089595415,289.0171089595415,2828.0,3478.43795199878,3478.43795199878,2700.0,2000.0,2200.0,3478.43795199878,2300.0,3200.0,1000.0,720.0,3478.43795199878,2650.0,700.0,1500.0,2465.0,1800.0,1800.0,2240.0,3478.43795199878,850.0,3478.43795199878,3478.43795199878,3478.43795199878,3478.43795199878,500.0,500.0,1850.0,1850.0,1775.0,1775.0,2444.0,1017.0,1017.0,400.0,2732.0,null,null,null,null,null,null,null,null,null,null,null,null,null,null,null,null,null,null,null,null,null,null,null,null,null,null,null,null,null,null,null,null,null,null,null,null,null,null,null,null,null,null,null,null,null,null,null,null,null,null,null,null,null,null,null,null,null,null,null,null,null,null,null,null,null,null,null,null,null,null,null,null,null,null,null,null,null,null,null,null,null,null,null,null,null,null,null,null,null,null,null,null,null,null,null,null,null,null,null,null,null,null],\"y0\":\" \",\"yaxis\":\"y\",\"type\":\"box\"}],                        {\"template\":{\"data\":{\"histogram2dcontour\":[{\"type\":\"histogram2dcontour\",\"colorbar\":{\"outlinewidth\":0,\"ticks\":\"\"},\"colorscale\":[[0.0,\"#0d0887\"],[0.1111111111111111,\"#46039f\"],[0.2222222222222222,\"#7201a8\"],[0.3333333333333333,\"#9c179e\"],[0.4444444444444444,\"#bd3786\"],[0.5555555555555556,\"#d8576b\"],[0.6666666666666666,\"#ed7953\"],[0.7777777777777778,\"#fb9f3a\"],[0.8888888888888888,\"#fdca26\"],[1.0,\"#f0f921\"]]}],\"choropleth\":[{\"type\":\"choropleth\",\"colorbar\":{\"outlinewidth\":0,\"ticks\":\"\"}}],\"histogram2d\":[{\"type\":\"histogram2d\",\"colorbar\":{\"outlinewidth\":0,\"ticks\":\"\"},\"colorscale\":[[0.0,\"#0d0887\"],[0.1111111111111111,\"#46039f\"],[0.2222222222222222,\"#7201a8\"],[0.3333333333333333,\"#9c179e\"],[0.4444444444444444,\"#bd3786\"],[0.5555555555555556,\"#d8576b\"],[0.6666666666666666,\"#ed7953\"],[0.7777777777777778,\"#fb9f3a\"],[0.8888888888888888,\"#fdca26\"],[1.0,\"#f0f921\"]]}],\"heatmap\":[{\"type\":\"heatmap\",\"colorbar\":{\"outlinewidth\":0,\"ticks\":\"\"},\"colorscale\":[[0.0,\"#0d0887\"],[0.1111111111111111,\"#46039f\"],[0.2222222222222222,\"#7201a8\"],[0.3333333333333333,\"#9c179e\"],[0.4444444444444444,\"#bd3786\"],[0.5555555555555556,\"#d8576b\"],[0.6666666666666666,\"#ed7953\"],[0.7777777777777778,\"#fb9f3a\"],[0.8888888888888888,\"#fdca26\"],[1.0,\"#f0f921\"]]}],\"heatmapgl\":[{\"type\":\"heatmapgl\",\"colorbar\":{\"outlinewidth\":0,\"ticks\":\"\"},\"colorscale\":[[0.0,\"#0d0887\"],[0.1111111111111111,\"#46039f\"],[0.2222222222222222,\"#7201a8\"],[0.3333333333333333,\"#9c179e\"],[0.4444444444444444,\"#bd3786\"],[0.5555555555555556,\"#d8576b\"],[0.6666666666666666,\"#ed7953\"],[0.7777777777777778,\"#fb9f3a\"],[0.8888888888888888,\"#fdca26\"],[1.0,\"#f0f921\"]]}],\"contourcarpet\":[{\"type\":\"contourcarpet\",\"colorbar\":{\"outlinewidth\":0,\"ticks\":\"\"}}],\"contour\":[{\"type\":\"contour\",\"colorbar\":{\"outlinewidth\":0,\"ticks\":\"\"},\"colorscale\":[[0.0,\"#0d0887\"],[0.1111111111111111,\"#46039f\"],[0.2222222222222222,\"#7201a8\"],[0.3333333333333333,\"#9c179e\"],[0.4444444444444444,\"#bd3786\"],[0.5555555555555556,\"#d8576b\"],[0.6666666666666666,\"#ed7953\"],[0.7777777777777778,\"#fb9f3a\"],[0.8888888888888888,\"#fdca26\"],[1.0,\"#f0f921\"]]}],\"surface\":[{\"type\":\"surface\",\"colorbar\":{\"outlinewidth\":0,\"ticks\":\"\"},\"colorscale\":[[0.0,\"#0d0887\"],[0.1111111111111111,\"#46039f\"],[0.2222222222222222,\"#7201a8\"],[0.3333333333333333,\"#9c179e\"],[0.4444444444444444,\"#bd3786\"],[0.5555555555555556,\"#d8576b\"],[0.6666666666666666,\"#ed7953\"],[0.7777777777777778,\"#fb9f3a\"],[0.8888888888888888,\"#fdca26\"],[1.0,\"#f0f921\"]]}],\"mesh3d\":[{\"type\":\"mesh3d\",\"colorbar\":{\"outlinewidth\":0,\"ticks\":\"\"}}],\"scatter\":[{\"fillpattern\":{\"fillmode\":\"overlay\",\"size\":10,\"solidity\":0.2},\"type\":\"scatter\"}],\"parcoords\":[{\"type\":\"parcoords\",\"line\":{\"colorbar\":{\"outlinewidth\":0,\"ticks\":\"\"}}}],\"scatterpolargl\":[{\"type\":\"scatterpolargl\",\"marker\":{\"colorbar\":{\"outlinewidth\":0,\"ticks\":\"\"}}}],\"bar\":[{\"error_x\":{\"color\":\"#2a3f5f\"},\"error_y\":{\"color\":\"#2a3f5f\"},\"marker\":{\"line\":{\"color\":\"#E5ECF6\",\"width\":0.5},\"pattern\":{\"fillmode\":\"overlay\",\"size\":10,\"solidity\":0.2}},\"type\":\"bar\"}],\"scattergeo\":[{\"type\":\"scattergeo\",\"marker\":{\"colorbar\":{\"outlinewidth\":0,\"ticks\":\"\"}}}],\"scatterpolar\":[{\"type\":\"scatterpolar\",\"marker\":{\"colorbar\":{\"outlinewidth\":0,\"ticks\":\"\"}}}],\"histogram\":[{\"marker\":{\"pattern\":{\"fillmode\":\"overlay\",\"size\":10,\"solidity\":0.2}},\"type\":\"histogram\"}],\"scattergl\":[{\"type\":\"scattergl\",\"marker\":{\"colorbar\":{\"outlinewidth\":0,\"ticks\":\"\"}}}],\"scatter3d\":[{\"type\":\"scatter3d\",\"line\":{\"colorbar\":{\"outlinewidth\":0,\"ticks\":\"\"}},\"marker\":{\"colorbar\":{\"outlinewidth\":0,\"ticks\":\"\"}}}],\"scattermapbox\":[{\"type\":\"scattermapbox\",\"marker\":{\"colorbar\":{\"outlinewidth\":0,\"ticks\":\"\"}}}],\"scatterternary\":[{\"type\":\"scatterternary\",\"marker\":{\"colorbar\":{\"outlinewidth\":0,\"ticks\":\"\"}}}],\"scattercarpet\":[{\"type\":\"scattercarpet\",\"marker\":{\"colorbar\":{\"outlinewidth\":0,\"ticks\":\"\"}}}],\"carpet\":[{\"aaxis\":{\"endlinecolor\":\"#2a3f5f\",\"gridcolor\":\"white\",\"linecolor\":\"white\",\"minorgridcolor\":\"white\",\"startlinecolor\":\"#2a3f5f\"},\"baxis\":{\"endlinecolor\":\"#2a3f5f\",\"gridcolor\":\"white\",\"linecolor\":\"white\",\"minorgridcolor\":\"white\",\"startlinecolor\":\"#2a3f5f\"},\"type\":\"carpet\"}],\"table\":[{\"cells\":{\"fill\":{\"color\":\"#EBF0F8\"},\"line\":{\"color\":\"white\"}},\"header\":{\"fill\":{\"color\":\"#C8D4E3\"},\"line\":{\"color\":\"white\"}},\"type\":\"table\"}],\"barpolar\":[{\"marker\":{\"line\":{\"color\":\"#E5ECF6\",\"width\":0.5},\"pattern\":{\"fillmode\":\"overlay\",\"size\":10,\"solidity\":0.2}},\"type\":\"barpolar\"}],\"pie\":[{\"automargin\":true,\"type\":\"pie\"}]},\"layout\":{\"autotypenumbers\":\"strict\",\"colorway\":[\"#636efa\",\"#EF553B\",\"#00cc96\",\"#ab63fa\",\"#FFA15A\",\"#19d3f3\",\"#FF6692\",\"#B6E880\",\"#FF97FF\",\"#FECB52\"],\"font\":{\"color\":\"#2a3f5f\"},\"hovermode\":\"closest\",\"hoverlabel\":{\"align\":\"left\"},\"paper_bgcolor\":\"white\",\"plot_bgcolor\":\"#E5ECF6\",\"polar\":{\"bgcolor\":\"#E5ECF6\",\"angularaxis\":{\"gridcolor\":\"white\",\"linecolor\":\"white\",\"ticks\":\"\"},\"radialaxis\":{\"gridcolor\":\"white\",\"linecolor\":\"white\",\"ticks\":\"\"}},\"ternary\":{\"bgcolor\":\"#E5ECF6\",\"aaxis\":{\"gridcolor\":\"white\",\"linecolor\":\"white\",\"ticks\":\"\"},\"baxis\":{\"gridcolor\":\"white\",\"linecolor\":\"white\",\"ticks\":\"\"},\"caxis\":{\"gridcolor\":\"white\",\"linecolor\":\"white\",\"ticks\":\"\"}},\"coloraxis\":{\"colorbar\":{\"outlinewidth\":0,\"ticks\":\"\"}},\"colorscale\":{\"sequential\":[[0.0,\"#0d0887\"],[0.1111111111111111,\"#46039f\"],[0.2222222222222222,\"#7201a8\"],[0.3333333333333333,\"#9c179e\"],[0.4444444444444444,\"#bd3786\"],[0.5555555555555556,\"#d8576b\"],[0.6666666666666666,\"#ed7953\"],[0.7777777777777778,\"#fb9f3a\"],[0.8888888888888888,\"#fdca26\"],[1.0,\"#f0f921\"]],\"sequentialminus\":[[0.0,\"#0d0887\"],[0.1111111111111111,\"#46039f\"],[0.2222222222222222,\"#7201a8\"],[0.3333333333333333,\"#9c179e\"],[0.4444444444444444,\"#bd3786\"],[0.5555555555555556,\"#d8576b\"],[0.6666666666666666,\"#ed7953\"],[0.7777777777777778,\"#fb9f3a\"],[0.8888888888888888,\"#fdca26\"],[1.0,\"#f0f921\"]],\"diverging\":[[0,\"#8e0152\"],[0.1,\"#c51b7d\"],[0.2,\"#de77ae\"],[0.3,\"#f1b6da\"],[0.4,\"#fde0ef\"],[0.5,\"#f7f7f7\"],[0.6,\"#e6f5d0\"],[0.7,\"#b8e186\"],[0.8,\"#7fbc41\"],[0.9,\"#4d9221\"],[1,\"#276419\"]]},\"xaxis\":{\"gridcolor\":\"white\",\"linecolor\":\"white\",\"ticks\":\"\",\"title\":{\"standoff\":15},\"zerolinecolor\":\"white\",\"automargin\":true,\"zerolinewidth\":2},\"yaxis\":{\"gridcolor\":\"white\",\"linecolor\":\"white\",\"ticks\":\"\",\"title\":{\"standoff\":15},\"zerolinecolor\":\"white\",\"automargin\":true,\"zerolinewidth\":2},\"scene\":{\"xaxis\":{\"backgroundcolor\":\"#E5ECF6\",\"gridcolor\":\"white\",\"linecolor\":\"white\",\"showbackground\":true,\"ticks\":\"\",\"zerolinecolor\":\"white\",\"gridwidth\":2},\"yaxis\":{\"backgroundcolor\":\"#E5ECF6\",\"gridcolor\":\"white\",\"linecolor\":\"white\",\"showbackground\":true,\"ticks\":\"\",\"zerolinecolor\":\"white\",\"gridwidth\":2},\"zaxis\":{\"backgroundcolor\":\"#E5ECF6\",\"gridcolor\":\"white\",\"linecolor\":\"white\",\"showbackground\":true,\"ticks\":\"\",\"zerolinecolor\":\"white\",\"gridwidth\":2}},\"shapedefaults\":{\"line\":{\"color\":\"#2a3f5f\"}},\"annotationdefaults\":{\"arrowcolor\":\"#2a3f5f\",\"arrowhead\":0,\"arrowwidth\":1},\"geo\":{\"bgcolor\":\"white\",\"landcolor\":\"#E5ECF6\",\"subunitcolor\":\"white\",\"showland\":true,\"showlakes\":true,\"lakecolor\":\"white\"},\"title\":{\"x\":0.05},\"mapbox\":{\"style\":\"light\"}}},\"xaxis\":{\"anchor\":\"y\",\"domain\":[0.0,1.0]},\"yaxis\":{\"anchor\":\"x\",\"domain\":[0.0,1.0],\"title\":{\"text\":\"Building Dimension\"}},\"legend\":{\"tracegroupgap\":0},\"margin\":{\"t\":60},\"boxmode\":\"group\",\"title\":{\"text\":\"Distribution of Building Dimension\"},\"height\":400,\"width\":500},                        {\"responsive\": true}                    ).then(function(){\n",
              "                            \n",
              "var gd = document.getElementById('be57878a-a002-4e1e-be8f-bf8c86482327');\n",
              "var x = new MutationObserver(function (mutations, observer) {{\n",
              "        var display = window.getComputedStyle(gd).display;\n",
              "        if (!display || display === 'none') {{\n",
              "            console.log([gd, 'removed!']);\n",
              "            Plotly.purge(gd);\n",
              "            observer.disconnect();\n",
              "        }}\n",
              "}});\n",
              "\n",
              "// Listen for the removal of the full notebook cells\n",
              "var notebookContainer = gd.closest('#notebook-container');\n",
              "if (notebookContainer) {{\n",
              "    x.observe(notebookContainer, {childList: true});\n",
              "}}\n",
              "\n",
              "// Listen for the clearing of the current output cell\n",
              "var outputEl = gd.closest('.output');\n",
              "if (outputEl) {{\n",
              "    x.observe(outputEl, {childList: true});\n",
              "}}\n",
              "\n",
              "                        })                };                            </script>        </div>\n",
              "</body>\n",
              "</html>"
            ]
          },
          "metadata": {}
        }
      ]
    },
    {
      "cell_type": "code",
      "source": [
        "#create a box plot to visualize the outlier in the Building Dimension\n",
        "fig = px.box(dft, y='Date_of_Occupancy')\n",
        "fig.update_layout(height=400, width=500, title_text='Distribution of Building Dimension')\n",
        "fig.show()"
      ],
      "metadata": {
        "colab": {
          "base_uri": "https://localhost:8080/",
          "height": 417
        },
        "id": "uR98ZzE1AATs",
        "outputId": "5a85a482-a038-4b65-ee75-1d59fa25f487"
      },
      "execution_count": 157,
      "outputs": [
        {
          "output_type": "display_data",
          "data": {
            "text/html": [
              "<html>\n",
              "<head><meta charset=\"utf-8\" /></head>\n",
              "<body>\n",
              "    <div>            <script src=\"https://cdnjs.cloudflare.com/ajax/libs/mathjax/2.7.5/MathJax.js?config=TeX-AMS-MML_SVG\"></script><script type=\"text/javascript\">if (window.MathJax && window.MathJax.Hub && window.MathJax.Hub.Config) {window.MathJax.Hub.Config({SVG: {font: \"STIX-Web\"}});}</script>                <script type=\"text/javascript\">window.PlotlyConfig = {MathJaxConfig: 'local'};</script>\n",
              "        <script charset=\"utf-8\" src=\"https://cdn.plot.ly/plotly-2.24.1.min.js\"></script>                <div id=\"2859d21d-b451-47cd-b593-79d2de3d9cd1\" class=\"plotly-graph-div\" style=\"height:400px; width:500px;\"></div>            <script type=\"text/javascript\">                                    window.PLOTLYENV=window.PLOTLYENV || {};                                    if (document.getElementById(\"2859d21d-b451-47cd-b593-79d2de3d9cd1\")) {                    Plotly.newPlot(                        \"2859d21d-b451-47cd-b593-79d2de3d9cd1\",                        [{\"alignmentgroup\":\"True\",\"hovertemplate\":\"Date_of_Occupancy=%{y}\\u003cextra\\u003e\\u003c\\u002fextra\\u003e\",\"legendgroup\":\"\",\"marker\":{\"color\":\"#636efa\"},\"name\":\"\",\"notched\":false,\"offsetgroup\":\"\",\"orientation\":\"v\",\"showlegend\":false,\"x0\":\" \",\"xaxis\":\"x\",\"y\":[1960.0,1850.0,1960.0,1960.0,1800.0,1980.0,1988.0,1988.0,2013.0,2011.0,1960.0,1960.0,1550.0,1900.0,1960.0,2007.0,1988.0,1988.0,1970.0,1970.0,1950.0,1700.0,1900.0,1970.0,1980.0,1976.0,1976.0,1900.0,1940.0,1950.0,1920.0,1982.0,1960.0,1960.0,1800.0,1970.0,1980.0,1988.0,1988.0,1988.0,1980.0,1980.0,1980.0,1970.0,1980.0,1972.0,1972.0,2010.0,2010.0,1971.0,1988.0,1988.0,1988.0,1988.0,1988.0,1988.0,1995.0,1988.0,1960.0,1988.0,1988.0,1980.0,1988.0,1900.0,1960.0,2007.0,2007.0,2006.0,1960.0,1980.0,1988.0,1960.0,1980.0,1988.0,1988.0,1988.0,1988.0,1988.0,1988.0,1988.0,1980.0,1980.0,1980.0,1988.0,1988.0,1988.0,1999.0,1969.0,1960.0,1988.0,1960.0,1985.0,1980.0,1980.0,1980.0,1980.0,1970.0,1980.0,1972.0,1965.0,1988.0,1950.0,1981.0,1971.0,1972.0,1975.0,1970.0,1940.0,1900.0,1988.0,1970.0,1997.0,1988.0,1988.0,2003.0,1990.0,1990.0,1965.0,1960.0,1970.0,1960.0,1960.0,1960.0,1960.0,1988.0,1988.0,1940.0,1940.0,1940.0,1920.0,1960.0,1930.0,1940.0,1920.0,1973.0,1920.0,1920.0,1920.0,1991.0,1974.0,1920.0,1920.0,1930.0,1930.0,1920.0,1920.0,1920.0,1965.0,1965.0,1940.0,1980.0,1950.0,1960.0,1960.0,1960.0,1960.0,1970.0,1980.0,1980.0,1960.0,1960.0,1980.0,1978.0,1978.0,1967.0,1960.0,1970.0,1980.0,1960.0,1927.0,1952.0,2007.0,1940.0,1957.0,1960.0,1980.0,1970.0,1970.0,1960.0,1960.0,1980.0,1960.0,1960.0,1980.0,1970.0,1978.0,1988.0,1800.0,1988.0,1980.0,1980.0,2007.0,1960.0,1988.0,1985.0,1985.0,2009.0,2009.0,2009.0,1980.0,1980.0,1980.0,1980.0,1980.0,1980.0,1930.0,1930.0,1960.0,1960.0,1985.0,1960.0,1960.0,1980.0,1980.0,1940.0,1940.0,1920.0,1977.0,1890.0,1900.0,1960.0,1949.0,1978.0,1949.0,1975.0,1975.0,1975.0,1970.0,1951.0,1980.0,1960.0,1960.0,1988.0,1960.0,1960.0,1960.0,1960.0,1980.0,1988.0,1980.0,1950.0,1980.0,2008.0,2008.0,1960.0,1980.0,1960.0,1980.0,1960.0,1960.0,1960.0,1988.0,1972.0,1972.0,1970.0,1970.0,1972.0,1988.0,1987.0,2010.0,2000.0,2000.0,1920.0,1970.0,1970.0,1960.0,1960.0,1900.0,1960.0,2011.0,1960.0,1970.0,1970.0,1920.0,2007.0,1980.0,1980.0,1962.0,1900.0,1900.0,1930.0,1980.0,1980.0,1980.0,1960.0,1960.0,1950.0,1960.0,1956.0,1975.0,1960.0,1960.0,1980.0,1970.0,1980.0,1960.0,1960.0,1960.0,1980.0,1980.0,1980.0,1988.0,1988.0,1960.0,1960.0,1960.0,1980.0,1980.0,1980.0,1993.0,1988.0,1988.0,1960.0,1960.0,1960.0,1960.0,1980.0,1960.0,1988.0,1970.0,1975.0,1980.0,1960.0,1950.0,1960.0,1960.0,1900.0,1980.0,1960.0,1980.0,1980.0,1960.0,1980.0,1980.0,2003.0,1980.0,1960.0,1940.0,1940.0,1912.0,1912.0,1960.0,1950.0,1980.0,1980.0,1980.0,1988.0,1983.0,1980.0,1980.0,1980.0,1954.0,1960.0,1960.0,1965.0,1965.0,1960.0,1960.0,1980.0,1960.0,1960.0,1968.0,1960.0,1960.0,1960.0,1980.0,1960.0,1960.0,1980.0,1960.0,1960.0,1980.0,1988.0,1990.0,1900.0,2004.0,2004.0,2004.0,1970.0,1954.0,1960.0,1900.0,1900.0,1936.0,1965.0,1958.0,1966.0,1973.0,1970.0,1953.0,1953.0,1953.0,2009.0,1920.0,1900.0,1965.0,1965.0,1974.0,1920.0,1920.0,2006.0,1900.0,1900.0,1900.0,1940.0,1940.0,1979.0,1960.0,1950.0,1900.0,1900.0,1995.0,1900.0,1954.0,1946.0,1960.0,1954.0,2013.0,1995.0,1980.0,1900.0,1980.0,1975.0,1960.0,1960.0,1980.0,1970.0,1980.0,1970.0,1970.0,1970.0,1960.0,1980.0,1980.0,1970.0,1955.0,1970.0,1980.0,1980.0,1920.0,1950.0,1970.0,1970.0,1930.0,1960.0,1960.0,1950.0,1970.0,1970.0,1950.0,1950.0,1980.0,1980.0,1980.0,1982.0,1960.0,1960.0,1960.0,1960.0,1980.0,1960.0,1960.0,1980.0,1980.0,1980.0,1980.0,1980.0,1988.0,1960.0,1972.0,1960.0,1960.0,1988.0,1988.0,1980.0,1988.0,1960.0,1960.0,1960.0,1930.0,1951.0,1988.0,1970.0,1980.0,1980.0,1970.0,1930.0,1900.0,1900.0,1980.0,1980.0,1988.0,1980.0,1975.0,1980.0,1970.0,1970.0,1960.0,1960.0,1930.0,1975.0,1970.0,1920.0,1990.0,1990.0,1900.0,1970.0,1970.0,1975.0,1970.0,1980.0,1960.0,1980.0,1980.0,1980.0,1980.0,1975.0,1960.0,1970.0,1988.0,1980.0,1988.0,1980.0,1988.0,1988.0,1980.0,1980.0,1988.0,1999.0,1985.0,1985.0,1980.0,1988.0,1990.0,2006.0,1970.0,1980.0,1960.0,1978.0,1988.0,1960.0,1980.0,1980.0,1980.0,1980.0,1980.0,2000.0,1990.0,1990.0,1968.0,1960.0,2001.0,1900.0,1988.0,1960.0,1960.0,1900.0,1975.0,1970.0,1968.0,1970.0,1987.0,1976.0,1990.0,1980.0,1980.0,1980.0,1960.0,1960.0,1970.0,1870.0,1870.0,1900.0,1900.0,1900.0,1960.0,1920.0,1980.0,1980.0,1970.0,1957.0,1960.0,1980.0,1980.0,1900.0,1988.0,1988.0,1980.0,1960.0,1980.0,1970.0,1988.0,2007.0,2000.0,1950.0,1960.0,1961.0,1981.0,1981.0,1980.0,1980.0,1960.0,1960.0,1980.0,1980.0,1960.0,1960.0,1960.0,2015.0,1960.0,1960.0,1960.0,1613.0,1900.0,1960.0,1988.0,1950.0,1900.0,1961.0,1967.0,2010.0,1961.0,1971.0,1971.0,1850.0,1995.0,1950.0,1950.0,1950.0,2001.0,1962.0,1962.0,1900.0,1970.0,1700.0,1970.0,1850.0,1700.0,1850.0,1850.0,1850.0,1850.0,1850.0,1850.0,1850.0,1850.0,2011.0,2011.0,1999.0,1950.0,1964.0,1900.0,1971.0,1971.0,1984.0,1940.0,1988.0,1958.0,1974.0,1972.0,1979.0,1961.0,1960.0,1960.0,1988.0,1988.0,2004.0,1970.0,1988.0,1988.0,1978.0,1980.0,1980.0,1800.0,1800.0,1900.0,1988.0,1980.0,1988.0,1980.0,1980.0,2008.0,1960.0,1960.0,1978.0,1978.0,1988.0,1988.0,1988.0,1980.0,1900.0,1900.0,2014.0,1930.0,1930.0,1960.0,1940.0,1960.0,1988.0,1988.0,2001.0,1979.0,1960.0,2002.0,2002.0,1990.0,1980.0,1958.0,1980.0,1980.0,1980.0,1980.0,1960.0,1960.0,1988.0,1950.0,1920.0,1920.0,1980.0,1980.0,1970.0,1960.0,1960.0,1960.0,1988.0,1960.0,1970.0,1970.0,1980.0,1980.0,1980.0,1980.0,1980.0,1980.0,1980.0,2010.0,2010.0,1982.0,1960.0,1960.0,1960.0,1972.0,1970.0,1970.0,1980.0,2000.0,1972.0,1850.0,1970.0,1970.0,1850.0,1970.0,1960.0,1960.0,1970.0,1970.0,1960.0,1900.0,1960.0,1960.0,1960.0,1960.0,1980.0,1980.0,1980.0,1980.0,1960.0,1960.0,1960.0,1960.0,1960.0,1980.0,1960.0,1980.0,1988.0,1980.0,1980.0,1980.0,1980.0,1900.0,1988.0,1960.0,1980.0,1980.0,1986.0,1986.0,1890.0,2011.0,1960.0,1978.0,1982.0,1970.0,1970.0,1993.0,1993.0,1960.0,1950.0,1960.0,1960.0,1970.0,1980.0,1980.0,1970.0,1980.0,1980.0,1980.0,1970.0,1960.0,1960.0,1992.0,1970.0,1960.0,2010.0,1970.0,1988.0,1980.0,1977.0,1980.0,1988.0,1975.0,1971.0,2015.0,2007.0,2011.0,2011.0,1960.0,1978.0,1972.0,1960.0,1960.0,1988.0,1988.0,2010.0,2010.0,2010.0,2005.0,2012.0,1970.0,2002.0,1980.0,1980.0,1960.0,1960.0,1960.0,2004.0,2007.0,1980.0,1980.0,1955.0,2005.0,1980.0,1980.0,1980.0,1970.0,1980.0,1980.0,1980.0,1960.0,1960.0,1960.0,1950.0,1988.0,1980.0,1954.0,1976.0,1969.0,1900.0,1974.0,1960.0,1988.0,1960.0,2010.0,2011.0,1970.0,1970.0,1800.0,1800.0,1980.0,1980.0,1980.0,1980.0,1980.0,1950.0,1960.0,2006.0,1971.0,1971.0,1988.0,1991.0,1980.0,1980.0,1999.0,1960.0,1980.0,1988.0,1988.0,2010.0,2012.0,1980.0,1988.0,1988.0,1995.0,1995.0,1995.0,1974.0,2010.0,1970.0,1970.0,2007.0,2007.0,1960.0,1988.0,1983.0,1983.0,1983.0,1983.0,1988.0,1988.0,1970.0,2007.0,2007.0,1980.0,1980.0,1980.0,1980.0,1980.0,1980.0,1980.0,2010.0,2010.0,1970.0,1970.0,1980.0,1980.0,1980.0,1980.0,1980.0,1980.0,1960.0,1980.0,1940.0,1980.0,1980.0,1960.0,1960.0,1900.0,1900.0,1960.0,1950.0,1960.0,1960.0,1960.0,1900.0,1960.0,1950.0,1960.0,1960.0,1970.0,1900.0,1900.0,1940.0,1960.0,1960.0,1920.0,1960.0,1900.0,1940.0,1980.0,1980.0,1940.0,1940.0,1960.0,1960.0,1960.0,1950.0,1970.0,1960.0,1960.0,1960.0,1960.0,1960.0,1910.0,1960.0,1970.0,1960.0,1960.0,1960.0,1960.0,1960.0,1960.0,1960.0,1900.0,1960.0,1960.0,1900.0,1920.0,1960.0,1960.0,1980.0,1980.0,1960.0,1960.0,1960.0,1960.0,1960.0,1960.0,1960.0,1960.0,1960.0,1960.0,1960.0,1920.0,1960.0,2009.0,1960.0,1957.0,1957.0,1900.0,1900.0,1945.0,1960.0,1940.0,1960.0,1960.0,1960.0,1960.0,1960.0,1960.0,1960.0,1970.0,1960.0,1960.0,1950.0,1960.0,1960.0,1960.0,1980.0,1980.0,1980.0,1960.0,1980.0,1960.0,1960.0,1960.0,1930.0,1960.0,1960.0,1960.0,1960.0,1960.0,1970.0,1900.0,2011.0,2011.0,1900.0,1960.0,1960.0,1960.0,1960.0,1970.0,1960.0,1960.0,1960.0,1960.0,1960.0,1960.0,1960.0,1960.0,1970.0,1930.0,1950.0,1900.0,1900.0,1960.0,1940.0,1960.0,1960.0,1950.0,1960.0,1960.0,1960.0,1960.0,1960.0,1980.0,1960.0,1960.0,1900.0,1900.0,1950.0,1960.0,1957.0,1957.0,1930.0,1864.0,1965.0,1960.0,1970.0,1960.0,1900.0,1942.0,1942.0,1942.0,1945.0,1970.0,1960.0,1960.0,1960.0,1960.0,1960.0,1970.0,1970.0,1960.0,1960.0,1970.0,1970.0,1960.0,1960.0,1980.0,1980.0,1960.0,1980.0,1980.0,1980.0,1980.0,1960.0,1980.0,1940.0,1950.0,1970.0,1970.0,1970.0,1960.0,1960.0,1960.0,1960.0,1960.0,1960.0,1960.0,1900.0,1960.0,1960.0,1960.0,1900.0,1940.0,1940.0,1900.0,1960.0,1960.0,1970.0,1900.0,1965.0,1900.0,1900.0,1930.0,1960.0,1960.0,1900.0,1950.0,1900.0,1950.0,1960.0,1930.0,1930.0,1900.0,1920.0,1900.0,1960.0,1980.0,1960.0,1970.0,1900.0,1960.0,1960.0,1970.0,1960.0,1960.0,1960.0,1900.0,1920.0,1960.0,1960.0,1900.0,1900.0,1900.0,1900.0,1960.0,1960.0,1960.0,1960.0,1960.0,1960.0,1960.0,1920.0,1960.0,1960.0,1970.0,1960.0,1960.0,1960.0,1960.0,1960.0,1970.0,2003.0,1960.0,1960.0,1978.0,1960.0,1960.0,1960.0,1960.0,1960.0,1980.0,1950.0,1960.0,1960.0,1960.0,1960.0,1900.0,1970.0,1960.0,1900.0,1900.0,1960.0,1960.0,1930.0,1930.0,1945.0,1945.0,1960.0,1960.0,1900.0,1976.0,1970.0,1930.0,1940.0,1960.0,1900.0,1960.0,1970.0,1900.0,1955.0,1955.0,1900.0,1900.0,1939.0,1930.0,1960.0,1920.0,1900.0,1940.0,1930.0,1930.0,1900.0,1920.0,1930.0,1960.0,1960.0,1960.0,1960.0,1960.0,1960.0,1960.0,1960.0,1960.0,1960.0,1960.0,1900.0,1960.0,1960.0,1960.0,1960.0,1970.0,1960.0,1960.0,1970.0,1960.0,1970.0,1960.0,1934.0,1970.0,1930.0,1960.0,1900.0,1960.0,1970.0,1960.0,1960.0,1960.0,1960.0,1960.0,1960.0,1960.0,1960.0,1960.0,1960.0,1960.0,1980.0,1960.0,1960.0,1960.0,1980.0,1980.0,1960.0,1960.0,1930.0,1930.0,1890.0,1960.0,1960.0,1940.0,1960.0,1960.0,1960.0,1960.0,1900.0,1900.0,1960.0,1960.0,1960.0,1960.0,1960.0,1960.0,1960.0,1960.0,1980.0,1970.0,1970.0,1970.0,1960.0,1950.0,1900.0,1960.0,1950.0,2015.0,1975.0,1900.0,1960.0,1970.0,1970.0,1960.0,1960.0,1988.0,1960.0,1960.0,1960.0,1960.0,1960.0,1960.0,1960.0,1960.0,1960.0,1960.0,1970.0,1970.0,1960.0,1980.0,1980.0,1960.0,1900.0,1900.0,1900.0,1960.0,1960.0,2006.0,1960.0,1960.0,1960.0,1960.0,1960.0,1960.0,1960.0,1980.0,1920.0,1970.0,1960.0,1960.0,2010.0,2001.0,1930.0,1950.0,1960.0,1960.0,1930.0,1970.0,1970.0,1900.0,1970.0,1960.0,1960.0,1980.0,1980.0,1980.0,1980.0,1960.0,1960.0,1960.0,1960.0,1970.0,1960.0,1960.0,1988.0,1980.0,1950.0,1960.0,1960.0,1960.0,1960.0,1970.0,1960.0,1960.0,1960.0,1960.0,1980.0,1960.0,1970.0,2009.0,2009.0,1970.0,1950.0,1999.0,1970.0,1960.0,1980.0,1960.0,1960.0,1960.0,1960.0,1960.0,1970.0,1970.0,1960.0,1960.0,1960.0,1960.0,1960.0,1960.0,1988.0,1970.0,1960.0,1980.0,1980.0,2010.0,1960.0,1960.0,1910.0,1960.0,1960.0,2011.0,2011.0,2011.0,1998.0,1930.0,1970.0,1960.0,1960.0,1960.0,1960.0,1960.0,1960.0,1850.0,1970.0,1964.0,1964.0,1900.0,2003.0,1960.0,2001.0,2011.0,1908.0,1980.0,1980.0,1960.0,1960.0,1960.0,1948.0,2009.0,2011.0,1973.0,1973.0,1973.0,2012.0,1860.0,1960.0,1960.0,1980.0,1980.0,1980.0,1900.0,1999.0,1980.0,1980.0,1950.0,1980.0,2012.0,1950.0,1910.0,1910.0,1910.0,1960.0,1960.0,1960.0,1960.0,1960.0,2009.0,2009.0,2007.0,1960.0,1960.0,1960.0,2010.0,1910.0,1960.0,1950.0,1960.0,1900.0,1980.0,1960.0,1988.0,1950.0,1940.0,1930.0,1960.0,1900.0,1960.0,1960.0,1960.0,1960.0,1960.0,1960.0,1960.0,1980.0,1980.0,1980.0,1970.0,1980.0,1960.0,1980.0,1960.0,1960.0,1990.0,1980.0,1980.0,1960.0,1960.0,1980.0,1980.0,1980.0,1980.0,1980.0,1980.0,1980.0,1980.0,1980.0,1980.0,1965.0,1980.0,1980.0,1980.0,1960.0,1980.0,1980.0,1980.0,1980.0,1980.0,1980.0,1980.0,1980.0,1960.0,1970.0,1980.0,1980.0,1980.0,1980.0,1960.0,1960.0,1970.0,1960.0,1960.0,1980.0,1980.0,1980.0,1980.0,1980.0,1980.0,1980.0,1980.0,1980.0,1988.0,1988.0,1980.0,1974.0,1974.0,1960.0,2011.0,1980.0,1980.0,1960.0,1960.0,1980.0,1980.0,1980.0,1980.0,1988.0,1976.0,1980.0,1980.0,1980.0,1980.0,1980.0,1926.0,1850.0,1960.0,1960.0,1981.0,1960.0,1960.0,1970.0,1980.0,1970.0,1977.0,1980.0,1980.0,1979.0,1990.0,1960.0,1960.0,1980.0,1960.0,1957.0,2009.0,2005.0,2005.0,2005.0,1900.0,1900.0,1978.0,1978.0,2009.0,2009.0,1998.0,1998.0,1960.0,1970.0,1960.0,2009.0,1960.0,1980.0,1960.0,2007.0,1987.0,1972.0,1972.0,2008.0,2003.0,1988.0,2010.0,2009.0,1988.0,1975.0,1975.0,1850.0,1850.0,1967.0,1860.0,1988.0,1988.0,1988.0,2011.0,1971.0,2006.0,1970.0,1970.0,1998.0,1970.0,1960.0,1988.0,1988.0,1960.0,1988.0,1960.0,1980.0,1988.0,1920.0,1920.0,1950.0,1987.0,1980.0,1988.0,1988.0,1960.0,1980.0,1960.0,1980.0,1999.0,1980.0,1980.0,2006.0,1960.0,1960.0,1988.0,1938.0,1976.0,1988.0,1988.0,1988.0,1988.0,1988.0,1980.0,1980.0,1980.0,1988.0,1980.0,1960.0,1980.0,2005.0,2005.0,1940.0,1970.0,1960.0,1980.0,1980.0,1988.0,1890.0,1900.0,1970.0,1850.0,1960.0,1960.0,1990.0,1988.0,1988.0,1980.0,1980.0,2001.0,1988.0,1992.0,2012.0,1980.0,1980.0,2006.0,1960.0,1960.0,1970.0,1960.0,1988.0,1960.0,1960.0,1960.0,1960.0,1960.0,1960.0,1900.0,1980.0,1960.0,1960.0,1960.0,1960.0,1960.0,1960.0,1960.0,1900.0,1980.0,1960.0,1975.0,1980.0,1960.0,1960.0,1960.0,1980.0,1980.0,1960.0,1981.0,1981.0,1981.0,1960.0,1980.0,1960.0,1895.0,1900.0,1960.0,1960.0,1960.0,1980.0,1980.0,1974.0,1960.0,1960.0,1980.0,1980.0,1980.0,1980.0,1980.0,1980.0,1970.0,1970.0,1970.0,1980.0,1960.0,1980.0,1960.0,1960.0,1980.0,1980.0,1960.0,1960.0,1980.0,1980.0,1960.0,1960.0,1960.0,1960.0,1960.0,1980.0,1960.0,1980.0,1960.0,1988.0,1980.0,1980.0,1980.0,2008.0,2014.0,2010.0,1980.0,1980.0,1980.0,1980.0,1960.0,1960.0,1960.0,1980.0,1988.0,1988.0,1960.0,1970.0,1980.0,1970.0,1970.0,1988.0,2000.0,1980.0,2015.0,1988.0,2007.0,2007.0,1973.0,1980.0,1980.0,1960.0,1995.0,1960.0,1960.0,1980.0,1960.0,1900.0,1900.0,1980.0,1960.0,1980.0,1980.0,1960.0,1900.0,1980.0,1545.0,1980.0,1980.0,1960.0,1988.0,1870.0,1960.0,1979.0,1980.0,1960.0,2009.0,1958.0,1958.0,1960.0,1960.0,1980.0,1980.0,1950.0,2003.0,1949.0,1960.0,1980.0,1970.0,1980.0,1960.0,1900.0,1900.0,1900.0,1960.0,1960.0,1980.0,1960.0,1960.0,1971.0,1960.0,1970.0,1980.0,1980.0,1950.0,1960.0,1968.0,1971.0,1930.0,1960.0,1960.0,1960.0,1900.0,1900.0,1960.0,1970.0,1959.0,1960.0,1960.0,1970.0,1970.0,1960.0,1962.0,1962.0,1962.0,1980.0,1980.0,1960.0,1970.0,1960.0,1960.0,1960.0,1980.0,1960.0,1900.0,1900.0,1988.0,1960.0,1980.0,1988.0,1960.0,1850.0,1850.0,1850.0,2009.0,2007.0,1966.0,1980.0,1971.0,1971.0,1965.0,2004.0,1971.0,1971.0,1979.0,1979.0,1955.0,1998.0,1998.0,1978.0,1978.0,2012.0,2012.0,1983.0,1962.0,1980.0,1974.0,1900.0,1980.0,1970.0,1900.0,1960.0,1960.0,2009.0,1988.0,1960.0,1960.0,1950.0,1960.0,1970.0,1980.0,1960.0,1960.0,1960.0,1970.0,1970.0,1970.0,1971.0,1960.0,1960.0,1980.0,1970.0,1970.0,1980.0,1970.0,1980.0,1980.0,1980.0,1980.0,1974.0,1980.0,1980.0,1970.0,1970.0,1989.0,1970.0,1970.0,1970.0,1980.0,1980.0,1970.0,1970.0,1970.0,1980.0,1980.0,1970.0,1970.0,1980.0,1970.0,1970.0,1980.0,1980.0,1970.0,1970.0,1980.0,1970.0,1970.0,1970.0,1980.0,1980.0,2008.0,1980.0,1980.0,1980.0,1950.0,1930.0,1960.0,1960.0,1960.0,1960.0,1980.0,1980.0,1996.0,2004.0,1980.0,1980.0,1988.0,1970.0,1969.0,1992.0,1980.0,1980.0,1973.0,1973.0,1982.0,1984.0,1962.0,1988.0,1974.0,1961.0,1961.0,1970.0,1970.0,1988.0,1963.0,1967.0,1970.0,1979.0,1975.0,1991.0,1900.0,1980.0,1980.0,1980.0,1979.0,1990.0,1980.0,1980.0,1980.0,1980.0,1970.0,1960.0,1980.0,2003.0,2003.0,1980.0,1900.0,1975.0,1974.0,1974.0,1870.0,1950.0,1950.0,1948.0,1970.0,1900.0,1980.0,1900.0,1900.0,1900.0,1900.0,1960.0,1960.0,1980.0,2004.0,1960.0,1920.0,1900.0,1988.0,1988.0,1988.0,2009.0,1992.0,1980.0,1980.0,1980.0,1985.0,2009.0,1840.0,2010.0,2016.0,2011.0,2011.0,2011.0,2012.0,2012.0,2014.0,1970.0,1970.0,1988.0,1988.0,2011.0,2011.0,2011.0,1980.0,1988.0,1988.0,1988.0,1970.0,1980.0,2008.0,2008.0,1960.0,1955.0,1986.0,1963.0,1963.0,1970.0,1970.0,1988.0,1970.0,1960.0,1991.0,1960.0,1985.0,2008.0,1800.0,1970.0,1972.0,1972.0,1900.0,2010.0,1990.0,1995.0,1974.0,1980.0,1974.0,2011.0,1700.0,1960.0,2011.0,2011.0,2011.0,2011.0,2011.0,2011.0,1984.0,1970.0,1989.0,1989.0,1970.0,1970.0,1973.0,1960.0,1988.0,1988.0,1960.0,1950.0,1950.0,2000.0,2000.0,1930.0,1992.0,1920.0,1970.0,1930.0,1960.0,1960.0,1970.0,1980.0,1980.0,1980.0,1980.0,1960.0,1970.0,1970.0,1970.0,1980.0,1980.0,1960.0,1985.0,1960.0,1970.0,1970.0,1718.0,1718.0,1975.0,1970.0,1960.0,1960.0,1995.0,1970.0,1960.0,1900.0,1985.0,1985.0,1980.0,1985.0,1985.0,2006.0,1988.0,1970.0,1988.0,1960.0,1974.0,1910.0,1900.0,1981.0,1990.0,1960.0,1960.0,1960.0,1988.0,1600.0,1870.0,1850.0,1970.0,1960.0,1970.0,1960.0,1850.0,1960.0,1960.0,1875.0,1875.0,1960.0,1875.0,1875.0,1960.0,1960.0,1960.0,1850.0,1850.0,1850.0,1960.0,1960.0,1988.0,1960.0,1970.0,1960.0,1960.0,1960.0,1960.0,1850.0,1898.0,1950.0,1965.0,1960.0,1964.0,1960.0,1960.0,1960.0,2001.0,1975.0,1975.0,1980.0,1900.0,1900.0,1880.0,1997.0,1997.0,1990.0,1990.0,1960.0,1900.0,1920.0,1980.0,1900.0,1900.0,1800.0,1900.0,1989.0,2005.0,1890.0,2000.0,1880.0,1985.0,2011.0,1970.0,2005.0,2009.0,1800.0,1900.0,1930.0,1930.0,1978.0,1978.0,1800.0,1981.0,1920.0,1900.0,2004.0,1850.0,1900.0,1990.0,1990.0,1997.0,1900.0,1900.0,1850.0,1900.0,1950.0,1950.0,1970.0,1970.0,1960.0,1960.0,1960.0,1970.0,1970.0,1970.0,1970.0,1970.0,1970.0,1960.0,1960.0,1960.0,1960.0,1970.0,1960.0,1960.0,1960.0,1980.0,1960.0,1960.0,1970.0,1960.0,1960.0,1960.0,1800.0,1970.0,1960.0,1970.0,1970.0,1970.0,1970.0,1980.0,1960.0,1960.0,1800.0,1800.0,1850.0,1930.0,1970.0,1970.0,1970.0,1800.0,1970.0,1970.0,1988.0,1980.0,1960.0,1972.0,2005.0,2005.0,1985.0,1970.0,1970.0,1970.0,1970.0,1960.0,1970.0,1970.0,2001.0,2011.0,2012.0,2012.0,1967.0,1975.0,1980.0,1988.0,1960.0,2012.0,1960.0,1972.0,1992.0,2012.0,1945.0,1988.0,1960.0,1967.0,1980.0,1980.0,2011.0,2011.0,2011.0,1980.0,1988.0,1988.0,1988.0,1988.0,2011.0,1980.0,1980.0,1980.0,1980.0,1988.0,1960.0,1960.0,1980.0,1980.0,1900.0,1960.0,1980.0,1900.0,1980.0,1960.0,1960.0,1980.0,1980.0,1980.0,1965.0,2010.0,1960.0,1960.0,1970.0,1980.0,1980.0,1980.0,1960.0,1980.0,1980.0,1980.0,1980.0,1960.0,1980.0,1960.0,1960.0,1960.0,1960.0,1980.0,1980.0,1600.0,1600.0,1980.0,1960.0,1960.0,1960.0,1960.0,1960.0,2004.0,1988.0,2011.0,2009.0,1980.0,1960.0,1960.0,1980.0,1980.0,1990.0,1990.0,1988.0,1988.0,1990.0,1989.0,1960.0,1960.0,1980.0,1900.0,2009.0,2009.0,1988.0,1970.0,1988.0,2000.0,2008.0,2012.0,1960.0,1970.0,1960.0,1980.0,1960.0,1980.0,1960.0,1960.0,1960.0,1960.0,1960.0,1930.0,1930.0,1920.0,1920.0,1992.0,1950.0,2006.0,1900.0,1980.0,1960.0,1960.0,1988.0,1960.0,1930.0,1980.0,1970.0,1960.0,1980.0,1950.0,1930.0,1930.0,1980.0,1960.0,1980.0,1960.0,1900.0,1960.0,1960.0,1960.0,1980.0,1960.0,1960.0,1900.0,1960.0,1930.0,1930.0,1960.0,1960.0,1960.0,1980.0,1930.0,1960.0,1900.0,1960.0,1960.0,1980.0,1980.0,1960.0,1960.0,2009.0,1963.0,1989.0,1980.0,2004.0,1960.0,1900.0,1960.0,1960.0,1960.0,1960.0,1960.0,1960.0,1988.0,1980.0,1988.0,1930.0,1930.0,1960.0,1950.0,1980.0,2006.0,1900.0,1960.0,1960.0,1988.0,1988.0,2009.0,1980.0,1988.0,1988.0,1998.0,1981.0,1981.0,2011.0,2011.0,1949.0,1980.0,1980.0,1980.0,1970.0,1970.0,1980.0,1960.0,1950.0,1960.0,1960.0,1988.0,1988.0,1980.0,1980.0,1980.0,1980.0,1980.0,1980.0,1980.0,1980.0,1980.0,1970.0,1980.0,1980.0,1980.0,1980.0,1970.0,1970.0,1950.0,1980.0,1988.0,2009.0,2004.0,1990.0,2010.0,1950.0,1960.0,1980.0,1960.0,1960.0,1977.0,1977.0,1977.0,1977.0,1980.0,1980.0,1980.0,1900.0,1900.0,1900.0,1900.0,1980.0,1960.0,1960.0,1960.0,1960.0,1960.0,1948.0,1900.0,1980.0,1960.0,2009.0,2011.0,2011.0,2003.0,1970.0,2007.0,2002.0,2009.0,1971.0,1900.0,1990.0,1990.0,1950.0,1990.0,1972.0,1950.0,1960.0,1960.0,1995.0,1993.0,2011.0,2007.0,1900.0,2015.0,2015.0,1950.0,1950.0,1980.0,1980.0,1970.0,1980.0,1960.0,1960.0,1850.0,1960.0,2000.0,2000.0,1960.0,1960.0,1960.0,1960.0,1945.0,1980.0,1980.0,1980.0,1980.0,1980.0,1980.0,1980.0,1980.0,1980.0,1980.0,1980.0,1980.0,1980.0,1980.0,1983.0,1983.0,1974.0,1962.0,1983.0,1980.0,1980.0,1980.0,1979.0,1979.0,1960.0,1960.0,1980.0,1980.0,1960.0,1988.0,1980.0,1996.0,2010.0,1960.0,1970.0,1850.0,1969.0,1960.0,1960.0,1999.0,2000.0,1960.0,1988.0,1960.0,2011.0,1960.0,1980.0,1980.0,1970.0,1960.0,1980.0,1980.0,2012.0,2012.0,1988.0,2010.0,1988.0,1960.0,2000.0,2008.0,1960.0,1960.0,1900.0,2011.0,2011.0,2012.0,1980.0,1960.0,1960.0,1960.0,1970.0,1900.0,1988.0,2000.0,1988.0,1988.0,1988.0,1988.0,1980.0,1980.0,1975.0,1972.0,1970.0,1974.0,1980.0,1995.0,1988.0,1988.0,1989.0,1975.0,1960.0,1980.0,1960.0,1960.0,1930.0,1930.0,1960.0,2009.0,1988.0,1980.0,2007.0,1980.0,1952.0,1980.0,1970.0,1980.0,1960.0,1960.0,1930.0,1970.0,1968.0,1968.0,1960.0,1960.0,1930.0,2000.0,2000.0,1965.0,1980.0,1960.0,1967.0,1963.0,1990.0,1980.0,1980.0,1980.0,1960.0,1954.0,1970.0,1950.0,1950.0,1900.0,1960.0,1960.0,1960.0,1900.0,1970.0,1980.0,1980.0,1980.0,1960.0,1970.0,1980.0,1980.0,1960.0,1960.0,1960.0,1960.0,1980.0,1980.0,1960.0,1980.0,1960.0,1960.0,1980.0,1980.0,1960.0,1975.0,1960.0,1969.0,1960.0,1960.0,1960.0,1960.0,1960.0,1969.0,1969.0,1969.0,1969.0,1969.0,1969.0,1969.0,1969.0,1969.0,1999.0,1915.0,1970.0,1988.0,1988.0,1960.0,1982.0,1920.0,1980.0,1960.0,1988.0,1988.0,1988.0,1960.0,1988.0,2009.0,1960.0,1960.0,1960.0,1980.0,2003.0,2003.0,1963.0,1980.0,1970.0,1900.0,1900.0,2009.0,2012.0,1953.0,1960.0,1960.0,1980.0,1960.0,1991.0,1991.0,1991.0,1980.0,1980.0,1970.0,1960.0,1980.0,1960.0,1967.0,1967.0,1960.0,1960.0,1980.0,1989.0,1989.0,1989.0,1960.0,1960.0,1980.0,1996.0,1988.0,1950.0,2002.0,1900.0,1960.0,1960.0,1960.0,1990.0,1994.0,2013.0,1988.0,1988.0,1988.0,2004.0,1960.0,1960.0,1930.0,1945.0,1970.0,1970.0,1810.0,1810.0,1987.0,1980.0,1980.0,1980.0,1937.0,1988.0,2002.0,1992.0,1960.0,1960.0,1960.0,1960.0,1960.0,1980.0,1980.0,1980.0,1980.0,1980.0,1988.0,1975.0,1988.0,1960.0,1985.0,1985.0,1985.0,1970.0,1970.0,1970.0,1970.0,1966.0,1960.0,1980.0,1960.0,1988.0,1988.0,1970.0,1988.0,1980.0,1980.0,1980.0,1960.0,1980.0,1900.0,1960.0,1960.0,1960.0,1907.0,1907.0,1960.0,2007.0,1990.0,1990.0,1970.0,1980.0,1985.0,1900.0,1960.0,1970.0,1988.0,2004.0,2004.0,2004.0,1980.0,2007.0,2007.0,1983.0,2003.0,2004.0,1988.0,1960.0,1960.0,1970.0,1960.0,1960.0,1960.0,1960.0,1994.0,2009.0,1960.0,1970.0,1963.0,1980.0,1940.0,1960.0,1960.0,1960.0,1960.0,1960.0,1960.0,1960.0,2009.0,2009.0,1960.0,1997.0,1970.0,1970.0,1890.0,1980.0,1980.0,1980.0,1960.0,1970.0,1970.0,1970.0,1970.0,1970.0,1970.0,1960.0,1970.0,1970.0,1970.0,1970.0,1970.0,1960.0,1960.0,1960.0,1960.0,1960.0,1930.0,1963.0,1960.0,1980.0,1988.0,1988.0,1988.0,1960.0,1980.0,1960.0,1960.0,1960.0,1980.0,1970.0,1960.0,1920.0,1920.0,1920.0,1970.0,1960.0,1960.0,1988.0,1900.0,1930.0,1970.0,1982.0,1900.0,1960.0,1980.0,1950.0,2007.0,1970.0,1970.0,1950.0,1930.0,1900.0,1965.0,1900.0,2012.0,1940.0,1957.0,1960.0,1961.0,1980.0,1980.0,1956.0,1956.0,1960.0,1980.0,1960.0,1960.0,1920.0,1915.0,1960.0,1931.0,1960.0,1980.0,1960.0,1960.0,1900.0,1960.0,1960.0,1960.0,1988.0,1940.0,1970.0,1970.0,1970.0,1970.0,1900.0,2011.0,2011.0,1960.0,1982.0,1900.0,2006.0,2009.0,2009.0,1960.0,2000.0,1980.0,2000.0,2000.0,1900.0,1970.0,1980.0,1980.0,1980.0,1930.0,1950.0,1950.0,1960.0,1980.0,1980.0,1975.0,1988.0,2003.0,1900.0,1900.0,1900.0,1980.0,1980.0,1980.0,1980.0,1975.0,1960.0,1890.0,1988.0,1980.0,1980.0,1925.0,1960.0,1980.0,1980.0,1960.0,1988.0,1960.0,1988.0,1980.0,1960.0,1980.0,1980.0,1980.0,1980.0,1850.0,2012.0,1983.0,2010.0,2010.0,1960.0,2011.0,1960.0,1960.0,2008.0,2009.0,2009.0,2012.0,2012.0,1990.0,1900.0,1960.0,1960.0,1980.0,1980.0,1960.0,1950.0,1937.0,1937.0,1960.0,1960.0,1960.0,1960.0,1970.0,1970.0,1985.0,1995.0,1980.0,1980.0,1980.0,1983.0,1971.0,1980.0,1953.0,1980.0,2010.0,1988.0,2011.0,2011.0,2013.0,2013.0,1980.0,2010.0,2010.0,2010.0,1971.0,1960.0,1960.0,1960.0,1960.0,1960.0,1900.0,1900.0,2007.0,1970.0,2008.0,1960.0,1960.0,1960.0,1960.0,1980.0,1980.0,1960.0,1959.0,1980.0,1960.0,2004.0,2004.0,1960.0,1960.0,1988.0,1962.0,1962.0,1900.0,1850.0,1850.0,1960.0,1930.0,1960.0,1900.0,1900.0,2007.0,2010.0,1965.0,1965.0,1960.0,1960.0,1960.0,1960.0,1960.0,1960.0,1960.0,1960.0,1960.0,1988.0,1930.0,1990.0,1970.0,1970.0,1960.0,1950.0,1950.0,1950.0,1994.0,1970.0,1970.0,1935.0,1935.0,1960.0,1960.0,1960.0,1960.0,1980.0,1980.0,1960.0,1970.0,1930.0,1930.0,2013.0,1960.0,1960.0,1960.0,1960.0,1930.0,1960.0,1960.0,1930.0,1925.0,1930.0,1960.0,1960.0,1960.0,1960.0,1960.0,1960.0,1988.0,1960.0,1970.0,1960.0,1970.0,1960.0,1970.0,1970.0,1960.0,1970.0,1960.0,1960.0,1960.0,1935.0,1935.0,1960.0,1960.0,1988.0,1980.0,1994.0,1980.0,1980.0,1980.0,1980.0,1980.0,1900.0,1960.0,1960.0,1988.0,2000.0,2000.0,1960.0,1960.0,1970.0,1980.0,2009.0,1950.0,2012.0,1960.0,1960.0,1960.0,1980.0,1980.0,1960.0,1960.0,1960.0,1960.0,1960.0,1960.0,1800.0,1800.0,1960.0,1960.0,1960.0,1990.0,1990.0,1990.0,1920.0,1960.0,1970.0,1900.0,1960.0,1850.0,1950.0,1960.0,1960.0,1930.0,1900.0,1960.0,1960.0,1870.0,1870.0,1960.0,1960.0,1960.0,1960.0,1960.0,1960.0,1960.0,1960.0,1930.0,1930.0,1930.0,1980.0,1980.0,1960.0,1960.0,1960.0,1960.0,1960.0,1960.0,1980.0,2012.0,1960.0,1960.0,1960.0,1900.0,1960.0,1960.0,1960.0,1980.0,1980.0,1980.0,1970.0,1980.0,1980.0,1980.0,1980.0,1980.0,1976.0,1976.0,1955.0,1970.0,1970.0,1970.0,1980.0,1980.0,1980.0,1980.0,1980.0,1960.0,1980.0,1980.0,1970.0,1960.0,2009.0,1988.0,2004.0,2004.0,1970.0,1970.0,1960.0,1960.0,2005.0,1960.0,1988.0,1970.0,1970.0,1995.0,1980.0,1960.0,1960.0,1900.0,1970.0,1970.0,1824.0,2000.0,1970.0,1980.0,1970.0,1970.0,1960.0,2004.0,1914.0,1870.0,2005.0,1993.0,1970.0,1975.0,1970.0,1970.0,1970.0,1970.0,1935.0,1935.0,1960.0,1960.0,1989.0,1970.0,1970.0,1970.0,1950.0,1930.0,1970.0,1970.0,1970.0,1955.0,1988.0,1980.0,1988.0,1960.0,1960.0,1965.0,1970.0,1970.0,1970.0,1900.0,1980.0,1988.0,2012.0,1960.0,1980.0,1980.0,1900.0,1972.0,1900.0,1970.0,1970.0,1960.0,1960.0,1960.0,1980.0,1980.0,1960.0,1960.0,1960.0,1960.0,1980.0,1980.0,1960.0,1600.0,1980.0,1960.0,1980.0,1800.0,1988.0,1988.0,1980.0,1980.0,2014.0,1960.0,1900.0,1980.0,2007.0,2004.0,1980.0,2005.0,2005.0,1975.0,1960.0,1960.0,1988.0,1988.0,1988.0,1960.0,1960.0,1900.0,2010.0,1970.0,1972.0,1972.0,1980.0,1960.0,1930.0,1930.0,1960.0,1992.0,1930.0,1930.0,1930.0,1900.0,1930.0,1930.0,1900.0,1930.0,1930.0,1978.0,1978.0,1974.0,1974.0,1930.0,1930.0,1983.0,1930.0,1930.0,2014.0,2015.0,1930.0,1970.0,1970.0,1970.0,1900.0,1960.0,1970.0,1960.0,2008.0,2008.0,1960.0,1960.0,1930.0,1988.0,2003.0,1980.0,1988.0,1988.0,1988.0,1988.0,1988.0,1988.0,2008.0,1960.0,2006.0,1950.0,1900.0,1900.0,2010.0,1970.0,1960.0,1990.0,1990.0,1988.0,1980.0,1950.0,1950.0,2009.0,2009.0,2009.0,2000.0,2011.0,2006.0,1930.0,1930.0,1950.0,2008.0,1970.0,1960.0,1988.0,1945.0,1986.0,1979.0,1998.0,1960.0,1991.0,1988.0,2009.0,2001.0,1950.0,1960.0,1900.0,1750.0,1960.0,1960.0,1988.0,1980.0,1960.0,1960.0,1898.0,1976.0,1976.0,1980.0,1700.0,1960.0,1960.0,2010.0,1960.0,1960.0,1980.0,1980.0,1980.0,1980.0,1930.0,1960.0,1960.0,1980.0,1980.0,1960.0,1980.0,1990.0,1960.0,1960.0,1990.0,1988.0,1988.0,1990.0,1990.0,1988.0,1970.0,1900.0,2010.0,1970.0,1970.0,2011.0,1900.0,1960.0,1960.0,1960.0,2008.0,1980.0,1980.0,1930.0,1930.0,1960.0,1960.0,1980.0,1980.0,1980.0,1995.0,1995.0,1988.0,1950.0,1988.0,1960.0,1960.0,1988.0,2009.0,1970.0,1970.0,1970.0,1970.0,1970.0,1970.0,1968.0,1970.0,1970.0,1970.0,1998.0,1998.0,1988.0,1988.0,2007.0,2009.0,2014.0,2012.0,1970.0,1950.0,1988.0,1988.0,1988.0,1980.0,1988.0,1988.0,2007.0,1980.0,1980.0,1980.0,1980.0,1980.0,1980.0,1980.0,1980.0,2011.0,1980.0,1975.0,1950.0,1990.0,1986.0,1990.0,1988.0,1988.0,1977.0,1960.0,1960.0,1980.0,1980.0,1990.0,1990.0,1988.0,1960.0,1960.0,1988.0,1960.0,1988.0,1988.0,1970.0,1988.0,1990.0,1980.0,1980.0,1980.0,1988.0,1988.0,1988.0,1970.0,1988.0,1980.0,1980.0,1960.0,1980.0,1980.0,1980.0,1960.0,1960.0,2000.0,1988.0,1970.0,1990.0,1990.0,1960.0,2000.0,1970.0,1988.0,1988.0,1960.0,2009.0,1975.0,1980.0,1980.0,1970.0,2014.0,1963.0,1990.0,1980.0,1980.0,1980.0,1960.0,1960.0,1950.0,1950.0,1950.0,1980.0,1970.0,1980.0,1998.0,1960.0,1983.0,1983.0,1980.0,1954.0,1954.0,2003.0,1900.0,1980.0,1980.0,1750.0,1988.0,2008.0,2008.0,1980.0,1988.0,2007.0,1994.0,2010.0,2010.0,2011.0,1930.0,1970.0,1967.0,2012.0,1960.0,1985.0,1985.0,1970.0,2000.0,1900.0,1970.0,1970.0,1960.0,1980.0,1980.0,1960.0,1960.0,1960.0,1960.0,1990.0,1960.0,1930.0,1970.0,1960.0,1900.0,1900.0,1900.0,1960.0,1962.0,1960.0,1960.0,1960.0,1960.0,1960.0,1983.0,1983.0,1998.0,1960.0,1960.0,1900.0,1980.0,1960.0,1960.0,2000.0,1980.0,1930.0,1980.0,1955.0,1970.0,1970.0,1970.0,1960.0,1920.0,1920.0,1960.0,1960.0,1980.0,2002.0,1980.0,1980.0,1980.0,1950.0,2003.0,2003.0,1960.0,1980.0,1980.0,1970.0,1999.0,2003.0,1980.0,1980.0,1970.0,2011.0,1987.0,1980.0,1967.0,1960.0,1960.0,2007.0,1988.0,1988.0,1988.0,1980.0,1988.0,1988.0,1988.0,1980.0,1980.0,1964.0,1964.0,1995.0,2008.0,1970.0,1998.0,1998.0,1988.0,1988.0,1988.0,1988.0,1988.0,2008.0,2009.0,2009.0,2009.0,2010.0,2010.0,2010.0,1990.0,1960.0,1960.0,1950.0,1980.0,1960.0,1970.0,1960.0,1960.0,1910.0,1980.0,1960.0,1960.0,1980.0,1980.0,1950.0,1960.0,1960.0,1960.0,1960.0,1960.0,1988.0,1988.0,1980.0,1980.0,1980.0,1970.0,1930.0,1900.0,1900.0,1976.0,1890.0,1970.0,1900.0,1900.0,1920.0,1975.0,1975.0,1970.0,1965.0,1960.0,1999.0,1970.0,1950.0,1970.0,1960.0,1960.0,1960.0,1960.0,1960.0,1960.0,1920.0,1988.0,1988.0,1985.0,1960.0,2002.0,1988.0,1988.0,1988.0,1988.0,1988.0,1988.0,1988.0,1973.0,1970.0,1988.0,2010.0,2010.0,1970.0,1970.0,1970.0,1800.0,1988.0,1954.0,1988.0,1960.0,1988.0,1970.0,1970.0,1950.0,1970.0,1970.0,1960.0,1990.0,1971.0,1971.0,2008.0,1960.0,1960.0,2003.0,1900.0,1900.0,1960.0,1900.0,1970.0,1970.0,1970.0,1970.0,1975.0,2003.0,2006.0,1995.0,1990.0,1990.0,1960.0,1988.0,1900.0,1900.0,1900.0,1960.0,1940.0,2011.0,1900.0,1900.0,1996.0,1996.0,2013.0,1973.0,1973.0,1920.0,1960.0,1980.0,1980.0,1960.0,1988.0,1960.0,1930.0,1980.0,1960.0,1960.0,1960.0,1960.0,1980.0,1960.0,1980.0,1960.0,1980.0,1980.0,1970.0,1970.0,1960.0,1980.0,1980.0,1980.0,1980.0,1970.0,1980.0,1960.0,1700.0,1991.0,1991.0,1930.0,1930.0,1900.0,1970.0,1960.0,1970.0,1970.0,1970.0,1970.0,1970.0,1970.0,1970.0,1970.0,1970.0,1900.0,1960.0,1900.0,1970.0,1970.0,1970.0,1988.0,1988.0,1970.0,1970.0,1970.0,1970.0,1970.0,1970.0,1970.0,1970.0,1900.0,1980.0,1980.0,1970.0,1988.0,1980.0,1960.0,1960.0,1988.0,2005.0,2008.0,1970.0,1982.0,1979.0,1978.0,1978.0,1978.0,1977.0,1976.0,1980.0,2003.0,2004.0,2004.0,2002.0,2002.0,1973.0,1980.0,1988.0,1950.0,2003.0,2012.0,1970.0,1970.0,1970.0,1980.0,1980.0,1979.0,1979.0,1960.0,2007.0,1982.0,1988.0,1998.0,2008.0,2007.0,1961.0,1961.0,2000.0,1984.0,1960.0,1960.0,1960.0,2003.0,1960.0,1960.0,2014.0,2008.0,2008.0,1988.0,1846.0,1975.0,1989.0,2007.0,2008.0,2008.0,1988.0,1988.0,2008.0,2007.0,2007.0,2007.0,2007.0,1960.0,1960.0,1988.0,1988.0,1960.0,1950.0,1960.0,1960.0,1991.0,1950.0,2005.0,1975.0,2010.0,1900.0,1955.0,1955.0,2001.0,1930.0,2003.0,2009.0,2009.0,2006.0,2011.0,2011.0,2011.0,1971.0,2011.0,1992.0,2010.0,2000.0,1980.0,1980.0,1970.0,1900.0,1900.0,1988.0,1980.0,1980.0,1988.0,1988.0,2010.0,2010.0,1994.0,1960.0,1960.0,1988.0,2007.0,1900.0,1986.0,1984.0,1984.0,1990.0,1990.0,1990.0,1999.0,1990.0,1995.0,1995.0,1988.0,1994.0,1990.0,1940.0,1960.0,1985.0,1988.0,1988.0,1970.0,1999.0,1988.0,1988.0,1988.0,1988.0,2008.0,1970.0,1980.0,1986.0,1990.0,1970.0,1980.0,1960.0,1995.0,1970.0,1980.0,1960.0,1980.0,1980.0,1960.0,1980.0,1970.0,1970.0,1900.0,1960.0,1960.0,1960.0,1960.0,1960.0,1960.0,1960.0,1960.0,1980.0,1970.0,1903.0,1903.0,1990.0,1990.0,1990.0,1990.0,1930.0,1930.0,1905.0,1950.0,1970.0,1961.0,1900.0,1987.0,1986.0,1900.0,1900.0,1920.0,1992.0,1970.0,1980.0,1970.0,1970.0,1980.0,1980.0,1970.0,1970.0,1988.0,1988.0,1970.0,1970.0,1970.0,1970.0,1970.0,1960.0,1880.0,1930.0,1930.0,1970.0,1940.0,1970.0,1960.0,1988.0,1997.0,1998.0,1998.0,2003.0,2002.0,2009.0,1988.0,1980.0,1970.0,1900.0,1800.0,1800.0,1980.0,1998.0,1999.0,1988.0,1920.0,1972.0,1972.0,1960.0,1960.0,1900.0,1980.0,1954.0,1988.0,1960.0,1920.0,1910.0,1982.0,2012.0,2012.0,1970.0,1980.0,1960.0,1988.0,1898.0,1898.0,2002.0,1906.0,1910.0,1960.0,1960.0,1960.0,1960.0,1960.0,1958.0,1800.0,1937.0,2006.0,1972.0,1980.0,1988.0,1988.0,1988.0,1988.0,1980.0,1980.0,1975.0,1985.0,1985.0,1980.0,1980.0,1988.0,1980.0,1980.0,1980.0,1980.0,1980.0,1980.0,1980.0,1980.0,1980.0,1995.0,1988.0,1980.0,1980.0,1980.0,1980.0,1954.0,1995.0,1988.0,1988.0,2002.0,1970.0,2012.0,1900.0,1980.0,1830.0,1970.0,1970.0,1970.0,2003.0,2003.0,1970.0,1960.0,1960.0,1900.0,1960.0,1960.0,1955.0,2012.0,1960.0,1960.0,1960.0,1960.0,1960.0,1980.0,1960.0,1960.0,1988.0,1960.0,1960.0,1970.0,2005.0,2007.0,1600.0,1988.0,1960.0,1980.0,1970.0,1970.0,1970.0,1988.0,1973.0,1960.0,2010.0,1988.0,1988.0,1970.0,1998.0,2012.0,2012.0,2012.0,1980.0,2011.0,1960.0,1989.0,1960.0,1960.0,1970.0,1970.0,1970.0,1970.0,1960.0,1959.0,1980.0,2010.0,2009.0,2009.0,1969.0,1980.0,1960.0,1930.0,1930.0,1970.0,1979.0,2012.0,2012.0,1980.0,1988.0,1993.0,1960.0,1960.0,1960.0,1960.0,1988.0,1970.0,1970.0,1960.0,1960.0,1970.0,1950.0,1900.0,1970.0,1986.0,1986.0,1960.0,1960.0,1959.0,1959.0,1923.0,1970.0,2004.0,1970.0,1950.0,1960.0,1960.0,1960.0,1980.0,1960.0,1950.0,1960.0,1948.0,1960.0,1960.0,1960.0,1960.0,1960.0,1960.0,1980.0,1980.0,1980.0,1900.0,2009.0,2009.0,1980.0,1980.0,1980.0,1980.0,1950.0,1988.0,1960.0,1972.0,1972.0,2011.0,2007.0,1970.0,1988.0,1988.0,1983.0,1969.0,1920.0,1957.0,1960.0,2010.0,1980.0,1960.0,1960.0,1960.0,1960.0,1980.0,1988.0,1960.0,1960.0,1988.0,1988.0,1988.0,1988.0,1988.0,1980.0,1988.0,1970.0,1970.0,1993.0,1988.0,1988.0,1960.0,1960.0,1958.0,2005.0,1988.0,1988.0,1980.0,1988.0,1988.0,1988.0,1988.0,2005.0,1980.0,2008.0,2001.0,2001.0,1980.0,1980.0,1980.0,1980.0,1960.0,1970.0,1994.0,1994.0,1960.0,1960.0,1960.0,2009.0,2008.0,1988.0,1970.0,2009.0,1988.0,1988.0,1970.0,1970.0,2006.0,1988.0,1988.0,1970.0,1988.0,1988.0,1980.0,1970.0,1970.0,1984.0,1988.0,1960.0,1964.0,2011.0,2011.0,1930.0,2013.0,1962.0,1962.0,1970.0,1980.0,1980.0,1980.0,1850.0,1850.0,1960.0,1950.0,1999.0,1960.0,1988.0,1988.0,1988.0,1988.0,1988.0,2008.0,2009.0,1989.0,1960.0,2000.0,2007.0,1924.0,2012.0,2012.0,2012.0,1988.0,1965.0,1980.0,2006.0,2006.0,2009.0,2008.0,2000.0,2009.0,2009.0,2009.0,1988.0,1980.0,2010.0,1988.0,1988.0,2006.0,2006.0,1988.0,1988.0,1970.0,1960.0,1970.0,1970.0,1988.0,1988.0,1988.0,2011.0,1951.0,1951.0,1965.0,1955.0,1955.0,2012.0,1963.0,1980.0,1980.0,1988.0,1988.0,1988.0,1980.0,1988.0,1980.0,1990.0,1990.0,2012.0,1984.0,1979.0,1978.0,1980.0,1980.0,1960.0,1988.0,1988.0,1980.0,1980.0,1980.0,1961.0,2010.0,2010.0,1980.0,1980.0,1980.0,2004.0,1988.0,1972.0,2008.0,1988.0,2008.0,2000.0,1988.0,2001.0,1980.0,1988.0,1988.0,2007.0,1964.0,1970.0,1970.0,2011.0,1960.0,1980.0,1980.0,2002.0,2002.0,1988.0,1996.0,1960.0,2000.0,1988.0,1970.0,1970.0,1970.0,1980.0,1980.0,1980.0,1980.0,1990.0,1980.0,1951.0,1928.0,1970.0,1970.0,1962.0,1983.0,1983.0,1970.0,1960.0,1960.0,1965.0,1999.0,1988.0,1988.0,1960.0,1970.0,1978.0,1978.0,1988.0,1968.0,1980.0,1988.0,2002.0,1980.0,1965.0,1965.0,2009.0,1988.0,1980.0,2001.0,2001.0,2001.0,2001.0,1992.0,1968.0,1980.0,1988.0,1988.0,1988.0,1970.0,1988.0,1960.0,1947.0,1947.0,1900.0,1900.0,1980.0,1970.0,2011.0,2012.0,1949.0,2013.0,1970.0,2016.0,1988.0,1988.0,1967.0,1980.0,1970.0,1959.0,1980.0,1988.0,1988.0,1980.0,1980.0,1980.0,2012.0,1980.0,1988.0,2008.0,1988.0,2007.0,1980.0,2004.0,1978.0,2011.0,2011.0,1980.0,1980.0,2005.0,2005.0,2008.0,1988.0,1988.0,2008.0,2008.0,1900.0,1960.0,1890.0,1890.0,1900.0,1800.0,1970.0,1970.0,1960.0,1950.0,1900.0,1997.0,1970.0,1960.0,1960.0,1900.0,1960.0,1960.0,1950.0,1970.0,1960.0,1960.0,1960.0,1960.0,1960.0,1980.0,1980.0,1850.0,1920.0,1970.0,1970.0,1960.0,1970.0,1970.0,1980.0,1960.0,1970.0,1970.0,1970.0,1970.0,1970.0,1960.0,1980.0,1970.0,1970.0,1960.0,1960.0,1960.0,1960.0,1900.0,1970.0,1970.0,1900.0,1970.0,1960.0,1960.0,1960.0,1890.0,1890.0,1911.0,1950.0,1970.0,1960.0,1970.0,1970.0,1960.0,1960.0,1960.0,1900.0,1900.0,1900.0,1900.0,1900.0,1970.0,1970.0,1970.0,1960.0,1980.0,1980.0,1980.0,1960.0,1900.0,1850.0,1930.0,1930.0,1900.0,1900.0,1970.0,1970.0,1970.0,1970.0,1970.0,1970.0,1960.0,1970.0,1960.0,1960.0,1880.0,1970.0,1970.0,1910.0,1960.0,1960.0,1960.0,1960.0,1960.0,1960.0,1960.0,1960.0,1980.0,1900.0,1900.0,2003.0,1960.0,1970.0,1920.0,1960.0,1980.0,1980.0,1973.0,1973.0,1973.0,1920.0,1950.0,1900.0,1900.0,1900.0,1954.0,1930.0,1912.0,1901.0,1870.0,1960.0,1970.0,1902.0,1960.0,1960.0,1960.0,1900.0,1900.0,1900.0,1974.0,1960.0,1900.0,1960.0,1900.0,1995.0,1950.0,1970.0,1960.0,1900.0,1960.0,1960.0,1960.0,1960.0,1960.0,1970.0,1970.0,1960.0,1960.0,1980.0,1960.0,1950.0,1900.0,1900.0,1980.0,1910.0,1998.0,1960.0,1904.0,1904.0,1920.0,1960.0,1970.0,1990.0,1910.0,1910.0,1890.0,1890.0,1953.0,1956.0,1930.0,1970.0,1970.0,1970.0,1970.0,1970.0,1970.0,1960.0,1970.0,1980.0,1980.0,1970.0,1980.0,1960.0,1960.0,1960.0,1960.0,1980.0,1980.0,1988.0,1988.0,1960.0,1970.0,1991.0,1955.0,1955.0,1919.0,1910.0,1910.0,1910.0,1960.0,1900.0,1950.0,1930.0,1980.0,1980.0,2011.0,2001.0,1900.0,1900.0,1900.0,1896.0,1896.0,1900.0,1970.0,1970.0,1970.0,1960.0,1970.0,1970.0,1960.0,1960.0,1970.0,1970.0,1950.0,1970.0,1980.0,1980.0,1960.0,1960.0,1960.0,1960.0,1960.0,1960.0,1960.0,1960.0,1960.0,1960.0,1960.0,1960.0,1960.0,1960.0,1953.0,1970.0,1900.0,1910.0,1950.0,1980.0,1900.0,1900.0,1950.0,1950.0,1950.0,1880.0,1900.0,1900.0,1950.0,1980.0,1930.0,1930.0,1870.0,1960.0,1960.0,1930.0,1970.0,1970.0,1970.0,1800.0,1900.0,1960.0,1970.0,1970.0,1960.0,1960.0,1960.0,1970.0,1960.0,1960.0,1960.0,1960.0,1960.0,1960.0,1960.0,1970.0,1970.0,1960.0,1960.0,1960.0,1960.0,1960.0,1960.0,1920.0,1900.0,1950.0,1950.0,1950.0,1950.0,1950.0,1940.0,1940.0,1900.0,1900.0,1980.0,1907.0,1930.0,1930.0,1930.0,1930.0,1950.0,1913.0,1913.0,1910.0,1950.0,1893.0,1970.0,1970.0,1970.0,1970.0,1970.0,1970.0,1950.0,1970.0,1960.0,1960.0,1960.0,1960.0,1960.0,1960.0,1960.0,1960.0,1960.0,1960.0,1960.0,1959.0,1920.0,1900.0,1930.0,1930.0,1950.0,1950.0,1880.0,1900.0,1960.0,1970.0,1830.0,1830.0,1830.0,1904.0,1974.0,1980.0,1900.0,1900.0,1970.0,1970.0,1970.0,1970.0,1970.0,1900.0,1900.0,1970.0,1900.0,1970.0,1930.0,1930.0,1970.0,1960.0,1960.0,1960.0,1960.0,1960.0,1920.0,1920.0,1900.0,1930.0,1954.0,1970.0,1970.0,1973.0,1895.0,1920.0,1970.0,1970.0,1970.0,1970.0,1920.0,1920.0,1980.0,1960.0,1960.0,2006.0,1950.0,1950.0,1980.0,2002.0,2002.0,2002.0,1970.0,1960.0,1970.0,1960.0,1960.0,1900.0,2011.0,1930.0,1960.0,1960.0,1960.0,1988.0,1958.0,1960.0,1960.0,1960.0,1970.0,1950.0,1970.0,1940.0,2004.0,1971.0,1971.0,1959.0,1959.0,1970.0,1940.0,1940.0,1958.0,1970.0,1970.0,2008.0,1965.0,1950.0,1965.0,2008.0,1960.0,1977.0,1977.0,1960.0,1960.0,1960.0,1970.0,1960.0,1980.0,1960.0,1880.0,1880.0,1970.0,1950.0,1950.0,1850.0,1970.0,1960.0,1960.0,1960.0,1960.0,1960.0,1960.0,1969.0,1950.0,1950.0,1960.0,1900.0,1900.0,1940.0,1970.0,1900.0,1960.0,1960.0,1900.0,1980.0,1985.0,2000.0,1950.0,1950.0,1950.0,1956.0,2011.0,2011.0,1988.0,1988.0,2000.0,2010.0,2003.0,2003.0,1900.0,1960.0,1960.0,1970.0,1970.0,1970.0,1988.0,2008.0,1980.0,1920.0,1960.0,1960.0,1960.0,1960.0,1980.0,2008.0,2008.0,1988.0,1960.0,1955.0,1955.0,1960.0,1960.0,1940.0,1960.0,1960.0,2009.0,1900.0,1900.0,1960.0,1988.0,1980.0,1950.0,1950.0,1950.0,1970.0,1988.0,1988.0,1960.0,1820.0,1960.0,1970.0,1960.0,1960.0,1945.0,1945.0,2011.0,1950.0,1988.0,1980.0,1960.0,1960.0,1993.0,1980.0,2000.0,1920.0,1920.0,2008.0,1970.0,1970.0,1960.0,1960.0,1900.0,1900.0,1968.0,1960.0,1930.0,1930.0,1930.0,2002.0,1980.0,1980.0,1979.0,1980.0,1980.0,1978.0,1930.0,1960.0,1988.0,1960.0,1960.0,1970.0,1970.0,1980.0,2008.0,2008.0,2008.0,2008.0,1980.0,1950.0,1970.0,1997.0,1980.0,2008.0,2008.0,1995.0,1980.0,1979.0,1979.0,1980.0,1980.0,2008.0,1965.0,1964.0,1930.0,1960.0,1950.0,1950.0,2010.0,2010.0,1960.0,1901.0,1850.0,1970.0,1970.0,1950.0,1960.0,1982.0,2011.0,1980.0,1999.0,1948.0,1980.0,1910.0,1900.0,2009.0,1930.0,1980.0,1900.0,1900.0,1977.0,1977.0,1970.0,1980.0,1973.0,1970.0,1970.0,1970.0,1970.0,1970.0,1970.0,1970.0,1970.0,1960.0,1950.0,1988.0,1960.0,1960.0,1991.0,1991.0,1970.0,1980.0,1970.0,1970.0,1960.0,2005.0,2005.0,1980.0,1970.0,1960.0,1950.0,1970.0,1970.0,1970.0,1960.0,1970.0,1970.0,1960.0,1960.0,2004.0,1960.0,2000.0,1950.0,1950.0,1970.0,1900.0,1970.0,1970.0,1970.0,2001.0,1970.0,1970.0,1960.0,1970.0,2000.0,1980.0,1960.0,1950.0,1950.0,1960.0,1960.0,1960.0,1850.0,1960.0,1900.0,1980.0,1980.0,1970.0,1970.0,1964.0,1964.0,1970.0,2005.0,1900.0,1988.0,1970.0,1970.0,1920.0,1920.0,1988.0,1988.0,2005.0,1988.0,2004.0,2011.0,2011.0,1960.0,1970.0,1970.0,1988.0,1960.0,1990.0,1988.0,1980.0,1980.0,1960.0,1990.0,1970.0,1959.0,1900.0,1960.0,1900.0,1960.0,1970.0,2007.0,2008.0,1950.0,1980.0,1960.0,1988.0,1950.0,1980.0,1960.0,1977.0,2008.0,2008.0,1990.0,1980.0,1980.0,1972.0,1970.0,1970.0,1970.0,1973.0,2011.0,2011.0,1965.0,1960.0,1960.0,1988.0,1988.0,2013.0,1988.0,1980.0,1904.0,1904.0,1980.0,2013.0,1960.0,1900.0,1980.0,1990.0,1994.0,1988.0,1997.0,1970.0,2008.0,2008.0,1980.0,1980.0,1965.0,1996.0,1940.0,1986.0,2002.0,1988.0,1988.0,1980.0,1980.0,1980.0,1980.0,1980.0,1988.0,1988.0,1950.0,1980.0,1980.0,1980.0,1980.0,1980.0,2008.0,1950.0,1990.0,1950.0,1950.0,1950.0,1960.0,1980.0,1950.0,1960.0,1988.0,1988.0,1975.0,1987.0,1980.0,1997.0,1996.0,1975.0,2008.0,1960.0,1870.0,1870.0,2013.0,1972.0,1960.0,1960.0,1980.0,1960.0,1980.0,1986.0,1986.0,1986.0,1980.0,1988.0,1980.0,1988.0,1988.0,1970.0,1970.0,1988.0,1988.0,1988.0,1940.0,1984.0,1965.0,1980.0,1980.0,1850.0,1960.0,1980.0,1960.0,1980.0,1974.0,1974.0,1974.0,1980.0,1980.0,1980.0,1980.0,1980.0,2001.0,2008.0,2007.0,1984.0,1920.0,1980.0,1920.0,2012.0,1980.0,1900.0,1960.0,1960.0,1960.0,1980.0,1960.0,1980.0,1960.0,1977.0,1988.0,1988.0,1988.0,2002.0,1900.0,2000.0,1980.0,1980.0,1960.0,1965.0,1988.0,2007.0,2007.0,2006.0,2007.0,2007.0,2002.0,2005.0,1960.0,1980.0,1980.0,1980.0,1980.0,1980.0,1980.0,1988.0,1980.0,1988.0,2008.0,1991.0,1884.0,1969.0,2001.0,1991.0,1936.0,1970.0,1700.0,1700.0,1966.0,1970.0,1988.0,1988.0,1988.0,1970.0,1980.0,1980.0,1960.0,1970.0,1970.0,1950.0,1988.0,1988.0,1988.0,1900.0,1980.0,1960.0,1960.0,1990.0,1990.0,1960.0,2008.0,1980.0,1960.0,1960.0,1960.0,2000.0,1960.0,1960.0,1960.0,1989.0,1989.0,1980.0,1950.0,1960.0,1965.0,1965.0,1980.0,1980.0,1920.0,2011.0,2011.0,1979.0,2012.0,1980.0,1980.0,1988.0,1980.0,1980.0,1970.0,1977.0,1977.0,1977.0,1969.0,1969.0,1976.0,1980.0,1980.0,1988.0,1960.0,1980.0,1960.0,1960.0,1975.0,1950.0,1950.0,1960.0,1995.0,2006.0,1960.0,1960.0,1960.0,1960.0,1958.0,1958.0,2004.0,1975.0,1950.0,1920.0,1850.0,1871.0,1871.0,1980.0,1964.0,1964.0,1970.0,1975.0,1975.0,2011.0,1960.0,1970.0,1910.0,1910.0,1980.0,1980.0,1980.0,1960.0,1990.0,1990.0,1960.0,1980.0,1980.0,1980.0,1980.0,1980.0,1960.0,1960.0,1960.0,1980.0,1900.0,1900.0,1960.0,1980.0,1980.0,1910.0,1988.0,1960.0,1980.0,1960.0,1960.0,1980.0,1980.0,1980.0,1980.0,1960.0,1980.0,1980.0,1980.0,1981.0,1960.0,1810.0,1988.0,1980.0,1980.0,1988.0,1980.0,1980.0,1980.0,1980.0,1960.0,1960.0,1960.0,1988.0,1988.0,1960.0,1970.0,1950.0,1960.0,1960.0,1960.0,2012.0,1980.0,1960.0,1980.0,2011.0,2011.0,1988.0,1980.0,1960.0,1900.0,2001.0,2012.0,2012.0,1950.0,2007.0,2009.0,2010.0,1960.0,1965.0,1969.0,1980.0,1980.0,1988.0,1988.0,1988.0,1980.0,1985.0,1980.0,1980.0,1980.0,1960.0,1960.0,1988.0,1960.0,1994.0,1996.0,1996.0,1996.0,1980.0,1988.0,1988.0,1988.0,2012.0,1975.0,1995.0,2008.0,1994.0,1990.0,2009.0,1990.0,1920.0,1996.0,2009.0,1950.0,1900.0,1900.0,1995.0,1963.0,1982.0,2003.0,1970.0,1970.0,1980.0,1980.0,1988.0,1960.0,1988.0,1960.0,1980.0,1980.0,1980.0,1980.0,1980.0,1988.0,1988.0,1980.0,1980.0,1980.0,1920.0,1920.0,1980.0,1980.0,1960.0,1930.0,1930.0,1960.0,1950.0,2001.0,2002.0,1950.0,1900.0,1900.0,1970.0,1980.0,1960.0,1980.0,1980.0,1980.0,1980.0,1980.0,1980.0,1980.0,1980.0,1980.0,1955.0,1980.0,1980.0,1980.0,1970.0,1960.0,1950.0,1988.0,1988.0,1988.0,1988.0,1980.0,1980.0,1960.0,1960.0,1960.0,1960.0,1960.0,1960.0,1998.0,1980.0,1980.0,1960.0,1960.0,1960.0,1960.0,1980.0,1980.0,1930.0,1988.0,1960.0,1988.0,1988.0,1900.0,1960.0,1960.0,1960.0,1980.0,1988.0,2007.0,1960.0,1967.0,1980.0,1900.0,1970.0,1780.0,1988.0,2011.0,1960.0,1960.0,1980.0,1960.0,1960.0,1960.0,1960.0,1990.0,1990.0,1960.0,1960.0,1988.0,1988.0,1954.0,1960.0,1960.0,1980.0,1980.0,2000.0,2010.0,1960.0,2011.0,1980.0,1950.0,1970.0,1970.0,1970.0,1950.0,1920.0,2011.0,1960.0,1988.0,1970.0,1982.0,1980.0,1970.0,1960.0,2011.0,2011.0,1988.0,1988.0,1960.0,1960.0,1980.0,1960.0,1960.0,1980.0,1980.0,1980.0,1981.0,1930.0,2012.0,2012.0,2012.0,1960.0,1980.0,1960.0,1940.0,1960.0,1960.0,1960.0,1960.0,1960.0,1960.0,1960.0,1960.0,1988.0,1960.0,1960.0,1960.0,1960.0,1960.0,1960.0,1960.0,1960.0,1960.0,1920.0,1960.0,1960.0,1960.0,1960.0,1960.0,1960.0,1980.0,1960.0,1960.0,1960.0,2015.0,2011.0,2011.0,1980.0,1900.0,1980.0,1970.0,1970.0,1950.0,1988.0,1988.0,2005.0,2005.0,1970.0,1980.0,1970.0,1980.0,1960.0,1960.0,1970.0,1970.0,1950.0,1960.0,1970.0,1970.0,1988.0,1988.0,1900.0,1950.0,2000.0,2000.0,1970.0,1974.0,1900.0,1900.0,1900.0,1860.0,1980.0,1960.0,1960.0,1960.0,1900.0,1970.0,2009.0,1960.0,2010.0,1980.0,1880.0,1960.0,1750.0,1970.0,1996.0,1975.0,1988.0,1970.0,2009.0,1990.0,1960.0,1960.0,1960.0,1970.0,1970.0,1960.0,1960.0,1960.0,1954.0,1960.0,1900.0,1930.0,1959.0,1959.0,2005.0,2005.0,1900.0,1990.0,1960.0,1929.0,1970.0,1970.0,1960.0,1960.0,1980.0,1980.0,1960.0,1960.0,1960.0,1960.0,1960.0,1960.0,1960.0,1960.0,1960.0,1960.0,1960.0,1960.0,2000.0,1960.0,1960.0,1960.0,1960.0,1960.0,1960.0,1960.0,1960.0,1960.0,1960.0,1960.0,1970.0,1960.0,1960.0,1960.0,1960.0,1960.0,1960.0,1960.0,1960.0,1960.0,1960.0,1950.0,1988.0,1980.0,1930.0,2003.0,1960.0,1960.0,1960.0,1960.0,1900.0,1980.0,1900.0,1980.0,1959.0,1893.0,1900.0,1960.0,1960.0,1960.0,1940.0,1940.0,1960.0,1950.0,1950.0,1920.0,1930.0,1950.0,1930.0,1930.0,1900.0,1950.0,1950.0,1950.0,1950.0,1990.0,1950.0,1975.0,1995.0,1920.0,1920.0,1970.0,1900.0,1960.0,1980.0,1960.0,1960.0,1960.0,1960.0,1960.0,1960.0,2007.0,1970.0,1980.0,2012.0,1960.0,1988.0,1950.0,1999.0,1980.0,1960.0,1960.0,1993.0,1970.0,1970.0,1970.0,1960.0,1960.0,1960.0,1977.0,1950.0,1950.0,1950.0,1960.0,1960.0,1980.0,1960.0,1960.0,1960.0,2008.0,1968.0,1930.0,1930.0,1930.0,1930.0,1930.0,1960.0,1960.0,1960.0,1950.0,1964.0,1960.0,1960.0,1960.0,1960.0,1960.0,1960.0,1960.0,1960.0,1960.0,1960.0,1960.0,1980.0,1960.0,1960.0,1960.0,1960.0,1960.0,1960.0,1960.0,1960.0,1980.0,1956.0,1950.0,1930.0,1950.0,1963.0,1970.0,1970.0,1930.0,1950.0,1930.0,1970.0,1970.0,1968.0,1968.0,1970.0,1960.0,1980.0,1960.0,1960.0,1960.0,1960.0,1960.0,1988.0,2009.0,1900.0,1980.0,1980.0,1900.0,1950.0,1950.0,1990.0,1990.0,1950.0,2000.0,1920.0,1960.0,1960.0,1960.0,1900.0,1979.0,1930.0,1930.0,1980.0,1980.0,1960.0,1960.0,1960.0,1960.0,1910.0,1900.0,1900.0,1900.0,1980.0,1960.0,1960.0,1998.0,2011.0,1970.0,1970.0,1990.0,1992.0,1970.0,1960.0,1960.0,1970.0,1970.0,1988.0,1960.0,1980.0,1980.0,1960.0,1970.0,1970.0,2001.0,1950.0,1970.0,1980.0,1980.0,1950.0,1988.0,1920.0,1960.0,1930.0,2007.0,1970.0,1970.0,1920.0,1900.0,1900.0,1988.0,1988.0,1930.0,1930.0,1960.0,1960.0,1960.0,1920.0,2011.0,2012.0,1980.0,1980.0,1960.0,1980.0,1960.0,1960.0,1960.0,1980.0,1970.0,1980.0,2010.0,2010.0,1950.0,1910.0,1910.0,1957.0,1990.0,1850.0,1900.0,1960.0,1970.0,1980.0,1950.0,2009.0,1987.0,1987.0,1982.0,1960.0,1930.0,1930.0,1850.0,1850.0,1900.0,1970.0,1890.0,1960.0,1980.0,1980.0,1970.0,1980.0,1880.0,1970.0,1994.0,1950.0,1950.0,1961.0,1970.0,1940.0,1960.0,2007.0,1920.0,1990.0,1990.0,1970.0,1920.0,1920.0,1920.0,1930.0,1937.0,1920.0,1970.0,1980.0,1980.0,1980.0,1960.0,1970.0,1970.0,1988.0,1970.0,1900.0,1900.0,1970.0,1970.0,1970.0,2014.0,2003.0,1960.0,1960.0,1988.0,1988.0,1980.0,1970.0,1980.0,2008.0,1920.0,1961.0,1961.0,1970.0,1970.0,1980.0,1995.0,1970.0,1970.0,1970.0,1970.0,1950.0,1965.0,1980.0,1960.0,1980.0,1975.0,1980.0,2007.0,1970.0,2012.0,1960.0,1960.0,1997.0,1967.0,1900.0,1950.0,1970.0,1970.0,1960.0,1960.0,2005.0,1969.0,1970.0,1970.0,1960.0,1960.0,1900.0,1980.0,1980.0,1970.0,1950.0,1960.0,1950.0,1930.0,1900.0,1970.0,1960.0,1930.0,1970.0,1980.0,1980.0,1960.0,1988.0,1960.0,1960.0,1980.0,1980.0,1995.0,1950.0,1960.0,1960.0,1965.0,1900.0,1980.0,1960.0,1960.0,1960.0,1960.0,1977.0,1950.0,1940.0,1960.0,1970.0,1970.0,1960.0,1900.0,1948.0,1900.0,1900.0,1900.0,1970.0,1970.0,1910.0,1960.0,2005.0,1988.0,1988.0,1980.0,1980.0,1980.0,1980.0,1980.0,1980.0,1960.0,1920.0,1970.0,1960.0,1990.0,1950.0,1970.0,1970.0,1960.0,1970.0,1988.0,1960.0,1994.0,1960.0,1950.0,1950.0,1988.0,1960.0,1950.0,1960.0,1900.0,1900.0,1960.0,1960.0,1960.0,1960.0,1980.0,1988.0,1970.0,1970.0,1960.0,1960.0,1920.0,1920.0,1900.0,1988.0,1965.0,1970.0,1970.0,1988.0,1960.0,2011.0,2011.0,1960.0,1950.0,1950.0,1988.0,1970.0,1970.0,1960.0,1980.0,1970.0,1950.0,1950.0,1960.0,1980.0,2005.0,1978.0,1965.0,1996.0,1985.0,1960.0,1900.0,1980.0,1990.0,1920.0,1920.0,1960.0,1970.0,1970.0,1970.0,1970.0,1980.0,1950.0,1960.0,1960.0,1960.0,1964.0,1970.0,1960.0,1950.0,1950.0,1980.0,1980.0,1980.0,1980.0,1980.0,1980.0,1970.0,1970.0,1960.0,1850.0,2009.0,2009.0,1925.0,1970.0,1970.0,1960.0,1988.0,1920.0,1970.0,1980.0,1960.0,1980.0,1950.0,2009.0,1965.0,1965.0,1950.0,1970.0,1970.0,1960.0,1960.0,1980.0,1960.0,1950.0,2004.0,1970.0,1970.0,1970.0,2000.0,1960.0,1975.0,1975.0,1930.0,2002.0,2002.0,1960.0,1900.0,1980.0,1980.0,1980.0,1960.0,1960.0,1960.0,1911.0,1966.0,1900.0,1900.0,1970.0,1970.0,1970.0,1960.0,1960.0,1900.0,1969.0,1895.0,1895.0,1900.0,1988.0,1980.0,1980.0,1980.0,1960.0,1960.0,1960.0,1960.0,1950.0,1950.0,1980.0,1988.0,1980.0,1960.0,1960.0,1990.0,1960.0,1965.0,1960.0,1960.0,1960.0,1965.0,1965.0,1965.0,1950.0,1950.0,2009.0,2009.0,1965.0,1965.0,1960.0,1950.0,1960.0,1960.0,1965.0,2006.0,1965.0,1970.0,1970.0,1960.0,1980.0,1980.0,1980.0,1988.0,1960.0,1960.0,1950.0,1896.0,1900.0,1976.0,1960.0,1960.0,1960.0,1950.0,1980.0,1980.0,1960.0,1962.0,1936.0,1970.0,2004.0,1960.0,1960.0,1960.0,1960.0,1950.0,1990.0,1950.0,1950.0,1900.0,1950.0,1970.0,1970.0,1970.0,1960.0,1960.0,1960.0,1970.0,1960.0,1960.0,1960.0,1960.0,1960.0,1960.0,1968.0,1960.0,1950.0,1950.0,1960.0,1960.0,1960.0,2005.0,1955.0,1964.0,1964.0,1960.0,1930.0,1900.0,2006.0,1960.0,1988.0,2006.0,2006.0,1980.0,2000.0,2000.0,1950.0,1950.0,1970.0,1988.0,1950.0,1960.0,1958.0,1958.0,1920.0,1999.0,1999.0,1970.0,1970.0,1980.0,1930.0,1930.0,1924.0,1970.0,1940.0,1900.0,1960.0,1970.0,2012.0,1970.0,1960.0,1960.0,1980.0,1990.0,1980.0,1980.0,1980.0,1900.0,1960.0,1970.0,2011.0,1960.0,1960.0,1970.0,1900.0,1900.0,1900.0,1960.0,1982.0,1980.0,1960.0,1970.0,1930.0,1960.0,1960.0,1970.0,1955.0,1955.0,1970.0,2008.0,1970.0,1991.0,1960.0,1958.0,1958.0,2000.0,1964.0,1970.0,1966.0,1966.0,2006.0,1988.0,1960.0,1966.0,1966.0,1970.0,1988.0,1988.0,2008.0,2009.0,2009.0,2009.0,1960.0,1970.0,1960.0,1960.0,1960.0,1989.0,1989.0,1960.0,1980.0,1989.0,2010.0,1980.0,1980.0,1960.0,2006.0,1970.0,1870.0,1870.0,1992.0,1970.0,1970.0,1970.0,1940.0,1970.0,1970.0,1986.0,1960.0,1980.0,1960.0,1975.0,1978.0,1988.0,1985.0,1962.0,2012.0,2012.0,1980.0,2009.0,1945.0,1982.0,1982.0,1982.0,1982.0,1930.0,1930.0,2009.0,2009.0,2010.0,2010.0,1985.0,1980.0,1980.0,1960.0,1980.0,1990.0,2002.0,1870.0,1870.0,1950.0,2011.0,1960.0,2008.0,1950.0,1960.0,1960.0,1950.0,2008.0,1987.0,2008.0,1960.0,1960.0,1996.0,1900.0,2007.0,1989.0,1900.0,2009.0,1969.0,2009.0,1972.0,1980.0,1930.0,1890.0,1950.0,1985.0,1987.0,2005.0,1930.0,1973.0,2005.0,1870.0,1970.0,1978.0,1978.0,1960.0,1960.0,1990.0,1947.0,1960.0,1930.0,1980.0,1970.0,1900.0,1950.0,1920.0,1965.0,1965.0,2008.0,1960.0,1980.0,2008.0,2009.0,1930.0,1901.0,1950.0,1960.0,1970.0,2000.0,1960.0,1980.0,2012.0,1982.0,1925.0,1900.0,2012.0,1981.0,1700.0,1700.0,1900.0,2000.0,1970.0,1989.0,2012.0,2013.0,2013.0,2013.0,2013.0,2013.0,1960.0,1910.0,1985.0,1985.0,1993.0,1984.0,1960.0,1970.0,1962.0,1970.0,2001.0,1950.0,2001.0,2001.0,1980.0,1992.0,1972.0,2004.0],\"y0\":\" \",\"yaxis\":\"y\",\"type\":\"box\"}],                        {\"template\":{\"data\":{\"histogram2dcontour\":[{\"type\":\"histogram2dcontour\",\"colorbar\":{\"outlinewidth\":0,\"ticks\":\"\"},\"colorscale\":[[0.0,\"#0d0887\"],[0.1111111111111111,\"#46039f\"],[0.2222222222222222,\"#7201a8\"],[0.3333333333333333,\"#9c179e\"],[0.4444444444444444,\"#bd3786\"],[0.5555555555555556,\"#d8576b\"],[0.6666666666666666,\"#ed7953\"],[0.7777777777777778,\"#fb9f3a\"],[0.8888888888888888,\"#fdca26\"],[1.0,\"#f0f921\"]]}],\"choropleth\":[{\"type\":\"choropleth\",\"colorbar\":{\"outlinewidth\":0,\"ticks\":\"\"}}],\"histogram2d\":[{\"type\":\"histogram2d\",\"colorbar\":{\"outlinewidth\":0,\"ticks\":\"\"},\"colorscale\":[[0.0,\"#0d0887\"],[0.1111111111111111,\"#46039f\"],[0.2222222222222222,\"#7201a8\"],[0.3333333333333333,\"#9c179e\"],[0.4444444444444444,\"#bd3786\"],[0.5555555555555556,\"#d8576b\"],[0.6666666666666666,\"#ed7953\"],[0.7777777777777778,\"#fb9f3a\"],[0.8888888888888888,\"#fdca26\"],[1.0,\"#f0f921\"]]}],\"heatmap\":[{\"type\":\"heatmap\",\"colorbar\":{\"outlinewidth\":0,\"ticks\":\"\"},\"colorscale\":[[0.0,\"#0d0887\"],[0.1111111111111111,\"#46039f\"],[0.2222222222222222,\"#7201a8\"],[0.3333333333333333,\"#9c179e\"],[0.4444444444444444,\"#bd3786\"],[0.5555555555555556,\"#d8576b\"],[0.6666666666666666,\"#ed7953\"],[0.7777777777777778,\"#fb9f3a\"],[0.8888888888888888,\"#fdca26\"],[1.0,\"#f0f921\"]]}],\"heatmapgl\":[{\"type\":\"heatmapgl\",\"colorbar\":{\"outlinewidth\":0,\"ticks\":\"\"},\"colorscale\":[[0.0,\"#0d0887\"],[0.1111111111111111,\"#46039f\"],[0.2222222222222222,\"#7201a8\"],[0.3333333333333333,\"#9c179e\"],[0.4444444444444444,\"#bd3786\"],[0.5555555555555556,\"#d8576b\"],[0.6666666666666666,\"#ed7953\"],[0.7777777777777778,\"#fb9f3a\"],[0.8888888888888888,\"#fdca26\"],[1.0,\"#f0f921\"]]}],\"contourcarpet\":[{\"type\":\"contourcarpet\",\"colorbar\":{\"outlinewidth\":0,\"ticks\":\"\"}}],\"contour\":[{\"type\":\"contour\",\"colorbar\":{\"outlinewidth\":0,\"ticks\":\"\"},\"colorscale\":[[0.0,\"#0d0887\"],[0.1111111111111111,\"#46039f\"],[0.2222222222222222,\"#7201a8\"],[0.3333333333333333,\"#9c179e\"],[0.4444444444444444,\"#bd3786\"],[0.5555555555555556,\"#d8576b\"],[0.6666666666666666,\"#ed7953\"],[0.7777777777777778,\"#fb9f3a\"],[0.8888888888888888,\"#fdca26\"],[1.0,\"#f0f921\"]]}],\"surface\":[{\"type\":\"surface\",\"colorbar\":{\"outlinewidth\":0,\"ticks\":\"\"},\"colorscale\":[[0.0,\"#0d0887\"],[0.1111111111111111,\"#46039f\"],[0.2222222222222222,\"#7201a8\"],[0.3333333333333333,\"#9c179e\"],[0.4444444444444444,\"#bd3786\"],[0.5555555555555556,\"#d8576b\"],[0.6666666666666666,\"#ed7953\"],[0.7777777777777778,\"#fb9f3a\"],[0.8888888888888888,\"#fdca26\"],[1.0,\"#f0f921\"]]}],\"mesh3d\":[{\"type\":\"mesh3d\",\"colorbar\":{\"outlinewidth\":0,\"ticks\":\"\"}}],\"scatter\":[{\"fillpattern\":{\"fillmode\":\"overlay\",\"size\":10,\"solidity\":0.2},\"type\":\"scatter\"}],\"parcoords\":[{\"type\":\"parcoords\",\"line\":{\"colorbar\":{\"outlinewidth\":0,\"ticks\":\"\"}}}],\"scatterpolargl\":[{\"type\":\"scatterpolargl\",\"marker\":{\"colorbar\":{\"outlinewidth\":0,\"ticks\":\"\"}}}],\"bar\":[{\"error_x\":{\"color\":\"#2a3f5f\"},\"error_y\":{\"color\":\"#2a3f5f\"},\"marker\":{\"line\":{\"color\":\"#E5ECF6\",\"width\":0.5},\"pattern\":{\"fillmode\":\"overlay\",\"size\":10,\"solidity\":0.2}},\"type\":\"bar\"}],\"scattergeo\":[{\"type\":\"scattergeo\",\"marker\":{\"colorbar\":{\"outlinewidth\":0,\"ticks\":\"\"}}}],\"scatterpolar\":[{\"type\":\"scatterpolar\",\"marker\":{\"colorbar\":{\"outlinewidth\":0,\"ticks\":\"\"}}}],\"histogram\":[{\"marker\":{\"pattern\":{\"fillmode\":\"overlay\",\"size\":10,\"solidity\":0.2}},\"type\":\"histogram\"}],\"scattergl\":[{\"type\":\"scattergl\",\"marker\":{\"colorbar\":{\"outlinewidth\":0,\"ticks\":\"\"}}}],\"scatter3d\":[{\"type\":\"scatter3d\",\"line\":{\"colorbar\":{\"outlinewidth\":0,\"ticks\":\"\"}},\"marker\":{\"colorbar\":{\"outlinewidth\":0,\"ticks\":\"\"}}}],\"scattermapbox\":[{\"type\":\"scattermapbox\",\"marker\":{\"colorbar\":{\"outlinewidth\":0,\"ticks\":\"\"}}}],\"scatterternary\":[{\"type\":\"scatterternary\",\"marker\":{\"colorbar\":{\"outlinewidth\":0,\"ticks\":\"\"}}}],\"scattercarpet\":[{\"type\":\"scattercarpet\",\"marker\":{\"colorbar\":{\"outlinewidth\":0,\"ticks\":\"\"}}}],\"carpet\":[{\"aaxis\":{\"endlinecolor\":\"#2a3f5f\",\"gridcolor\":\"white\",\"linecolor\":\"white\",\"minorgridcolor\":\"white\",\"startlinecolor\":\"#2a3f5f\"},\"baxis\":{\"endlinecolor\":\"#2a3f5f\",\"gridcolor\":\"white\",\"linecolor\":\"white\",\"minorgridcolor\":\"white\",\"startlinecolor\":\"#2a3f5f\"},\"type\":\"carpet\"}],\"table\":[{\"cells\":{\"fill\":{\"color\":\"#EBF0F8\"},\"line\":{\"color\":\"white\"}},\"header\":{\"fill\":{\"color\":\"#C8D4E3\"},\"line\":{\"color\":\"white\"}},\"type\":\"table\"}],\"barpolar\":[{\"marker\":{\"line\":{\"color\":\"#E5ECF6\",\"width\":0.5},\"pattern\":{\"fillmode\":\"overlay\",\"size\":10,\"solidity\":0.2}},\"type\":\"barpolar\"}],\"pie\":[{\"automargin\":true,\"type\":\"pie\"}]},\"layout\":{\"autotypenumbers\":\"strict\",\"colorway\":[\"#636efa\",\"#EF553B\",\"#00cc96\",\"#ab63fa\",\"#FFA15A\",\"#19d3f3\",\"#FF6692\",\"#B6E880\",\"#FF97FF\",\"#FECB52\"],\"font\":{\"color\":\"#2a3f5f\"},\"hovermode\":\"closest\",\"hoverlabel\":{\"align\":\"left\"},\"paper_bgcolor\":\"white\",\"plot_bgcolor\":\"#E5ECF6\",\"polar\":{\"bgcolor\":\"#E5ECF6\",\"angularaxis\":{\"gridcolor\":\"white\",\"linecolor\":\"white\",\"ticks\":\"\"},\"radialaxis\":{\"gridcolor\":\"white\",\"linecolor\":\"white\",\"ticks\":\"\"}},\"ternary\":{\"bgcolor\":\"#E5ECF6\",\"aaxis\":{\"gridcolor\":\"white\",\"linecolor\":\"white\",\"ticks\":\"\"},\"baxis\":{\"gridcolor\":\"white\",\"linecolor\":\"white\",\"ticks\":\"\"},\"caxis\":{\"gridcolor\":\"white\",\"linecolor\":\"white\",\"ticks\":\"\"}},\"coloraxis\":{\"colorbar\":{\"outlinewidth\":0,\"ticks\":\"\"}},\"colorscale\":{\"sequential\":[[0.0,\"#0d0887\"],[0.1111111111111111,\"#46039f\"],[0.2222222222222222,\"#7201a8\"],[0.3333333333333333,\"#9c179e\"],[0.4444444444444444,\"#bd3786\"],[0.5555555555555556,\"#d8576b\"],[0.6666666666666666,\"#ed7953\"],[0.7777777777777778,\"#fb9f3a\"],[0.8888888888888888,\"#fdca26\"],[1.0,\"#f0f921\"]],\"sequentialminus\":[[0.0,\"#0d0887\"],[0.1111111111111111,\"#46039f\"],[0.2222222222222222,\"#7201a8\"],[0.3333333333333333,\"#9c179e\"],[0.4444444444444444,\"#bd3786\"],[0.5555555555555556,\"#d8576b\"],[0.6666666666666666,\"#ed7953\"],[0.7777777777777778,\"#fb9f3a\"],[0.8888888888888888,\"#fdca26\"],[1.0,\"#f0f921\"]],\"diverging\":[[0,\"#8e0152\"],[0.1,\"#c51b7d\"],[0.2,\"#de77ae\"],[0.3,\"#f1b6da\"],[0.4,\"#fde0ef\"],[0.5,\"#f7f7f7\"],[0.6,\"#e6f5d0\"],[0.7,\"#b8e186\"],[0.8,\"#7fbc41\"],[0.9,\"#4d9221\"],[1,\"#276419\"]]},\"xaxis\":{\"gridcolor\":\"white\",\"linecolor\":\"white\",\"ticks\":\"\",\"title\":{\"standoff\":15},\"zerolinecolor\":\"white\",\"automargin\":true,\"zerolinewidth\":2},\"yaxis\":{\"gridcolor\":\"white\",\"linecolor\":\"white\",\"ticks\":\"\",\"title\":{\"standoff\":15},\"zerolinecolor\":\"white\",\"automargin\":true,\"zerolinewidth\":2},\"scene\":{\"xaxis\":{\"backgroundcolor\":\"#E5ECF6\",\"gridcolor\":\"white\",\"linecolor\":\"white\",\"showbackground\":true,\"ticks\":\"\",\"zerolinecolor\":\"white\",\"gridwidth\":2},\"yaxis\":{\"backgroundcolor\":\"#E5ECF6\",\"gridcolor\":\"white\",\"linecolor\":\"white\",\"showbackground\":true,\"ticks\":\"\",\"zerolinecolor\":\"white\",\"gridwidth\":2},\"zaxis\":{\"backgroundcolor\":\"#E5ECF6\",\"gridcolor\":\"white\",\"linecolor\":\"white\",\"showbackground\":true,\"ticks\":\"\",\"zerolinecolor\":\"white\",\"gridwidth\":2}},\"shapedefaults\":{\"line\":{\"color\":\"#2a3f5f\"}},\"annotationdefaults\":{\"arrowcolor\":\"#2a3f5f\",\"arrowhead\":0,\"arrowwidth\":1},\"geo\":{\"bgcolor\":\"white\",\"landcolor\":\"#E5ECF6\",\"subunitcolor\":\"white\",\"showland\":true,\"showlakes\":true,\"lakecolor\":\"white\"},\"title\":{\"x\":0.05},\"mapbox\":{\"style\":\"light\"}}},\"xaxis\":{\"anchor\":\"y\",\"domain\":[0.0,1.0]},\"yaxis\":{\"anchor\":\"x\",\"domain\":[0.0,1.0],\"title\":{\"text\":\"Date_of_Occupancy\"}},\"legend\":{\"tracegroupgap\":0},\"margin\":{\"t\":60},\"boxmode\":\"group\",\"title\":{\"text\":\"Distribution of Building Dimension\"},\"height\":400,\"width\":500},                        {\"responsive\": true}                    ).then(function(){\n",
              "                            \n",
              "var gd = document.getElementById('2859d21d-b451-47cd-b593-79d2de3d9cd1');\n",
              "var x = new MutationObserver(function (mutations, observer) {{\n",
              "        var display = window.getComputedStyle(gd).display;\n",
              "        if (!display || display === 'none') {{\n",
              "            console.log([gd, 'removed!']);\n",
              "            Plotly.purge(gd);\n",
              "            observer.disconnect();\n",
              "        }}\n",
              "}});\n",
              "\n",
              "// Listen for the removal of the full notebook cells\n",
              "var notebookContainer = gd.closest('#notebook-container');\n",
              "if (notebookContainer) {{\n",
              "    x.observe(notebookContainer, {childList: true});\n",
              "}}\n",
              "\n",
              "// Listen for the clearing of the current output cell\n",
              "var outputEl = gd.closest('.output');\n",
              "if (outputEl) {{\n",
              "    x.observe(outputEl, {childList: true});\n",
              "}}\n",
              "\n",
              "                        })                };                            </script>        </div>\n",
              "</body>\n",
              "</html>"
            ]
          },
          "metadata": {}
        }
      ]
    },
    {
      "cell_type": "markdown",
      "source": [
        "this visually tells us that there are outliers since building dimension skews from the left and date of occupancy skews from the left"
      ],
      "metadata": {
        "id": "1M8a741b6P5K"
      }
    },
    {
      "cell_type": "markdown",
      "source": [],
      "metadata": {
        "id": "mZ0-Ctiz1SyX"
      }
    },
    {
      "cell_type": "markdown",
      "source": [],
      "metadata": {
        "id": "DhHJO0Xx-erS"
      }
    },
    {
      "cell_type": "markdown",
      "source": [
        "Dealing with outliers using cap method"
      ],
      "metadata": {
        "id": "3vVQEH-WBgd0"
      }
    },
    {
      "cell_type": "code",
      "source": [
        "#To cap the outliers, calculate a upper limit and lower limit.\n",
        "upper_limit = dft['Building Dimension'].mean() + 0.7*dft['Building Dimension'].std()\n",
        "lower_limit = dft['Building Dimension'].mean() - 0.7*dft['Building Dimension'].std()\n",
        "print('Upper_limit:',upper_limit)\n",
        "print('Lower_limit:',lower_limit)"
      ],
      "metadata": {
        "colab": {
          "base_uri": "https://localhost:8080/"
        },
        "id": "SBDh4RtSBfKb",
        "outputId": "bdfda207-2a3d-450b-e506-0c6244464e8c"
      },
      "execution_count": 158,
      "outputs": [
        {
          "output_type": "stream",
          "name": "stdout",
          "text": [
            "Upper_limit: 3456.1805144593\n",
            "Lower_limit: 287.56585425578396\n"
          ]
        }
      ]
    },
    {
      "cell_type": "code",
      "source": [
        "import numpy as np\n",
        "#we use the numpy .where() function to apply the limits to Building Dimension.\n",
        "dft['Building Dimension'] = np.where(dft['Building Dimension'] > upper_limit,upper_limit,\n",
        "np.where(dft['Building Dimension'] < lower_limit,lower_limit,dft['Building Dimension']))"
      ],
      "metadata": {
        "id": "w6wLJYWVB_dH"
      },
      "execution_count": 159,
      "outputs": []
    },
    {
      "cell_type": "code",
      "source": [
        "#displaying the new  statistics of Building Dimension after removing outliers\n",
        "dft.describe()[['Building Dimension']]"
      ],
      "metadata": {
        "id": "9pX-4D8WWNB4",
        "colab": {
          "base_uri": "https://localhost:8080/",
          "height": 300
        },
        "outputId": "2eebfd86-329b-4cf0-d4a6-af7e95b80b3b"
      },
      "execution_count": 160,
      "outputs": [
        {
          "output_type": "execute_result",
          "data": {
            "text/plain": [
              "       Building Dimension\n",
              "count         7160.000000\n",
              "mean          1480.977883\n",
              "std           1109.388848\n",
              "min            287.565854\n",
              "25%            531.500000\n",
              "50%           1083.000000\n",
              "75%           2250.000000\n",
              "max           3456.180514"
            ],
            "text/html": [
              "\n",
              "  <div id=\"df-17b7facc-81c9-48c1-9223-e23437df2b4d\" class=\"colab-df-container\">\n",
              "    <div>\n",
              "<style scoped>\n",
              "    .dataframe tbody tr th:only-of-type {\n",
              "        vertical-align: middle;\n",
              "    }\n",
              "\n",
              "    .dataframe tbody tr th {\n",
              "        vertical-align: top;\n",
              "    }\n",
              "\n",
              "    .dataframe thead th {\n",
              "        text-align: right;\n",
              "    }\n",
              "</style>\n",
              "<table border=\"1\" class=\"dataframe\">\n",
              "  <thead>\n",
              "    <tr style=\"text-align: right;\">\n",
              "      <th></th>\n",
              "      <th>Building Dimension</th>\n",
              "    </tr>\n",
              "  </thead>\n",
              "  <tbody>\n",
              "    <tr>\n",
              "      <th>count</th>\n",
              "      <td>7160.000000</td>\n",
              "    </tr>\n",
              "    <tr>\n",
              "      <th>mean</th>\n",
              "      <td>1480.977883</td>\n",
              "    </tr>\n",
              "    <tr>\n",
              "      <th>std</th>\n",
              "      <td>1109.388848</td>\n",
              "    </tr>\n",
              "    <tr>\n",
              "      <th>min</th>\n",
              "      <td>287.565854</td>\n",
              "    </tr>\n",
              "    <tr>\n",
              "      <th>25%</th>\n",
              "      <td>531.500000</td>\n",
              "    </tr>\n",
              "    <tr>\n",
              "      <th>50%</th>\n",
              "      <td>1083.000000</td>\n",
              "    </tr>\n",
              "    <tr>\n",
              "      <th>75%</th>\n",
              "      <td>2250.000000</td>\n",
              "    </tr>\n",
              "    <tr>\n",
              "      <th>max</th>\n",
              "      <td>3456.180514</td>\n",
              "    </tr>\n",
              "  </tbody>\n",
              "</table>\n",
              "</div>\n",
              "    <div class=\"colab-df-buttons\">\n",
              "\n",
              "  <div class=\"colab-df-container\">\n",
              "    <button class=\"colab-df-convert\" onclick=\"convertToInteractive('df-17b7facc-81c9-48c1-9223-e23437df2b4d')\"\n",
              "            title=\"Convert this dataframe to an interactive table.\"\n",
              "            style=\"display:none;\">\n",
              "\n",
              "  <svg xmlns=\"http://www.w3.org/2000/svg\" height=\"24px\" viewBox=\"0 -960 960 960\">\n",
              "    <path d=\"M120-120v-720h720v720H120Zm60-500h600v-160H180v160Zm220 220h160v-160H400v160Zm0 220h160v-160H400v160ZM180-400h160v-160H180v160Zm440 0h160v-160H620v160ZM180-180h160v-160H180v160Zm440 0h160v-160H620v160Z\"/>\n",
              "  </svg>\n",
              "    </button>\n",
              "\n",
              "  <style>\n",
              "    .colab-df-container {\n",
              "      display:flex;\n",
              "      gap: 12px;\n",
              "    }\n",
              "\n",
              "    .colab-df-convert {\n",
              "      background-color: #E8F0FE;\n",
              "      border: none;\n",
              "      border-radius: 50%;\n",
              "      cursor: pointer;\n",
              "      display: none;\n",
              "      fill: #1967D2;\n",
              "      height: 32px;\n",
              "      padding: 0 0 0 0;\n",
              "      width: 32px;\n",
              "    }\n",
              "\n",
              "    .colab-df-convert:hover {\n",
              "      background-color: #E2EBFA;\n",
              "      box-shadow: 0px 1px 2px rgba(60, 64, 67, 0.3), 0px 1px 3px 1px rgba(60, 64, 67, 0.15);\n",
              "      fill: #174EA6;\n",
              "    }\n",
              "\n",
              "    .colab-df-buttons div {\n",
              "      margin-bottom: 4px;\n",
              "    }\n",
              "\n",
              "    [theme=dark] .colab-df-convert {\n",
              "      background-color: #3B4455;\n",
              "      fill: #D2E3FC;\n",
              "    }\n",
              "\n",
              "    [theme=dark] .colab-df-convert:hover {\n",
              "      background-color: #434B5C;\n",
              "      box-shadow: 0px 1px 3px 1px rgba(0, 0, 0, 0.15);\n",
              "      filter: drop-shadow(0px 1px 2px rgba(0, 0, 0, 0.3));\n",
              "      fill: #FFFFFF;\n",
              "    }\n",
              "  </style>\n",
              "\n",
              "    <script>\n",
              "      const buttonEl =\n",
              "        document.querySelector('#df-17b7facc-81c9-48c1-9223-e23437df2b4d button.colab-df-convert');\n",
              "      buttonEl.style.display =\n",
              "        google.colab.kernel.accessAllowed ? 'block' : 'none';\n",
              "\n",
              "      async function convertToInteractive(key) {\n",
              "        const element = document.querySelector('#df-17b7facc-81c9-48c1-9223-e23437df2b4d');\n",
              "        const dataTable =\n",
              "          await google.colab.kernel.invokeFunction('convertToInteractive',\n",
              "                                                    [key], {});\n",
              "        if (!dataTable) return;\n",
              "\n",
              "        const docLinkHtml = 'Like what you see? Visit the ' +\n",
              "          '<a target=\"_blank\" href=https://colab.research.google.com/notebooks/data_table.ipynb>data table notebook</a>'\n",
              "          + ' to learn more about interactive tables.';\n",
              "        element.innerHTML = '';\n",
              "        dataTable['output_type'] = 'display_data';\n",
              "        await google.colab.output.renderOutput(dataTable, element);\n",
              "        const docLink = document.createElement('div');\n",
              "        docLink.innerHTML = docLinkHtml;\n",
              "        element.appendChild(docLink);\n",
              "      }\n",
              "    </script>\n",
              "  </div>\n",
              "\n",
              "\n",
              "<div id=\"df-987affc8-36c6-4fb0-9759-e0332b72a2cb\">\n",
              "  <button class=\"colab-df-quickchart\" onclick=\"quickchart('df-987affc8-36c6-4fb0-9759-e0332b72a2cb')\"\n",
              "            title=\"Suggest charts\"\n",
              "            style=\"display:none;\">\n",
              "\n",
              "<svg xmlns=\"http://www.w3.org/2000/svg\" height=\"24px\"viewBox=\"0 0 24 24\"\n",
              "     width=\"24px\">\n",
              "    <g>\n",
              "        <path d=\"M19 3H5c-1.1 0-2 .9-2 2v14c0 1.1.9 2 2 2h14c1.1 0 2-.9 2-2V5c0-1.1-.9-2-2-2zM9 17H7v-7h2v7zm4 0h-2V7h2v10zm4 0h-2v-4h2v4z\"/>\n",
              "    </g>\n",
              "</svg>\n",
              "  </button>\n",
              "\n",
              "<style>\n",
              "  .colab-df-quickchart {\n",
              "      --bg-color: #E8F0FE;\n",
              "      --fill-color: #1967D2;\n",
              "      --hover-bg-color: #E2EBFA;\n",
              "      --hover-fill-color: #174EA6;\n",
              "      --disabled-fill-color: #AAA;\n",
              "      --disabled-bg-color: #DDD;\n",
              "  }\n",
              "\n",
              "  [theme=dark] .colab-df-quickchart {\n",
              "      --bg-color: #3B4455;\n",
              "      --fill-color: #D2E3FC;\n",
              "      --hover-bg-color: #434B5C;\n",
              "      --hover-fill-color: #FFFFFF;\n",
              "      --disabled-bg-color: #3B4455;\n",
              "      --disabled-fill-color: #666;\n",
              "  }\n",
              "\n",
              "  .colab-df-quickchart {\n",
              "    background-color: var(--bg-color);\n",
              "    border: none;\n",
              "    border-radius: 50%;\n",
              "    cursor: pointer;\n",
              "    display: none;\n",
              "    fill: var(--fill-color);\n",
              "    height: 32px;\n",
              "    padding: 0;\n",
              "    width: 32px;\n",
              "  }\n",
              "\n",
              "  .colab-df-quickchart:hover {\n",
              "    background-color: var(--hover-bg-color);\n",
              "    box-shadow: 0 1px 2px rgba(60, 64, 67, 0.3), 0 1px 3px 1px rgba(60, 64, 67, 0.15);\n",
              "    fill: var(--button-hover-fill-color);\n",
              "  }\n",
              "\n",
              "  .colab-df-quickchart-complete:disabled,\n",
              "  .colab-df-quickchart-complete:disabled:hover {\n",
              "    background-color: var(--disabled-bg-color);\n",
              "    fill: var(--disabled-fill-color);\n",
              "    box-shadow: none;\n",
              "  }\n",
              "\n",
              "  .colab-df-spinner {\n",
              "    border: 2px solid var(--fill-color);\n",
              "    border-color: transparent;\n",
              "    border-bottom-color: var(--fill-color);\n",
              "    animation:\n",
              "      spin 1s steps(1) infinite;\n",
              "  }\n",
              "\n",
              "  @keyframes spin {\n",
              "    0% {\n",
              "      border-color: transparent;\n",
              "      border-bottom-color: var(--fill-color);\n",
              "      border-left-color: var(--fill-color);\n",
              "    }\n",
              "    20% {\n",
              "      border-color: transparent;\n",
              "      border-left-color: var(--fill-color);\n",
              "      border-top-color: var(--fill-color);\n",
              "    }\n",
              "    30% {\n",
              "      border-color: transparent;\n",
              "      border-left-color: var(--fill-color);\n",
              "      border-top-color: var(--fill-color);\n",
              "      border-right-color: var(--fill-color);\n",
              "    }\n",
              "    40% {\n",
              "      border-color: transparent;\n",
              "      border-right-color: var(--fill-color);\n",
              "      border-top-color: var(--fill-color);\n",
              "    }\n",
              "    60% {\n",
              "      border-color: transparent;\n",
              "      border-right-color: var(--fill-color);\n",
              "    }\n",
              "    80% {\n",
              "      border-color: transparent;\n",
              "      border-right-color: var(--fill-color);\n",
              "      border-bottom-color: var(--fill-color);\n",
              "    }\n",
              "    90% {\n",
              "      border-color: transparent;\n",
              "      border-bottom-color: var(--fill-color);\n",
              "    }\n",
              "  }\n",
              "</style>\n",
              "\n",
              "  <script>\n",
              "    async function quickchart(key) {\n",
              "      const quickchartButtonEl =\n",
              "        document.querySelector('#' + key + ' button');\n",
              "      quickchartButtonEl.disabled = true;  // To prevent multiple clicks.\n",
              "      quickchartButtonEl.classList.add('colab-df-spinner');\n",
              "      try {\n",
              "        const charts = await google.colab.kernel.invokeFunction(\n",
              "            'suggestCharts', [key], {});\n",
              "      } catch (error) {\n",
              "        console.error('Error during call to suggestCharts:', error);\n",
              "      }\n",
              "      quickchartButtonEl.classList.remove('colab-df-spinner');\n",
              "      quickchartButtonEl.classList.add('colab-df-quickchart-complete');\n",
              "    }\n",
              "    (() => {\n",
              "      let quickchartButtonEl =\n",
              "        document.querySelector('#df-987affc8-36c6-4fb0-9759-e0332b72a2cb button');\n",
              "      quickchartButtonEl.style.display =\n",
              "        google.colab.kernel.accessAllowed ? 'block' : 'none';\n",
              "    })();\n",
              "  </script>\n",
              "</div>\n",
              "    </div>\n",
              "  </div>\n"
            ]
          },
          "metadata": {},
          "execution_count": 160
        }
      ]
    },
    {
      "cell_type": "markdown",
      "source": [
        "Wow,this is okay now the max value is has been decreased to 3456.180514 and min\n",
        "\n",
        "---\n",
        "\n",
        "value has increased  to 287.565854, and the mean value is now 1490.370464. This shows the outlier has been delt with."
      ],
      "metadata": {
        "id": "koIzv45wCuea"
      }
    },
    {
      "cell_type": "markdown",
      "source": [],
      "metadata": {
        "id": "_gTvKxgbE5za"
      }
    },
    {
      "cell_type": "markdown",
      "source": [
        "newly visualisation of building dimension after removing outliers"
      ],
      "metadata": {
        "id": "Twbqdoq2DoTO"
      }
    },
    {
      "cell_type": "code",
      "source": [
        "def plot_variable(dft,variable):\n",
        "  plt.figure(figsize = (16,4))\n",
        "  # histogram\n",
        "  plt.subplot(1,2,1)\n",
        "  plt.hist(dft[variable], alpha = 0.5)\n",
        "  plt.title('Histogram for the distribution of Building Dimension')\n",
        "  plt.xlabel('Building Dimension')\n",
        "  plt.ylabel('Frequency')\n",
        "  # boxplot\n",
        "  plt.subplot(1,2,2)\n",
        "  sns.boxplot(dft[variable])\n",
        "  plt.title('A boxplot for the distribution of Building Dimension')\n",
        "  plt.xlabel('Building Dimension')\n",
        "  plt.ylabel('Frequency')\n",
        "  plt.show()\n"
      ],
      "metadata": {
        "id": "piur8MYoTEgh"
      },
      "execution_count": 162,
      "outputs": []
    },
    {
      "cell_type": "code",
      "source": [
        "plot_variable(dft,'Building Dimension')"
      ],
      "metadata": {
        "colab": {
          "base_uri": "https://localhost:8080/",
          "height": 389
        },
        "id": "OBqebhIvEfMM",
        "outputId": "83edad74-0915-49a8-f248-d4fd90533c34"
      },
      "execution_count": 163,
      "outputs": [
        {
          "output_type": "display_data",
          "data": {
            "text/plain": [
              "<Figure size 1600x400 with 2 Axes>"
            ],
            "image/png": "[encoded data removed]"
          },
          "metadata": {}
        }
      ]
    },
    {
      "cell_type": "markdown",
      "source": [
        "\n"
      ],
      "metadata": {
        "id": "UdIeKC1ULCBi"
      }
    },
    {
      "cell_type": "markdown",
      "source": [
        "**visualisation of outliers from the date of occupancy**"
      ],
      "metadata": {
        "id": "Fz6xUvCEOhDk"
      }
    },
    {
      "cell_type": "code",
      "source": [
        "\n",
        "def plot_variable(dft,variable):\n",
        "  plt.figure(figsize = (10,4))\n",
        "  # histogram\n",
        "  plt.subplot(1,2,1)\n",
        "  plt.hist(dft[variable], alpha = 0.5)\n",
        "  plt.title('Histogram for the distribution of date of occupancy')\n",
        "  plt.xlabel('Date_of_Occupancy')\n",
        "  plt.ylabel('Frequency')\n",
        "  # boxplot\n",
        "  plt.subplot(1,2,2)\n",
        "  sns.boxplot(dft[variable])\n",
        "  plt.xlabel('Date_of_Occupancy')\n",
        "  plt.ylabel('Frequency')\n",
        "  plt.title('A boxplot for the distribution of date of occupancy')\n",
        "  plt.show()"
      ],
      "metadata": {
        "id": "JRwodEj_yssM"
      },
      "execution_count": 164,
      "outputs": []
    },
    {
      "cell_type": "code",
      "source": [
        "plot_variable(dft,'Date_of_Occupancy')"
      ],
      "metadata": {
        "id": "5kh-9zFtyuXt",
        "colab": {
          "base_uri": "https://localhost:8080/",
          "height": 419
        },
        "outputId": "61debd7f-879c-41d8-9bb5-0d93c0e73e6a"
      },
      "execution_count": 165,
      "outputs": [
        {
          "output_type": "display_data",
          "data": {
            "text/plain": [
              "<Figure size 1000x400 with 2 Axes>"
            ],
            "image/png": "[encoded data removed]"
          },
          "metadata": {}
        }
      ]
    },
    {
      "cell_type": "markdown",
      "source": [
        "dealing with outliers from the date of occupancy"
      ],
      "metadata": {
        "id": "YD5BpOyzFzmX"
      }
    },
    {
      "cell_type": "code",
      "source": [
        "# using the Z score method to deal with outliers in  the Date_of_Occupancy variable\n",
        "upper_limit = dft['Date_of_Occupancy'].mean() + 2.5*dft['Date_of_Occupancy'].std()\n",
        "lower_limit = dft['Date_of_Occupancy'].mean() - 2.5*dft['Date_of_Occupancy'].std()"
      ],
      "metadata": {
        "id": "QG8F846DGA50"
      },
      "execution_count": 166,
      "outputs": []
    },
    {
      "cell_type": "code",
      "source": [
        "print('Upper_limit:',upper_limit)\n",
        "print('Lower_limit:',lower_limit)"
      ],
      "metadata": {
        "colab": {
          "base_uri": "https://localhost:8080/"
        },
        "id": "Dmngb0pAGLx1",
        "outputId": "90d6baaa-2f40-4379-ee3f-55402a4943b5"
      },
      "execution_count": 167,
      "outputs": [
        {
          "output_type": "stream",
          "name": "stdout",
          "text": [
            "Upper_limit: 2051.6755879533193\n",
            "Lower_limit: 1878.0238533874629\n"
          ]
        }
      ]
    },
    {
      "cell_type": "code",
      "source": [
        "#  trimming  the outliers\n",
        "dfnew = dft.loc[(dft['Date_of_Occupancy']<upper_limit) & (dft['Date_of_Occupancy']>lower_limit)]\n",
        "print('old dataframe:',len(dft))\n",
        "print('new dataframe:',len(dfnew))\n",
        "print('outliers:',len(dft)-len(dft))"
      ],
      "metadata": {
        "colab": {
          "base_uri": "https://localhost:8080/"
        },
        "id": "h03X8ovgGSSf",
        "outputId": "5d93d2c2-aa83-4b5e-d254-7a5b185c88f3"
      },
      "execution_count": 168,
      "outputs": [
        {
          "output_type": "stream",
          "name": "stdout",
          "text": [
            "old dataframe: 7160\n",
            "new dataframe: 7025\n",
            "outliers: 0\n"
          ]
        }
      ]
    },
    {
      "cell_type": "markdown",
      "source": [
        "now some columns have been trimmed"
      ],
      "metadata": {
        "id": "xOB_5Y41G0ZI"
      }
    },
    {
      "cell_type": "markdown",
      "source": [
        "visualisation of the date of occupancy column without outliers"
      ],
      "metadata": {
        "id": "nQo9Us83HGgf"
      }
    },
    {
      "cell_type": "code",
      "source": [
        "def plot_variable(df,variable):\n",
        "  plt.figure(figsize = (10,4))\n",
        "  # histogram\n",
        "  plt.subplot(1,2,1)\n",
        "  plt.hist(df[variable], alpha = 0.5)\n",
        "  plt.title('Histogram for the distribution of date of occupancy')\n",
        "  plt.xlabel('Date_of_Occupancy')\n",
        "  plt.ylabel('Frequency')\n",
        "  # boxplot\n",
        "  plt.subplot(1,2,2)\n",
        "  sns.boxplot(df[variable])\n",
        "  plt.xlabel('Date_of_Occupancy')\n",
        "  plt.ylabel('Frequency')\n",
        "  plt.title('A boxplot for the distribution of date of occupancy')\n",
        "  plt.show()"
      ],
      "metadata": {
        "id": "Cs52bZHRHN8t"
      },
      "execution_count": 169,
      "outputs": []
    },
    {
      "cell_type": "code",
      "source": [
        "plot_variable(dfnew,'Date_of_Occupancy')"
      ],
      "metadata": {
        "colab": {
          "base_uri": "https://localhost:8080/",
          "height": 419
        },
        "id": "QzMDqgUmHfau",
        "outputId": "33951dc5-866d-4ba1-ee73-39607038b465"
      },
      "execution_count": 170,
      "outputs": [
        {
          "output_type": "display_data",
          "data": {
            "text/plain": [
              "<Figure size 1000x400 with 2 Axes>"
            ],
            "image/png": "[encoded data removed]"
          },
          "metadata": {}
        }
      ]
    },
    {
      "cell_type": "code",
      "source": [
        "dft.isnull().sum()"
      ],
      "metadata": {
        "id": "pYXxSoJbK8ws",
        "colab": {
          "base_uri": "https://localhost:8080/"
        },
        "outputId": "aa644dc3-e195-467b-84fd-9db0fd4f6070"
      },
      "execution_count": 171,
      "outputs": [
        {
          "output_type": "execute_result",
          "data": {
            "text/plain": [
              "Customer Id           0\n",
              "YearOfObservation     0\n",
              "Insured_Period        0\n",
              "Residential           0\n",
              "Building_Painted      0\n",
              "Building_Fenced       0\n",
              "Garden                0\n",
              "Settlement            0\n",
              "Building Dimension    0\n",
              "Building_Type         0\n",
              "Date_of_Occupancy     0\n",
              "NumberOfWindows       0\n",
              "Geo_Code              0\n",
              "Claim                 0\n",
              "dtype: int64"
            ]
          },
          "metadata": {},
          "execution_count": 171
        }
      ]
    },
    {
      "cell_type": "markdown",
      "source": [
        "**The dataset now has  no missing values ,good to go**"
      ],
      "metadata": {
        "id": "QQtLlZIWPgGG"
      }
    },
    {
      "cell_type": "markdown",
      "source": [
        "**Distribution of the target varriable Claim**"
      ],
      "metadata": {
        "id": "uIAIgqN1leda"
      }
    },
    {
      "cell_type": "code",
      "source": [
        "dft['Claim'].value_counts()"
      ],
      "metadata": {
        "id": "blEDfPRDwJqp"
      },
      "execution_count": null,
      "outputs": []
    },
    {
      "cell_type": "code",
      "source": [
        "# visualising  distribution for target variable\n",
        "plt.figure(figsize=(4,5))\n",
        "claim_rate =dft[\"Claim\"].value_counts()\n",
        "sns.barplot(x=claim_rate.index,y=claim_rate.values,palette=[\"#1d7874\",\"#8B0000\"])\n",
        "plt.title(\"insurance claim Counts\",fontweight=\"black\",size=15,pad=20)\n",
        "for i, v in enumerate(claim_rate.values):\n",
        "    plt.text(i, v, v,ha=\"center\", fontweight='black', fontsize=18)\n"
      ],
      "metadata": {
        "id": "dY7gonCsSCi7",
        "colab": {
          "base_uri": "https://localhost:8080/",
          "height": 493
        },
        "outputId": "18743fab-ded6-4949-f2d0-670a6216f92c"
      },
      "execution_count": 173,
      "outputs": [
        {
          "output_type": "display_data",
          "data": {
            "text/plain": [
              "<Figure size 400x500 with 1 Axes>"
            ],
            "image/png": "[encoded data removed]"
          },
          "metadata": {}
        }
      ]
    },
    {
      "cell_type": "code",
      "execution_count": 174,
      "metadata": {
        "id": "FMBbYNeupthp",
        "colab": {
          "base_uri": "https://localhost:8080/",
          "height": 428
        },
        "outputId": "b71cd6c7-c6cc-45cc-a2be-72fe6ac44d99"
      },
      "outputs": [
        {
          "output_type": "display_data",
          "data": {
            "text/plain": [
              "<Figure size 640x480 with 1 Axes>"
            ],
            "image/png": "[encoded data removed]"
          },
          "metadata": {}
        }
      ],
      "source": [
        "# Sample data (replace with your actual data)\n",
        "labels = ['Claimed.', 'No Claimed']\n",
        "values = [dft[\"Claim\"].sum(), len(dft) - dft[\"Claim\"].sum()]\n",
        "# Create a pie chart with labeled segments\n",
        "plt.pie(values, autopct='%1.1f%%', startangle=140,explode=[0.3,0])\n",
        "plt.title(\"Insurance claim Distribution\")\n",
        "\n",
        "plt.axis('equal')  # Equal aspect ratio ensures that the pie chart is circular\n",
        "plt.legend(labels=labels, loc='lower left')\n",
        "plt.show()"
      ]
    },
    {
      "cell_type": "markdown",
      "source": [
        "**77.2% of customer did not issue and insurance claim 22.8% of customers issued an insuarance claim this shows that The target varriable is highly imbalanced with 0(no claims) much higher than the 1(atleast one claim over insured period ) meaning it will further require to be balanced using some machine learning aligorithms  **"
      ],
      "metadata": {
        "id": "96v17giIovPo"
      }
    },
    {
      "cell_type": "markdown",
      "source": [
        "\n",
        "\n"
      ],
      "metadata": {
        "id": "C_xUH5hX0S5A"
      }
    },
    {
      "cell_type": "markdown",
      "source": [
        "**visualising the categorical values distribution**"
      ],
      "metadata": {
        "id": "Ve0xF2iu0mmc"
      }
    },
    {
      "cell_type": "code",
      "source": [
        "fig, axes = plt.subplots(3, 3, figsize=(10, 10))\n",
        "sns.set_theme(style=\"darkgrid\")\n",
        "# Plot the Claim distribution\n",
        "sns.countplot(data=dft, x='Claim', ax=axes[0, 0], palette='Set2')\n",
        "axes[0, 0].set_title('Claim Distribution')\n",
        "\n",
        "# Plot the Residential distribution\n",
        "sns.countplot(data=dft, x='Residential', ax=axes[0, 1], palette='Set2')\n",
        "axes[0, 1].set_title('Residential Distribution')\n",
        "\n",
        "\n",
        "# Plot the Building Painted distribution\n",
        "sns.countplot(data=dft, x='Building_Painted', ax=axes[0, 2], palette='Set2')\n",
        "axes[0, 2].set_title('Building Painted Distribution')\n",
        "\n",
        "# Plot the Building Fenced distribution\n",
        "sns.countplot(data=dft, x='Building_Fenced', ax=axes[1, 0], palette='Set2')\n",
        "axes[1, 0].set_title('Building Fenced Distribution')\n",
        "\n",
        "#Plot the Garden distribution\n",
        "sns.countplot(data=dft, x='Garden', ax=axes[1, 1],palette='Set2')\n",
        "axes[1, 1].set_title('Garden Distribution')\n",
        "\n",
        "# Plot the Settlement distribution\n",
        "sns.countplot(data=dft, x='Settlement', ax=axes[1, 2],palette='Set2')\n",
        "axes[1, 2].set_title('Settlement Distribution')\n",
        "\n",
        "#Plot the Building_Type distribution\n",
        "sns.countplot(data=dft, x='Building_Type', ax=axes[2, 0],palette='Set2')\n",
        "axes[2, 0].set_title('Building_Type Distribution')\n",
        "\n",
        "\n",
        "#Plot the Insured_Period distribution\n",
        "#sns.countplot(data=df, x='Insured_Period', ax=axes[2, 1],palette='Set3')\n",
        "#axes[2, 1].set_title('Insured_Period Distribution')\n",
        "\n",
        "#Plot the Building_Type distribution\n",
        "#sns.countplot(data=df, x='Building_Type', ax=axes[2, 1],palette='Set3')\n",
        "#axes[2, 1].set_title('Building_Type Distribution')\n",
        "\n",
        "fig.delaxes(axes[2, 1])\n",
        "fig.delaxes(axes[2, 2])\n",
        "\n",
        "# Adjust the layout\n",
        "plt.tight_layout()\n",
        "\n",
        "# Show the plot\n",
        "plt.show()\n"
      ],
      "metadata": {
        "id": "H7F2TGJmQ-Nb",
        "colab": {
          "base_uri": "https://localhost:8080/",
          "height": 1000
        },
        "outputId": "c17072e9-8669-4c0d-92c7-d07b3e558097"
      },
      "execution_count": 175,
      "outputs": [
        {
          "output_type": "display_data",
          "data": {
            "text/plain": [
              "<Figure size 1000x1000 with 7 Axes>"
            ],
            "image/png": "[encoded data removed]"
          },
          "metadata": {}
        }
      ]
    },
    {
      "cell_type": "markdown",
      "source": [
        "**visualising the continous varriables**"
      ],
      "metadata": {
        "id": "kam5PRunua_Z"
      }
    },
    {
      "cell_type": "markdown",
      "source": [],
      "metadata": {
        "id": "0devOR2CATcL"
      }
    },
    {
      "cell_type": "code",
      "source": [
        "numerical_cont=['Building Dimension','Date_of_Occupancy']"
      ],
      "metadata": {
        "id": "AGIsSgFrN5ts"
      },
      "execution_count": 176,
      "outputs": []
    },
    {
      "cell_type": "code",
      "source": [
        "plt.figure(figsize=(8, 8))\n",
        "for i, column in enumerate(numerical_cont, 1):\n",
        "    plt.subplot(2, 2, i)\n",
        "    sns.histplot(dft[column], bins=20, kde = True)\n",
        "plt.tight_layout()\n",
        "plt.show()"
      ],
      "metadata": {
        "id": "OIhLfd1cRBLw",
        "colab": {
          "base_uri": "https://localhost:8080/",
          "height": 436
        },
        "outputId": "aebc390f-b196-4dab-cc44-5d39586415ac"
      },
      "execution_count": 177,
      "outputs": [
        {
          "output_type": "display_data",
          "data": {
            "text/plain": [
              "<Figure size 800x800 with 2 Axes>"
            ],
            "image/png": "[encoded data removed]"
          },
          "metadata": {}
        }
      ]
    },
    {
      "cell_type": "markdown",
      "source": [
        "**There are outliers in Building dimension columns the fact its skewed to the left as well in the data_of_occupancy since its  right skewing**"
      ],
      "metadata": {
        "id": "Py0kJJSkAbIE"
      }
    },
    {
      "cell_type": "markdown",
      "source": [
        "**Distribution of   categorical variables with respect to claim (target varriable)**"
      ],
      "metadata": {
        "id": "S7Rub04v9xpJ"
      }
    },
    {
      "cell_type": "code",
      "source": [
        "fig, axes = plt.subplots(3, 3, figsize=(15, 10))\n",
        "sns.set_theme(style=\"darkgrid\")\n",
        "# Plot the Claim distribution\n",
        "sns.countplot(data=dft, x='Claim', ax=axes[0, 0], hue = 'Claim', palette='Set2')\n",
        "axes[0, 0].set_title('Claim Distribution')\n",
        "\n",
        "# Plot the Residential distribution\n",
        "sns.countplot(data=dft, x='Residential', ax=axes[0, 1], hue = 'Claim',palette='Set2')\n",
        "axes[0, 1].set_title('Residential Distribution')\n",
        "\n",
        "\n",
        "# Plot the Building Painted distribution\n",
        "sns.countplot(data=dft, x='Building_Painted', ax=axes[0, 2], hue = 'Claim',palette='Set2')\n",
        "axes[0, 2].set_title('Building Painted Distribution')\n",
        "# Plot the Building Fenced distribution\n",
        "sns.countplot(data=dft, x='Building_Fenced', ax=axes[1, 0], hue = 'Claim',palette='Set2')\n",
        "axes[1, 0].set_title('Building Fenced Distribution')\n",
        "\n",
        "#Plot the Garden distribution\n",
        "sns.countplot(data=dft, x='Garden', ax=axes[1, 1], hue = 'Claim',palette='Set2')\n",
        "axes[1, 1].set_title('Garden Distribution')\n",
        "\n",
        "# Plot the Settlement distribution\n",
        "sns.countplot(data=dft, x='Settlement', ax=axes[1, 2], hue = 'Claim',palette='Set2')\n",
        "axes[1, 2].set_title('Settlement Distribution')\n",
        "\n",
        "#Plot the Building_Type distribution\n",
        "sns.countplot(data=dft, x='Building_Type', ax=axes[2, 0], hue = 'Claim',palette='Set2')\n",
        "axes[2, 0].set_title('Building_Type Distribution')\n",
        "\n",
        "\n",
        "#Plot the Insured_Period distribution\n",
        "#sns.countplot(data=df, x='Insured_Period', ax=axes[2, 1],palette='Set3')\n",
        "#axes[2, 1].set_title('Insured_Period Distribution')\n",
        "\n",
        "\n",
        "fig.delaxes(axes[2, 1])\n",
        "fig.delaxes(axes[2, 2])\n",
        "\n",
        "# Adjust the layout\n",
        "plt.tight_layout()\n",
        "\n",
        "# Show the plot\n",
        "plt.show()\n"
      ],
      "metadata": {
        "id": "28RS4aAHBSUs",
        "colab": {
          "base_uri": "https://localhost:8080/",
          "height": 836
        },
        "outputId": "31dec5a4-6e4f-425f-b6fa-9accfc0e5b03"
      },
      "execution_count": 178,
      "outputs": [
        {
          "output_type": "display_data",
          "data": {
            "text/plain": [
              "<Figure size 1500x1000 with 7 Axes>"
            ],
            "image/png": "[encoded data removed]"
          },
          "metadata": {}
        }
      ]
    },
    {
      "cell_type": "markdown",
      "source": [
        "**Observations**\n",
        "\n",
        "\n",
        "*   The non painted buildings have a higher insurance claim campared to the houses for the first bar graphpainted\n",
        "\n",
        "\n",
        "\n",
        "*   The non fenced buildings have a higher insurance claim campared to the fensed houses\n",
        "*   The buildings without gardens a higher insurance claim campared to those buildings with gardens\n",
        "\n",
        "*   Buildings in the Urban Settlement have a low insurance claim as compared to those in rural setting\n",
        "\n",
        "\n",
        "\n",
        "\n",
        "\n",
        "\n",
        "."
      ],
      "metadata": {
        "id": "JIRaCPbiCLei"
      }
    },
    {
      "cell_type": "markdown",
      "source": [
        "**Distribution of the target varriable with respect to continous varriable**"
      ],
      "metadata": {
        "id": "kLBEzHKOCLOq"
      }
    },
    {
      "cell_type": "code",
      "source": [
        "dft.columns"
      ],
      "metadata": {
        "colab": {
          "base_uri": "https://localhost:8080/"
        },
        "id": "pk5aDcv3QBCi",
        "outputId": "719cec81-890e-4798-c6c4-b494c0e24caa"
      },
      "execution_count": 179,
      "outputs": [
        {
          "output_type": "execute_result",
          "data": {
            "text/plain": [
              "Index(['Customer Id', 'YearOfObservation', 'Insured_Period', 'Residential',\n",
              "       'Building_Painted', 'Building_Fenced', 'Garden', 'Settlement',\n",
              "       'Building Dimension', 'Building_Type', 'Date_of_Occupancy',\n",
              "       'NumberOfWindows', 'Geo_Code', 'Claim'],\n",
              "      dtype='object')"
            ]
          },
          "metadata": {},
          "execution_count": 179
        }
      ]
    },
    {
      "cell_type": "code",
      "source": [
        "figurecc=['Residential','Building Dimension','Building_Type','Date_of_Occupancy',]"
      ],
      "metadata": {
        "id": "ebsMw82EQHQx"
      },
      "execution_count": 180,
      "outputs": []
    },
    {
      "cell_type": "code",
      "source": [
        "list(enumerate(figurecc))"
      ],
      "metadata": {
        "colab": {
          "base_uri": "https://localhost:8080/"
        },
        "id": "VM6ZfnuqQi9l",
        "outputId": "654282a4-e765-4f41-9a97-5970dbf0084d"
      },
      "execution_count": 181,
      "outputs": [
        {
          "output_type": "execute_result",
          "data": {
            "text/plain": [
              "[(0, 'Residential'),\n",
              " (1, 'Building Dimension'),\n",
              " (2, 'Building_Type'),\n",
              " (3, 'Date_of_Occupancy')]"
            ]
          },
          "metadata": {},
          "execution_count": 181
        }
      ]
    },
    {
      "cell_type": "markdown",
      "source": [],
      "metadata": {
        "id": "JOpQFCWpu8Xx"
      }
    },
    {
      "cell_type": "code",
      "source": [
        "\n",
        "plt.suptitle(\"Distribution of Claim with respect to various numerical variables\")\n",
        "plt.figure(figsize=(10,8))\n",
        "for i in enumerate(figurecc):\n",
        "  plt.subplot(2,2,i[0]+1)\n",
        "  plt.suptitle(\"Distribution of Claim with respect to various numerical variables\")\n",
        "  plt.tight_layout()\n",
        "  sns.histplot(x=i[1], hue ='Claim', data = dft, palette=['red','blue'])\n",
        "  plt.xticks(rotation = 45)"
      ],
      "metadata": {
        "id": "6X-P9-q90tWZ",
        "colab": {
          "base_uri": "https://localhost:8080/",
          "height": 830
        },
        "outputId": "ebc9ab72-f8d3-4b5a-c30f-6283022bd44a"
      },
      "execution_count": 182,
      "outputs": [
        {
          "output_type": "display_data",
          "data": {
            "text/plain": [
              "<Figure size 640x480 with 0 Axes>"
            ]
          },
          "metadata": {}
        },
        {
          "output_type": "display_data",
          "data": {
            "text/plain": [
              "<Figure size 1000x800 with 4 Axes>"
            ],
            "image/png": "[encoded data removed]"
          },
          "metadata": {}
        }
      ]
    },
    {
      "cell_type": "code",
      "source": [],
      "metadata": {
        "id": "hpkiljtLwMSc"
      },
      "execution_count": 122,
      "outputs": []
    },
    {
      "cell_type": "markdown",
      "source": [
        "**observation**\n",
        "\n",
        "There was a high insurance claim in the year 1960 according to Date of occupancy bar graph.\n",
        "\n",
        "Buildings of dimensions between 500 to 2000 have a higher insurance claim\n",
        "\n",
        "Non residential buildings have a higer insurance claim claim as compared to the residential buildings\n",
        "\n",
        "Buildings with type number 2 have a hot a higher insurance claim as opposed to other number types**\n",
        "\n",
        "---\n",
        "\n"
      ],
      "metadata": {
        "id": "ze2gkSTe24Fi"
      }
    },
    {
      "cell_type": "markdown",
      "source": [
        "**Data encoding**"
      ],
      "metadata": {
        "id": "Hrd_fFJyQ5DG"
      }
    },
    {
      "cell_type": "code",
      "source": [
        "# Create a LabelEncoder\n",
        "label_encoder = LabelEncoder()\n",
        "\n",
        "# Encode categorical columns\n",
        "categorical_columns = [\"Building_Painted\", \"Building_Fenced\", \"Garden\", \"Settlement\",\"NumberOfWindows\",]\n",
        "for column in categorical_columns:\n",
        "    dft[column] = label_encoder.fit_transform(dft[column])\n",
        "    print(dft)"
      ],
      "metadata": {
        "colab": {
          "base_uri": "https://localhost:8080/"
        },
        "id": "Yh8avPGIQ4Ew",
        "outputId": "a5342313-d92d-42c5-8330-a54bdefe21f0"
      },
      "execution_count": 183,
      "outputs": [
        {
          "output_type": "stream",
          "name": "stdout",
          "text": [
            "     Customer Id  YearOfObservation  Insured_Period  Residential  \\\n",
            "0         H14663               2013        1.000000            0   \n",
            "1          H2037               2015        1.000000            0   \n",
            "2          H3802               2014        1.000000            0   \n",
            "3          H3834               2013        1.000000            0   \n",
            "4          H5053               2014        1.000000            0   \n",
            "...          ...                ...             ...          ...   \n",
            "7155       H5290               2012        1.000000            1   \n",
            "7156       H5926               2013        1.000000            0   \n",
            "7157       H6204               2016        0.038251            0   \n",
            "7158       H6537               2013        1.000000            0   \n",
            "7159       H7470               2014        1.000000            0   \n",
            "\n",
            "      Building_Painted Building_Fenced Garden Settlement  Building Dimension  \\\n",
            "0                    0               V      V          U               290.0   \n",
            "1                    1               N      O          R               490.0   \n",
            "2                    0               V      V          U               595.0   \n",
            "3                    1               V      V          U              2840.0   \n",
            "4                    1               N      O          R               680.0   \n",
            "...                ...             ...    ...        ...                 ...   \n",
            "7155                 1               V      V          U              1083.0   \n",
            "7156                 1               V      V          U              1083.0   \n",
            "7157                 1               V      V          U              1083.0   \n",
            "7158                 1               V      V          U              1083.0   \n",
            "7159                 1               V      V          U              1083.0   \n",
            "\n",
            "      Building_Type  Date_of_Occupancy NumberOfWindows Geo_Code  Claim  \n",
            "0                 1             1960.0               .     1053      0  \n",
            "1                 1             1850.0               4     1053      0  \n",
            "2                 1             1960.0               .     1053      0  \n",
            "3                 1             1960.0               .     1053      0  \n",
            "4                 1             1800.0               3     1053      0  \n",
            "...             ...                ...             ...      ...    ...  \n",
            "7155              1             2001.0               .     6088      0  \n",
            "7156              2             1980.0               .     6088      1  \n",
            "7157              1             1992.0               .     6088      0  \n",
            "7158              1             1972.0               .     6088      0  \n",
            "7159              1             2004.0               .     6088      0  \n",
            "\n",
            "[7160 rows x 14 columns]\n",
            "     Customer Id  YearOfObservation  Insured_Period  Residential  \\\n",
            "0         H14663               2013        1.000000            0   \n",
            "1          H2037               2015        1.000000            0   \n",
            "2          H3802               2014        1.000000            0   \n",
            "3          H3834               2013        1.000000            0   \n",
            "4          H5053               2014        1.000000            0   \n",
            "...          ...                ...             ...          ...   \n",
            "7155       H5290               2012        1.000000            1   \n",
            "7156       H5926               2013        1.000000            0   \n",
            "7157       H6204               2016        0.038251            0   \n",
            "7158       H6537               2013        1.000000            0   \n",
            "7159       H7470               2014        1.000000            0   \n",
            "\n",
            "      Building_Painted  Building_Fenced Garden Settlement  Building Dimension  \\\n",
            "0                    0                1      V          U               290.0   \n",
            "1                    1                0      O          R               490.0   \n",
            "2                    0                1      V          U               595.0   \n",
            "3                    1                1      V          U              2840.0   \n",
            "4                    1                0      O          R               680.0   \n",
            "...                ...              ...    ...        ...                 ...   \n",
            "7155                 1                1      V          U              1083.0   \n",
            "7156                 1                1      V          U              1083.0   \n",
            "7157                 1                1      V          U              1083.0   \n",
            "7158                 1                1      V          U              1083.0   \n",
            "7159                 1                1      V          U              1083.0   \n",
            "\n",
            "      Building_Type  Date_of_Occupancy NumberOfWindows Geo_Code  Claim  \n",
            "0                 1             1960.0               .     1053      0  \n",
            "1                 1             1850.0               4     1053      0  \n",
            "2                 1             1960.0               .     1053      0  \n",
            "3                 1             1960.0               .     1053      0  \n",
            "4                 1             1800.0               3     1053      0  \n",
            "...             ...                ...             ...      ...    ...  \n",
            "7155              1             2001.0               .     6088      0  \n",
            "7156              2             1980.0               .     6088      1  \n",
            "7157              1             1992.0               .     6088      0  \n",
            "7158              1             1972.0               .     6088      0  \n",
            "7159              1             2004.0               .     6088      0  \n",
            "\n",
            "[7160 rows x 14 columns]\n",
            "     Customer Id  YearOfObservation  Insured_Period  Residential  \\\n",
            "0         H14663               2013        1.000000            0   \n",
            "1          H2037               2015        1.000000            0   \n",
            "2          H3802               2014        1.000000            0   \n",
            "3          H3834               2013        1.000000            0   \n",
            "4          H5053               2014        1.000000            0   \n",
            "...          ...                ...             ...          ...   \n",
            "7155       H5290               2012        1.000000            1   \n",
            "7156       H5926               2013        1.000000            0   \n",
            "7157       H6204               2016        0.038251            0   \n",
            "7158       H6537               2013        1.000000            0   \n",
            "7159       H7470               2014        1.000000            0   \n",
            "\n",
            "      Building_Painted  Building_Fenced  Garden Settlement  \\\n",
            "0                    0                1       1          U   \n",
            "1                    1                0       0          R   \n",
            "2                    0                1       1          U   \n",
            "3                    1                1       1          U   \n",
            "4                    1                0       0          R   \n",
            "...                ...              ...     ...        ...   \n",
            "7155                 1                1       1          U   \n",
            "7156                 1                1       1          U   \n",
            "7157                 1                1       1          U   \n",
            "7158                 1                1       1          U   \n",
            "7159                 1                1       1          U   \n",
            "\n",
            "      Building Dimension  Building_Type  Date_of_Occupancy NumberOfWindows  \\\n",
            "0                  290.0              1             1960.0               .   \n",
            "1                  490.0              1             1850.0               4   \n",
            "2                  595.0              1             1960.0               .   \n",
            "3                 2840.0              1             1960.0               .   \n",
            "4                  680.0              1             1800.0               3   \n",
            "...                  ...            ...                ...             ...   \n",
            "7155              1083.0              1             2001.0               .   \n",
            "7156              1083.0              2             1980.0               .   \n",
            "7157              1083.0              1             1992.0               .   \n",
            "7158              1083.0              1             1972.0               .   \n",
            "7159              1083.0              1             2004.0               .   \n",
            "\n",
            "     Geo_Code  Claim  \n",
            "0        1053      0  \n",
            "1        1053      0  \n",
            "2        1053      0  \n",
            "3        1053      0  \n",
            "4        1053      0  \n",
            "...       ...    ...  \n",
            "7155     6088      0  \n",
            "7156     6088      1  \n",
            "7157     6088      0  \n",
            "7158     6088      0  \n",
            "7159     6088      0  \n",
            "\n",
            "[7160 rows x 14 columns]\n",
            "     Customer Id  YearOfObservation  Insured_Period  Residential  \\\n",
            "0         H14663               2013        1.000000            0   \n",
            "1          H2037               2015        1.000000            0   \n",
            "2          H3802               2014        1.000000            0   \n",
            "3          H3834               2013        1.000000            0   \n",
            "4          H5053               2014        1.000000            0   \n",
            "...          ...                ...             ...          ...   \n",
            "7155       H5290               2012        1.000000            1   \n",
            "7156       H5926               2013        1.000000            0   \n",
            "7157       H6204               2016        0.038251            0   \n",
            "7158       H6537               2013        1.000000            0   \n",
            "7159       H7470               2014        1.000000            0   \n",
            "\n",
            "      Building_Painted  Building_Fenced  Garden  Settlement  \\\n",
            "0                    0                1       1           1   \n",
            "1                    1                0       0           0   \n",
            "2                    0                1       1           1   \n",
            "3                    1                1       1           1   \n",
            "4                    1                0       0           0   \n",
            "...                ...              ...     ...         ...   \n",
            "7155                 1                1       1           1   \n",
            "7156                 1                1       1           1   \n",
            "7157                 1                1       1           1   \n",
            "7158                 1                1       1           1   \n",
            "7159                 1                1       1           1   \n",
            "\n",
            "      Building Dimension  Building_Type  Date_of_Occupancy NumberOfWindows  \\\n",
            "0                  290.0              1             1960.0               .   \n",
            "1                  490.0              1             1850.0               4   \n",
            "2                  595.0              1             1960.0               .   \n",
            "3                 2840.0              1             1960.0               .   \n",
            "4                  680.0              1             1800.0               3   \n",
            "...                  ...            ...                ...             ...   \n",
            "7155              1083.0              1             2001.0               .   \n",
            "7156              1083.0              2             1980.0               .   \n",
            "7157              1083.0              1             1992.0               .   \n",
            "7158              1083.0              1             1972.0               .   \n",
            "7159              1083.0              1             2004.0               .   \n",
            "\n",
            "     Geo_Code  Claim  \n",
            "0        1053      0  \n",
            "1        1053      0  \n",
            "2        1053      0  \n",
            "3        1053      0  \n",
            "4        1053      0  \n",
            "...       ...    ...  \n",
            "7155     6088      0  \n",
            "7156     6088      1  \n",
            "7157     6088      0  \n",
            "7158     6088      0  \n",
            "7159     6088      0  \n",
            "\n",
            "[7160 rows x 14 columns]\n",
            "     Customer Id  YearOfObservation  Insured_Period  Residential  \\\n",
            "0         H14663               2013        1.000000            0   \n",
            "1          H2037               2015        1.000000            0   \n",
            "2          H3802               2014        1.000000            0   \n",
            "3          H3834               2013        1.000000            0   \n",
            "4          H5053               2014        1.000000            0   \n",
            "...          ...                ...             ...          ...   \n",
            "7155       H5290               2012        1.000000            1   \n",
            "7156       H5926               2013        1.000000            0   \n",
            "7157       H6204               2016        0.038251            0   \n",
            "7158       H6537               2013        1.000000            0   \n",
            "7159       H7470               2014        1.000000            0   \n",
            "\n",
            "      Building_Painted  Building_Fenced  Garden  Settlement  \\\n",
            "0                    0                1       1           1   \n",
            "1                    1                0       0           0   \n",
            "2                    0                1       1           1   \n",
            "3                    1                1       1           1   \n",
            "4                    1                0       0           0   \n",
            "...                ...              ...     ...         ...   \n",
            "7155                 1                1       1           1   \n",
            "7156                 1                1       1           1   \n",
            "7157                 1                1       1           1   \n",
            "7158                 1                1       1           1   \n",
            "7159                 1                1       1           1   \n",
            "\n",
            "      Building Dimension  Building_Type  Date_of_Occupancy  NumberOfWindows  \\\n",
            "0                  290.0              1             1960.0                0   \n",
            "1                  490.0              1             1850.0                4   \n",
            "2                  595.0              1             1960.0                0   \n",
            "3                 2840.0              1             1960.0                0   \n",
            "4                  680.0              1             1800.0                3   \n",
            "...                  ...            ...                ...              ...   \n",
            "7155              1083.0              1             2001.0                0   \n",
            "7156              1083.0              2             1980.0                0   \n",
            "7157              1083.0              1             1992.0                0   \n",
            "7158              1083.0              1             1972.0                0   \n",
            "7159              1083.0              1             2004.0                0   \n",
            "\n",
            "     Geo_Code  Claim  \n",
            "0        1053      0  \n",
            "1        1053      0  \n",
            "2        1053      0  \n",
            "3        1053      0  \n",
            "4        1053      0  \n",
            "...       ...    ...  \n",
            "7155     6088      0  \n",
            "7156     6088      1  \n",
            "7157     6088      0  \n",
            "7158     6088      0  \n",
            "7159     6088      0  \n",
            "\n",
            "[7160 rows x 14 columns]\n"
          ]
        }
      ]
    },
    {
      "cell_type": "code",
      "source": [],
      "metadata": {
        "id": "GdeUb2YPaKKe"
      },
      "execution_count": 123,
      "outputs": []
    },
    {
      "cell_type": "code",
      "source": [
        "#displaying the encoded dataset\n",
        "dft.head()"
      ],
      "metadata": {
        "colab": {
          "base_uri": "https://localhost:8080/",
          "height": 244
        },
        "id": "L3PMP2KRS-dV",
        "outputId": "f70704ed-fc16-4e2a-fdd3-cea686f607ca"
      },
      "execution_count": 184,
      "outputs": [
        {
          "output_type": "execute_result",
          "data": {
            "text/plain": [
              "  Customer Id  YearOfObservation  Insured_Period  Residential  \\\n",
              "0      H14663               2013             1.0            0   \n",
              "1       H2037               2015             1.0            0   \n",
              "2       H3802               2014             1.0            0   \n",
              "3       H3834               2013             1.0            0   \n",
              "4       H5053               2014             1.0            0   \n",
              "\n",
              "   Building_Painted  Building_Fenced  Garden  Settlement  Building Dimension  \\\n",
              "0                 0                1       1           1               290.0   \n",
              "1                 1                0       0           0               490.0   \n",
              "2                 0                1       1           1               595.0   \n",
              "3                 1                1       1           1              2840.0   \n",
              "4                 1                0       0           0               680.0   \n",
              "\n",
              "   Building_Type  Date_of_Occupancy  NumberOfWindows Geo_Code  Claim  \n",
              "0              1             1960.0                0     1053      0  \n",
              "1              1             1850.0                4     1053      0  \n",
              "2              1             1960.0                0     1053      0  \n",
              "3              1             1960.0                0     1053      0  \n",
              "4              1             1800.0                3     1053      0  "
            ],
            "text/html": [
              "\n",
              "  <div id=\"df-fcff2d78-a091-400a-aee1-4fb7c04f801a\" class=\"colab-df-container\">\n",
              "    <div>\n",
              "<style scoped>\n",
              "    .dataframe tbody tr th:only-of-type {\n",
              "        vertical-align: middle;\n",
              "    }\n",
              "\n",
              "    .dataframe tbody tr th {\n",
              "        vertical-align: top;\n",
              "    }\n",
              "\n",
              "    .dataframe thead th {\n",
              "        text-align: right;\n",
              "    }\n",
              "</style>\n",
              "<table border=\"1\" class=\"dataframe\">\n",
              "  <thead>\n",
              "    <tr style=\"text-align: right;\">\n",
              "      <th></th>\n",
              "      <th>Customer Id</th>\n",
              "      <th>YearOfObservation</th>\n",
              "      <th>Insured_Period</th>\n",
              "      <th>Residential</th>\n",
              "      <th>Building_Painted</th>\n",
              "      <th>Building_Fenced</th>\n",
              "      <th>Garden</th>\n",
              "      <th>Settlement</th>\n",
              "      <th>Building Dimension</th>\n",
              "      <th>Building_Type</th>\n",
              "      <th>Date_of_Occupancy</th>\n",
              "      <th>NumberOfWindows</th>\n",
              "      <th>Geo_Code</th>\n",
              "      <th>Claim</th>\n",
              "    </tr>\n",
              "  </thead>\n",
              "  <tbody>\n",
              "    <tr>\n",
              "      <th>0</th>\n",
              "      <td>H14663</td>\n",
              "      <td>2013</td>\n",
              "      <td>1.0</td>\n",
              "      <td>0</td>\n",
              "      <td>0</td>\n",
              "      <td>1</td>\n",
              "      <td>1</td>\n",
              "      <td>1</td>\n",
              "      <td>290.0</td>\n",
              "      <td>1</td>\n",
              "      <td>1960.0</td>\n",
              "      <td>0</td>\n",
              "      <td>1053</td>\n",
              "      <td>0</td>\n",
              "    </tr>\n",
              "    <tr>\n",
              "      <th>1</th>\n",
              "      <td>H2037</td>\n",
              "      <td>2015</td>\n",
              "      <td>1.0</td>\n",
              "      <td>0</td>\n",
              "      <td>1</td>\n",
              "      <td>0</td>\n",
              "      <td>0</td>\n",
              "      <td>0</td>\n",
              "      <td>490.0</td>\n",
              "      <td>1</td>\n",
              "      <td>1850.0</td>\n",
              "      <td>4</td>\n",
              "      <td>1053</td>\n",
              "      <td>0</td>\n",
              "    </tr>\n",
              "    <tr>\n",
              "      <th>2</th>\n",
              "      <td>H3802</td>\n",
              "      <td>2014</td>\n",
              "      <td>1.0</td>\n",
              "      <td>0</td>\n",
              "      <td>0</td>\n",
              "      <td>1</td>\n",
              "      <td>1</td>\n",
              "      <td>1</td>\n",
              "      <td>595.0</td>\n",
              "      <td>1</td>\n",
              "      <td>1960.0</td>\n",
              "      <td>0</td>\n",
              "      <td>1053</td>\n",
              "      <td>0</td>\n",
              "    </tr>\n",
              "    <tr>\n",
              "      <th>3</th>\n",
              "      <td>H3834</td>\n",
              "      <td>2013</td>\n",
              "      <td>1.0</td>\n",
              "      <td>0</td>\n",
              "      <td>1</td>\n",
              "      <td>1</td>\n",
              "      <td>1</td>\n",
              "      <td>1</td>\n",
              "      <td>2840.0</td>\n",
              "      <td>1</td>\n",
              "      <td>1960.0</td>\n",
              "      <td>0</td>\n",
              "      <td>1053</td>\n",
              "      <td>0</td>\n",
              "    </tr>\n",
              "    <tr>\n",
              "      <th>4</th>\n",
              "      <td>H5053</td>\n",
              "      <td>2014</td>\n",
              "      <td>1.0</td>\n",
              "      <td>0</td>\n",
              "      <td>1</td>\n",
              "      <td>0</td>\n",
              "      <td>0</td>\n",
              "      <td>0</td>\n",
              "      <td>680.0</td>\n",
              "      <td>1</td>\n",
              "      <td>1800.0</td>\n",
              "      <td>3</td>\n",
              "      <td>1053</td>\n",
              "      <td>0</td>\n",
              "    </tr>\n",
              "  </tbody>\n",
              "</table>\n",
              "</div>\n",
              "    <div class=\"colab-df-buttons\">\n",
              "\n",
              "  <div class=\"colab-df-container\">\n",
              "    <button class=\"colab-df-convert\" onclick=\"convertToInteractive('df-fcff2d78-a091-400a-aee1-4fb7c04f801a')\"\n",
              "            title=\"Convert this dataframe to an interactive table.\"\n",
              "            style=\"display:none;\">\n",
              "\n",
              "  <svg xmlns=\"http://www.w3.org/2000/svg\" height=\"24px\" viewBox=\"0 -960 960 960\">\n",
              "    <path d=\"M120-120v-720h720v720H120Zm60-500h600v-160H180v160Zm220 220h160v-160H400v160Zm0 220h160v-160H400v160ZM180-400h160v-160H180v160Zm440 0h160v-160H620v160ZM180-180h160v-160H180v160Zm440 0h160v-160H620v160Z\"/>\n",
              "  </svg>\n",
              "    </button>\n",
              "\n",
              "  <style>\n",
              "    .colab-df-container {\n",
              "      display:flex;\n",
              "      gap: 12px;\n",
              "    }\n",
              "\n",
              "    .colab-df-convert {\n",
              "      background-color: #E8F0FE;\n",
              "      border: none;\n",
              "      border-radius: 50%;\n",
              "      cursor: pointer;\n",
              "      display: none;\n",
              "      fill: #1967D2;\n",
              "      height: 32px;\n",
              "      padding: 0 0 0 0;\n",
              "      width: 32px;\n",
              "    }\n",
              "\n",
              "    .colab-df-convert:hover {\n",
              "      background-color: #E2EBFA;\n",
              "      box-shadow: 0px 1px 2px rgba(60, 64, 67, 0.3), 0px 1px 3px 1px rgba(60, 64, 67, 0.15);\n",
              "      fill: #174EA6;\n",
              "    }\n",
              "\n",
              "    .colab-df-buttons div {\n",
              "      margin-bottom: 4px;\n",
              "    }\n",
              "\n",
              "    [theme=dark] .colab-df-convert {\n",
              "      background-color: #3B4455;\n",
              "      fill: #D2E3FC;\n",
              "    }\n",
              "\n",
              "    [theme=dark] .colab-df-convert:hover {\n",
              "      background-color: #434B5C;\n",
              "      box-shadow: 0px 1px 3px 1px rgba(0, 0, 0, 0.15);\n",
              "      filter: drop-shadow(0px 1px 2px rgba(0, 0, 0, 0.3));\n",
              "      fill: #FFFFFF;\n",
              "    }\n",
              "  </style>\n",
              "\n",
              "    <script>\n",
              "      const buttonEl =\n",
              "        document.querySelector('#df-fcff2d78-a091-400a-aee1-4fb7c04f801a button.colab-df-convert');\n",
              "      buttonEl.style.display =\n",
              "        google.colab.kernel.accessAllowed ? 'block' : 'none';\n",
              "\n",
              "      async function convertToInteractive(key) {\n",
              "        const element = document.querySelector('#df-fcff2d78-a091-400a-aee1-4fb7c04f801a');\n",
              "        const dataTable =\n",
              "          await google.colab.kernel.invokeFunction('convertToInteractive',\n",
              "                                                    [key], {});\n",
              "        if (!dataTable) return;\n",
              "\n",
              "        const docLinkHtml = 'Like what you see? Visit the ' +\n",
              "          '<a target=\"_blank\" href=https://colab.research.google.com/notebooks/data_table.ipynb>data table notebook</a>'\n",
              "          + ' to learn more about interactive tables.';\n",
              "        element.innerHTML = '';\n",
              "        dataTable['output_type'] = 'display_data';\n",
              "        await google.colab.output.renderOutput(dataTable, element);\n",
              "        const docLink = document.createElement('div');\n",
              "        docLink.innerHTML = docLinkHtml;\n",
              "        element.appendChild(docLink);\n",
              "      }\n",
              "    </script>\n",
              "  </div>\n",
              "\n",
              "\n",
              "<div id=\"df-5c6bd1d5-1a98-4c83-9529-420c7e3f1eb7\">\n",
              "  <button class=\"colab-df-quickchart\" onclick=\"quickchart('df-5c6bd1d5-1a98-4c83-9529-420c7e3f1eb7')\"\n",
              "            title=\"Suggest charts\"\n",
              "            style=\"display:none;\">\n",
              "\n",
              "<svg xmlns=\"http://www.w3.org/2000/svg\" height=\"24px\"viewBox=\"0 0 24 24\"\n",
              "     width=\"24px\">\n",
              "    <g>\n",
              "        <path d=\"M19 3H5c-1.1 0-2 .9-2 2v14c0 1.1.9 2 2 2h14c1.1 0 2-.9 2-2V5c0-1.1-.9-2-2-2zM9 17H7v-7h2v7zm4 0h-2V7h2v10zm4 0h-2v-4h2v4z\"/>\n",
              "    </g>\n",
              "</svg>\n",
              "  </button>\n",
              "\n",
              "<style>\n",
              "  .colab-df-quickchart {\n",
              "      --bg-color: #E8F0FE;\n",
              "      --fill-color: #1967D2;\n",
              "      --hover-bg-color: #E2EBFA;\n",
              "      --hover-fill-color: #174EA6;\n",
              "      --disabled-fill-color: #AAA;\n",
              "      --disabled-bg-color: #DDD;\n",
              "  }\n",
              "\n",
              "  [theme=dark] .colab-df-quickchart {\n",
              "      --bg-color: #3B4455;\n",
              "      --fill-color: #D2E3FC;\n",
              "      --hover-bg-color: #434B5C;\n",
              "      --hover-fill-color: #FFFFFF;\n",
              "      --disabled-bg-color: #3B4455;\n",
              "      --disabled-fill-color: #666;\n",
              "  }\n",
              "\n",
              "  .colab-df-quickchart {\n",
              "    background-color: var(--bg-color);\n",
              "    border: none;\n",
              "    border-radius: 50%;\n",
              "    cursor: pointer;\n",
              "    display: none;\n",
              "    fill: var(--fill-color);\n",
              "    height: 32px;\n",
              "    padding: 0;\n",
              "    width: 32px;\n",
              "  }\n",
              "\n",
              "  .colab-df-quickchart:hover {\n",
              "    background-color: var(--hover-bg-color);\n",
              "    box-shadow: 0 1px 2px rgba(60, 64, 67, 0.3), 0 1px 3px 1px rgba(60, 64, 67, 0.15);\n",
              "    fill: var(--button-hover-fill-color);\n",
              "  }\n",
              "\n",
              "  .colab-df-quickchart-complete:disabled,\n",
              "  .colab-df-quickchart-complete:disabled:hover {\n",
              "    background-color: var(--disabled-bg-color);\n",
              "    fill: var(--disabled-fill-color);\n",
              "    box-shadow: none;\n",
              "  }\n",
              "\n",
              "  .colab-df-spinner {\n",
              "    border: 2px solid var(--fill-color);\n",
              "    border-color: transparent;\n",
              "    border-bottom-color: var(--fill-color);\n",
              "    animation:\n",
              "      spin 1s steps(1) infinite;\n",
              "  }\n",
              "\n",
              "  @keyframes spin {\n",
              "    0% {\n",
              "      border-color: transparent;\n",
              "      border-bottom-color: var(--fill-color);\n",
              "      border-left-color: var(--fill-color);\n",
              "    }\n",
              "    20% {\n",
              "      border-color: transparent;\n",
              "      border-left-color: var(--fill-color);\n",
              "      border-top-color: var(--fill-color);\n",
              "    }\n",
              "    30% {\n",
              "      border-color: transparent;\n",
              "      border-left-color: var(--fill-color);\n",
              "      border-top-color: var(--fill-color);\n",
              "      border-right-color: var(--fill-color);\n",
              "    }\n",
              "    40% {\n",
              "      border-color: transparent;\n",
              "      border-right-color: var(--fill-color);\n",
              "      border-top-color: var(--fill-color);\n",
              "    }\n",
              "    60% {\n",
              "      border-color: transparent;\n",
              "      border-right-color: var(--fill-color);\n",
              "    }\n",
              "    80% {\n",
              "      border-color: transparent;\n",
              "      border-right-color: var(--fill-color);\n",
              "      border-bottom-color: var(--fill-color);\n",
              "    }\n",
              "    90% {\n",
              "      border-color: transparent;\n",
              "      border-bottom-color: var(--fill-color);\n",
              "    }\n",
              "  }\n",
              "</style>\n",
              "\n",
              "  <script>\n",
              "    async function quickchart(key) {\n",
              "      const quickchartButtonEl =\n",
              "        document.querySelector('#' + key + ' button');\n",
              "      quickchartButtonEl.disabled = true;  // To prevent multiple clicks.\n",
              "      quickchartButtonEl.classList.add('colab-df-spinner');\n",
              "      try {\n",
              "        const charts = await google.colab.kernel.invokeFunction(\n",
              "            'suggestCharts', [key], {});\n",
              "      } catch (error) {\n",
              "        console.error('Error during call to suggestCharts:', error);\n",
              "      }\n",
              "      quickchartButtonEl.classList.remove('colab-df-spinner');\n",
              "      quickchartButtonEl.classList.add('colab-df-quickchart-complete');\n",
              "    }\n",
              "    (() => {\n",
              "      let quickchartButtonEl =\n",
              "        document.querySelector('#df-5c6bd1d5-1a98-4c83-9529-420c7e3f1eb7 button');\n",
              "      quickchartButtonEl.style.display =\n",
              "        google.colab.kernel.accessAllowed ? 'block' : 'none';\n",
              "    })();\n",
              "  </script>\n",
              "</div>\n",
              "    </div>\n",
              "  </div>\n"
            ]
          },
          "metadata": {},
          "execution_count": 184
        }
      ]
    },
    {
      "cell_type": "markdown",
      "source": [],
      "metadata": {
        "id": "Ybp45oezGmjq"
      }
    },
    {
      "cell_type": "markdown",
      "source": [
        "**feature selection (selecting the best features for the model)**"
      ],
      "metadata": {
        "id": "HJT8NAIfT6AX"
      }
    },
    {
      "cell_type": "code",
      "source": [
        "dft.head()"
      ],
      "metadata": {
        "colab": {
          "base_uri": "https://localhost:8080/",
          "height": 244
        },
        "id": "vvkEkI_2Xf-z",
        "outputId": "59bc4f96-8218-4a4a-c746-e4d27ed4d31c"
      },
      "execution_count": 185,
      "outputs": [
        {
          "output_type": "execute_result",
          "data": {
            "text/plain": [
              "  Customer Id  YearOfObservation  Insured_Period  Residential  \\\n",
              "0      H14663               2013             1.0            0   \n",
              "1       H2037               2015             1.0            0   \n",
              "2       H3802               2014             1.0            0   \n",
              "3       H3834               2013             1.0            0   \n",
              "4       H5053               2014             1.0            0   \n",
              "\n",
              "   Building_Painted  Building_Fenced  Garden  Settlement  Building Dimension  \\\n",
              "0                 0                1       1           1               290.0   \n",
              "1                 1                0       0           0               490.0   \n",
              "2                 0                1       1           1               595.0   \n",
              "3                 1                1       1           1              2840.0   \n",
              "4                 1                0       0           0               680.0   \n",
              "\n",
              "   Building_Type  Date_of_Occupancy  NumberOfWindows Geo_Code  Claim  \n",
              "0              1             1960.0                0     1053      0  \n",
              "1              1             1850.0                4     1053      0  \n",
              "2              1             1960.0                0     1053      0  \n",
              "3              1             1960.0                0     1053      0  \n",
              "4              1             1800.0                3     1053      0  "
            ],
            "text/html": [
              "\n",
              "  <div id=\"df-876e6a2f-31b2-48cb-bbd5-4cf0dd76f6a0\" class=\"colab-df-container\">\n",
              "    <div>\n",
              "<style scoped>\n",
              "    .dataframe tbody tr th:only-of-type {\n",
              "        vertical-align: middle;\n",
              "    }\n",
              "\n",
              "    .dataframe tbody tr th {\n",
              "        vertical-align: top;\n",
              "    }\n",
              "\n",
              "    .dataframe thead th {\n",
              "        text-align: right;\n",
              "    }\n",
              "</style>\n",
              "<table border=\"1\" class=\"dataframe\">\n",
              "  <thead>\n",
              "    <tr style=\"text-align: right;\">\n",
              "      <th></th>\n",
              "      <th>Customer Id</th>\n",
              "      <th>YearOfObservation</th>\n",
              "      <th>Insured_Period</th>\n",
              "      <th>Residential</th>\n",
              "      <th>Building_Painted</th>\n",
              "      <th>Building_Fenced</th>\n",
              "      <th>Garden</th>\n",
              "      <th>Settlement</th>\n",
              "      <th>Building Dimension</th>\n",
              "      <th>Building_Type</th>\n",
              "      <th>Date_of_Occupancy</th>\n",
              "      <th>NumberOfWindows</th>\n",
              "      <th>Geo_Code</th>\n",
              "      <th>Claim</th>\n",
              "    </tr>\n",
              "  </thead>\n",
              "  <tbody>\n",
              "    <tr>\n",
              "      <th>0</th>\n",
              "      <td>H14663</td>\n",
              "      <td>2013</td>\n",
              "      <td>1.0</td>\n",
              "      <td>0</td>\n",
              "      <td>0</td>\n",
              "      <td>1</td>\n",
              "      <td>1</td>\n",
              "      <td>1</td>\n",
              "      <td>290.0</td>\n",
              "      <td>1</td>\n",
              "      <td>1960.0</td>\n",
              "      <td>0</td>\n",
              "      <td>1053</td>\n",
              "      <td>0</td>\n",
              "    </tr>\n",
              "    <tr>\n",
              "      <th>1</th>\n",
              "      <td>H2037</td>\n",
              "      <td>2015</td>\n",
              "      <td>1.0</td>\n",
              "      <td>0</td>\n",
              "      <td>1</td>\n",
              "      <td>0</td>\n",
              "      <td>0</td>\n",
              "      <td>0</td>\n",
              "      <td>490.0</td>\n",
              "      <td>1</td>\n",
              "      <td>1850.0</td>\n",
              "      <td>4</td>\n",
              "      <td>1053</td>\n",
              "      <td>0</td>\n",
              "    </tr>\n",
              "    <tr>\n",
              "      <th>2</th>\n",
              "      <td>H3802</td>\n",
              "      <td>2014</td>\n",
              "      <td>1.0</td>\n",
              "      <td>0</td>\n",
              "      <td>0</td>\n",
              "      <td>1</td>\n",
              "      <td>1</td>\n",
              "      <td>1</td>\n",
              "      <td>595.0</td>\n",
              "      <td>1</td>\n",
              "      <td>1960.0</td>\n",
              "      <td>0</td>\n",
              "      <td>1053</td>\n",
              "      <td>0</td>\n",
              "    </tr>\n",
              "    <tr>\n",
              "      <th>3</th>\n",
              "      <td>H3834</td>\n",
              "      <td>2013</td>\n",
              "      <td>1.0</td>\n",
              "      <td>0</td>\n",
              "      <td>1</td>\n",
              "      <td>1</td>\n",
              "      <td>1</td>\n",
              "      <td>1</td>\n",
              "      <td>2840.0</td>\n",
              "      <td>1</td>\n",
              "      <td>1960.0</td>\n",
              "      <td>0</td>\n",
              "      <td>1053</td>\n",
              "      <td>0</td>\n",
              "    </tr>\n",
              "    <tr>\n",
              "      <th>4</th>\n",
              "      <td>H5053</td>\n",
              "      <td>2014</td>\n",
              "      <td>1.0</td>\n",
              "      <td>0</td>\n",
              "      <td>1</td>\n",
              "      <td>0</td>\n",
              "      <td>0</td>\n",
              "      <td>0</td>\n",
              "      <td>680.0</td>\n",
              "      <td>1</td>\n",
              "      <td>1800.0</td>\n",
              "      <td>3</td>\n",
              "      <td>1053</td>\n",
              "      <td>0</td>\n",
              "    </tr>\n",
              "  </tbody>\n",
              "</table>\n",
              "</div>\n",
              "    <div class=\"colab-df-buttons\">\n",
              "\n",
              "  <div class=\"colab-df-container\">\n",
              "    <button class=\"colab-df-convert\" onclick=\"convertToInteractive('df-876e6a2f-31b2-48cb-bbd5-4cf0dd76f6a0')\"\n",
              "            title=\"Convert this dataframe to an interactive table.\"\n",
              "            style=\"display:none;\">\n",
              "\n",
              "  <svg xmlns=\"http://www.w3.org/2000/svg\" height=\"24px\" viewBox=\"0 -960 960 960\">\n",
              "    <path d=\"M120-120v-720h720v720H120Zm60-500h600v-160H180v160Zm220 220h160v-160H400v160Zm0 220h160v-160H400v160ZM180-400h160v-160H180v160Zm440 0h160v-160H620v160ZM180-180h160v-160H180v160Zm440 0h160v-160H620v160Z\"/>\n",
              "  </svg>\n",
              "    </button>\n",
              "\n",
              "  <style>\n",
              "    .colab-df-container {\n",
              "      display:flex;\n",
              "      gap: 12px;\n",
              "    }\n",
              "\n",
              "    .colab-df-convert {\n",
              "      background-color: #E8F0FE;\n",
              "      border: none;\n",
              "      border-radius: 50%;\n",
              "      cursor: pointer;\n",
              "      display: none;\n",
              "      fill: #1967D2;\n",
              "      height: 32px;\n",
              "      padding: 0 0 0 0;\n",
              "      width: 32px;\n",
              "    }\n",
              "\n",
              "    .colab-df-convert:hover {\n",
              "      background-color: #E2EBFA;\n",
              "      box-shadow: 0px 1px 2px rgba(60, 64, 67, 0.3), 0px 1px 3px 1px rgba(60, 64, 67, 0.15);\n",
              "      fill: #174EA6;\n",
              "    }\n",
              "\n",
              "    .colab-df-buttons div {\n",
              "      margin-bottom: 4px;\n",
              "    }\n",
              "\n",
              "    [theme=dark] .colab-df-convert {\n",
              "      background-color: #3B4455;\n",
              "      fill: #D2E3FC;\n",
              "    }\n",
              "\n",
              "    [theme=dark] .colab-df-convert:hover {\n",
              "      background-color: #434B5C;\n",
              "      box-shadow: 0px 1px 3px 1px rgba(0, 0, 0, 0.15);\n",
              "      filter: drop-shadow(0px 1px 2px rgba(0, 0, 0, 0.3));\n",
              "      fill: #FFFFFF;\n",
              "    }\n",
              "  </style>\n",
              "\n",
              "    <script>\n",
              "      const buttonEl =\n",
              "        document.querySelector('#df-876e6a2f-31b2-48cb-bbd5-4cf0dd76f6a0 button.colab-df-convert');\n",
              "      buttonEl.style.display =\n",
              "        google.colab.kernel.accessAllowed ? 'block' : 'none';\n",
              "\n",
              "      async function convertToInteractive(key) {\n",
              "        const element = document.querySelector('#df-876e6a2f-31b2-48cb-bbd5-4cf0dd76f6a0');\n",
              "        const dataTable =\n",
              "          await google.colab.kernel.invokeFunction('convertToInteractive',\n",
              "                                                    [key], {});\n",
              "        if (!dataTable) return;\n",
              "\n",
              "        const docLinkHtml = 'Like what you see? Visit the ' +\n",
              "          '<a target=\"_blank\" href=https://colab.research.google.com/notebooks/data_table.ipynb>data table notebook</a>'\n",
              "          + ' to learn more about interactive tables.';\n",
              "        element.innerHTML = '';\n",
              "        dataTable['output_type'] = 'display_data';\n",
              "        await google.colab.output.renderOutput(dataTable, element);\n",
              "        const docLink = document.createElement('div');\n",
              "        docLink.innerHTML = docLinkHtml;\n",
              "        element.appendChild(docLink);\n",
              "      }\n",
              "    </script>\n",
              "  </div>\n",
              "\n",
              "\n",
              "<div id=\"df-ec8e3ca5-703a-46c9-9e94-6ca02c3d5824\">\n",
              "  <button class=\"colab-df-quickchart\" onclick=\"quickchart('df-ec8e3ca5-703a-46c9-9e94-6ca02c3d5824')\"\n",
              "            title=\"Suggest charts\"\n",
              "            style=\"display:none;\">\n",
              "\n",
              "<svg xmlns=\"http://www.w3.org/2000/svg\" height=\"24px\"viewBox=\"0 0 24 24\"\n",
              "     width=\"24px\">\n",
              "    <g>\n",
              "        <path d=\"M19 3H5c-1.1 0-2 .9-2 2v14c0 1.1.9 2 2 2h14c1.1 0 2-.9 2-2V5c0-1.1-.9-2-2-2zM9 17H7v-7h2v7zm4 0h-2V7h2v10zm4 0h-2v-4h2v4z\"/>\n",
              "    </g>\n",
              "</svg>\n",
              "  </button>\n",
              "\n",
              "<style>\n",
              "  .colab-df-quickchart {\n",
              "      --bg-color: #E8F0FE;\n",
              "      --fill-color: #1967D2;\n",
              "      --hover-bg-color: #E2EBFA;\n",
              "      --hover-fill-color: #174EA6;\n",
              "      --disabled-fill-color: #AAA;\n",
              "      --disabled-bg-color: #DDD;\n",
              "  }\n",
              "\n",
              "  [theme=dark] .colab-df-quickchart {\n",
              "      --bg-color: #3B4455;\n",
              "      --fill-color: #D2E3FC;\n",
              "      --hover-bg-color: #434B5C;\n",
              "      --hover-fill-color: #FFFFFF;\n",
              "      --disabled-bg-color: #3B4455;\n",
              "      --disabled-fill-color: #666;\n",
              "  }\n",
              "\n",
              "  .colab-df-quickchart {\n",
              "    background-color: var(--bg-color);\n",
              "    border: none;\n",
              "    border-radius: 50%;\n",
              "    cursor: pointer;\n",
              "    display: none;\n",
              "    fill: var(--fill-color);\n",
              "    height: 32px;\n",
              "    padding: 0;\n",
              "    width: 32px;\n",
              "  }\n",
              "\n",
              "  .colab-df-quickchart:hover {\n",
              "    background-color: var(--hover-bg-color);\n",
              "    box-shadow: 0 1px 2px rgba(60, 64, 67, 0.3), 0 1px 3px 1px rgba(60, 64, 67, 0.15);\n",
              "    fill: var(--button-hover-fill-color);\n",
              "  }\n",
              "\n",
              "  .colab-df-quickchart-complete:disabled,\n",
              "  .colab-df-quickchart-complete:disabled:hover {\n",
              "    background-color: var(--disabled-bg-color);\n",
              "    fill: var(--disabled-fill-color);\n",
              "    box-shadow: none;\n",
              "  }\n",
              "\n",
              "  .colab-df-spinner {\n",
              "    border: 2px solid var(--fill-color);\n",
              "    border-color: transparent;\n",
              "    border-bottom-color: var(--fill-color);\n",
              "    animation:\n",
              "      spin 1s steps(1) infinite;\n",
              "  }\n",
              "\n",
              "  @keyframes spin {\n",
              "    0% {\n",
              "      border-color: transparent;\n",
              "      border-bottom-color: var(--fill-color);\n",
              "      border-left-color: var(--fill-color);\n",
              "    }\n",
              "    20% {\n",
              "      border-color: transparent;\n",
              "      border-left-color: var(--fill-color);\n",
              "      border-top-color: var(--fill-color);\n",
              "    }\n",
              "    30% {\n",
              "      border-color: transparent;\n",
              "      border-left-color: var(--fill-color);\n",
              "      border-top-color: var(--fill-color);\n",
              "      border-right-color: var(--fill-color);\n",
              "    }\n",
              "    40% {\n",
              "      border-color: transparent;\n",
              "      border-right-color: var(--fill-color);\n",
              "      border-top-color: var(--fill-color);\n",
              "    }\n",
              "    60% {\n",
              "      border-color: transparent;\n",
              "      border-right-color: var(--fill-color);\n",
              "    }\n",
              "    80% {\n",
              "      border-color: transparent;\n",
              "      border-right-color: var(--fill-color);\n",
              "      border-bottom-color: var(--fill-color);\n",
              "    }\n",
              "    90% {\n",
              "      border-color: transparent;\n",
              "      border-bottom-color: var(--fill-color);\n",
              "    }\n",
              "  }\n",
              "</style>\n",
              "\n",
              "  <script>\n",
              "    async function quickchart(key) {\n",
              "      const quickchartButtonEl =\n",
              "        document.querySelector('#' + key + ' button');\n",
              "      quickchartButtonEl.disabled = true;  // To prevent multiple clicks.\n",
              "      quickchartButtonEl.classList.add('colab-df-spinner');\n",
              "      try {\n",
              "        const charts = await google.colab.kernel.invokeFunction(\n",
              "            'suggestCharts', [key], {});\n",
              "      } catch (error) {\n",
              "        console.error('Error during call to suggestCharts:', error);\n",
              "      }\n",
              "      quickchartButtonEl.classList.remove('colab-df-spinner');\n",
              "      quickchartButtonEl.classList.add('colab-df-quickchart-complete');\n",
              "    }\n",
              "    (() => {\n",
              "      let quickchartButtonEl =\n",
              "        document.querySelector('#df-ec8e3ca5-703a-46c9-9e94-6ca02c3d5824 button');\n",
              "      quickchartButtonEl.style.display =\n",
              "        google.colab.kernel.accessAllowed ? 'block' : 'none';\n",
              "    })();\n",
              "  </script>\n",
              "</div>\n",
              "    </div>\n",
              "  </div>\n"
            ]
          },
          "metadata": {},
          "execution_count": 185
        }
      ]
    },
    {
      "cell_type": "code",
      "source": [],
      "metadata": {
        "id": "FjRkT1kVTZbG"
      },
      "execution_count": 125,
      "outputs": []
    },
    {
      "cell_type": "code",
      "source": [
        "dft.isna().sum()"
      ],
      "metadata": {
        "id": "m5ufpYcQc-DQ",
        "outputId": "3d540b5b-2cca-46fa-e1f1-6d265ad717b8",
        "colab": {
          "base_uri": "https://localhost:8080/"
        }
      },
      "execution_count": 186,
      "outputs": [
        {
          "output_type": "execute_result",
          "data": {
            "text/plain": [
              "Customer Id           0\n",
              "YearOfObservation     0\n",
              "Insured_Period        0\n",
              "Residential           0\n",
              "Building_Painted      0\n",
              "Building_Fenced       0\n",
              "Garden                0\n",
              "Settlement            0\n",
              "Building Dimension    0\n",
              "Building_Type         0\n",
              "Date_of_Occupancy     0\n",
              "NumberOfWindows       0\n",
              "Geo_Code              0\n",
              "Claim                 0\n",
              "dtype: int64"
            ]
          },
          "metadata": {},
          "execution_count": 186
        }
      ]
    },
    {
      "cell_type": "code",
      "source": [
        "#Specification of independent and dependent variables\n",
        "columns_to_drop = ['Customer Id','NumberOfWindows','Geo_Code']\n",
        "dft = dft.drop(columns=columns_to_drop, axis=1)"
      ],
      "metadata": {
        "id": "FOhT_WZ0WjMO"
      },
      "execution_count": 187,
      "outputs": []
    },
    {
      "cell_type": "code",
      "source": [
        "#Specification of independent and dependent variables of dataset 1\n",
        "x= dft.drop(columns=['Claim'])  # Features\n",
        "y = dft['Claim']  # Target variable"
      ],
      "metadata": {
        "id": "-_xvundfbxMg"
      },
      "execution_count": 188,
      "outputs": []
    },
    {
      "cell_type": "code",
      "source": [
        "#Feature selection using chi-squared statistics and ANOVA F-statistic\n",
        "from sklearn.feature_selection import SelectKBest, chi2, f_classif\n",
        "\n",
        "# Calculate chi-squared statistics for each feature\n",
        "chi2_scores = chi2(x, y)[0]\n",
        "\n",
        "# Calculate ANOVA F-statistic and p-values for each feature\n",
        "f_scores = f_classif(x, y)[0]\n",
        "\n",
        "# Combine chi-squared and ANOVA scores\n",
        "combined_scores = chi2_scores + f_scores\n",
        "\n",
        "feature_scores = pd.DataFrame({'Feature': a.columns, 'Combined_Score': combined_scores})\n",
        "feature_scores = feature_scores.sort_values(by='Combined_Score', ascending=False)\n"
      ],
      "metadata": {
        "id": "ZIldv52zUu_D"
      },
      "execution_count": 192,
      "outputs": []
    },
    {
      "cell_type": "code",
      "source": [
        "feature_scores"
      ],
      "metadata": {
        "colab": {
          "base_uri": "https://localhost:8080/",
          "height": 363
        },
        "id": "lvwGlq0yb2MG",
        "outputId": "02e87054-ddaa-49a2-e56e-2af78a426e63"
      },
      "execution_count": 190,
      "outputs": [
        {
          "output_type": "execute_result",
          "data": {
            "text/plain": [
              "              Feature  Combined_Score\n",
              "7  Building Dimension   522649.321115\n",
              "8       Building_Type      127.662465\n",
              "1      Insured_Period       60.342299\n",
              "2         Residential       49.046046\n",
              "5              Garden       29.358813\n",
              "6          Settlement       29.190635\n",
              "4     Building_Fenced       28.779675\n",
              "3    Building_Painted        7.971521\n",
              "9   Date_of_Occupancy        3.653432\n",
              "0   YearOfObservation        1.919750"
            ],
            "text/html": [
              "\n",
              "  <div id=\"df-582b04e8-849b-4fb1-81ce-417f284e0d30\" class=\"colab-df-container\">\n",
              "    <div>\n",
              "<style scoped>\n",
              "    .dataframe tbody tr th:only-of-type {\n",
              "        vertical-align: middle;\n",
              "    }\n",
              "\n",
              "    .dataframe tbody tr th {\n",
              "        vertical-align: top;\n",
              "    }\n",
              "\n",
              "    .dataframe thead th {\n",
              "        text-align: right;\n",
              "    }\n",
              "</style>\n",
              "<table border=\"1\" class=\"dataframe\">\n",
              "  <thead>\n",
              "    <tr style=\"text-align: right;\">\n",
              "      <th></th>\n",
              "      <th>Feature</th>\n",
              "      <th>Combined_Score</th>\n",
              "    </tr>\n",
              "  </thead>\n",
              "  <tbody>\n",
              "    <tr>\n",
              "      <th>7</th>\n",
              "      <td>Building Dimension</td>\n",
              "      <td>522649.321115</td>\n",
              "    </tr>\n",
              "    <tr>\n",
              "      <th>8</th>\n",
              "      <td>Building_Type</td>\n",
              "      <td>127.662465</td>\n",
              "    </tr>\n",
              "    <tr>\n",
              "      <th>1</th>\n",
              "      <td>Insured_Period</td>\n",
              "      <td>60.342299</td>\n",
              "    </tr>\n",
              "    <tr>\n",
              "      <th>2</th>\n",
              "      <td>Residential</td>\n",
              "      <td>49.046046</td>\n",
              "    </tr>\n",
              "    <tr>\n",
              "      <th>5</th>\n",
              "      <td>Garden</td>\n",
              "      <td>29.358813</td>\n",
              "    </tr>\n",
              "    <tr>\n",
              "      <th>6</th>\n",
              "      <td>Settlement</td>\n",
              "      <td>29.190635</td>\n",
              "    </tr>\n",
              "    <tr>\n",
              "      <th>4</th>\n",
              "      <td>Building_Fenced</td>\n",
              "      <td>28.779675</td>\n",
              "    </tr>\n",
              "    <tr>\n",
              "      <th>3</th>\n",
              "      <td>Building_Painted</td>\n",
              "      <td>7.971521</td>\n",
              "    </tr>\n",
              "    <tr>\n",
              "      <th>9</th>\n",
              "      <td>Date_of_Occupancy</td>\n",
              "      <td>3.653432</td>\n",
              "    </tr>\n",
              "    <tr>\n",
              "      <th>0</th>\n",
              "      <td>YearOfObservation</td>\n",
              "      <td>1.919750</td>\n",
              "    </tr>\n",
              "  </tbody>\n",
              "</table>\n",
              "</div>\n",
              "    <div class=\"colab-df-buttons\">\n",
              "\n",
              "  <div class=\"colab-df-container\">\n",
              "    <button class=\"colab-df-convert\" onclick=\"convertToInteractive('df-582b04e8-849b-4fb1-81ce-417f284e0d30')\"\n",
              "            title=\"Convert this dataframe to an interactive table.\"\n",
              "            style=\"display:none;\">\n",
              "\n",
              "  <svg xmlns=\"http://www.w3.org/2000/svg\" height=\"24px\" viewBox=\"0 -960 960 960\">\n",
              "    <path d=\"M120-120v-720h720v720H120Zm60-500h600v-160H180v160Zm220 220h160v-160H400v160Zm0 220h160v-160H400v160ZM180-400h160v-160H180v160Zm440 0h160v-160H620v160ZM180-180h160v-160H180v160Zm440 0h160v-160H620v160Z\"/>\n",
              "  </svg>\n",
              "    </button>\n",
              "\n",
              "  <style>\n",
              "    .colab-df-container {\n",
              "      display:flex;\n",
              "      gap: 12px;\n",
              "    }\n",
              "\n",
              "    .colab-df-convert {\n",
              "      background-color: #E8F0FE;\n",
              "      border: none;\n",
              "      border-radius: 50%;\n",
              "      cursor: pointer;\n",
              "      display: none;\n",
              "      fill: #1967D2;\n",
              "      height: 32px;\n",
              "      padding: 0 0 0 0;\n",
              "      width: 32px;\n",
              "    }\n",
              "\n",
              "    .colab-df-convert:hover {\n",
              "      background-color: #E2EBFA;\n",
              "      box-shadow: 0px 1px 2px rgba(60, 64, 67, 0.3), 0px 1px 3px 1px rgba(60, 64, 67, 0.15);\n",
              "      fill: #174EA6;\n",
              "    }\n",
              "\n",
              "    .colab-df-buttons div {\n",
              "      margin-bottom: 4px;\n",
              "    }\n",
              "\n",
              "    [theme=dark] .colab-df-convert {\n",
              "      background-color: #3B4455;\n",
              "      fill: #D2E3FC;\n",
              "    }\n",
              "\n",
              "    [theme=dark] .colab-df-convert:hover {\n",
              "      background-color: #434B5C;\n",
              "      box-shadow: 0px 1px 3px 1px rgba(0, 0, 0, 0.15);\n",
              "      filter: drop-shadow(0px 1px 2px rgba(0, 0, 0, 0.3));\n",
              "      fill: #FFFFFF;\n",
              "    }\n",
              "  </style>\n",
              "\n",
              "    <script>\n",
              "      const buttonEl =\n",
              "        document.querySelector('#df-582b04e8-849b-4fb1-81ce-417f284e0d30 button.colab-df-convert');\n",
              "      buttonEl.style.display =\n",
              "        google.colab.kernel.accessAllowed ? 'block' : 'none';\n",
              "\n",
              "      async function convertToInteractive(key) {\n",
              "        const element = document.querySelector('#df-582b04e8-849b-4fb1-81ce-417f284e0d30');\n",
              "        const dataTable =\n",
              "          await google.colab.kernel.invokeFunction('convertToInteractive',\n",
              "                                                    [key], {});\n",
              "        if (!dataTable) return;\n",
              "\n",
              "        const docLinkHtml = 'Like what you see? Visit the ' +\n",
              "          '<a target=\"_blank\" href=https://colab.research.google.com/notebooks/data_table.ipynb>data table notebook</a>'\n",
              "          + ' to learn more about interactive tables.';\n",
              "        element.innerHTML = '';\n",
              "        dataTable['output_type'] = 'display_data';\n",
              "        await google.colab.output.renderOutput(dataTable, element);\n",
              "        const docLink = document.createElement('div');\n",
              "        docLink.innerHTML = docLinkHtml;\n",
              "        element.appendChild(docLink);\n",
              "      }\n",
              "    </script>\n",
              "  </div>\n",
              "\n",
              "\n",
              "<div id=\"df-1c652a79-b270-4c66-979f-34aeef7bc123\">\n",
              "  <button class=\"colab-df-quickchart\" onclick=\"quickchart('df-1c652a79-b270-4c66-979f-34aeef7bc123')\"\n",
              "            title=\"Suggest charts\"\n",
              "            style=\"display:none;\">\n",
              "\n",
              "<svg xmlns=\"http://www.w3.org/2000/svg\" height=\"24px\"viewBox=\"0 0 24 24\"\n",
              "     width=\"24px\">\n",
              "    <g>\n",
              "        <path d=\"M19 3H5c-1.1 0-2 .9-2 2v14c0 1.1.9 2 2 2h14c1.1 0 2-.9 2-2V5c0-1.1-.9-2-2-2zM9 17H7v-7h2v7zm4 0h-2V7h2v10zm4 0h-2v-4h2v4z\"/>\n",
              "    </g>\n",
              "</svg>\n",
              "  </button>\n",
              "\n",
              "<style>\n",
              "  .colab-df-quickchart {\n",
              "      --bg-color: #E8F0FE;\n",
              "      --fill-color: #1967D2;\n",
              "      --hover-bg-color: #E2EBFA;\n",
              "      --hover-fill-color: #174EA6;\n",
              "      --disabled-fill-color: #AAA;\n",
              "      --disabled-bg-color: #DDD;\n",
              "  }\n",
              "\n",
              "  [theme=dark] .colab-df-quickchart {\n",
              "      --bg-color: #3B4455;\n",
              "      --fill-color: #D2E3FC;\n",
              "      --hover-bg-color: #434B5C;\n",
              "      --hover-fill-color: #FFFFFF;\n",
              "      --disabled-bg-color: #3B4455;\n",
              "      --disabled-fill-color: #666;\n",
              "  }\n",
              "\n",
              "  .colab-df-quickchart {\n",
              "    background-color: var(--bg-color);\n",
              "    border: none;\n",
              "    border-radius: 50%;\n",
              "    cursor: pointer;\n",
              "    display: none;\n",
              "    fill: var(--fill-color);\n",
              "    height: 32px;\n",
              "    padding: 0;\n",
              "    width: 32px;\n",
              "  }\n",
              "\n",
              "  .colab-df-quickchart:hover {\n",
              "    background-color: var(--hover-bg-color);\n",
              "    box-shadow: 0 1px 2px rgba(60, 64, 67, 0.3), 0 1px 3px 1px rgba(60, 64, 67, 0.15);\n",
              "    fill: var(--button-hover-fill-color);\n",
              "  }\n",
              "\n",
              "  .colab-df-quickchart-complete:disabled,\n",
              "  .colab-df-quickchart-complete:disabled:hover {\n",
              "    background-color: var(--disabled-bg-color);\n",
              "    fill: var(--disabled-fill-color);\n",
              "    box-shadow: none;\n",
              "  }\n",
              "\n",
              "  .colab-df-spinner {\n",
              "    border: 2px solid var(--fill-color);\n",
              "    border-color: transparent;\n",
              "    border-bottom-color: var(--fill-color);\n",
              "    animation:\n",
              "      spin 1s steps(1) infinite;\n",
              "  }\n",
              "\n",
              "  @keyframes spin {\n",
              "    0% {\n",
              "      border-color: transparent;\n",
              "      border-bottom-color: var(--fill-color);\n",
              "      border-left-color: var(--fill-color);\n",
              "    }\n",
              "    20% {\n",
              "      border-color: transparent;\n",
              "      border-left-color: var(--fill-color);\n",
              "      border-top-color: var(--fill-color);\n",
              "    }\n",
              "    30% {\n",
              "      border-color: transparent;\n",
              "      border-left-color: var(--fill-color);\n",
              "      border-top-color: var(--fill-color);\n",
              "      border-right-color: var(--fill-color);\n",
              "    }\n",
              "    40% {\n",
              "      border-color: transparent;\n",
              "      border-right-color: var(--fill-color);\n",
              "      border-top-color: var(--fill-color);\n",
              "    }\n",
              "    60% {\n",
              "      border-color: transparent;\n",
              "      border-right-color: var(--fill-color);\n",
              "    }\n",
              "    80% {\n",
              "      border-color: transparent;\n",
              "      border-right-color: var(--fill-color);\n",
              "      border-bottom-color: var(--fill-color);\n",
              "    }\n",
              "    90% {\n",
              "      border-color: transparent;\n",
              "      border-bottom-color: var(--fill-color);\n",
              "    }\n",
              "  }\n",
              "</style>\n",
              "\n",
              "  <script>\n",
              "    async function quickchart(key) {\n",
              "      const quickchartButtonEl =\n",
              "        document.querySelector('#' + key + ' button');\n",
              "      quickchartButtonEl.disabled = true;  // To prevent multiple clicks.\n",
              "      quickchartButtonEl.classList.add('colab-df-spinner');\n",
              "      try {\n",
              "        const charts = await google.colab.kernel.invokeFunction(\n",
              "            'suggestCharts', [key], {});\n",
              "      } catch (error) {\n",
              "        console.error('Error during call to suggestCharts:', error);\n",
              "      }\n",
              "      quickchartButtonEl.classList.remove('colab-df-spinner');\n",
              "      quickchartButtonEl.classList.add('colab-df-quickchart-complete');\n",
              "    }\n",
              "    (() => {\n",
              "      let quickchartButtonEl =\n",
              "        document.querySelector('#df-1c652a79-b270-4c66-979f-34aeef7bc123 button');\n",
              "      quickchartButtonEl.style.display =\n",
              "        google.colab.kernel.accessAllowed ? 'block' : 'none';\n",
              "    })();\n",
              "  </script>\n",
              "</div>\n",
              "    </div>\n",
              "  </div>\n"
            ]
          },
          "metadata": {},
          "execution_count": 190
        }
      ]
    },
    {
      "cell_type": "code",
      "source": [
        "sns.barplot(feature_scores, y ='Feature', x ='Combined_Score')\n",
        "plt.xscale('log')"
      ],
      "metadata": {
        "colab": {
          "base_uri": "https://localhost:8080/",
          "height": 462
        },
        "id": "LvtJS0IccH8n",
        "outputId": "2e0b9d22-0012-4405-d2e8-e183590d5eed"
      },
      "execution_count": 191,
      "outputs": [
        {
          "output_type": "display_data",
          "data": {
            "text/plain": [
              "<Figure size 640x480 with 1 Axes>"
            ],
            "image/png": "[encoded data removed]"
          },
          "metadata": {}
        }
      ]
    },
    {
      "cell_type": "markdown",
      "source": [
        "From the graph,Building dimension is the most important variable because they have a higher chi2 score and a lower p-values from the graphs above"
      ],
      "metadata": {
        "id": "_5zD_fvsgFMx"
      }
    },
    {
      "cell_type": "markdown",
      "source": [
        "**spiltting the dataset into training and testing**"
      ],
      "metadata": {
        "id": "yKWoz3-sgSom"
      }
    },
    {
      "cell_type": "markdown",
      "source": [
        "**Splitting the dataset into training and testing**"
      ],
      "metadata": {
        "id": "ohspMrhNgovE"
      }
    },
    {
      "cell_type": "code",
      "source": [
        "#splitting the dataset\n",
        "from sklearn.model_selection import train_test_split\n",
        "\n",
        "# Assuming dft is your DataFrame\n",
        "features = ['YearOfObservation', 'Insured_Period', 'Residential', 'Building_Painted', 'Building_Fenced', 'Garden', 'Settlement', 'Building Dimension', 'Building_Type', 'Date_of_Occupancy']\n",
        "target = \"Claim\"\n",
        "\n",
        "X = dft[features]\n",
        "y = dft[target]\n",
        "\n",
        "# Split the dataset into training and testing sets\n",
        "X_train, X_test, y_train, y_test = train_test_split(X, y, test_size=0.2, random_state=42)"
      ],
      "metadata": {
        "id": "cIyZzKaugiuQ"
      },
      "execution_count": 193,
      "outputs": []
    },
    {
      "cell_type": "markdown",
      "source": [
        "scalling the data"
      ],
      "metadata": {
        "id": "v1drfiCehSZ2"
      }
    },
    {
      "cell_type": "code",
      "source": [
        "from sklearn.preprocessing import StandardScaler\n",
        "sc = StandardScaler()\n",
        "X_train = sc.fit_transform(X_train)\n",
        "X_test = sc.transform(X_test)"
      ],
      "metadata": {
        "id": "I6xkgmX9hQ-o"
      },
      "execution_count": 194,
      "outputs": []
    },
    {
      "cell_type": "code",
      "source": [
        "X_train"
      ],
      "metadata": {
        "id": "Em0iCrhkhob7",
        "outputId": "1678aac1-8f5a-4f4c-f206-c0fa549c2afe",
        "colab": {
          "base_uri": "https://localhost:8080/"
        }
      },
      "execution_count": 195,
      "outputs": [
        {
          "output_type": "execute_result",
          "data": {
            "text/plain": [
              "array([[ 1.68333   ,  0.36173668,  1.52019165, ..., -0.56407555,\n",
              "         1.945864  , -0.13677604],\n",
              "       [ 0.96004486,  0.37325912, -0.6578118 , ...,  0.59556136,\n",
              "        -0.19059546, -0.13677604],\n",
              "       [-0.48652543,  0.37325912, -0.6578118 , ...,  1.10544062,\n",
              "         0.87763427,  0.14963661],\n",
              "       ...,\n",
              "       [ 0.23675971,  0.37325912,  1.52019165, ...,  0.65422003,\n",
              "         1.945864  , -1.74068689],\n",
              "       [-1.20981057,  0.37325912,  1.52019165, ..., -0.75900284,\n",
              "        -0.19059546, -0.13677604],\n",
              "       [-1.20981057,  0.37325912,  1.52019165, ..., -1.07163928,\n",
              "        -1.25882518, -0.42318869]])"
            ]
          },
          "metadata": {},
          "execution_count": 195
        }
      ]
    },
    {
      "cell_type": "code",
      "source": [
        "X_test"
      ],
      "metadata": {
        "id": "FAsexlzEhzJG",
        "outputId": "38eb7a7e-3c29-42c4-a217-6e26e760132f",
        "colab": {
          "base_uri": "https://localhost:8080/"
        }
      },
      "execution_count": 196,
      "outputs": [
        {
          "output_type": "execute_result",
          "data": {
            "text/plain": [
              "array([[-1.20981057,  0.37325912, -0.6578118 , ..., -0.44856308,\n",
              "        -0.19059546, -0.13677604],\n",
              "       [-0.48652543,  0.37325912, -0.6578118 , ..., -0.8654909 ,\n",
              "         0.87763427,  0.43604926],\n",
              "       [-1.20981057, -1.5048997 ,  1.52019165, ...,  1.11717235,\n",
              "         1.945864  ,  0.43604926],\n",
              "       ...,\n",
              "       [ 0.23675971,  0.37325912, -0.6578118 , ..., -0.69041731,\n",
              "        -0.19059546,  1.09479836],\n",
              "       [ 0.23675971,  0.37325912, -0.6578118 , ...,  0.84373268,\n",
              "        -1.25882518,  0.66517938],\n",
              "       [-1.20981057,  0.37325912, -0.6578118 , ..., -0.67146605,\n",
              "        -0.19059546,  1.29528722]])"
            ]
          },
          "metadata": {},
          "execution_count": 196
        }
      ]
    },
    {
      "cell_type": "markdown",
      "source": [
        "**Model Building**\n",
        "\n",
        "**K-Nearest Neighbor(KNN) model**"
      ],
      "metadata": {
        "id": "qBfqoQRRiDU7"
      }
    },
    {
      "cell_type": "code",
      "source": [
        "from sklearn.neighbors import KNeighborsClassifier\n",
        "# Create the K-nearest Neighbours Classifier and use the train dataset to train the model\n",
        "#accuracy = np.zeros(20)\n",
        "from sklearn.model_selection import train_test_split\n",
        "\n",
        "# Assuming X and y are your features and target variable respectively\n",
        "X_train, X_test, y_train, y_test = train_test_split(X, y, test_size=0.2, random_state=42)\n",
        "knn = KNeighborsClassifier(n_neighbors=3)\n",
        "knn.fit(X_train, y_train)\n",
        "#predicting the model\n",
        "y_pred = knn.predict(X_test)\n",
        "accuracy = accuracy_score(y_test, y_pred)\n",
        "# Evaluating the K-nearest Neighbours model using classification report\n",
        "print(classification_report(y_test,y_pred))"
      ],
      "metadata": {
        "id": "XSCRZCd_kIuT",
        "outputId": "57f5c6a9-8016-4504-d75a-43aad345a819",
        "colab": {
          "base_uri": "https://localhost:8080/"
        }
      },
      "execution_count": 197,
      "outputs": [
        {
          "output_type": "stream",
          "name": "stdout",
          "text": [
            "              precision    recall  f1-score   support\n",
            "\n",
            "           0       0.79      0.87      0.83      1098\n",
            "           1       0.38      0.25      0.30       334\n",
            "\n",
            "    accuracy                           0.73      1432\n",
            "   macro avg       0.59      0.56      0.57      1432\n",
            "weighted avg       0.70      0.73      0.71      1432\n",
            "\n"
          ]
        }
      ]
    },
    {
      "cell_type": "markdown",
      "source": [
        "**Accuracy is the overall correct predictions divided by the total number of predictions. The overall accuracy is 0.73, meaning that the model correctly predicted the class for 73% of the instances.**"
      ],
      "metadata": {
        "id": "M2B6ASczkjwt"
      }
    },
    {
      "cell_type": "markdown",
      "source": [
        "hyperparameter tunning for KNN model"
      ],
      "metadata": {
        "id": "q9VfnVcdk40g"
      }
    },
    {
      "cell_type": "code",
      "source": [
        "grid_params = { 'n_neighbors' : [2,6,10,12,20],\n",
        "               'weights' : ['uniform','distance'],\n",
        "               'metric' : ['minkowski','euclidean','manhattan']}"
      ],
      "metadata": {
        "id": "0epS8BsJk-p7"
      },
      "execution_count": 198,
      "outputs": []
    },
    {
      "cell_type": "code",
      "source": [
        "gs = GridSearchCV(KNeighborsClassifier(), grid_params, verbose = 1, cv=3, n_jobs = -1)"
      ],
      "metadata": {
        "id": "p2VY3zFzlQYa"
      },
      "execution_count": 199,
      "outputs": []
    },
    {
      "cell_type": "code",
      "source": [
        "gs = GridSearchCV(KNeighborsClassifier(), grid_params, verbose = 1, cv=3, n_jobs = -1)"
      ],
      "metadata": {
        "id": "gRxwx4DSlP_L"
      },
      "execution_count": 200,
      "outputs": []
    },
    {
      "cell_type": "code",
      "source": [
        "# fit the model on our train set\n",
        "g_res = gs.fit(X_train, y_train)"
      ],
      "metadata": {
        "id": "NwGZrL7UlciH",
        "outputId": "10f06edc-5233-4869-be9d-91793c0a251b",
        "colab": {
          "base_uri": "https://localhost:8080/"
        }
      },
      "execution_count": 201,
      "outputs": [
        {
          "output_type": "stream",
          "name": "stdout",
          "text": [
            "Fitting 3 folds for each of 30 candidates, totalling 90 fits\n"
          ]
        }
      ]
    },
    {
      "cell_type": "markdown",
      "source": [
        "**loading the test dataset**"
      ],
      "metadata": {
        "id": "I6ZWMiekck8Q"
      }
    },
    {
      "cell_type": "code",
      "source": [
        "dftest = pd.read_csv('/content/drive/MyDrive/MachineLearning/ML Lab/dataset/test_data.csv')\n",
        "dftest.head()"
      ],
      "metadata": {
        "id": "W29x7kf2cjgn"
      },
      "execution_count": null,
      "outputs": []
    },
    {
      "cell_type": "code",
      "source": [
        "dftest.isnull().sum()"
      ],
      "metadata": {
        "id": "MwA2sv-UeApx"
      },
      "execution_count": null,
      "outputs": []
    },
    {
      "cell_type": "code",
      "source": [
        "dftest['Geo_Code'] = dftest['Geo_Code'].fillna(dftest['Geo_Code'].mode()[0])"
      ],
      "metadata": {
        "id": "ov-C-rsReNYS"
      },
      "execution_count": null,
      "outputs": []
    },
    {
      "cell_type": "code",
      "source": [
        "dftest['Garden']= dftest['Garden'].fillna(dftest['Garden'].mode()[0])"
      ],
      "metadata": {
        "id": "qbIrG_IGeRj6"
      },
      "execution_count": null,
      "outputs": []
    },
    {
      "cell_type": "code",
      "source": [
        "#Distribution of data is skewed hence we use median\n",
        "dftest['Building Dimension'] = dftest['Building Dimension'].fillna(dftest['Building Dimension'].median())"
      ],
      "metadata": {
        "id": "GepQjJQ3eVvn"
      },
      "execution_count": null,
      "outputs": []
    },
    {
      "cell_type": "code",
      "source": [
        "dftest.drop(columns=['NumberOfWindows'],inplace=True)"
      ],
      "metadata": {
        "id": "7SoCwF7BeagD"
      },
      "execution_count": null,
      "outputs": []
    },
    {
      "cell_type": "code",
      "source": [
        "dftest['Date_of_Occupancy'] = dftest['Date_of_Occupancy'].fillna(dftest['Date_of_Occupancy'].median())"
      ],
      "metadata": {
        "id": "IWg7-h-UgATD"
      },
      "execution_count": null,
      "outputs": []
    },
    {
      "cell_type": "code",
      "source": [
        "dftest.drop(columns=['Customer Id'], inplace = True)"
      ],
      "metadata": {
        "id": "evscuPkxgVZo"
      },
      "execution_count": null,
      "outputs": []
    },
    {
      "cell_type": "code",
      "source": [
        "dftest.head()"
      ],
      "metadata": {
        "id": "VcskEKJegcC-"
      },
      "execution_count": null,
      "outputs": []
    },
    {
      "cell_type": "code",
      "source": [
        "dftest['Building_Painted'] = dftest['Building_Painted'].replace({'V':0, 'N':1})\n",
        "\n",
        "dftest['Building_Fenced']= dftest['Building_Fenced'].replace({'V':0, 'N':1})\n",
        "\n",
        "dftest['Garden']= dftest['Garden'].replace({'O':0, 'V':1})\n",
        "\n",
        "dftest['Settlement']= dftest['Settlement'].replace({'R':0, 'U':1})\n",
        "\n",
        "dftest['Building_Type']= dftest['Building_Type'].replace({'1':0, '2':1, '3':2, '4':3})"
      ],
      "metadata": {
        "id": "HM4HZ3hnguCt"
      },
      "execution_count": null,
      "outputs": []
    },
    {
      "cell_type": "code",
      "source": [
        "dftest.head()"
      ],
      "metadata": {
        "id": "2YB_it5EhCVx"
      },
      "execution_count": null,
      "outputs": []
    },
    {
      "cell_type": "code",
      "source": [
        "dftest.info()"
      ],
      "metadata": {
        "id": "9GK9dWT9hiLz"
      },
      "execution_count": null,
      "outputs": []
    },
    {
      "cell_type": "code",
      "source": [
        "dftest = dftest.drop(dftest[dftest.Geo_Code.str.contains(r'[A-Z]')].index)\n",
        "dftest['Geo_Code'] = pd.to_numeric(dftest['Geo_Code'])"
      ],
      "metadata": {
        "id": "eE2yc4sLhh75"
      },
      "execution_count": null,
      "outputs": []
    },
    {
      "cell_type": "code",
      "source": [
        "dftest.info()"
      ],
      "metadata": {
        "id": "B90apYnCiHyP"
      },
      "execution_count": null,
      "outputs": []
    },
    {
      "cell_type": "code",
      "source": [
        "X_test = dftest.copy()"
      ],
      "metadata": {
        "id": "aW88QLASiSvQ"
      },
      "execution_count": null,
      "outputs": []
    },
    {
      "cell_type": "code",
      "source": [
        "X_test=X_test.drop(['Geo_Code'],axis=1)"
      ],
      "metadata": {
        "id": "dHjlx8PX5UdH"
      },
      "execution_count": null,
      "outputs": []
    },
    {
      "cell_type": "code",
      "source": [
        "X_test.head()"
      ],
      "metadata": {
        "id": "iAhY1V3diVm8"
      },
      "execution_count": null,
      "outputs": []
    },
    {
      "cell_type": "markdown",
      "source": [
        "**model building**"
      ],
      "metadata": {
        "id": "szyjAP2SipHA"
      }
    },
    {
      "cell_type": "code",
      "source": [
        "x = updated_dft.drop(columns=['Claim'])  # Features\n",
        "y = updated_dft['Claim']  # Target variable"
      ],
      "metadata": {
        "id": "mS_uuGwgioSv"
      },
      "execution_count": null,
      "outputs": []
    },
    {
      "cell_type": "code",
      "source": [
        "from sklearn.model_selection import train_test_split\n",
        "X_train, X_val, y_train, y_val = train_test_split(x, y, test_size= 0.2, random_state =0)"
      ],
      "metadata": {
        "id": "8VLroOMni9Js"
      },
      "execution_count": null,
      "outputs": []
    },
    {
      "cell_type": "code",
      "source": [
        "pd.set_option('display.max_columns',None)\n",
        "X_train.head()\n"
      ],
      "metadata": {
        "id": "gGVFuwLpjNjO"
      },
      "execution_count": null,
      "outputs": []
    },
    {
      "cell_type": "code",
      "source": [
        "X_train.shape"
      ],
      "metadata": {
        "id": "X0gXAf1kjVFK"
      },
      "execution_count": null,
      "outputs": []
    },
    {
      "cell_type": "code",
      "source": [
        "X_train['Building Dimension']"
      ],
      "metadata": {
        "id": "oB1rnSMijh4Y"
      },
      "execution_count": null,
      "outputs": []
    },
    {
      "cell_type": "markdown",
      "source": [
        "**scaling **"
      ],
      "metadata": {
        "id": "WndPINwDjr94"
      }
    },
    {
      "cell_type": "code",
      "source": [
        "from sklearn.preprocessing import StandardScaler\n",
        "scaler = StandardScaler()\n",
        "columns_to_standardize = ['YearOfObservation','Building Dimension', 'Date_of_Occupancy']\n",
        "X_train[columns_to_standardize] = scaler.fit_transform(X_train[columns_to_standardize])\n",
        "X_test[columns_to_standardize] = scaler.transform(X_test[columns_to_standardize])"
      ],
      "metadata": {
        "id": "TKdAdn6BjmI0"
      },
      "execution_count": null,
      "outputs": []
    },
    {
      "cell_type": "code",
      "source": [
        "X_train.head()"
      ],
      "metadata": {
        "id": "GwPqW832j8Md"
      },
      "execution_count": null,
      "outputs": []
    },
    {
      "cell_type": "markdown",
      "source": [
        "**building svm**"
      ],
      "metadata": {
        "id": "F-rnj5VRkOG0"
      }
    },
    {
      "cell_type": "markdown",
      "source": [
        "A support-vector machine constructs a hyperplane or set of hyperplanes in a high- or infinite-dimensional space, which can be used for classification, regression, or other tasks like outliers detection. Intuitively, a good separation is achieved by the hyperplane that has the largest distance to the nearest training-data point of any class (so-called functional margin), since in general the larger the margin, the lower the generalization error of the classifier."
      ],
      "metadata": {
        "id": "om2FW6E-SlCN"
      }
    },
    {
      "cell_type": "code",
      "source": [
        "\n",
        "from sklearn import svm\n",
        "\n",
        "#Create a svm Classifier\n",
        "clf = svm.SVC(kernel='linear') # Linear Kernel\n",
        "\n",
        "#Train the model using the training sets\n",
        "clf.fit(X_train, y_train)\n",
        "\n"
      ],
      "metadata": {
        "id": "Iz28O6HWkM1F"
      },
      "execution_count": null,
      "outputs": []
    },
    {
      "cell_type": "code",
      "source": [
        "#Checking the default parameters in an SVC\n",
        "clf.get_params()"
      ],
      "metadata": {
        "id": "Ilf6-JzeS8VC"
      },
      "execution_count": null,
      "outputs": []
    },
    {
      "cell_type": "code",
      "source": [
        "#Predict the response for test dataset\n",
        "y_pred = clf.predict(X_val)\n"
      ],
      "metadata": {
        "id": "LDynVYtF32_i"
      },
      "execution_count": null,
      "outputs": []
    },
    {
      "cell_type": "code",
      "source": [
        "#Calculating predictions, and accuracy score\n",
        "pred_svc = clf.predict(X_val)\n",
        "svm = accuracy_score(y_val,pred_svc)\n",
        "svm"
      ],
      "metadata": {
        "id": "pFLv-fkwpBE9"
      },
      "execution_count": null,
      "outputs": []
    },
    {
      "cell_type": "code",
      "source": [
        "\n",
        "y_pred"
      ],
      "metadata": {
        "id": "NlCClpvtkX-S"
      },
      "execution_count": null,
      "outputs": []
    },
    {
      "cell_type": "code",
      "source": [
        "#Building classification report\n",
        "print(classification_report(y_val,pred_svc))"
      ],
      "metadata": {
        "id": "oUqXxmVerM6d"
      },
      "execution_count": null,
      "outputs": []
    },
    {
      "cell_type": "markdown",
      "source": [
        "**printing the confusion matrix**"
      ],
      "metadata": {
        "id": "wsVP1RPkr3xu"
      }
    },
    {
      "cell_type": "code",
      "source": [
        "\n",
        "from sklearn.metrics import confusion_matrix\n",
        "\n",
        "cm = confusion_matrix(y_val, pred_svc)\n",
        "\n",
        "print('Confusion matrix\\n\\n', cm)\n",
        "\n",
        "print('\\nTrue Positives(TP) = ', cm[0,0])\n",
        "\n",
        "print('\\nTrue Negatives(TN) = ', cm[1,1])\n",
        "\n",
        "print('\\nFalse Positives(FP) = ', cm[0,1])\n",
        "\n",
        "print('\\nFalse Negatives(FN) = ', cm[1,0])"
      ],
      "metadata": {
        "id": "Ra84h6CMr8Li"
      },
      "execution_count": null,
      "outputs": []
    },
    {
      "cell_type": "markdown",
      "source": [
        "**printing the ROC curve**"
      ],
      "metadata": {
        "id": "itwwCYYRsYrU"
      }
    },
    {
      "cell_type": "code",
      "source": [
        "from sklearn.metrics import roc_curve\n",
        "\n",
        "fpr, tpr, thresholds = roc_curve(y_val, pred_svc)\n",
        "\n",
        "plt.figure(figsize=(6,4))\n",
        "\n",
        "plt.plot(fpr, tpr, linewidth=2)\n",
        "\n",
        "plt.plot([0,1], [0,1], 'k--' )\n",
        "\n",
        "plt.rcParams['font.size'] = 12\n",
        "\n",
        "plt.title('svm classifier')\n",
        "\n",
        "plt.xlabel('False Positive Rate (1 - Specificity)')\n",
        "\n",
        "plt.ylabel('True Positive Rate (Sensitivity)')\n",
        "\n",
        "plt.show()"
      ],
      "metadata": {
        "id": "RL15xrCHsRrj"
      },
      "execution_count": null,
      "outputs": []
    },
    {
      "cell_type": "code",
      "source": [
        "# compute ROC AUC\n",
        "\n",
        "from sklearn.metrics import roc_auc_score\n",
        "\n",
        "ROC_AUC = roc_auc_score(y_val, pred_svc)\n",
        "\n",
        "print('ROC AUC : {:.4f}'.format(ROC_AUC))"
      ],
      "metadata": {
        "id": "4562eib5tMiP"
      },
      "execution_count": null,
      "outputs": []
    },
    {
      "cell_type": "markdown",
      "source": [
        "**Hyperparameter Tuning with GridSearchCV**"
      ],
      "metadata": {
        "id": "mRfJ8Fc_uW6j"
      }
    },
    {
      "cell_type": "code",
      "source": [
        "# Create a dictionary called param_grid and fill out some parameters for kernels, C and gamma\n",
        "param_grid = {'C': [0.1,1, 10, 100], 'gamma': [1,0.1,0.01,0.001],'kernel': ['rbf', 'poly', 'sigmoid']}\n"
      ],
      "metadata": {
        "id": "3-cztC64uWIN"
      },
      "execution_count": null,
      "outputs": []
    },
    {
      "cell_type": "markdown",
      "source": [
        "linear regression model"
      ],
      "metadata": {
        "id": "AORRkpw-Vhvl"
      }
    },
    {
      "cell_type": "code",
      "source": [
        "#Create a linear regression model\n",
        "model = LinearRegression()"
      ],
      "metadata": {
        "id": "WGELS2OQVmFT"
      },
      "execution_count": null,
      "outputs": []
    },
    {
      "cell_type": "code",
      "source": [
        "#Fit the model on the training data\n",
        "model.fit(X_train, y_train)"
      ],
      "metadata": {
        "id": "uA2dbWNpVtiC"
      },
      "execution_count": null,
      "outputs": []
    },
    {
      "cell_type": "code",
      "source": [
        "# Step 5: Make predictions on the test set\n",
        "y_pred = model.predict(X_val)"
      ],
      "metadata": {
        "id": "2tSHhVMtV5Dm"
      },
      "execution_count": null,
      "outputs": []
    },
    {
      "cell_type": "code",
      "source": [
        "\n",
        "from sklearn.metrics import mean_squared_error\n",
        "# Step 6: Evaluate the model before hyperparameter tuning\n",
        "mse = mean_squared_error(y_val, y_pred)\n",
        "r2 = accuracy_scoraccuracy_scoreaccuracy_scoree(y_val, y_pred)\n",
        "rmse = mean_squared_error(y_val, y_pred, squared=False)\n",
        "print(f'Mean Squared Error (Before Hyperparameter Tuning): {mse}')\n",
        "print(f'Root Mean Squared Error (Before Hyperparameter Tuning): {rmse}')\n",
        "print(f'R-squared (R2): {r2}')"
      ],
      "metadata": {
        "id": "Rej_z96pYwpz"
      },
      "execution_count": null,
      "outputs": []
    },
    {
      "cell_type": "code",
      "source": [],
      "metadata": {
        "id": "Xess4K79u87S"
      },
      "execution_count": null,
      "outputs": []
    },
    {
      "cell_type": "code",
      "source": [
        "from sklearn.linear_model import LinearRegression\n",
        "linear_reg_model = LinearRegression()\n",
        "linear_reg_model.fit(X_train, y_train)\n",
        "y_pred =clf.predict(X_test)\n",
        "y_pred"
      ],
      "metadata": {
        "id": "XEP8Gt0-7KQ8"
      },
      "execution_count": null,
      "outputs": []
    },
    {
      "cell_type": "code",
      "source": [
        "from sklearn.neighbors import KNeighborsClassifier\n",
        "KNN_classifier = KNeighborsClassifier(n_neighbors = 5, metric = 'minkowski', p = 2)\n",
        "KNN_classifier.fit(X_train, y_train)\n",
        "y_pred"
      ],
      "metadata": {
        "id": "SUHwU-jk7aPa"
      },
      "execution_count": null,
      "outputs": []
    },
    {
      "cell_type": "code",
      "source": [
        "from sklearn.naive_bayes import GaussianNB\n",
        "NaiveBayes_classifier = GaussianNB()\n",
        "NaiveBayes_classifier.fit(X_train, y_train)\n",
        "y_pred"
      ],
      "metadata": {
        "id": "ifjuqJwg8Cxc"
      },
      "execution_count": null,
      "outputs": []
    },
    {
      "cell_type": "code",
      "source": [
        "# Example prediction using the trained models\n",
        "svm_predictions = clf.predict(X_test)\n",
        "linear_reg_predictions = linear_reg_model.predict(X_test)\n",
        "kNN_predictions = KNN_classifier.predict(X_test)\n",
        "nb_predictions = NaiveBayes_classifier.predict(X_test)"
      ],
      "metadata": {
        "id": "xNBCdL6F8TJw"
      },
      "execution_count": null,
      "outputs": []
    }
  ]
}