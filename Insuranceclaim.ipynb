{
  "nbformat": 4,
  "nbformat_minor": 0,
  "metadata": {
    "colab": {
      "provenance": []
    },
    "kernelspec": {
      "name": "python3",
      "display_name": "Python 3"
    },
    "language_info": {
      "name": "python"
    }
  },
  "cells": [
    {
      "cell_type": "markdown",
      "source": [
        "\n",
        "Assignment Title (Lab 3) : Predictive Modeling for Insurance Claims\n",
        "NAME: BUSINGYE CAROLINE\n",
        "\n",
        "REG. NO.: 2023/HD05/04657U\n",
        "\n",
        "STUDENT NO.: 230004657\n",
        "\n",
        "MASTER OF SCIENCE IN COMPUTER SCIENCE - (MCSC)\n",
        "---\n",
        "\n"
      ],
      "metadata": {
        "id": "KcM4ibH8Qvyy"
      }
    },
    {
      "cell_type": "markdown",
      "source": [
        "Objective: Build a predictive model to determine if a building will have an insurance claim during a specific period using building characteristics. In this assignment, you will explore and apply four machine learning algorithms: Support Vector Machine (SVM), Linear Regression, k-nearest Neighbors (KNN), and Naive Bayes. The evaluation metric for this assignment is the Area Under the Curve (AUC)."
      ],
      "metadata": {
        "id": "04beeRV6RCdP"
      }
    },
    {
      "cell_type": "markdown",
      "source": [
        "Variable Description\n",
        "Customer Id Identification number for the Policy holder\n",
        "YearOfObservation year of observation for the insured policy\n",
        "Insured_Period duration of insurance policy in Olusola Insurance. (Ex: Full year insurance, Policy Duration = 1; 6 months = 0.5\n",
        "Residential is the building a residential building or not\n",
        "Building_Painted is the building painted or not (N-Painted, V-Not Painted)\n",
        "Building_Fenced is the building fence or not (N-Fenced, V-Not Fenced)\n",
        "Garden building has garden or not (V-has garden O-no garden) Settlement Area where the building is located. (R- rural area U- urban area) Building Dimension Size of the insured building in m2\n",
        "Building_Type The type of building (Type 1, 2, 3, 4)\n",
        "Date_of_Occupancy date building was first occupied\n",
        "NumberOfWindows number of windows in the building\n",
        "Geo Code Geographical Code of the Insured building\n",
        "Claim target variable. (0: no claim, 1: at least one claim over insured period)."
      ],
      "metadata": {
        "id": "j9_3pN1uRINJ"
      }
    },
    {
      "cell_type": "markdown",
      "source": [],
      "metadata": {
        "id": "V0w-lgrHQuD-"
      }
    },
    {
      "cell_type": "code",
      "execution_count": null,
      "metadata": {
        "id": "pRzPD1j_Iw5l"
      },
      "outputs": [],
      "source": [
        "\n",
        "from google.colab import drive"
      ]
    },
    {
      "cell_type": "code",
      "source": [
        "from google.colab import drive\n",
        "drive.mount('/content/drive')"
      ],
      "metadata": {
        "id": "k0W3wUArTkIP"
      },
      "execution_count": null,
      "outputs": []
    },
    {
      "cell_type": "markdown",
      "source": [
        "**importing important libraries**"
      ],
      "metadata": {
        "id": "GUlzNT7PW_hh"
      }
    },
    {
      "cell_type": "code",
      "execution_count": null,
      "metadata": {
        "id": "rlu_KsLARPSQ"
      },
      "outputs": [],
      "source": [
        "# Importing important packages\n",
        "import matplotlib.pyplot as plt\n",
        "import pandas as pd\n",
        "import warnings\n",
        "warnings.filterwarnings(\"ignore\")\n",
        "from sklearn.metrics import classification_report\n",
        "import seaborn as sns\n",
        "from sklearn.preprocessing import StandardScaler\n",
        "from sklearn.pipeline import Pipeline\n",
        "from IPython.display import VimeoVideo\n",
        "from sklearn.linear_model import LinearRegression\n",
        "from sklearn.metrics import mean_absolute_error\n",
        "from sklearn.utils.validation import check_is_fitted\n",
        "from sklearn.preprocessing import LabelEncoder\n",
        "from sklearn.feature_selection import SelectKBest, chi2, f_classif, mutual_info_classif\n",
        "from sklearn.ensemble import RandomForestClassifier\n",
        "from sklearn.svm import SVC\n",
        "from sklearn.neighbors import KNeighborsClassifier\n",
        "from sklearn.naive_bayes import GaussianNB\n",
        "from sklearn.model_selection import train_test_split\n",
        "from sklearn.model_selection import GridSearchCV\n",
        "from sklearn.metrics import accuracy_score"
      ]
    },
    {
      "cell_type": "markdown",
      "source": [
        "**loading the data set**"
      ],
      "metadata": {
        "id": "qI22JfwgXXcm"
      }
    },
    {
      "cell_type": "code",
      "source": [
        "dft = pd.read_csv('/content/drive/MyDrive/MachineLearning/ML Lab/dataset/train_data.csv')\n"
      ],
      "metadata": {
        "id": "p6foS2NsWGrI"
      },
      "execution_count": null,
      "outputs": []
    },
    {
      "cell_type": "markdown",
      "source": [
        "**displaying the first 10 rows of the dataset**"
      ],
      "metadata": {
        "id": "ZuYMZkJaZPDH"
      }
    },
    {
      "cell_type": "code",
      "source": [
        "\n",
        "#viewing the first five rows of the dataset\n",
        "dft.head()"
      ],
      "metadata": {
        "id": "__89VQeiWNhb"
      },
      "execution_count": null,
      "outputs": []
    },
    {
      "cell_type": "code",
      "source": [
        "#displaying the shape of the dataset\n",
        "dft.shape"
      ],
      "metadata": {
        "id": "_RLxrQZCtPkr"
      },
      "execution_count": null,
      "outputs": []
    },
    {
      "cell_type": "markdown",
      "source": [
        "**Getting  the  quick overview of the dataset**"
      ],
      "metadata": {
        "id": "G2dDsPwgYOKN"
      }
    },
    {
      "cell_type": "code",
      "source": [
        "dft.shape"
      ],
      "metadata": {
        "id": "noFpxoH5L_xB"
      },
      "execution_count": null,
      "outputs": []
    },
    {
      "cell_type": "markdown",
      "source": [
        "**The dataset has 7160 columns and 14 rows**"
      ],
      "metadata": {
        "id": "mPk-meWKvvgY"
      }
    },
    {
      "cell_type": "code",
      "source": [],
      "metadata": {
        "id": "fzmoXsGnRRy0"
      },
      "execution_count": null,
      "outputs": []
    },
    {
      "cell_type": "code",
      "source": [
        "\n",
        "#checking data types\n",
        "dft.info()"
      ],
      "metadata": {
        "id": "9oivyI7BWNej"
      },
      "execution_count": null,
      "outputs": []
    },
    {
      "cell_type": "markdown",
      "source": [
        "**This shows that out of the 14 columns, 3 contains float datatype, 4 has integer and 7 columns conatin strings as a datatype and that means there need for encoding the categorical variables**"
      ],
      "metadata": {
        "id": "mInLJTOcbil-"
      }
    },
    {
      "cell_type": "markdown",
      "source": [
        "**checking  for missing values  in the dataset**"
      ],
      "metadata": {
        "id": "TUG5-l3bZ7re"
      }
    },
    {
      "cell_type": "code",
      "source": [
        "dft.isnull().sum()"
      ],
      "metadata": {
        "id": "oMKKCuVsWNbs"
      },
      "execution_count": null,
      "outputs": []
    },
    {
      "cell_type": "markdown",
      "source": [
        "**The data set has missing values in some of the columns and hence they need to be treated to improve model perfomance**"
      ],
      "metadata": {
        "id": "BnLA2BOUaT5d"
      }
    },
    {
      "cell_type": "markdown",
      "source": [
        "**lets see total sum of   missing values**"
      ],
      "metadata": {
        "id": "NOxdNJL6bBjp"
      }
    },
    {
      "cell_type": "code",
      "source": [
        "\n",
        "dft.isnull().sum().sum()"
      ],
      "metadata": {
        "id": "i--QEt6DWNXl"
      },
      "execution_count": null,
      "outputs": []
    },
    {
      "cell_type": "markdown",
      "source": [
        "**Having a total sum of 723 values has to be handled with carefully**"
      ],
      "metadata": {
        "id": "tYLcmBPwc4aX"
      }
    },
    {
      "cell_type": "markdown",
      "source": [],
      "metadata": {
        "id": "yUv3FV1Issuw"
      }
    },
    {
      "cell_type": "markdown",
      "source": [
        "**displaying basic statistics**"
      ],
      "metadata": {
        "id": "eBbHtzsFs3pG"
      }
    },
    {
      "cell_type": "code",
      "source": [
        "dft.describe()"
      ],
      "metadata": {
        "id": "_ccWthbGtLd9"
      },
      "execution_count": null,
      "outputs": []
    },
    {
      "cell_type": "code",
      "source": [
        "#displaying basic key statistics\n",
        "dft.describe(include=object)"
      ],
      "metadata": {
        "id": "M__xWdRUwu99"
      },
      "execution_count": null,
      "outputs": []
    },
    {
      "cell_type": "code",
      "source": [
        "dft.columns"
      ],
      "metadata": {
        "id": "wUd2Cg9dU9H8"
      },
      "execution_count": null,
      "outputs": []
    },
    {
      "cell_type": "code",
      "source": [
        "dft.isna().sum()"
      ],
      "metadata": {
        "id": "iDyUqmdu0UHE"
      },
      "execution_count": null,
      "outputs": []
    },
    {
      "cell_type": "code",
      "source": [],
      "metadata": {
        "id": "fZovSmYoapxa"
      },
      "execution_count": null,
      "outputs": []
    },
    {
      "cell_type": "markdown",
      "source": [
        "The variable Garden has 7 missing values, Building Dimension has 106, Date_of_occupancy has 508 and Geo_code has 102 missing values.\n"
      ],
      "metadata": {
        "id": "X4l3ZBn2xGMI"
      }
    },
    {
      "cell_type": "code",
      "source": [
        "dft.columns"
      ],
      "metadata": {
        "id": "NQ2vKDuZd2qt"
      },
      "execution_count": null,
      "outputs": []
    },
    {
      "cell_type": "code",
      "source": [
        "# Handling missing values,\n",
        "# i will use mode for categoerical columns and median for numerical since some varriables are skewed\n",
        "dft['Date_of_Occupancy']=dft['Date_of_Occupancy'].fillna(dft['Date_of_Occupancy'].median())\n",
        "dft['Building Dimension']=dft['Building Dimension'].fillna(dft['Building Dimension'].median())\n",
        "dft['Garden']=dft['Garden'].fillna(dft['Garden'].mode().iloc[0])\n",
        "dft['Geo_Code'] = dft['Geo_Code'].fillna(dft['Geo_Code'].mode().iloc[0])\n",
        "dft.info()"
      ],
      "metadata": {
        "id": "5zJwh0UqHh4E"
      },
      "execution_count": null,
      "outputs": []
    },
    {
      "cell_type": "markdown",
      "source": [
        " All the missing values have been handled since all variables have total count of 7160"
      ],
      "metadata": {
        "id": "iy1zIeA1yYXb"
      }
    },
    {
      "cell_type": "markdown",
      "source": [
        "**Data distribution**"
      ],
      "metadata": {
        "id": "uxYJ6WDh1Agr"
      }
    },
    {
      "cell_type": "code",
      "source": [
        "dft.columns"
      ],
      "metadata": {
        "id": "HMmYJ7V9tGxg"
      },
      "execution_count": null,
      "outputs": []
    },
    {
      "cell_type": "code",
      "source": [
        "#displaying the statistics of Building dimension\n",
        "dft['Building Dimension'].describe()"
      ],
      "metadata": {
        "id": "LQLrA6og1U8P"
      },
      "execution_count": null,
      "outputs": []
    },
    {
      "cell_type": "markdown",
      "source": [
        "The Building Dimension column has outliers. For example, the max value is 20940.000000,while its min value is 1.000000. The mean is sensitive to outliers, but the fact the mean is so small compared to the max value indicates the max value is an outlier."
      ],
      "metadata": {
        "id": "O79fWn7b5K9X"
      }
    },
    {
      "cell_type": "code",
      "source": [
        "#displaying the statistics ofdate of occupancy\n",
        "dft['Date_of_Occupancy'].describe()"
      ],
      "metadata": {
        "id": "n1vv6T7j2Tz8"
      },
      "execution_count": null,
      "outputs": []
    },
    {
      "cell_type": "markdown",
      "source": [],
      "metadata": {
        "id": "5A4W5ifP1rCb"
      }
    },
    {
      "cell_type": "markdown",
      "source": [],
      "metadata": {
        "id": "WUDobJRP5ZBv"
      }
    },
    {
      "cell_type": "code",
      "source": [
        "import plotly.express as px"
      ],
      "metadata": {
        "id": "afWTZR7bAT9t"
      },
      "execution_count": null,
      "outputs": []
    },
    {
      "cell_type": "code",
      "source": [
        "#create a box plot to visualize the outlier in the Building Dimension\n",
        "fig = px.box(dft, y='Building Dimension')\n",
        "fig.update_layout(height=400, width=500, title_text='Distribution of Building Dimension')\n",
        "fig.show()"
      ],
      "metadata": {
        "id": "sJmjNxwV_66n"
      },
      "execution_count": null,
      "outputs": []
    },
    {
      "cell_type": "code",
      "source": [
        "#create a box plot to visualize the outlier in the Building Dimension\n",
        "fig = px.box(dft, y='Date_of_Occupancy')\n",
        "fig.update_layout(height=400, width=500, title_text='Distribution of Building Dimension')\n",
        "fig.show()"
      ],
      "metadata": {
        "id": "uR98ZzE1AATs"
      },
      "execution_count": null,
      "outputs": []
    },
    {
      "cell_type": "markdown",
      "source": [
        "this visually tells us that there are outliers since building dimension skews from the left and date of occupancy skews from the left"
      ],
      "metadata": {
        "id": "1M8a741b6P5K"
      }
    },
    {
      "cell_type": "markdown",
      "source": [],
      "metadata": {
        "id": "mZ0-Ctiz1SyX"
      }
    },
    {
      "cell_type": "markdown",
      "source": [],
      "metadata": {
        "id": "DhHJO0Xx-erS"
      }
    },
    {
      "cell_type": "markdown",
      "source": [
        "Dealing with outliers using cap method"
      ],
      "metadata": {
        "id": "3vVQEH-WBgd0"
      }
    },
    {
      "cell_type": "code",
      "source": [
        "#To cap the outliers, calculate a upper limit and lower limit.\n",
        "upper_limit = dft['Building Dimension'].mean() + 0.7*dft['Building Dimension'].std()\n",
        "lower_limit = dft['Building Dimension'].mean() - 0.7*dft['Building Dimension'].std()\n",
        "print('Upper_limit:',upper_limit)\n",
        "print('Lower_limit:',lower_limit)"
      ],
      "metadata": {
        "id": "SBDh4RtSBfKb"
      },
      "execution_count": null,
      "outputs": []
    },
    {
      "cell_type": "code",
      "source": [
        "import numpy as np\n",
        "#we use the numpy .where() function to apply the limits to Building Dimension.\n",
        "dft['Building Dimension'] = np.where(dft['Building Dimension'] > upper_limit,upper_limit,\n",
        "np.where(dft['Building Dimension'] < lower_limit,lower_limit,dft['Building Dimension']))"
      ],
      "metadata": {
        "id": "w6wLJYWVB_dH"
      },
      "execution_count": null,
      "outputs": []
    },
    {
      "cell_type": "code",
      "source": [
        "#displaying the new  statistics of Building Dimension after removing outliers\n",
        "dft.describe()[['Building Dimension']]"
      ],
      "metadata": {
        "id": "9pX-4D8WWNB4"
      },
      "execution_count": null,
      "outputs": []
    },
    {
      "cell_type": "markdown",
      "source": [
        "Wow,this is okay now the max value is has been decreased to 3456.180514 and min\n",
        "\n",
        "---\n",
        "\n",
        "value has increased  to 287.565854, and the mean value is now 1490.370464. This shows the outlier has been delt with."
      ],
      "metadata": {
        "id": "koIzv45wCuea"
      }
    },
    {
      "cell_type": "markdown",
      "source": [],
      "metadata": {
        "id": "_gTvKxgbE5za"
      }
    },
    {
      "cell_type": "markdown",
      "source": [
        "newly visualisation of building dimension after removing outliers"
      ],
      "metadata": {
        "id": "Twbqdoq2DoTO"
      }
    },
    {
      "cell_type": "code",
      "source": [
        "def plot_variable(dft,variable):\n",
        "  plt.figure(figsize = (16,4))\n",
        "  # histogram\n",
        "  plt.subplot(1,2,1)\n",
        "  plt.hist(dft[variable], alpha = 0.5)\n",
        "  plt.title('Histogram for the distribution of Building Dimension')\n",
        "  plt.xlabel('Building Dimension')\n",
        "  plt.ylabel('Frequency')\n",
        "  # boxplot\n",
        "  plt.subplot(1,2,2)\n",
        "  sns.boxplot(dft[variable])\n",
        "  plt.title('A boxplot for the distribution of Building Dimension')\n",
        "  plt.xlabel('Building Dimension')\n",
        "  plt.ylabel('Frequency')\n",
        "  plt.show()\n"
      ],
      "metadata": {
        "id": "piur8MYoTEgh"
      },
      "execution_count": null,
      "outputs": []
    },
    {
      "cell_type": "code",
      "source": [
        "plot_variable(dft,'Building Dimension')"
      ],
      "metadata": {
        "id": "OBqebhIvEfMM"
      },
      "execution_count": null,
      "outputs": []
    },
    {
      "cell_type": "markdown",
      "source": [
        "\n"
      ],
      "metadata": {
        "id": "UdIeKC1ULCBi"
      }
    },
    {
      "cell_type": "markdown",
      "source": [
        "**visualisation of outliers from the date of occupancy**"
      ],
      "metadata": {
        "id": "Fz6xUvCEOhDk"
      }
    },
    {
      "cell_type": "code",
      "source": [
        "\n",
        "def plot_variable(dft,variable):\n",
        "  plt.figure(figsize = (10,4))\n",
        "  # histogram\n",
        "  plt.subplot(1,2,1)\n",
        "  plt.hist(dft[variable], alpha = 0.5)\n",
        "  plt.title('Histogram for the distribution of date of occupancy')\n",
        "  plt.xlabel('Date_of_Occupancy')\n",
        "  plt.ylabel('Frequency')\n",
        "  # boxplot\n",
        "  plt.subplot(1,2,2)\n",
        "  sns.boxplot(dft[variable])\n",
        "  plt.xlabel('Date_of_Occupancy')\n",
        "  plt.ylabel('Frequency')\n",
        "  plt.title('A boxplot for the distribution of date of occupancy')\n",
        "  plt.show()"
      ],
      "metadata": {
        "id": "JRwodEj_yssM"
      },
      "execution_count": null,
      "outputs": []
    },
    {
      "cell_type": "code",
      "source": [
        "plot_variable(dft,'Date_of_Occupancy')"
      ],
      "metadata": {
        "id": "5kh-9zFtyuXt"
      },
      "execution_count": null,
      "outputs": []
    },
    {
      "cell_type": "markdown",
      "source": [
        "dealing with outliers from the date of occupancy"
      ],
      "metadata": {
        "id": "YD5BpOyzFzmX"
      }
    },
    {
      "cell_type": "code",
      "source": [
        "# using the Z score method to deal with outliers in  the Date_of_Occupancy variable\n",
        "upper_limit = dft['Date_of_Occupancy'].mean() + 2.5*dft['Date_of_Occupancy'].std()\n",
        "lower_limit = dft['Date_of_Occupancy'].mean() - 2.5*dft['Date_of_Occupancy'].std()"
      ],
      "metadata": {
        "id": "QG8F846DGA50"
      },
      "execution_count": null,
      "outputs": []
    },
    {
      "cell_type": "code",
      "source": [
        "print('Upper_limit:',upper_limit)\n",
        "print('Lower_limit:',lower_limit)"
      ],
      "metadata": {
        "id": "Dmngb0pAGLx1"
      },
      "execution_count": null,
      "outputs": []
    },
    {
      "cell_type": "code",
      "source": [
        "#  trimming  the outliers\n",
        "dfnew = dft.loc[(dft['Date_of_Occupancy']<upper_limit) & (dft['Date_of_Occupancy']>lower_limit)]\n",
        "print('old dataframe:',len(dft))\n",
        "print('new dataframe:',len(dfnew))\n",
        "print('outliers:',len(dft)-len(dft))"
      ],
      "metadata": {
        "id": "h03X8ovgGSSf"
      },
      "execution_count": null,
      "outputs": []
    },
    {
      "cell_type": "markdown",
      "source": [
        "now some columns have been trimmed"
      ],
      "metadata": {
        "id": "xOB_5Y41G0ZI"
      }
    },
    {
      "cell_type": "markdown",
      "source": [
        "visualisation of the date of occupancy column without outliers"
      ],
      "metadata": {
        "id": "nQo9Us83HGgf"
      }
    },
    {
      "cell_type": "code",
      "source": [
        "def plot_variable(df,variable):\n",
        "  plt.figure(figsize = (10,4))\n",
        "  # histogram\n",
        "  plt.subplot(1,2,1)\n",
        "  plt.hist(df[variable], alpha = 0.5)\n",
        "  plt.title('Histogram for the distribution of date of occupancy')\n",
        "  plt.xlabel('Date_of_Occupancy')\n",
        "  plt.ylabel('Frequency')\n",
        "  # boxplot\n",
        "  plt.subplot(1,2,2)\n",
        "  sns.boxplot(df[variable])\n",
        "  plt.xlabel('Date_of_Occupancy')\n",
        "  plt.ylabel('Frequency')\n",
        "  plt.title('A boxplot for the distribution of date of occupancy')\n",
        "  plt.show()"
      ],
      "metadata": {
        "id": "Cs52bZHRHN8t"
      },
      "execution_count": null,
      "outputs": []
    },
    {
      "cell_type": "code",
      "source": [
        "plot_variable(dfnew,'Date_of_Occupancy')"
      ],
      "metadata": {
        "id": "QzMDqgUmHfau"
      },
      "execution_count": null,
      "outputs": []
    },
    {
      "cell_type": "code",
      "source": [
        "dft.isnull().sum()"
      ],
      "metadata": {
        "id": "pYXxSoJbK8ws"
      },
      "execution_count": null,
      "outputs": []
    },
    {
      "cell_type": "markdown",
      "source": [
        "**The dataset now has  no missing values ,good to go**"
      ],
      "metadata": {
        "id": "QQtLlZIWPgGG"
      }
    },
    {
      "cell_type": "markdown",
      "source": [
        "**Distribution of the target varriable Claim**"
      ],
      "metadata": {
        "id": "uIAIgqN1leda"
      }
    },
    {
      "cell_type": "code",
      "source": [
        "dft['Claim'].value_counts()"
      ],
      "metadata": {
        "id": "blEDfPRDwJqp"
      },
      "execution_count": null,
      "outputs": []
    },
    {
      "cell_type": "code",
      "source": [
        "# visualising  distribution for target variable\n",
        "plt.figure(figsize=(4,5))\n",
        "claim_rate =dft[\"Claim\"].value_counts()\n",
        "sns.barplot(x=claim_rate.index,y=claim_rate.values,palette=[\"#1d7874\",\"#8B0000\"])\n",
        "plt.title(\"insurance claim Counts\",fontweight=\"black\",size=15,pad=20)\n",
        "for i, v in enumerate(claim_rate.values):\n",
        "    plt.text(i, v, v,ha=\"center\", fontweight='black', fontsize=18)\n"
      ],
      "metadata": {
        "id": "dY7gonCsSCi7"
      },
      "execution_count": null,
      "outputs": []
    },
    {
      "cell_type": "code",
      "execution_count": null,
      "metadata": {
        "id": "FMBbYNeupthp"
      },
      "outputs": [],
      "source": [
        "# Sample data (replace with your actual data)\n",
        "labels = ['Claimed.', 'No Claimed']\n",
        "values = [dft[\"Claim\"].sum(), len(dft) - dft[\"Claim\"].sum()]\n",
        "# Create a pie chart with labeled segments\n",
        "plt.pie(values, autopct='%1.1f%%', startangle=140,explode=[0.3,0])\n",
        "plt.title(\"Insurance claim Distribution\")\n",
        "\n",
        "plt.axis('equal')  # Equal aspect ratio ensures that the pie chart is circular\n",
        "plt.legend(labels=labels, loc='lower left')\n",
        "plt.show()"
      ]
    },
    {
      "cell_type": "markdown",
      "source": [
        "**77.2% of customer did not issue and insurance claim 22.8% of customers issued an insuarance claim this shows that The target varriable is highly imbalanced with 0(no claims) much higher than the 1(atleast one claim over insured period ) meaning it will further require to be balanced using some machine learning aligorithms  **"
      ],
      "metadata": {
        "id": "96v17giIovPo"
      }
    },
    {
      "cell_type": "markdown",
      "source": [
        "\n",
        "\n"
      ],
      "metadata": {
        "id": "C_xUH5hX0S5A"
      }
    },
    {
      "cell_type": "markdown",
      "source": [
        "**visualising the categorical values distribution**"
      ],
      "metadata": {
        "id": "Ve0xF2iu0mmc"
      }
    },
    {
      "cell_type": "code",
      "source": [
        "fig, axes = plt.subplots(3, 3, figsize=(10, 10))\n",
        "sns.set_theme(style=\"darkgrid\")\n",
        "# Plot the Claim distribution\n",
        "sns.countplot(data=dft, x='Claim', ax=axes[0, 0], palette='Set2')\n",
        "axes[0, 0].set_title('Claim Distribution')\n",
        "\n",
        "# Plot the Residential distribution\n",
        "sns.countplot(data=dft, x='Residential', ax=axes[0, 1], palette='Set2')\n",
        "axes[0, 1].set_title('Residential Distribution')\n",
        "\n",
        "\n",
        "# Plot the Building Painted distribution\n",
        "sns.countplot(data=dft, x='Building_Painted', ax=axes[0, 2], palette='Set2')\n",
        "axes[0, 2].set_title('Building Painted Distribution')\n",
        "\n",
        "# Plot the Building Fenced distribution\n",
        "sns.countplot(data=dft, x='Building_Fenced', ax=axes[1, 0], palette='Set2')\n",
        "axes[1, 0].set_title('Building Fenced Distribution')\n",
        "\n",
        "#Plot the Garden distribution\n",
        "sns.countplot(data=dft, x='Garden', ax=axes[1, 1],palette='Set2')\n",
        "axes[1, 1].set_title('Garden Distribution')\n",
        "\n",
        "# Plot the Settlement distribution\n",
        "sns.countplot(data=dft, x='Settlement', ax=axes[1, 2],palette='Set2')\n",
        "axes[1, 2].set_title('Settlement Distribution')\n",
        "\n",
        "#Plot the Building_Type distribution\n",
        "sns.countplot(data=dft, x='Building_Type', ax=axes[2, 0],palette='Set2')\n",
        "axes[2, 0].set_title('Building_Type Distribution')\n",
        "\n",
        "\n",
        "#Plot the Insured_Period distribution\n",
        "#sns.countplot(data=df, x='Insured_Period', ax=axes[2, 1],palette='Set3')\n",
        "#axes[2, 1].set_title('Insured_Period Distribution')\n",
        "\n",
        "#Plot the Building_Type distribution\n",
        "#sns.countplot(data=df, x='Building_Type', ax=axes[2, 1],palette='Set3')\n",
        "#axes[2, 1].set_title('Building_Type Distribution')\n",
        "\n",
        "fig.delaxes(axes[2, 1])\n",
        "fig.delaxes(axes[2, 2])\n",
        "\n",
        "# Adjust the layout\n",
        "plt.tight_layout()\n",
        "\n",
        "# Show the plot\n",
        "plt.show()\n"
      ],
      "metadata": {
        "id": "H7F2TGJmQ-Nb"
      },
      "execution_count": null,
      "outputs": []
    },
    {
      "cell_type": "markdown",
      "source": [
        "**visualising the continous varriables**"
      ],
      "metadata": {
        "id": "kam5PRunua_Z"
      }
    },
    {
      "cell_type": "markdown",
      "source": [],
      "metadata": {
        "id": "0devOR2CATcL"
      }
    },
    {
      "cell_type": "code",
      "source": [
        "numerical_cont=['Building Dimension','Date_of_Occupancy']"
      ],
      "metadata": {
        "id": "AGIsSgFrN5ts"
      },
      "execution_count": null,
      "outputs": []
    },
    {
      "cell_type": "code",
      "source": [
        "plt.figure(figsize=(8, 8))\n",
        "for i, column in enumerate(numerical_cont, 1):\n",
        "    plt.subplot(2, 2, i)\n",
        "    sns.histplot(dft[column], bins=20, kde = True)\n",
        "plt.tight_layout()\n",
        "plt.show()"
      ],
      "metadata": {
        "id": "OIhLfd1cRBLw"
      },
      "execution_count": null,
      "outputs": []
    },
    {
      "cell_type": "markdown",
      "source": [
        "**There are outliers in Building dimension columns the fact its skewed to the left as well in the data_of_occupancy since its  right skewing**"
      ],
      "metadata": {
        "id": "Py0kJJSkAbIE"
      }
    },
    {
      "cell_type": "markdown",
      "source": [
        "**Distribution of   categorical variables with respect to claim (target varriable)**"
      ],
      "metadata": {
        "id": "S7Rub04v9xpJ"
      }
    },
    {
      "cell_type": "code",
      "source": [
        "fig, axes = plt.subplots(3, 3, figsize=(15, 10))\n",
        "sns.set_theme(style=\"darkgrid\")\n",
        "# Plot the Claim distribution\n",
        "sns.countplot(data=dft, x='Claim', ax=axes[0, 0], hue = 'Claim', palette='Set2')\n",
        "axes[0, 0].set_title('Claim Distribution')\n",
        "\n",
        "# Plot the Residential distribution\n",
        "sns.countplot(data=dft, x='Residential', ax=axes[0, 1], hue = 'Claim',palette='Set2')\n",
        "axes[0, 1].set_title('Residential Distribution')\n",
        "\n",
        "\n",
        "# Plot the Building Painted distribution\n",
        "sns.countplot(data=dft, x='Building_Painted', ax=axes[0, 2], hue = 'Claim',palette='Set2')\n",
        "axes[0, 2].set_title('Building Painted Distribution')\n",
        "# Plot the Building Fenced distribution\n",
        "sns.countplot(data=dft, x='Building_Fenced', ax=axes[1, 0], hue = 'Claim',palette='Set2')\n",
        "axes[1, 0].set_title('Building Fenced Distribution')\n",
        "\n",
        "#Plot the Garden distribution\n",
        "sns.countplot(data=dft, x='Garden', ax=axes[1, 1], hue = 'Claim',palette='Set2')\n",
        "axes[1, 1].set_title('Garden Distribution')\n",
        "\n",
        "# Plot the Settlement distribution\n",
        "sns.countplot(data=dft, x='Settlement', ax=axes[1, 2], hue = 'Claim',palette='Set2')\n",
        "axes[1, 2].set_title('Settlement Distribution')\n",
        "\n",
        "#Plot the Building_Type distribution\n",
        "sns.countplot(data=dft, x='Building_Type', ax=axes[2, 0], hue = 'Claim',palette='Set2')\n",
        "axes[2, 0].set_title('Building_Type Distribution')\n",
        "\n",
        "\n",
        "#Plot the Insured_Period distribution\n",
        "#sns.countplot(data=df, x='Insured_Period', ax=axes[2, 1],palette='Set3')\n",
        "#axes[2, 1].set_title('Insured_Period Distribution')\n",
        "\n",
        "\n",
        "fig.delaxes(axes[2, 1])\n",
        "fig.delaxes(axes[2, 2])\n",
        "\n",
        "# Adjust the layout\n",
        "plt.tight_layout()\n",
        "\n",
        "# Show the plot\n",
        "plt.show()\n"
      ],
      "metadata": {
        "id": "28RS4aAHBSUs"
      },
      "execution_count": null,
      "outputs": []
    },
    {
      "cell_type": "markdown",
      "source": [
        "**Observations**\n",
        "\n",
        "\n",
        "*   The non painted buildings have a higher insurance claim campared to the houses for the first bar graphpainted\n",
        "\n",
        "\n",
        "\n",
        "*   The non fenced buildings have a higher insurance claim campared to the fensed houses\n",
        "*   The buildings without gardens a higher insurance claim campared to those buildings with gardens\n",
        "\n",
        "*   Buildings in the Urban Settlement have a low insurance claim as compared to those in rural setting\n",
        "\n",
        "\n",
        "\n",
        "\n",
        "\n",
        "\n",
        "."
      ],
      "metadata": {
        "id": "JIRaCPbiCLei"
      }
    },
    {
      "cell_type": "markdown",
      "source": [
        "**Distribution of the target varriable with respect to continous varriable**"
      ],
      "metadata": {
        "id": "kLBEzHKOCLOq"
      }
    },
    {
      "cell_type": "code",
      "source": [
        "dft.columns"
      ],
      "metadata": {
        "id": "pk5aDcv3QBCi"
      },
      "execution_count": null,
      "outputs": []
    },
    {
      "cell_type": "code",
      "source": [
        "figurecc=['Residential','Building Dimension','Building_Type','Date_of_Occupancy',]"
      ],
      "metadata": {
        "id": "ebsMw82EQHQx"
      },
      "execution_count": null,
      "outputs": []
    },
    {
      "cell_type": "code",
      "source": [
        "list(enumerate(figurecc))"
      ],
      "metadata": {
        "id": "VM6ZfnuqQi9l"
      },
      "execution_count": null,
      "outputs": []
    },
    {
      "cell_type": "markdown",
      "source": [],
      "metadata": {
        "id": "JOpQFCWpu8Xx"
      }
    },
    {
      "cell_type": "code",
      "source": [
        "\n",
        "plt.suptitle(\"Distribution of Claim with respect to various numerical variables\")\n",
        "plt.figure(figsize=(10,8))\n",
        "for i in enumerate(figurecc):\n",
        "  plt.subplot(2,2,i[0]+1)\n",
        "  plt.suptitle(\"Distribution of Claim with respect to various numerical variables\")\n",
        "  plt.tight_layout()\n",
        "  sns.histplot(x=i[1], hue ='Claim', data = dft, palette=['red','blue'])\n",
        "  plt.xticks(rotation = 45)"
      ],
      "metadata": {
        "id": "6X-P9-q90tWZ"
      },
      "execution_count": null,
      "outputs": []
    },
    {
      "cell_type": "code",
      "source": [],
      "metadata": {
        "id": "hpkiljtLwMSc"
      },
      "execution_count": null,
      "outputs": []
    },
    {
      "cell_type": "markdown",
      "source": [
        "**observation**\n",
        "\n",
        "There was a high insurance claim in the year 1960 according to Date of occupancy bar graph.\n",
        "\n",
        "Buildings of dimensions between 500 to 2000 have a higher insurance claim\n",
        "\n",
        "Non residential buildings have a higer insurance claim claim as compared to the residential buildings\n",
        "\n",
        "Buildings with type number 2 have a hot a higher insurance claim as opposed to other number types**\n",
        "\n",
        "---\n",
        "\n"
      ],
      "metadata": {
        "id": "ze2gkSTe24Fi"
      }
    },
    {
      "cell_type": "markdown",
      "source": [
        "**Data encoding**"
      ],
      "metadata": {
        "id": "Hrd_fFJyQ5DG"
      }
    },
    {
      "cell_type": "code",
      "source": [
        "# Create a LabelEncoder\n",
        "label_encoder = LabelEncoder()\n",
        "\n",
        "# Encode categorical columns\n",
        "categorical_columns = [\"Building_Painted\", \"Building_Fenced\", \"Garden\", \"Settlement\",\"NumberOfWindows\",]\n",
        "for column in categorical_columns:\n",
        "    dft[column] = label_encoder.fit_transform(dft[column])\n",
        "    print(dft)"
      ],
      "metadata": {
        "id": "Yh8avPGIQ4Ew"
      },
      "execution_count": null,
      "outputs": []
    },
    {
      "cell_type": "code",
      "source": [],
      "metadata": {
        "id": "GdeUb2YPaKKe"
      },
      "execution_count": null,
      "outputs": []
    },
    {
      "cell_type": "code",
      "source": [
        "#displaying the encoded dataset\n",
        "dft.head()"
      ],
      "metadata": {
        "id": "L3PMP2KRS-dV"
      },
      "execution_count": null,
      "outputs": []
    },
    {
      "cell_type": "markdown",
      "source": [],
      "metadata": {
        "id": "Ybp45oezGmjq"
      }
    },
    {
      "cell_type": "markdown",
      "source": [
        "**feature selection (selecting the best features for the model)**"
      ],
      "metadata": {
        "id": "HJT8NAIfT6AX"
      }
    },
    {
      "cell_type": "code",
      "source": [
        "dft.head()"
      ],
      "metadata": {
        "id": "vvkEkI_2Xf-z"
      },
      "execution_count": null,
      "outputs": []
    },
    {
      "cell_type": "code",
      "source": [],
      "metadata": {
        "id": "FjRkT1kVTZbG"
      },
      "execution_count": null,
      "outputs": []
    },
    {
      "cell_type": "code",
      "source": [
        "dft.isna().sum()"
      ],
      "metadata": {
        "id": "m5ufpYcQc-DQ"
      },
      "execution_count": null,
      "outputs": []
    },
    {
      "cell_type": "code",
      "source": [],
      "metadata": {
        "id": "FOhT_WZ0WjMO"
      },
      "execution_count": null,
      "outputs": []
    },
    {
      "cell_type": "code",
      "source": [
        "#Specification of independent and dependent variables of dataset 1\n",
        "x= dft.drop(columns=['Claim'])  # Features\n",
        "y = dft['Claim']  # Target variable"
      ],
      "metadata": {
        "id": "-_xvundfbxMg"
      },
      "execution_count": null,
      "outputs": []
    },
    {
      "cell_type": "code",
      "source": [
        "#Feature selection using chi-squared statistics and ANOVA F-statistic\n",
        "from sklearn.feature_selection import SelectKBest, chi2, f_classif\n",
        "\n",
        "# Calculate chi-squared statistics for each feature\n",
        "chi2_scores = chi2(x, y)[0]\n",
        "\n",
        "# Calculate ANOVA F-statistic and p-values for each feature\n",
        "f_scores = f_classif(x, y)[0]\n",
        "\n",
        "# Combine chi-squared and ANOVA scores\n",
        "combined_scores = chi2_scores + f_scores\n",
        "\n",
        "feature_scores = pd.DataFrame({'Feature': x.columns, 'Combined_Score': combined_scores})\n",
        "feature_scores = feature_scores.sort_values(by='Combined_Score', ascending=False)\n"
      ],
      "metadata": {
        "id": "ZIldv52zUu_D"
      },
      "execution_count": null,
      "outputs": []
    },
    {
      "cell_type": "code",
      "source": [
        "feature_scores"
      ],
      "metadata": {
        "id": "lvwGlq0yb2MG"
      },
      "execution_count": null,
      "outputs": []
    },
    {
      "cell_type": "code",
      "source": [
        "sns.barplot(feature_scores, y ='Feature', x ='Combined_Score')\n",
        "plt.xscale('log')"
      ],
      "metadata": {
        "id": "LvtJS0IccH8n"
      },
      "execution_count": null,
      "outputs": []
    },
    {
      "cell_type": "markdown",
      "source": [
        "From the graph,Building dimension is the most important variable because they have a higher chi2 score and a lower p-values from the graphs above"
      ],
      "metadata": {
        "id": "_5zD_fvsgFMx"
      }
    },
    {
      "cell_type": "markdown",
      "source": [
        "**spiltting the dataset into training and testing**"
      ],
      "metadata": {
        "id": "yKWoz3-sgSom"
      }
    },
    {
      "cell_type": "markdown",
      "source": [],
      "metadata": {
        "id": "ohspMrhNgovE"
      }
    },
    {
      "cell_type": "code",
      "source": [
        "#splitting the dataset\n",
        "from sklearn.model_selection import train_test_split\n",
        "\n",
        "# Assuming dft is your DataFrame\n",
        "features = ['YearOfObservation', 'Insured_Period', 'Residential', 'Building_Painted', 'Building_Fenced', 'Garden', 'Settlement', 'Building Dimension', 'Building_Type', 'Date_of_Occupancy']\n",
        "target = \"Claim\"\n",
        "\n",
        "X = dft[features]\n",
        "y = dft[target]\n",
        "\n",
        "# Split the dataset into training and testing sets\n",
        "X_train, X_test, y_train, y_test = train_test_split(X, y, test_size=0.2, random_state=42)"
      ],
      "metadata": {
        "id": "cIyZzKaugiuQ"
      },
      "execution_count": null,
      "outputs": []
    },
    {
      "cell_type": "markdown",
      "source": [
        "scalling the data"
      ],
      "metadata": {
        "id": "v1drfiCehSZ2"
      }
    },
    {
      "cell_type": "code",
      "source": [
        "from sklearn.preprocessing import StandardScaler\n",
        "sc = StandardScaler()\n",
        "X_train = sc.fit_transform(X_train)\n",
        "X_test = sc.transform(X_test)"
      ],
      "metadata": {
        "id": "I6xkgmX9hQ-o"
      },
      "execution_count": null,
      "outputs": []
    },
    {
      "cell_type": "code",
      "source": [
        "X_train"
      ],
      "metadata": {
        "id": "Em0iCrhkhob7"
      },
      "execution_count": null,
      "outputs": []
    },
    {
      "cell_type": "code",
      "source": [
        "X_test"
      ],
      "metadata": {
        "id": "FAsexlzEhzJG"
      },
      "execution_count": null,
      "outputs": []
    },
    {
      "cell_type": "markdown",
      "source": [
        "**Model Building**\n",
        "\n",
        "**K-Nearest Neighbor(KNN) model**"
      ],
      "metadata": {
        "id": "qBfqoQRRiDU7"
      }
    },
    {
      "cell_type": "code",
      "source": [
        "from sklearn.neighbors import KNeighborsClassifier\n",
        "# Create the K-nearest Neighbours Classifier and use the train dataset to train the model\n",
        "#accuracy = np.zeros(20)\n",
        "from sklearn.model_selection import train_test_split\n",
        "\n",
        "# Assuming X and y are your features and target variable respectively\n",
        "X_train, X_test, y_train, y_test = train_test_split(X, y, test_size=0.2, random_state=42)\n",
        "knn = KNeighborsClassifier(n_neighbors=3)\n",
        "knn.fit(X_train, y_train)\n",
        "#predicting the model\n",
        "y_pred = knn.predict(X_test)\n",
        "accuracy = accuracy_score(y_test, y_pred)\n",
        "# Evaluating the K-nearest Neighbours model using classification report\n",
        "print(classification_report(y_test,y_pred))"
      ],
      "metadata": {
        "id": "XSCRZCd_kIuT"
      },
      "execution_count": null,
      "outputs": []
    },
    {
      "cell_type": "markdown",
      "source": [
        "**Accuracy is the overall correct predictions divided by the total number of predictions. The overall accuracy is 0.73, meaning that the model correctly predicted the class for 73% of the instances.**"
      ],
      "metadata": {
        "id": "M2B6ASczkjwt"
      }
    },
    {
      "cell_type": "markdown",
      "source": [
        "hyperparameter tunning for KNN model"
      ],
      "metadata": {
        "id": "q9VfnVcdk40g"
      }
    },
    {
      "cell_type": "code",
      "source": [
        "grid_params = { 'n_neighbors' : [2,6,10,12,20],\n",
        "               'weights' : ['uniform','distance'],\n",
        "               'metric' : ['minkowski','euclidean','manhattan']}"
      ],
      "metadata": {
        "id": "0epS8BsJk-p7"
      },
      "execution_count": null,
      "outputs": []
    },
    {
      "cell_type": "code",
      "source": [
        "gs = GridSearchCV(KNeighborsClassifier(), grid_params, verbose = 1, cv=3, n_jobs = -1)"
      ],
      "metadata": {
        "id": "p2VY3zFzlQYa"
      },
      "execution_count": null,
      "outputs": []
    },
    {
      "cell_type": "code",
      "source": [
        "gs = GridSearchCV(KNeighborsClassifier(), grid_params, verbose = 1, cv=3, n_jobs = -1)"
      ],
      "metadata": {
        "id": "gRxwx4DSlP_L"
      },
      "execution_count": null,
      "outputs": []
    },
    {
      "cell_type": "code",
      "source": [
        "# fit the model on our train set\n",
        "g_res = gs.fit(X_train, y_train)"
      ],
      "metadata": {
        "id": "NwGZrL7UlciH"
      },
      "execution_count": null,
      "outputs": []
    },
    {
      "cell_type": "code",
      "source": [
        "# find the best score\n",
        "g_res.best_score_"
      ],
      "metadata": {
        "id": "XIkS9B5Nlzo5"
      },
      "execution_count": null,
      "outputs": []
    },
    {
      "cell_type": "code",
      "source": [
        "# get the hyperparameters with the best score\n",
        "g_res.best_params_"
      ],
      "metadata": {
        "id": "W59GuDXEl88K"
      },
      "execution_count": null,
      "outputs": []
    },
    {
      "cell_type": "code",
      "source": [
        "# use the best hyperparameters\n",
        "g_res.best_params_\n",
        "knn = KNeighborsClassifier(n_neighbors = 20, weights = 'uniform',algorithm = 'brute',metric = 'minkowski')\n",
        "knn.fit(X_train, y_train)"
      ],
      "metadata": {
        "id": "Zm90IZThmSGP"
      },
      "execution_count": null,
      "outputs": []
    },
    {
      "cell_type": "code",
      "source": [
        "# get a prediction\n",
        "y_hat = knn.predict(X_train)\n",
        "y_knn = knn.predict(X_test)"
      ],
      "metadata": {
        "id": "9v1RpErzmgXR"
      },
      "execution_count": null,
      "outputs": []
    },
    {
      "cell_type": "markdown",
      "source": [
        "**model  evaluation**"
      ],
      "metadata": {
        "id": "TfBsaedxml01"
      }
    },
    {
      "cell_type": "code",
      "source": [
        "print('Test set accuracy: ', accuracy_score(y_test, y_knn))\n",
        "sc = accuracy_score(y_test, y_knn)"
      ],
      "metadata": {
        "id": "EVwdAVkpm5RX"
      },
      "execution_count": null,
      "outputs": []
    },
    {
      "cell_type": "code",
      "source": [
        "from sklearn.metrics import RocCurveDisplay,roc_curve\n",
        "# Visualisation of the models's performance on an ROC/AUC curve\n",
        "plt.figure(figsize=(5,4))\n",
        "y_pred_= knn.predict_proba(X_test)[:,1]\n",
        "fpr, tpr, thresholds = roc_curve(y_test, y_pred)\n",
        "auc_score_knn = roc_auc_score(y_test, y_pred)\n",
        "plt.plot(fpr, tpr, label='K-nearest Neighbours Classifier')\n",
        "plt.plot([0,1],[0,1],'r--')\n",
        "plt.xlim([0.0,1.0])\n",
        "plt.ylim([0.0,1.05])\n",
        "plt.legend(loc='lower right')\n",
        "plt.title('ROC Curve for K-nearest Neighbours Classifier')\n",
        "plt.xlabel('False Positive Rate')\n",
        "plt.ylabel('True Positive Rate')\n",
        "plt.show()"
      ],
      "metadata": {
        "id": "XbQ_w7HZnDoy"
      },
      "execution_count": null,
      "outputs": []
    },
    {
      "cell_type": "markdown",
      "source": [
        "**Naive Bayes**"
      ],
      "metadata": {
        "id": "QL8E6djyo2o1"
      }
    },
    {
      "cell_type": "code",
      "source": [
        "# create the Naive Bayes' Classifier and use the train dataset to train the model\n",
        "classifier=GaussianNB()\n",
        "classifier.fit(X_train, y_train)\n",
        "\n",
        "# predict the results of the model\n",
        "y_predictnb=classifier.predict(X_test)\n",
        "y_predict_proba = classifier.predict_proba(X_test)[:,1]\n",
        "\n",
        "# Evaluating the model using classification report\n",
        "print(classification_report(y_test,y_predictnb))"
      ],
      "metadata": {
        "id": "urYyZe2ko1Fr"
      },
      "execution_count": null,
      "outputs": []
    },
    {
      "cell_type": "markdown",
      "source": [
        "Overall accuracy is 0.76, meaning that the model correctly predicts the class for about 76% of the instances."
      ],
      "metadata": {
        "id": "Df0Fu8HTpLIf"
      }
    },
    {
      "cell_type": "markdown",
      "source": [
        "**Tune hyparameters for Naive Bayes**"
      ],
      "metadata": {
        "id": "yVUw1VtopV-O"
      }
    },
    {
      "cell_type": "code",
      "source": [
        "np.logspace(0,-9, num=10)"
      ],
      "metadata": {
        "id": "LEpMn0dPpXhj"
      },
      "execution_count": null,
      "outputs": []
    },
    {
      "cell_type": "code",
      "source": [
        "from sklearn.model_selection import RepeatedStratifiedKFold\n",
        "\n",
        "cv_method = RepeatedStratifiedKFold(n_splits=5,\n",
        "                                    n_repeats=3,\n",
        "                                    random_state=999)"
      ],
      "metadata": {
        "id": "hk1LCjtZpjlm"
      },
      "execution_count": null,
      "outputs": []
    },
    {
      "cell_type": "code",
      "source": [
        "from sklearn.naive_bayes import GaussianNB\n",
        "from sklearn.model_selection import GridSearchCV\n",
        "from sklearn.preprocessing import PowerTransformer\n"
      ],
      "metadata": {
        "id": "4Af_oPXDps1B"
      },
      "execution_count": null,
      "outputs": []
    },
    {
      "cell_type": "code",
      "source": [
        "# Assuming X_train and y_train are your training data\n",
        "Data_transformed = PowerTransformer().fit_transform(X_train)\n",
        "\n",
        "# Create the Naive Bayes model\n",
        "model_NB = GaussianNB()\n",
        "\n",
        "# Define the parameter grid\n",
        "params_NB = {'var_smoothing': np.logspace(0, -9, num=100)}\n",
        "\n",
        "# Create the GridSearchCV object\n",
        "gs_NB = GridSearchCV(estimator=model_NB,\n",
        "                     param_grid=params_NB,\n",
        "                     cv=cv_method,\n",
        "                     verbose=1,\n",
        "                     scoring='accuracy')\n",
        "\n",
        "# Fit the grid search to the data\n",
        "gs_NB.fit(Data_transformed, y_train)"
      ],
      "metadata": {
        "id": "DR9EI7Zxp4QZ"
      },
      "execution_count": null,
      "outputs": []
    },
    {
      "cell_type": "code",
      "source": [
        "gs_NB.best_params_"
      ],
      "metadata": {
        "id": "DqCvYqpDqGKq"
      },
      "execution_count": null,
      "outputs": []
    },
    {
      "cell_type": "code",
      "source": [
        "gs_NB.best_score_"
      ],
      "metadata": {
        "id": "hv_xnKDnqOSD"
      },
      "execution_count": null,
      "outputs": []
    },
    {
      "cell_type": "code",
      "source": [
        "results_NB = pd.DataFrame(gs_NB.cv_results_['params'])\n",
        "results_NB['test_score'] = gs_NB.cv_results_['mean_test_score']"
      ],
      "metadata": {
        "id": "UOlUUwhlqF_v"
      },
      "execution_count": null,
      "outputs": []
    },
    {
      "cell_type": "code",
      "source": [
        "plt.plot(results_NB['var_smoothing'], results_NB['test_score'], marker = '.')\n",
        "plt.xlabel('Var. Smoothing')\n",
        "plt.ylabel(\"Mean CV Score\")\n",
        "plt.title(\"NB Performance Comparison\")\n",
        "plt.show()"
      ],
      "metadata": {
        "id": "nA0AWejMqVe-"
      },
      "execution_count": null,
      "outputs": []
    },
    {
      "cell_type": "code",
      "source": [
        "# predict the target on the test dataset\n",
        "predict_test = gs_NB.predict(Data_transformed)"
      ],
      "metadata": {
        "id": "H6ddsMVeqVyB"
      },
      "execution_count": null,
      "outputs": []
    },
    {
      "cell_type": "code",
      "source": [
        "# Accuracy Score on test dataset\n",
        "accuracy_test = accuracy_score(y_train,predict_test)\n",
        "print('accuracy_score on test dataset : ', accuracy_test)"
      ],
      "metadata": {
        "id": "2Eyen4cEqvBD"
      },
      "execution_count": null,
      "outputs": []
    },
    {
      "cell_type": "code",
      "source": [
        "# Visualisation of the models's performance on an ROC/AUC curve\n",
        "plt.figure(figsize=(5,4))\n",
        "y_predictnb_proba = classifier.predict_proba(X_test)[:,1]\n",
        "fpr, tpr, thresholds = roc_curve(y_test,  y_predictnb_proba)\n",
        "nb_roc_auc2=roc_auc_score(y_test,classifier.predict(X_test))\n",
        "plt.plot(fpr, tpr, label='Naive Bayes Classifier')\n",
        "plt.plot([0,1],[0,1],'r--')\n",
        "plt.xlim([0.0,1.0])\n",
        "plt.ylim([0.0,1.05])\n",
        "plt.legend(loc='lower right')\n",
        "plt.title('ROC Curve for Naive Bayes Classifier')\n",
        "plt.xlabel('False Positive Rate')\n",
        "plt.ylabel('True Positive Rate')\n",
        "plt.show()"
      ],
      "metadata": {
        "id": "1nYQjDvbq3S_"
      },
      "execution_count": null,
      "outputs": []
    },
    {
      "cell_type": "markdown",
      "source": [
        "**Building a linear regression model**"
      ],
      "metadata": {
        "id": "v_w-QBBHrCyF"
      }
    },
    {
      "cell_type": "code",
      "source": [
        "#creating a model\n",
        "from sklearn.linear_model import LinearRegression\n",
        "# creating a object\n",
        "model = LinearRegression()\n",
        "#training the model\n",
        "model.fit(X, y)\n",
        "#using the training dataset for the prediction\n",
        "pred = model.predict(X)\n",
        "#model performance\n",
        "from sklearn.metrics import r2_score, mean_squared_error\n",
        "mse = mean_squared_error(y, pred)\n",
        "r2 = r2_score(y, pred)#Best fit lineplt.scatter(x, y)\n",
        "#plt.plot(X, pred, color = 'Black', marker = 'o')\n",
        "#Results\n",
        "print(\"Mean Squared Error : \", mse)\n",
        "print(\"R-Squared :\" , r2)\n",
        "print(\"Y-intercept :\"  , model.intercept_)\n",
        "print(\"Slope :\" , model.coef_)"
      ],
      "metadata": {
        "id": "MqxHPdnprBgv"
      },
      "execution_count": null,
      "outputs": []
    },
    {
      "cell_type": "markdown",
      "source": [
        "The model's performance, as indicated by the R-squared value, is relatively low, suggesting that the linear regression model might not fully capture the underlying patterns in the data"
      ],
      "metadata": {
        "id": "n9OPxHIFrTLg"
      }
    },
    {
      "cell_type": "markdown",
      "source": [
        "**tuning hyperparameters to boost the model**\n",
        "\n",
        "\n",
        "\n"
      ],
      "metadata": {
        "id": "akQFHk6frgaK"
      }
    },
    {
      "cell_type": "code",
      "source": [
        "# Define the parameter grid\n",
        "param_grid = {\n",
        "    'fit_intercept': [True, False],\n",
        "    'positive': [True, False]\n",
        "}"
      ],
      "metadata": {
        "id": "9YFHrSOxroQC"
      },
      "execution_count": null,
      "outputs": []
    },
    {
      "cell_type": "code",
      "source": [
        "from sklearn.model_selection import GridSearchCV\n",
        "# Create the GridSearchCV object\n",
        "grid_search = GridSearchCV(model, param_grid, cv=5, scoring='neg_mean_squared_error', n_jobs=-1)"
      ],
      "metadata": {
        "id": "gOklpJX9r1Og"
      },
      "execution_count": null,
      "outputs": []
    },
    {
      "cell_type": "code",
      "source": [
        "# Fit the grid search to the data\n",
        "grid_search.fit(X_train, y_train)"
      ],
      "metadata": {
        "id": "-pIOAcgAr9Nn"
      },
      "execution_count": null,
      "outputs": []
    },
    {
      "cell_type": "code",
      "source": [
        "# Get the best parameters and best model\n",
        "best_params = grid_search.best_params_\n",
        "best_model = grid_search.best_estimator_"
      ],
      "metadata": {
        "id": "wfk_nw6fsFPU"
      },
      "execution_count": null,
      "outputs": []
    },
    {
      "cell_type": "code",
      "source": [
        "# Make predictions on the test set\n",
        "y_pred = best_model.predict(X_test)"
      ],
      "metadata": {
        "id": "IMdd1dJRsFkC"
      },
      "execution_count": null,
      "outputs": []
    },
    {
      "cell_type": "code",
      "source": [
        "# Evaluate the model\n",
        "import numpy as np\n",
        "from sklearn.metrics import mean_squared_error, r2_score\n",
        "mse = mean_squared_error(y_test, y_pred)\n",
        "rmse = np.sqrt(mse)\n",
        "r2 = r2_score(y_test, y_pred)\n",
        "\n",
        "print(f'Mean Squared Error (MSE): {mse}')\n",
        "print(f'Root Mean Squared Error (RMSE): {rmse}')\n",
        "print(f'R-squared (R2): {r2}')\n"
      ],
      "metadata": {
        "id": "57e6r6bQsP6x"
      },
      "execution_count": null,
      "outputs": []
    },
    {
      "cell_type": "markdown",
      "source": [
        "**SVM Model building**"
      ],
      "metadata": {
        "id": "aC1UJQPascnG"
      }
    },
    {
      "cell_type": "code",
      "source": [
        "#Import svm model\n",
        "from sklearn import svm\n",
        "\n",
        "#Create a svm Classifier\n",
        "clf = svm.SVC(kernel='linear') # Linear Kernel\n",
        "\n",
        "#Train the model using the training sets\n",
        "clf.fit(X_train, y_train)\n"
      ],
      "metadata": {
        "id": "7NqfTfG8sfvl"
      },
      "execution_count": null,
      "outputs": []
    },
    {
      "cell_type": "code",
      "source": [
        "# predict the results of the model\n",
        "y_predict_svm=support_vectorcf.predict(X_test)"
      ],
      "metadata": {
        "id": "BlIxZqKDsgPi"
      },
      "execution_count": null,
      "outputs": []
    },
    {
      "cell_type": "code",
      "source": [
        "# Evaluating the SVM model using classification report\n",
        "print(classification_report(y_test,y_predict_svm))"
      ],
      "metadata": {
        "id": "9Ppj8bZ_ZiKn"
      },
      "execution_count": null,
      "outputs": []
    },
    {
      "cell_type": "markdown",
      "source": [
        "The model performs well in predicting class 0 with high precision and recall. However, for class 1, the model has lower precision and recall, indicating challenges in correctly identifying instances of class 1. The low F1-score for class 1 suggests an imbalance between precision and recall. The overall accuracy is 77%, but it's crucial to consider the class-specific metrics, especially when dealing with imbalanced datasets.\n",
        "\n"
      ],
      "metadata": {
        "id": "0ResUs_KtOSk"
      }
    },
    {
      "cell_type": "code",
      "source": [
        "# Evaluating the model's performance using a confusion matrix\n",
        "cm_svm = confusion_matrix(y_test, y_predict_svm)\n",
        "print(cm_svm)\n",
        "accuracy_score(y_test, y_predict_svm)"
      ],
      "metadata": {
        "id": "sU45RmhUtVnh"
      },
      "execution_count": null,
      "outputs": []
    },
    {
      "cell_type": "code",
      "source": [
        "accuracy=accuracy_score(y_test, y_predict_svm)\n",
        "accuracy"
      ],
      "metadata": {
        "id": "4eFVtgmUtaqv"
      },
      "execution_count": null,
      "outputs": []
    },
    {
      "cell_type": "code",
      "source": [],
      "metadata": {
        "id": "-A1cq1kotiAD"
      },
      "execution_count": null,
      "outputs": []
    },
    {
      "cell_type": "code",
      "source": [
        "# predict the results of the model\n",
        "y_predict_svm = support_vectorcf.predict_proba(X_test)[:, 1]\n",
        "# Creating instances (i.e. objects) of the roc curve\n",
        "fpr, tpr, thresholds = roc_curve(y_test, y_predict_svm)\n",
        "roc_auc = auc(fpr, tpr)"
      ],
      "metadata": {
        "id": "PptUvjw3aPU9"
      },
      "execution_count": null,
      "outputs": []
    },
    {
      "cell_type": "code",
      "source": [
        "# Visualisation of the models's performance on an ROC/AUC curve\n",
        "plt.figure(figsize=(5,4))\n",
        "svm = SVC(probability=True)\n",
        "\n",
        "# Train the model\n",
        "svm.fit(X_train, y_train)\n",
        "\n",
        "# Visualize the ROC curve\n",
        "plt.figure(figsize=(5, 4))\n",
        "# Use decision_function to get decision values\n",
        "y_decision = svm.decision_function(X_test)\n",
        "\n",
        "# Manually compute probabilities using decision values\n",
        "y_pred_prob = (y_decision - y_decision.min()) / (y_decision.max() - y_decision.min())\n",
        "\n",
        "fpr, tpr, thresholds = roc_curve(y_test, y_pred_prob)\n",
        "nb_roc_auc2=roc_auc_score(y_test,svm.predict(X_test))\n",
        "plt.plot(fpr, tpr, label='Support Vector Classifier')\n",
        "plt.plot([0,1],[0,1],'r--')\n",
        "plt.xlim([0.0,1.0])\n",
        "plt.ylim([0.0,1.05])\n",
        "plt.legend(loc='lower right')\n",
        "plt.title('ROC Curve for Support Vector Classifier')\n",
        "plt.xlabel('False Positive Rate')\n",
        "plt.ylabel('True Positive Rate')\n",
        "plt.show()"
      ],
      "metadata": {
        "id": "86IzoWgnthwp"
      },
      "execution_count": null,
      "outputs": []
    },
    {
      "cell_type": "markdown",
      "source": [
        "**The ROC is relativel good since is a bit far from the diagonal line**"
      ],
      "metadata": {
        "id": "JSbUkLIbt4k6"
      }
    },
    {
      "cell_type": "markdown",
      "source": [
        "**loading the test dataset and cleaning it**"
      ],
      "metadata": {
        "id": "I6ZWMiekck8Q"
      }
    },
    {
      "cell_type": "code",
      "source": [
        "dftest = pd.read_csv('/content/drive/MyDrive/MachineLearning/ML Lab/dataset/test_data.csv')\n",
        "dftest.head()"
      ],
      "metadata": {
        "id": "W29x7kf2cjgn"
      },
      "execution_count": null,
      "outputs": []
    },
    {
      "cell_type": "code",
      "source": [
        "dftest.isnull().sum()"
      ],
      "metadata": {
        "id": "MwA2sv-UeApx"
      },
      "execution_count": null,
      "outputs": []
    },
    {
      "cell_type": "code",
      "source": [
        "dftest['Geo_Code'] = dftest['Geo_Code'].fillna(dftest['Geo_Code'].mode()[0])"
      ],
      "metadata": {
        "id": "ov-C-rsReNYS"
      },
      "execution_count": null,
      "outputs": []
    },
    {
      "cell_type": "code",
      "source": [
        "dftest['Garden']= dftest['Garden'].fillna(dftest['Garden'].mode()[0])"
      ],
      "metadata": {
        "id": "qbIrG_IGeRj6"
      },
      "execution_count": null,
      "outputs": []
    },
    {
      "cell_type": "code",
      "source": [
        "#Distribution of data is skewed hence we use median\n",
        "dftest['Building Dimension'] = dftest['Building Dimension'].fillna(dftest['Building Dimension'].median())"
      ],
      "metadata": {
        "id": "GepQjJQ3eVvn"
      },
      "execution_count": null,
      "outputs": []
    },
    {
      "cell_type": "code",
      "source": [
        "dftest.drop(columns=['NumberOfWindows'],inplace=True)"
      ],
      "metadata": {
        "id": "7SoCwF7BeagD"
      },
      "execution_count": null,
      "outputs": []
    },
    {
      "cell_type": "code",
      "source": [
        "dftest['Date_of_Occupancy'] = dftest['Date_of_Occupancy'].fillna(dftest['Date_of_Occupancy'].median())"
      ],
      "metadata": {
        "id": "IWg7-h-UgATD"
      },
      "execution_count": null,
      "outputs": []
    },
    {
      "cell_type": "code",
      "source": [
        "dftest.drop(columns=['Customer Id'], inplace = True)"
      ],
      "metadata": {
        "id": "evscuPkxgVZo"
      },
      "execution_count": null,
      "outputs": []
    },
    {
      "cell_type": "code",
      "source": [
        "dftest.head()"
      ],
      "metadata": {
        "id": "VcskEKJegcC-"
      },
      "execution_count": null,
      "outputs": []
    },
    {
      "cell_type": "code",
      "source": [
        "dftest['Building_Painted'] = dftest['Building_Painted'].replace({'V':0, 'N':1})\n",
        "\n",
        "dftest['Building_Fenced']= dftest['Building_Fenced'].replace({'V':0, 'N':1})\n",
        "\n",
        "dftest['Garden']= dftest['Garden'].replace({'O':0, 'V':1})\n",
        "\n",
        "dftest['Settlement']= dftest['Settlement'].replace({'R':0, 'U':1})\n",
        "\n",
        "dftest['Building_Type']= dftest['Building_Type'].replace({'1':0, '2':1, '3':2, '4':3})"
      ],
      "metadata": {
        "id": "HM4HZ3hnguCt"
      },
      "execution_count": null,
      "outputs": []
    },
    {
      "cell_type": "code",
      "source": [
        "dftest.head()"
      ],
      "metadata": {
        "id": "2YB_it5EhCVx"
      },
      "execution_count": null,
      "outputs": []
    },
    {
      "cell_type": "code",
      "source": [
        "dftest.info()"
      ],
      "metadata": {
        "id": "9GK9dWT9hiLz"
      },
      "execution_count": null,
      "outputs": []
    },
    {
      "cell_type": "code",
      "source": [
        "columns_to_drop = ['NumberOfWindows','Geo_Code']\n",
        "df2 = df2.drop(columns=columns_to_drop, axis=1)"
      ],
      "metadata": {
        "id": "eE2yc4sLhh75"
      },
      "execution_count": null,
      "outputs": []
    },
    {
      "cell_type": "code",
      "source": [
        "dftest.info()"
      ],
      "metadata": {
        "id": "B90apYnCiHyP"
      },
      "execution_count": null,
      "outputs": []
    },
    {
      "cell_type": "code",
      "source": [
        "X_test = dftest.copy()"
      ],
      "metadata": {
        "id": "aW88QLASiSvQ"
      },
      "execution_count": null,
      "outputs": []
    },
    {
      "cell_type": "code",
      "source": [
        "X_test=X_test.drop(['Geo_Code'],axis=1)"
      ],
      "metadata": {
        "id": "dHjlx8PX5UdH"
      },
      "execution_count": null,
      "outputs": []
    },
    {
      "cell_type": "code",
      "source": [
        "X_test.head()"
      ],
      "metadata": {
        "id": "iAhY1V3diVm8"
      },
      "execution_count": null,
      "outputs": []
    },
    {
      "cell_type": "markdown",
      "source": [
        "**model building**"
      ],
      "metadata": {
        "id": "szyjAP2SipHA"
      }
    },
    {
      "cell_type": "code",
      "source": [
        "x = updated_dft.drop(columns=['Claim'])  # Features\n",
        "y = updated_dft['Claim']  # Target variable"
      ],
      "metadata": {
        "id": "mS_uuGwgioSv"
      },
      "execution_count": null,
      "outputs": []
    },
    {
      "cell_type": "code",
      "source": [
        "from sklearn.model_selection import train_test_split\n",
        "X_train, X_val, y_train, y_val = train_test_split(x, y, test_size= 0.2, random_state =0)"
      ],
      "metadata": {
        "id": "8VLroOMni9Js"
      },
      "execution_count": null,
      "outputs": []
    },
    {
      "cell_type": "code",
      "source": [
        "pd.set_option('display.max_columns',None)\n",
        "X_train.head()\n"
      ],
      "metadata": {
        "id": "gGVFuwLpjNjO"
      },
      "execution_count": null,
      "outputs": []
    },
    {
      "cell_type": "code",
      "source": [
        "X_train.shape"
      ],
      "metadata": {
        "id": "X0gXAf1kjVFK"
      },
      "execution_count": null,
      "outputs": []
    },
    {
      "cell_type": "code",
      "source": [
        "X_train['Building Dimension']"
      ],
      "metadata": {
        "id": "oB1rnSMijh4Y"
      },
      "execution_count": null,
      "outputs": []
    },
    {
      "cell_type": "markdown",
      "source": [
        "**scaling **"
      ],
      "metadata": {
        "id": "WndPINwDjr94"
      }
    },
    {
      "cell_type": "code",
      "source": [
        "from sklearn.preprocessing import StandardScaler\n",
        "scaler = StandardScaler()\n",
        "columns_to_standardize = ['YearOfObservation','Building Dimension', 'Date_of_Occupancy']\n",
        "X_train[columns_to_standardize] = scaler.fit_transform(X_train[columns_to_standardize])\n",
        "X_test[columns_to_standardize] = scaler.transform(X_test[columns_to_standardize])"
      ],
      "metadata": {
        "id": "TKdAdn6BjmI0"
      },
      "execution_count": null,
      "outputs": []
    },
    {
      "cell_type": "code",
      "source": [
        "X_train.head()"
      ],
      "metadata": {
        "id": "GwPqW832j8Md"
      },
      "execution_count": null,
      "outputs": []
    },
    {
      "cell_type": "markdown",
      "source": [
        "**building svm**"
      ],
      "metadata": {
        "id": "F-rnj5VRkOG0"
      }
    },
    {
      "cell_type": "markdown",
      "source": [
        "A support-vector machine constructs a hyperplane or set of hyperplanes in a high- or infinite-dimensional space, which can be used for classification, regression, or other tasks like outliers detection. Intuitively, a good separation is achieved by the hyperplane that has the largest distance to the nearest training-data point of any class (so-called functional margin), since in general the larger the margin, the lower the generalization error of the classifier."
      ],
      "metadata": {
        "id": "om2FW6E-SlCN"
      }
    },
    {
      "cell_type": "code",
      "source": [
        "\n",
        "from sklearn import svm\n",
        "\n",
        "#Create a svm Classifier\n",
        "clf = svm.SVC(kernel='linear') # Linear Kernel\n",
        "\n",
        "#Train the model using the training sets\n",
        "clf.fit(X_train, y_train)\n",
        "\n"
      ],
      "metadata": {
        "id": "Iz28O6HWkM1F"
      },
      "execution_count": null,
      "outputs": []
    },
    {
      "cell_type": "code",
      "source": [
        "#Checking the default parameters in an SVC\n",
        "clf.get_params()"
      ],
      "metadata": {
        "id": "Ilf6-JzeS8VC"
      },
      "execution_count": null,
      "outputs": []
    },
    {
      "cell_type": "code",
      "source": [
        "#Predict the response for test dataset\n",
        "y_pred = clf.predict(X_val)\n"
      ],
      "metadata": {
        "id": "LDynVYtF32_i"
      },
      "execution_count": null,
      "outputs": []
    },
    {
      "cell_type": "code",
      "source": [
        "#Calculating predictions, and accuracy score\n",
        "pred_svc = clf.predict(X_val)\n",
        "svm = accuracy_score(y_val,pred_svc)\n",
        "svm"
      ],
      "metadata": {
        "id": "pFLv-fkwpBE9"
      },
      "execution_count": null,
      "outputs": []
    },
    {
      "cell_type": "code",
      "source": [
        "\n",
        "y_pred"
      ],
      "metadata": {
        "id": "NlCClpvtkX-S"
      },
      "execution_count": null,
      "outputs": []
    },
    {
      "cell_type": "code",
      "source": [
        "#Building classification report\n",
        "print(classification_report(y_val,pred_svc))"
      ],
      "metadata": {
        "id": "oUqXxmVerM6d"
      },
      "execution_count": null,
      "outputs": []
    },
    {
      "cell_type": "markdown",
      "source": [
        "**printing the confusion matrix**"
      ],
      "metadata": {
        "id": "wsVP1RPkr3xu"
      }
    },
    {
      "cell_type": "code",
      "source": [
        "\n",
        "from sklearn.metrics import confusion_matrix\n",
        "\n",
        "cm = confusion_matrix(y_val, pred_svc)\n",
        "\n",
        "print('Confusion matrix\\n\\n', cm)\n",
        "\n",
        "print('\\nTrue Positives(TP) = ', cm[0,0])\n",
        "\n",
        "print('\\nTrue Negatives(TN) = ', cm[1,1])\n",
        "\n",
        "print('\\nFalse Positives(FP) = ', cm[0,1])\n",
        "\n",
        "print('\\nFalse Negatives(FN) = ', cm[1,0])"
      ],
      "metadata": {
        "id": "Ra84h6CMr8Li"
      },
      "execution_count": null,
      "outputs": []
    },
    {
      "cell_type": "markdown",
      "source": [
        "**printing the ROC curve**"
      ],
      "metadata": {
        "id": "itwwCYYRsYrU"
      }
    },
    {
      "cell_type": "code",
      "source": [
        "from sklearn.metrics import roc_curve\n",
        "\n",
        "fpr, tpr, thresholds = roc_curve(y_val, pred_svc)\n",
        "\n",
        "plt.figure(figsize=(6,4))\n",
        "\n",
        "plt.plot(fpr, tpr, linewidth=2)\n",
        "\n",
        "plt.plot([0,1], [0,1], 'k--' )\n",
        "\n",
        "plt.rcParams['font.size'] = 12\n",
        "\n",
        "plt.title('svm classifier')\n",
        "\n",
        "plt.xlabel('False Positive Rate (1 - Specificity)')\n",
        "\n",
        "plt.ylabel('True Positive Rate (Sensitivity)')\n",
        "\n",
        "plt.show()"
      ],
      "metadata": {
        "id": "RL15xrCHsRrj"
      },
      "execution_count": null,
      "outputs": []
    },
    {
      "cell_type": "code",
      "source": [
        "# compute ROC AUC\n",
        "\n",
        "from sklearn.metrics import roc_auc_score\n",
        "\n",
        "ROC_AUC = roc_auc_score(y_val, pred_svc)\n",
        "\n",
        "print('ROC AUC : {:.4f}'.format(ROC_AUC))"
      ],
      "metadata": {
        "id": "4562eib5tMiP"
      },
      "execution_count": null,
      "outputs": []
    },
    {
      "cell_type": "markdown",
      "source": [
        "**Hyperparameter Tuning with GridSearchCV**"
      ],
      "metadata": {
        "id": "mRfJ8Fc_uW6j"
      }
    },
    {
      "cell_type": "code",
      "source": [
        "# Create a dictionary called param_grid and fill out some parameters for kernels, C and gamma\n",
        "param_grid = {'C': [0.1,1, 10, 100], 'gamma': [1,0.1,0.01,0.001],'kernel': ['rbf', 'poly', 'sigmoid']}\n"
      ],
      "metadata": {
        "id": "3-cztC64uWIN"
      },
      "execution_count": null,
      "outputs": []
    },
    {
      "cell_type": "markdown",
      "source": [
        "linear regression model"
      ],
      "metadata": {
        "id": "AORRkpw-Vhvl"
      }
    },
    {
      "cell_type": "code",
      "source": [
        "#Create a linear regression model\n",
        "model = LinearRegression()"
      ],
      "metadata": {
        "id": "WGELS2OQVmFT"
      },
      "execution_count": null,
      "outputs": []
    },
    {
      "cell_type": "code",
      "source": [
        "#Fit the model on the training data\n",
        "model.fit(X_train, y_train)"
      ],
      "metadata": {
        "id": "uA2dbWNpVtiC"
      },
      "execution_count": null,
      "outputs": []
    },
    {
      "cell_type": "code",
      "source": [
        "# Step 5: Make predictions on the test set\n",
        "y_pred = model.predict(X_val)"
      ],
      "metadata": {
        "id": "2tSHhVMtV5Dm"
      },
      "execution_count": null,
      "outputs": []
    },
    {
      "cell_type": "code",
      "source": [
        "\n",
        "from sklearn.metrics import mean_squared_error\n",
        "# Step 6: Evaluate the model before hyperparameter tuning\n",
        "mse = mean_squared_error(y_val, y_pred)\n",
        "r2 = accuracy_scoraccuracy_scoreaccuracy_scoree(y_val, y_pred)\n",
        "rmse = mean_squared_error(y_val, y_pred, squared=False)\n",
        "print(f'Mean Squared Error (Before Hyperparameter Tuning): {mse}')\n",
        "print(f'Root Mean Squared Error (Before Hyperparameter Tuning): {rmse}')\n",
        "print(f'R-squared (R2): {r2}')"
      ],
      "metadata": {
        "id": "Rej_z96pYwpz"
      },
      "execution_count": null,
      "outputs": []
    },
    {
      "cell_type": "code",
      "source": [],
      "metadata": {
        "id": "Xess4K79u87S"
      },
      "execution_count": null,
      "outputs": []
    },
    {
      "cell_type": "code",
      "source": [
        "from sklearn.linear_model import LinearRegression\n",
        "linear_reg_model = LinearRegression()\n",
        "linear_reg_model.fit(X_train, y_train)\n",
        "y_pred =clf.predict(X_test)\n",
        "y_pred"
      ],
      "metadata": {
        "id": "XEP8Gt0-7KQ8"
      },
      "execution_count": null,
      "outputs": []
    },
    {
      "cell_type": "code",
      "source": [
        "from sklearn.neighbors import KNeighborsClassifier\n",
        "KNN_classifier = KNeighborsClassifier(n_neighbors = 5, metric = 'minkowski', p = 2)\n",
        "KNN_classifier.fit(X_train, y_train)\n",
        "y_pred"
      ],
      "metadata": {
        "id": "SUHwU-jk7aPa"
      },
      "execution_count": null,
      "outputs": []
    },
    {
      "cell_type": "code",
      "source": [
        "from sklearn.naive_bayes import GaussianNB\n",
        "NaiveBayes_classifier = GaussianNB()\n",
        "NaiveBayes_classifier.fit(X_train, y_train)\n",
        "y_pred"
      ],
      "metadata": {
        "id": "ifjuqJwg8Cxc"
      },
      "execution_count": null,
      "outputs": []
    },
    {
      "cell_type": "code",
      "source": [
        "# Example prediction using the trained models\n",
        "svm_predictions = clf.predict(X_test)\n",
        "linear_reg_predictions = linear_reg_model.predict(X_test)\n",
        "kNN_predictions = KNN_classifier.predict(X_test)\n",
        "nb_predictions = NaiveBayes_classifier.predict(X_test)"
      ],
      "metadata": {
        "id": "xNBCdL6F8TJw"
      },
      "execution_count": null,
      "outputs": []
    },
    {
      "cell_type": "code",
      "source": [],
      "metadata": {
        "id": "UhpIW-dyDN9G"
      },
      "execution_count": null,
      "outputs": []
    }
  ]
}